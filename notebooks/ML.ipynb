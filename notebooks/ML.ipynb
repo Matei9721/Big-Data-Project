{
 "cells": [
  {
   "cell_type": "code",
   "execution_count": 1,
   "outputs": [],
   "source": [
    "# Import PySpark\n",
    "from pyspark.sql import SparkSession\n",
    "\n",
    "#Create SparkSession\n",
    "spark = SparkSession.builder.appName('MyApp').getOrCreate()"
   ],
   "metadata": {
    "collapsed": false
   }
  },
  {
   "cell_type": "code",
   "execution_count": 2,
   "metadata": {
    "collapsed": true
   },
   "outputs": [],
   "source": [
    "\"\"\"\n",
    "Loading the training csv.\n",
    "\"\"\"\n",
    "\n",
    "training = spark.read.option(\"escape\", \"\\\"\").csv('../datasets/models_dataset/train.csv', header=True, inferSchema=True)"
   ]
  },
  {
   "cell_type": "code",
   "execution_count": 3,
   "outputs": [],
   "source": [
    "train = training.toPandas()"
   ],
   "metadata": {
    "collapsed": false
   }
  },
  {
   "cell_type": "code",
   "execution_count": 4,
   "outputs": [
    {
     "data": {
      "text/plain": "'Because the Baron of Chanterelle wants to preserve his family line, he forces his timid nephew Lancelot to choose one of the village maidens to wed. Lancelot flees to a monastery to escape the forty eager maidens. When the gluttonous monks discover that the Baron is offering a large sum for the marriage, they suggest Lancelot marry a mechanical doll instead. The doll maker has just finished making a replica of his daughter Ossi, but his assistant accidentally breaks it and convinces the real girl to mimic the doll. Lancelot buys her, thinking she is a doll, and takes her back to the monastery, where they are wed.'"
     },
     "execution_count": 4,
     "metadata": {},
     "output_type": "execute_result"
    }
   ],
   "source": [
    "training.toPandas()[\"plot\"].iloc[0]"
   ],
   "metadata": {
    "collapsed": false
   }
  },
  {
   "cell_type": "code",
   "execution_count": 5,
   "outputs": [
    {
     "data": {
      "text/plain": "       _c0     tconst                                   primaryTitle  \\\n0        4  tt0010600                                       The Doll   \n1        7  tt0011841                                  Way Down East   \n2        9  tt0012494                                        Déstiny   \n3       25  tt0015163                                  The Navigator   \n4       38  tt0016220                       The Phantom of the Opera   \n...    ...        ...                                            ...   \n7954  9966  tt9625664                                  Trauma Center   \n7955  9981  tt9741310                                          Slaxx   \n7956  9982  tt9742392                                        Kindred   \n7957  9996  tt9850386  The Bee Gees: How Can You Mend a Broken Heart   \n7958  9999  tt9911196                            The Marriage Escape   \n\n                       originalTitle  startYear  endYear runtimeMinutes  \\\n0                          Die Puppe     1919.0      NaN             66   \n1                      Way Down East     1920.0      NaN            145   \n2                       Der müde Tod     1921.0      NaN             97   \n3                      The Navigator     1924.0      NaN             59   \n4           The Phantom of the Opera     1925.0      NaN             93   \n...                              ...        ...      ...            ...   \n7954                            None     2019.0      NaN             87   \n7955                           Slaxx     2020.0      NaN             77   \n7956                         Kindred     2020.0      NaN            101   \n7957                            None     2020.0      NaN            111   \n7958  De beentjes van Sint-Hildegard     2020.0      NaN            103   \n\n      numVotes  label                                    genre  ...  \\\n0         1898   True        ['Comedy', ' Fantasy', ' Sci-Fi']  ...   \n1         5376   True                    ['Drama', ' Romance']  ...   \n2         5842   True         ['Drama', ' Fantasy', ' Horror']  ...   \n3         9652   True        ['Action', ' Comedy', ' Romance']  ...   \n4        17887   True                               ['Horror']  ...   \n...        ...    ...                                      ...  ...   \n7954     12951  False                  ['Action', ' Thriller']  ...   \n7955      2464  False                    ['Comedy', ' Horror']  ...   \n7956      1719  False         ['Drama', ' Horror', ' Mystery']  ...   \n7957      4144   True  ['Documentary', ' Biography', ' Music']  ...   \n7958      3242   True                     ['Comedy', ' Drama']  ...   \n\n                                                 actors  \\\n0     ['Ossi Oswalda', ' Hermann Thimig', ' Victor J...   \n1     ['Lillian Gish', ' Richard Barthelmess', ' Mrs...   \n2     ['Bernhard Goetzke', ' Lil Dagover', ' Walter ...   \n3     ['Buster Keaton', ' Kathryn McGuire', ' Freder...   \n4      ['Lon Chaney', ' Mary Philbin', ' Norman Kerry']   \n...                                                 ...   \n7954   ['Nicky Whelan', ' Bruce Willis', ' Tito Ortiz']   \n7955  ['Romane Denis', ' Brett Donahue', ' Sehar Bho...   \n7956  ['Tamara Lawrance', ' Edward Holcroft', ' Jack...   \n7957     ['Barry Gibb', ' Maurice Gibb', ' Robin Gibb']   \n7958  ['Herman Finkers', ' Johanna ter Steege', ' Le...   \n\n                      language  \\\n0       ['English', ' German']   \n1                  ['English']   \n2                   ['German']   \n3                  ['English']   \n4                      ['N/A']   \n...                        ...   \n7954   ['English', ' Spanish']   \n7955               ['English']   \n7956               ['English']   \n7957               ['English']   \n7958  ['Low German', ' Dutch']   \n\n                                                country awards  boxoffice  \\\n0                                               Germany  False        NaN   \n1                                         United States  False        NaN   \n2                                               Germany  False    12156.0   \n3                                         United States   True        NaN   \n4                                         United States   True  3751476.0   \n...                                                 ...    ...        ...   \n7954                                      United States  False        NaN   \n7955                                             Canada   True        NaN   \n7956  United Kingdom, United Arab Emirates, Germany,...  False     8921.0   \n7957                                      United States   True        NaN   \n7958                                        Netherlands   True        NaN   \n\n      rating entry_type                                         production  \\\n0        7.4      movie                                                N/A   \n1        7.4      movie                                     United Artists   \n2        7.6      movie                                                N/A   \n3        7.6      movie  Metro-Goldwyn-Mayer Distributing Corp., Image ...   \n4        7.5      movie                                       Hammer Films   \n...      ...        ...                                                ...   \n7954       4      movie                                    MoviePass Films   \n7955     5.4      movie                                                N/A   \n7956       5      movie                                       IFC Midnight   \n7957     8.1      movie                                                N/A   \n7958     7.5      movie                                                N/A   \n\n     imdb_votes  imdb_year  \n0        2183.0     1919.0  \n1        5649.0     1920.0  \n2        6266.0     1921.0  \n3       10288.0     1924.0  \n4       18984.0     1925.0  \n...         ...        ...  \n7954    11401.0     2019.0  \n7955     3640.0     2020.0  \n7956     2198.0     2020.0  \n7957     5072.0     2020.0  \n7958     3622.0     2020.0  \n\n[7959 rows x 21 columns]",
      "text/html": "<div>\n<style scoped>\n    .dataframe tbody tr th:only-of-type {\n        vertical-align: middle;\n    }\n\n    .dataframe tbody tr th {\n        vertical-align: top;\n    }\n\n    .dataframe thead th {\n        text-align: right;\n    }\n</style>\n<table border=\"1\" class=\"dataframe\">\n  <thead>\n    <tr style=\"text-align: right;\">\n      <th></th>\n      <th>_c0</th>\n      <th>tconst</th>\n      <th>primaryTitle</th>\n      <th>originalTitle</th>\n      <th>startYear</th>\n      <th>endYear</th>\n      <th>runtimeMinutes</th>\n      <th>numVotes</th>\n      <th>label</th>\n      <th>genre</th>\n      <th>...</th>\n      <th>actors</th>\n      <th>language</th>\n      <th>country</th>\n      <th>awards</th>\n      <th>boxoffice</th>\n      <th>rating</th>\n      <th>entry_type</th>\n      <th>production</th>\n      <th>imdb_votes</th>\n      <th>imdb_year</th>\n    </tr>\n  </thead>\n  <tbody>\n    <tr>\n      <th>0</th>\n      <td>4</td>\n      <td>tt0010600</td>\n      <td>The Doll</td>\n      <td>Die Puppe</td>\n      <td>1919.0</td>\n      <td>NaN</td>\n      <td>66</td>\n      <td>1898</td>\n      <td>True</td>\n      <td>['Comedy', ' Fantasy', ' Sci-Fi']</td>\n      <td>...</td>\n      <td>['Ossi Oswalda', ' Hermann Thimig', ' Victor J...</td>\n      <td>['English', ' German']</td>\n      <td>Germany</td>\n      <td>False</td>\n      <td>NaN</td>\n      <td>7.4</td>\n      <td>movie</td>\n      <td>N/A</td>\n      <td>2183.0</td>\n      <td>1919.0</td>\n    </tr>\n    <tr>\n      <th>1</th>\n      <td>7</td>\n      <td>tt0011841</td>\n      <td>Way Down East</td>\n      <td>Way Down East</td>\n      <td>1920.0</td>\n      <td>NaN</td>\n      <td>145</td>\n      <td>5376</td>\n      <td>True</td>\n      <td>['Drama', ' Romance']</td>\n      <td>...</td>\n      <td>['Lillian Gish', ' Richard Barthelmess', ' Mrs...</td>\n      <td>['English']</td>\n      <td>United States</td>\n      <td>False</td>\n      <td>NaN</td>\n      <td>7.4</td>\n      <td>movie</td>\n      <td>United Artists</td>\n      <td>5649.0</td>\n      <td>1920.0</td>\n    </tr>\n    <tr>\n      <th>2</th>\n      <td>9</td>\n      <td>tt0012494</td>\n      <td>Déstiny</td>\n      <td>Der müde Tod</td>\n      <td>1921.0</td>\n      <td>NaN</td>\n      <td>97</td>\n      <td>5842</td>\n      <td>True</td>\n      <td>['Drama', ' Fantasy', ' Horror']</td>\n      <td>...</td>\n      <td>['Bernhard Goetzke', ' Lil Dagover', ' Walter ...</td>\n      <td>['German']</td>\n      <td>Germany</td>\n      <td>False</td>\n      <td>12156.0</td>\n      <td>7.6</td>\n      <td>movie</td>\n      <td>N/A</td>\n      <td>6266.0</td>\n      <td>1921.0</td>\n    </tr>\n    <tr>\n      <th>3</th>\n      <td>25</td>\n      <td>tt0015163</td>\n      <td>The Navigator</td>\n      <td>The Navigator</td>\n      <td>1924.0</td>\n      <td>NaN</td>\n      <td>59</td>\n      <td>9652</td>\n      <td>True</td>\n      <td>['Action', ' Comedy', ' Romance']</td>\n      <td>...</td>\n      <td>['Buster Keaton', ' Kathryn McGuire', ' Freder...</td>\n      <td>['English']</td>\n      <td>United States</td>\n      <td>True</td>\n      <td>NaN</td>\n      <td>7.6</td>\n      <td>movie</td>\n      <td>Metro-Goldwyn-Mayer Distributing Corp., Image ...</td>\n      <td>10288.0</td>\n      <td>1924.0</td>\n    </tr>\n    <tr>\n      <th>4</th>\n      <td>38</td>\n      <td>tt0016220</td>\n      <td>The Phantom of the Opera</td>\n      <td>The Phantom of the Opera</td>\n      <td>1925.0</td>\n      <td>NaN</td>\n      <td>93</td>\n      <td>17887</td>\n      <td>True</td>\n      <td>['Horror']</td>\n      <td>...</td>\n      <td>['Lon Chaney', ' Mary Philbin', ' Norman Kerry']</td>\n      <td>['N/A']</td>\n      <td>United States</td>\n      <td>True</td>\n      <td>3751476.0</td>\n      <td>7.5</td>\n      <td>movie</td>\n      <td>Hammer Films</td>\n      <td>18984.0</td>\n      <td>1925.0</td>\n    </tr>\n    <tr>\n      <th>...</th>\n      <td>...</td>\n      <td>...</td>\n      <td>...</td>\n      <td>...</td>\n      <td>...</td>\n      <td>...</td>\n      <td>...</td>\n      <td>...</td>\n      <td>...</td>\n      <td>...</td>\n      <td>...</td>\n      <td>...</td>\n      <td>...</td>\n      <td>...</td>\n      <td>...</td>\n      <td>...</td>\n      <td>...</td>\n      <td>...</td>\n      <td>...</td>\n      <td>...</td>\n      <td>...</td>\n    </tr>\n    <tr>\n      <th>7954</th>\n      <td>9966</td>\n      <td>tt9625664</td>\n      <td>Trauma Center</td>\n      <td>None</td>\n      <td>2019.0</td>\n      <td>NaN</td>\n      <td>87</td>\n      <td>12951</td>\n      <td>False</td>\n      <td>['Action', ' Thriller']</td>\n      <td>...</td>\n      <td>['Nicky Whelan', ' Bruce Willis', ' Tito Ortiz']</td>\n      <td>['English', ' Spanish']</td>\n      <td>United States</td>\n      <td>False</td>\n      <td>NaN</td>\n      <td>4</td>\n      <td>movie</td>\n      <td>MoviePass Films</td>\n      <td>11401.0</td>\n      <td>2019.0</td>\n    </tr>\n    <tr>\n      <th>7955</th>\n      <td>9981</td>\n      <td>tt9741310</td>\n      <td>Slaxx</td>\n      <td>Slaxx</td>\n      <td>2020.0</td>\n      <td>NaN</td>\n      <td>77</td>\n      <td>2464</td>\n      <td>False</td>\n      <td>['Comedy', ' Horror']</td>\n      <td>...</td>\n      <td>['Romane Denis', ' Brett Donahue', ' Sehar Bho...</td>\n      <td>['English']</td>\n      <td>Canada</td>\n      <td>True</td>\n      <td>NaN</td>\n      <td>5.4</td>\n      <td>movie</td>\n      <td>N/A</td>\n      <td>3640.0</td>\n      <td>2020.0</td>\n    </tr>\n    <tr>\n      <th>7956</th>\n      <td>9982</td>\n      <td>tt9742392</td>\n      <td>Kindred</td>\n      <td>Kindred</td>\n      <td>2020.0</td>\n      <td>NaN</td>\n      <td>101</td>\n      <td>1719</td>\n      <td>False</td>\n      <td>['Drama', ' Horror', ' Mystery']</td>\n      <td>...</td>\n      <td>['Tamara Lawrance', ' Edward Holcroft', ' Jack...</td>\n      <td>['English']</td>\n      <td>United Kingdom, United Arab Emirates, Germany,...</td>\n      <td>False</td>\n      <td>8921.0</td>\n      <td>5</td>\n      <td>movie</td>\n      <td>IFC Midnight</td>\n      <td>2198.0</td>\n      <td>2020.0</td>\n    </tr>\n    <tr>\n      <th>7957</th>\n      <td>9996</td>\n      <td>tt9850386</td>\n      <td>The Bee Gees: How Can You Mend a Broken Heart</td>\n      <td>None</td>\n      <td>2020.0</td>\n      <td>NaN</td>\n      <td>111</td>\n      <td>4144</td>\n      <td>True</td>\n      <td>['Documentary', ' Biography', ' Music']</td>\n      <td>...</td>\n      <td>['Barry Gibb', ' Maurice Gibb', ' Robin Gibb']</td>\n      <td>['English']</td>\n      <td>United States</td>\n      <td>True</td>\n      <td>NaN</td>\n      <td>8.1</td>\n      <td>movie</td>\n      <td>N/A</td>\n      <td>5072.0</td>\n      <td>2020.0</td>\n    </tr>\n    <tr>\n      <th>7958</th>\n      <td>9999</td>\n      <td>tt9911196</td>\n      <td>The Marriage Escape</td>\n      <td>De beentjes van Sint-Hildegard</td>\n      <td>2020.0</td>\n      <td>NaN</td>\n      <td>103</td>\n      <td>3242</td>\n      <td>True</td>\n      <td>['Comedy', ' Drama']</td>\n      <td>...</td>\n      <td>['Herman Finkers', ' Johanna ter Steege', ' Le...</td>\n      <td>['Low German', ' Dutch']</td>\n      <td>Netherlands</td>\n      <td>True</td>\n      <td>NaN</td>\n      <td>7.5</td>\n      <td>movie</td>\n      <td>N/A</td>\n      <td>3622.0</td>\n      <td>2020.0</td>\n    </tr>\n  </tbody>\n</table>\n<p>7959 rows × 21 columns</p>\n</div>"
     },
     "execution_count": 5,
     "metadata": {},
     "output_type": "execute_result"
    }
   ],
   "source": [
    "train"
   ],
   "metadata": {
    "collapsed": false
   }
  },
  {
   "cell_type": "code",
   "execution_count": 6,
   "outputs": [],
   "source": [
    "train = train.drop([\"tconst\", \"_c0\", \"originalTitle\", \"primaryTitle\", \"endYear\", \"genre\", \"plot\", \"actors\", \"language\", \"country\", \"rating\", \"entry_type\", \"production\", \"imdb_votes\", \"imdb_year\"], axis = 1)"
   ],
   "metadata": {
    "collapsed": false
   }
  },
  {
   "cell_type": "code",
   "execution_count": 7,
   "outputs": [
    {
     "data": {
      "text/plain": "      startYear runtimeMinutes  numVotes  label  awards  boxoffice\n0        1919.0             66      1898   True   False        NaN\n1        1920.0            145      5376   True   False        NaN\n2        1921.0             97      5842   True   False    12156.0\n3        1924.0             59      9652   True    True        NaN\n4        1925.0             93     17887   True    True  3751476.0\n...         ...            ...       ...    ...     ...        ...\n7954     2019.0             87     12951  False   False        NaN\n7955     2020.0             77      2464  False    True        NaN\n7956     2020.0            101      1719  False   False     8921.0\n7957     2020.0            111      4144   True    True        NaN\n7958     2020.0            103      3242   True    True        NaN\n\n[7959 rows x 6 columns]",
      "text/html": "<div>\n<style scoped>\n    .dataframe tbody tr th:only-of-type {\n        vertical-align: middle;\n    }\n\n    .dataframe tbody tr th {\n        vertical-align: top;\n    }\n\n    .dataframe thead th {\n        text-align: right;\n    }\n</style>\n<table border=\"1\" class=\"dataframe\">\n  <thead>\n    <tr style=\"text-align: right;\">\n      <th></th>\n      <th>startYear</th>\n      <th>runtimeMinutes</th>\n      <th>numVotes</th>\n      <th>label</th>\n      <th>awards</th>\n      <th>boxoffice</th>\n    </tr>\n  </thead>\n  <tbody>\n    <tr>\n      <th>0</th>\n      <td>1919.0</td>\n      <td>66</td>\n      <td>1898</td>\n      <td>True</td>\n      <td>False</td>\n      <td>NaN</td>\n    </tr>\n    <tr>\n      <th>1</th>\n      <td>1920.0</td>\n      <td>145</td>\n      <td>5376</td>\n      <td>True</td>\n      <td>False</td>\n      <td>NaN</td>\n    </tr>\n    <tr>\n      <th>2</th>\n      <td>1921.0</td>\n      <td>97</td>\n      <td>5842</td>\n      <td>True</td>\n      <td>False</td>\n      <td>12156.0</td>\n    </tr>\n    <tr>\n      <th>3</th>\n      <td>1924.0</td>\n      <td>59</td>\n      <td>9652</td>\n      <td>True</td>\n      <td>True</td>\n      <td>NaN</td>\n    </tr>\n    <tr>\n      <th>4</th>\n      <td>1925.0</td>\n      <td>93</td>\n      <td>17887</td>\n      <td>True</td>\n      <td>True</td>\n      <td>3751476.0</td>\n    </tr>\n    <tr>\n      <th>...</th>\n      <td>...</td>\n      <td>...</td>\n      <td>...</td>\n      <td>...</td>\n      <td>...</td>\n      <td>...</td>\n    </tr>\n    <tr>\n      <th>7954</th>\n      <td>2019.0</td>\n      <td>87</td>\n      <td>12951</td>\n      <td>False</td>\n      <td>False</td>\n      <td>NaN</td>\n    </tr>\n    <tr>\n      <th>7955</th>\n      <td>2020.0</td>\n      <td>77</td>\n      <td>2464</td>\n      <td>False</td>\n      <td>True</td>\n      <td>NaN</td>\n    </tr>\n    <tr>\n      <th>7956</th>\n      <td>2020.0</td>\n      <td>101</td>\n      <td>1719</td>\n      <td>False</td>\n      <td>False</td>\n      <td>8921.0</td>\n    </tr>\n    <tr>\n      <th>7957</th>\n      <td>2020.0</td>\n      <td>111</td>\n      <td>4144</td>\n      <td>True</td>\n      <td>True</td>\n      <td>NaN</td>\n    </tr>\n    <tr>\n      <th>7958</th>\n      <td>2020.0</td>\n      <td>103</td>\n      <td>3242</td>\n      <td>True</td>\n      <td>True</td>\n      <td>NaN</td>\n    </tr>\n  </tbody>\n</table>\n<p>7959 rows × 6 columns</p>\n</div>"
     },
     "execution_count": 7,
     "metadata": {},
     "output_type": "execute_result"
    }
   ],
   "source": [
    "train"
   ],
   "metadata": {
    "collapsed": false
   }
  },
  {
   "cell_type": "code",
   "execution_count": 8,
   "outputs": [],
   "source": [
    "train[\"boxoffice\"].fillna(0, inplace=True)"
   ],
   "metadata": {
    "collapsed": false
   }
  },
  {
   "cell_type": "code",
   "execution_count": 9,
   "outputs": [],
   "source": [
    "train[\"startYear\"].fillna(2012, inplace=True)"
   ],
   "metadata": {
    "collapsed": false
   }
  },
  {
   "cell_type": "code",
   "execution_count": 10,
   "outputs": [],
   "source": [
    "import pandas as pd\n",
    "train['runtimeMinutes'] = pd.to_numeric(train['runtimeMinutes'], errors='coerce')"
   ],
   "metadata": {
    "collapsed": false
   }
  },
  {
   "cell_type": "code",
   "execution_count": 11,
   "outputs": [],
   "source": [
    "train['runtimeMinutes'].fillna(0, inplace=True)"
   ],
   "metadata": {
    "collapsed": false
   }
  },
  {
   "cell_type": "code",
   "execution_count": 12,
   "outputs": [],
   "source": [
    "train =  train.astype(int)"
   ],
   "metadata": {
    "collapsed": false
   }
  },
  {
   "cell_type": "code",
   "execution_count": 13,
   "outputs": [
    {
     "data": {
      "text/plain": "      startYear  runtimeMinutes  numVotes  label  awards  boxoffice\n0          1919              66      1898      1       0          0\n1          1920             145      5376      1       0          0\n2          1921              97      5842      1       0      12156\n3          1924              59      9652      1       1          0\n4          1925              93     17887      1       1    3751476\n...         ...             ...       ...    ...     ...        ...\n7954       2019              87     12951      0       0          0\n7955       2020              77      2464      0       1          0\n7956       2020             101      1719      0       0       8921\n7957       2020             111      4144      1       1          0\n7958       2020             103      3242      1       1          0\n\n[7959 rows x 6 columns]",
      "text/html": "<div>\n<style scoped>\n    .dataframe tbody tr th:only-of-type {\n        vertical-align: middle;\n    }\n\n    .dataframe tbody tr th {\n        vertical-align: top;\n    }\n\n    .dataframe thead th {\n        text-align: right;\n    }\n</style>\n<table border=\"1\" class=\"dataframe\">\n  <thead>\n    <tr style=\"text-align: right;\">\n      <th></th>\n      <th>startYear</th>\n      <th>runtimeMinutes</th>\n      <th>numVotes</th>\n      <th>label</th>\n      <th>awards</th>\n      <th>boxoffice</th>\n    </tr>\n  </thead>\n  <tbody>\n    <tr>\n      <th>0</th>\n      <td>1919</td>\n      <td>66</td>\n      <td>1898</td>\n      <td>1</td>\n      <td>0</td>\n      <td>0</td>\n    </tr>\n    <tr>\n      <th>1</th>\n      <td>1920</td>\n      <td>145</td>\n      <td>5376</td>\n      <td>1</td>\n      <td>0</td>\n      <td>0</td>\n    </tr>\n    <tr>\n      <th>2</th>\n      <td>1921</td>\n      <td>97</td>\n      <td>5842</td>\n      <td>1</td>\n      <td>0</td>\n      <td>12156</td>\n    </tr>\n    <tr>\n      <th>3</th>\n      <td>1924</td>\n      <td>59</td>\n      <td>9652</td>\n      <td>1</td>\n      <td>1</td>\n      <td>0</td>\n    </tr>\n    <tr>\n      <th>4</th>\n      <td>1925</td>\n      <td>93</td>\n      <td>17887</td>\n      <td>1</td>\n      <td>1</td>\n      <td>3751476</td>\n    </tr>\n    <tr>\n      <th>...</th>\n      <td>...</td>\n      <td>...</td>\n      <td>...</td>\n      <td>...</td>\n      <td>...</td>\n      <td>...</td>\n    </tr>\n    <tr>\n      <th>7954</th>\n      <td>2019</td>\n      <td>87</td>\n      <td>12951</td>\n      <td>0</td>\n      <td>0</td>\n      <td>0</td>\n    </tr>\n    <tr>\n      <th>7955</th>\n      <td>2020</td>\n      <td>77</td>\n      <td>2464</td>\n      <td>0</td>\n      <td>1</td>\n      <td>0</td>\n    </tr>\n    <tr>\n      <th>7956</th>\n      <td>2020</td>\n      <td>101</td>\n      <td>1719</td>\n      <td>0</td>\n      <td>0</td>\n      <td>8921</td>\n    </tr>\n    <tr>\n      <th>7957</th>\n      <td>2020</td>\n      <td>111</td>\n      <td>4144</td>\n      <td>1</td>\n      <td>1</td>\n      <td>0</td>\n    </tr>\n    <tr>\n      <th>7958</th>\n      <td>2020</td>\n      <td>103</td>\n      <td>3242</td>\n      <td>1</td>\n      <td>1</td>\n      <td>0</td>\n    </tr>\n  </tbody>\n</table>\n<p>7959 rows × 6 columns</p>\n</div>"
     },
     "execution_count": 13,
     "metadata": {},
     "output_type": "execute_result"
    }
   ],
   "source": [
    "train"
   ],
   "metadata": {
    "collapsed": false
   }
  },
  {
   "cell_type": "code",
   "execution_count": 14,
   "outputs": [],
   "source": [
    "\"\"\"\n",
    "Loading the training csv.\n",
    "\"\"\"\n",
    "\n",
    "validation = spark.read.option(\"escape\", \"\\\"\").csv('../datasets/models_dataset/validation.csv', header=True, inferSchema=True)"
   ],
   "metadata": {
    "collapsed": false
   }
  },
  {
   "cell_type": "code",
   "execution_count": 15,
   "outputs": [],
   "source": [
    "validate = validation.toPandas()"
   ],
   "metadata": {
    "collapsed": false
   }
  },
  {
   "cell_type": "code",
   "execution_count": 16,
   "outputs": [],
   "source": [
    "validate = validate.drop([\"tconst\", \"_c0\", \"originalTitle\", \"primaryTitle\", \"endYear\", \"genre\", \"plot\", \"actors\", \"language\", \"country\", \"rating\", \"entry_type\", \"production\", \"imdb_votes\", \"imdb_year\"], axis = 1)"
   ],
   "metadata": {
    "collapsed": false
   }
  },
  {
   "cell_type": "code",
   "execution_count": 17,
   "outputs": [
    {
     "data": {
      "text/plain": "     startYear  runtimeMinutes  numVotes  awards  boxoffice\n0         1914             148      3452       0          0\n1         1917              65      1882       0          0\n2         1919             166      1692       0          0\n3         1923              74     19898       1          0\n4         1924             143      5676       0          0\n..         ...             ...       ...     ...        ...\n950       2019             103      2106       1          0\n951       2020             109      1730       1       2992\n952       2021              98      1056       0          0\n953       2021             145      1430       0          0\n954       2019             130      1402       1          0\n\n[955 rows x 5 columns]",
      "text/html": "<div>\n<style scoped>\n    .dataframe tbody tr th:only-of-type {\n        vertical-align: middle;\n    }\n\n    .dataframe tbody tr th {\n        vertical-align: top;\n    }\n\n    .dataframe thead th {\n        text-align: right;\n    }\n</style>\n<table border=\"1\" class=\"dataframe\">\n  <thead>\n    <tr style=\"text-align: right;\">\n      <th></th>\n      <th>startYear</th>\n      <th>runtimeMinutes</th>\n      <th>numVotes</th>\n      <th>awards</th>\n      <th>boxoffice</th>\n    </tr>\n  </thead>\n  <tbody>\n    <tr>\n      <th>0</th>\n      <td>1914</td>\n      <td>148</td>\n      <td>3452</td>\n      <td>0</td>\n      <td>0</td>\n    </tr>\n    <tr>\n      <th>1</th>\n      <td>1917</td>\n      <td>65</td>\n      <td>1882</td>\n      <td>0</td>\n      <td>0</td>\n    </tr>\n    <tr>\n      <th>2</th>\n      <td>1919</td>\n      <td>166</td>\n      <td>1692</td>\n      <td>0</td>\n      <td>0</td>\n    </tr>\n    <tr>\n      <th>3</th>\n      <td>1923</td>\n      <td>74</td>\n      <td>19898</td>\n      <td>1</td>\n      <td>0</td>\n    </tr>\n    <tr>\n      <th>4</th>\n      <td>1924</td>\n      <td>143</td>\n      <td>5676</td>\n      <td>0</td>\n      <td>0</td>\n    </tr>\n    <tr>\n      <th>...</th>\n      <td>...</td>\n      <td>...</td>\n      <td>...</td>\n      <td>...</td>\n      <td>...</td>\n    </tr>\n    <tr>\n      <th>950</th>\n      <td>2019</td>\n      <td>103</td>\n      <td>2106</td>\n      <td>1</td>\n      <td>0</td>\n    </tr>\n    <tr>\n      <th>951</th>\n      <td>2020</td>\n      <td>109</td>\n      <td>1730</td>\n      <td>1</td>\n      <td>2992</td>\n    </tr>\n    <tr>\n      <th>952</th>\n      <td>2021</td>\n      <td>98</td>\n      <td>1056</td>\n      <td>0</td>\n      <td>0</td>\n    </tr>\n    <tr>\n      <th>953</th>\n      <td>2021</td>\n      <td>145</td>\n      <td>1430</td>\n      <td>0</td>\n      <td>0</td>\n    </tr>\n    <tr>\n      <th>954</th>\n      <td>2019</td>\n      <td>130</td>\n      <td>1402</td>\n      <td>1</td>\n      <td>0</td>\n    </tr>\n  </tbody>\n</table>\n<p>955 rows × 5 columns</p>\n</div>"
     },
     "execution_count": 17,
     "metadata": {},
     "output_type": "execute_result"
    }
   ],
   "source": [
    "validate[\"boxoffice\"].fillna(0, inplace=True)\n",
    "validate[\"startYear\"].fillna(2012, inplace=True)\n",
    "validate['runtimeMinutes'] = pd.to_numeric(validate['runtimeMinutes'], errors='coerce')\n",
    "validate['runtimeMinutes'].fillna(0, inplace=True)\n",
    "validate = validate.astype(int)\n",
    "validate"
   ],
   "metadata": {
    "collapsed": false
   }
  },
  {
   "cell_type": "code",
   "execution_count": 19,
   "outputs": [],
   "source": [
    "from sklearn.model_selection import train_test_split\n",
    "y = train[\"label\"]\n",
    "X = train.drop([\"label\"],axis=1)\n",
    "X_train, X_test, y_train, y_test = train_test_split(X, y, test_size=0.33, random_state=42)"
   ],
   "metadata": {
    "collapsed": false
   }
  },
  {
   "cell_type": "code",
   "execution_count": 20,
   "outputs": [
    {
     "name": "stderr",
     "output_type": "stream",
     "text": [
      "100%|██████████| 29/29 [00:09<00:00,  3.10it/s]\n"
     ]
    },
    {
     "data": {
      "text/plain": "                               Accuracy  Balanced Accuracy  ROC AUC  F1 Score  \\\nModel                                                                           \nLGBMClassifier                     0.79               0.79     0.79      0.79   \nRandomForestClassifier             0.79               0.79     0.79      0.79   \nLabelSpreading                     0.78               0.78     0.78      0.78   \nLabelPropagation                   0.78               0.78     0.78      0.78   \nAdaBoostClassifier                 0.78               0.78     0.78      0.78   \nXGBClassifier                      0.78               0.78     0.78      0.78   \nLinearSVC                          0.78               0.78     0.78      0.78   \nSVC                                0.78               0.78     0.78      0.77   \nNuSVC                              0.78               0.78     0.78      0.77   \nCalibratedClassifierCV             0.78               0.78     0.78      0.78   \nLogisticRegression                 0.77               0.77     0.77      0.77   \nExtraTreesClassifier               0.77               0.77     0.77      0.77   \nBaggingClassifier                  0.77               0.77     0.77      0.77   \nRidgeClassifierCV                  0.76               0.76     0.76      0.76   \nLinearDiscriminantAnalysis         0.76               0.76     0.76      0.76   \nRidgeClassifier                    0.76               0.76     0.76      0.76   \nKNeighborsClassifier               0.75               0.75     0.75      0.75   \nNearestCentroid                    0.75               0.75     0.75      0.75   \nSGDClassifier                      0.75               0.75     0.75      0.75   \nBernoulliNB                        0.73               0.73     0.73      0.73   \nExtraTreeClassifier                0.72               0.72     0.72      0.72   \nDecisionTreeClassifier             0.71               0.71     0.71      0.71   \nPerceptron                         0.67               0.67     0.67      0.65   \nQuadraticDiscriminantAnalysis      0.65               0.65     0.65      0.62   \nPassiveAggressiveClassifier        0.64               0.64     0.64      0.60   \nGaussianNB                         0.64               0.64     0.64      0.60   \nDummyClassifier                    0.50               0.50     0.50      0.34   \n\n                               Time Taken  \nModel                                      \nLGBMClassifier                       0.16  \nRandomForestClassifier               0.90  \nLabelSpreading                       1.19  \nLabelPropagation                     0.90  \nAdaBoostClassifier                   0.23  \nXGBClassifier                        0.38  \nLinearSVC                            0.22  \nSVC                                  1.60  \nNuSVC                                1.98  \nCalibratedClassifierCV               0.71  \nLogisticRegression                   0.02  \nExtraTreesClassifier                 0.53  \nBaggingClassifier                    0.16  \nRidgeClassifierCV                    0.02  \nLinearDiscriminantAnalysis           0.02  \nRidgeClassifier                      0.02  \nKNeighborsClassifier                 0.10  \nNearestCentroid                      0.01  \nSGDClassifier                        0.02  \nBernoulliNB                          0.02  \nExtraTreeClassifier                  0.02  \nDecisionTreeClassifier               0.03  \nPerceptron                           0.01  \nQuadraticDiscriminantAnalysis        0.02  \nPassiveAggressiveClassifier          0.02  \nGaussianNB                           0.02  \nDummyClassifier                      0.01  ",
      "text/html": "<div>\n<style scoped>\n    .dataframe tbody tr th:only-of-type {\n        vertical-align: middle;\n    }\n\n    .dataframe tbody tr th {\n        vertical-align: top;\n    }\n\n    .dataframe thead th {\n        text-align: right;\n    }\n</style>\n<table border=\"1\" class=\"dataframe\">\n  <thead>\n    <tr style=\"text-align: right;\">\n      <th></th>\n      <th>Accuracy</th>\n      <th>Balanced Accuracy</th>\n      <th>ROC AUC</th>\n      <th>F1 Score</th>\n      <th>Time Taken</th>\n    </tr>\n    <tr>\n      <th>Model</th>\n      <th></th>\n      <th></th>\n      <th></th>\n      <th></th>\n      <th></th>\n    </tr>\n  </thead>\n  <tbody>\n    <tr>\n      <th>LGBMClassifier</th>\n      <td>0.79</td>\n      <td>0.79</td>\n      <td>0.79</td>\n      <td>0.79</td>\n      <td>0.16</td>\n    </tr>\n    <tr>\n      <th>RandomForestClassifier</th>\n      <td>0.79</td>\n      <td>0.79</td>\n      <td>0.79</td>\n      <td>0.79</td>\n      <td>0.90</td>\n    </tr>\n    <tr>\n      <th>LabelSpreading</th>\n      <td>0.78</td>\n      <td>0.78</td>\n      <td>0.78</td>\n      <td>0.78</td>\n      <td>1.19</td>\n    </tr>\n    <tr>\n      <th>LabelPropagation</th>\n      <td>0.78</td>\n      <td>0.78</td>\n      <td>0.78</td>\n      <td>0.78</td>\n      <td>0.90</td>\n    </tr>\n    <tr>\n      <th>AdaBoostClassifier</th>\n      <td>0.78</td>\n      <td>0.78</td>\n      <td>0.78</td>\n      <td>0.78</td>\n      <td>0.23</td>\n    </tr>\n    <tr>\n      <th>XGBClassifier</th>\n      <td>0.78</td>\n      <td>0.78</td>\n      <td>0.78</td>\n      <td>0.78</td>\n      <td>0.38</td>\n    </tr>\n    <tr>\n      <th>LinearSVC</th>\n      <td>0.78</td>\n      <td>0.78</td>\n      <td>0.78</td>\n      <td>0.78</td>\n      <td>0.22</td>\n    </tr>\n    <tr>\n      <th>SVC</th>\n      <td>0.78</td>\n      <td>0.78</td>\n      <td>0.78</td>\n      <td>0.77</td>\n      <td>1.60</td>\n    </tr>\n    <tr>\n      <th>NuSVC</th>\n      <td>0.78</td>\n      <td>0.78</td>\n      <td>0.78</td>\n      <td>0.77</td>\n      <td>1.98</td>\n    </tr>\n    <tr>\n      <th>CalibratedClassifierCV</th>\n      <td>0.78</td>\n      <td>0.78</td>\n      <td>0.78</td>\n      <td>0.78</td>\n      <td>0.71</td>\n    </tr>\n    <tr>\n      <th>LogisticRegression</th>\n      <td>0.77</td>\n      <td>0.77</td>\n      <td>0.77</td>\n      <td>0.77</td>\n      <td>0.02</td>\n    </tr>\n    <tr>\n      <th>ExtraTreesClassifier</th>\n      <td>0.77</td>\n      <td>0.77</td>\n      <td>0.77</td>\n      <td>0.77</td>\n      <td>0.53</td>\n    </tr>\n    <tr>\n      <th>BaggingClassifier</th>\n      <td>0.77</td>\n      <td>0.77</td>\n      <td>0.77</td>\n      <td>0.77</td>\n      <td>0.16</td>\n    </tr>\n    <tr>\n      <th>RidgeClassifierCV</th>\n      <td>0.76</td>\n      <td>0.76</td>\n      <td>0.76</td>\n      <td>0.76</td>\n      <td>0.02</td>\n    </tr>\n    <tr>\n      <th>LinearDiscriminantAnalysis</th>\n      <td>0.76</td>\n      <td>0.76</td>\n      <td>0.76</td>\n      <td>0.76</td>\n      <td>0.02</td>\n    </tr>\n    <tr>\n      <th>RidgeClassifier</th>\n      <td>0.76</td>\n      <td>0.76</td>\n      <td>0.76</td>\n      <td>0.76</td>\n      <td>0.02</td>\n    </tr>\n    <tr>\n      <th>KNeighborsClassifier</th>\n      <td>0.75</td>\n      <td>0.75</td>\n      <td>0.75</td>\n      <td>0.75</td>\n      <td>0.10</td>\n    </tr>\n    <tr>\n      <th>NearestCentroid</th>\n      <td>0.75</td>\n      <td>0.75</td>\n      <td>0.75</td>\n      <td>0.75</td>\n      <td>0.01</td>\n    </tr>\n    <tr>\n      <th>SGDClassifier</th>\n      <td>0.75</td>\n      <td>0.75</td>\n      <td>0.75</td>\n      <td>0.75</td>\n      <td>0.02</td>\n    </tr>\n    <tr>\n      <th>BernoulliNB</th>\n      <td>0.73</td>\n      <td>0.73</td>\n      <td>0.73</td>\n      <td>0.73</td>\n      <td>0.02</td>\n    </tr>\n    <tr>\n      <th>ExtraTreeClassifier</th>\n      <td>0.72</td>\n      <td>0.72</td>\n      <td>0.72</td>\n      <td>0.72</td>\n      <td>0.02</td>\n    </tr>\n    <tr>\n      <th>DecisionTreeClassifier</th>\n      <td>0.71</td>\n      <td>0.71</td>\n      <td>0.71</td>\n      <td>0.71</td>\n      <td>0.03</td>\n    </tr>\n    <tr>\n      <th>Perceptron</th>\n      <td>0.67</td>\n      <td>0.67</td>\n      <td>0.67</td>\n      <td>0.65</td>\n      <td>0.01</td>\n    </tr>\n    <tr>\n      <th>QuadraticDiscriminantAnalysis</th>\n      <td>0.65</td>\n      <td>0.65</td>\n      <td>0.65</td>\n      <td>0.62</td>\n      <td>0.02</td>\n    </tr>\n    <tr>\n      <th>PassiveAggressiveClassifier</th>\n      <td>0.64</td>\n      <td>0.64</td>\n      <td>0.64</td>\n      <td>0.60</td>\n      <td>0.02</td>\n    </tr>\n    <tr>\n      <th>GaussianNB</th>\n      <td>0.64</td>\n      <td>0.64</td>\n      <td>0.64</td>\n      <td>0.60</td>\n      <td>0.02</td>\n    </tr>\n    <tr>\n      <th>DummyClassifier</th>\n      <td>0.50</td>\n      <td>0.50</td>\n      <td>0.50</td>\n      <td>0.34</td>\n      <td>0.01</td>\n    </tr>\n  </tbody>\n</table>\n</div>"
     },
     "execution_count": 20,
     "metadata": {},
     "output_type": "execute_result"
    }
   ],
   "source": [
    "from lazypredict.Supervised import LazyClassifier\n",
    "\n",
    "clf = LazyClassifier(verbose=0,ignore_warnings=True, custom_metric=None)\n",
    "models,predictions = clf.fit(X_train, X_test, y_train, y_test)\n",
    "models"
   ],
   "metadata": {
    "collapsed": false
   }
  },
  {
   "cell_type": "code",
   "execution_count": 21,
   "outputs": [],
   "source": [
    "import lightgbm as lgb\n",
    "from sklearn.model_selection import GridSearchCV,cross_val_score,RepeatedStratifiedKFold,train_test_split\n",
    "from sklearn.pipeline import make_pipeline\n",
    "from sklearn.metrics import confusion_matrix\n",
    "from sklearn import metrics"
   ],
   "metadata": {
    "collapsed": false
   }
  },
  {
   "cell_type": "code",
   "execution_count": 22,
   "outputs": [
    {
     "data": {
      "text/plain": "array([[1062,  246],\n       [ 303, 1016]], dtype=int64)"
     },
     "execution_count": 22,
     "metadata": {},
     "output_type": "execute_result"
    }
   ],
   "source": [
    "# Create lgbm object\n",
    "clf = lgb.LGBMClassifier()\n",
    "\n",
    "# Train lgbm\n",
    "clf = clf.fit(X_train,y_train)\n",
    "\n",
    "#Predict the response for test dataset\n",
    "y_pred = clf.predict(X_test)\n",
    "# y_pred = (clf.predict_proba(X_test)[:,1] >= 0.89).astype(bool) # set threshold as 0.882 (random number)\n",
    "\n",
    "confusion_matrix(y_test, y_pred)"
   ],
   "metadata": {
    "collapsed": false
   }
  },
  {
   "cell_type": "code",
   "execution_count": 23,
   "outputs": [
    {
     "name": "stdout",
     "output_type": "stream",
     "text": [
      "Accuracy:               precision    recall  f1-score   support\n",
      "\n",
      "           0       0.78      0.81      0.79      1308\n",
      "           1       0.81      0.77      0.79      1319\n",
      "\n",
      "    accuracy                           0.79      2627\n",
      "   macro avg       0.79      0.79      0.79      2627\n",
      "weighted avg       0.79      0.79      0.79      2627\n",
      "\n"
     ]
    }
   ],
   "source": [
    "# Model Accuracy, how often is the classifier correct?\n",
    "print(\"Accuracy:\",metrics.classification_report(y_test, y_pred))"
   ],
   "metadata": {
    "collapsed": false
   }
  },
  {
   "cell_type": "code",
   "execution_count": 25,
   "outputs": [],
   "source": [
    "validate_results = clf.predict(validate)"
   ],
   "metadata": {
    "collapsed": false
   }
  },
  {
   "cell_type": "code",
   "execution_count": 26,
   "outputs": [
    {
     "data": {
      "text/plain": "array([1, 1, 1, 1, 1, 1, 0, 1, 1, 1, 1, 1, 0, 1, 1, 1, 1, 1, 1, 1, 1, 0,\n       1, 1, 1, 0, 1, 1, 1, 0, 1, 1, 1, 1, 1, 1, 1, 1, 1, 1, 1, 1, 0, 1,\n       1, 1, 1, 1, 1, 1, 1, 1, 1, 1, 0, 0, 1, 0, 1, 1, 1, 1, 1, 1, 1, 1,\n       1, 1, 1, 1, 1, 0, 1, 1, 1, 1, 0, 1, 0, 1, 1, 1, 1, 1, 0, 0, 1, 1,\n       1, 0, 1, 1, 1, 1, 1, 1, 0, 1, 1, 1, 1, 1, 1, 0, 1, 1, 0, 0, 1, 0,\n       0, 1, 0, 1, 0, 0, 1, 1, 0, 1, 1, 0, 1, 1, 0, 0, 1, 1, 1, 0, 0, 1,\n       1, 1, 1, 1, 0, 1, 1, 1, 0, 0, 1, 0, 1, 1, 1, 1, 0, 1, 1, 1, 0, 0,\n       1, 1, 1, 1, 1, 0, 1, 1, 1, 0, 0, 1, 1, 0, 1, 1, 0, 0, 0, 1, 0, 1,\n       1, 0, 1, 1, 1, 1, 1, 1, 1, 1, 1, 1, 1, 0, 0, 0, 1, 0, 0, 1, 0, 1,\n       0, 0, 1, 0, 1, 1, 0, 1, 1, 0, 0, 0, 1, 1, 0, 1, 0, 0, 0, 0, 1, 1,\n       1, 1, 0, 0, 0, 1, 0, 0, 1, 0, 0, 0, 0, 0, 0, 0, 0, 0, 1, 1, 0, 0,\n       0, 1, 0, 0, 1, 0, 0, 1, 0, 1, 1, 1, 0, 1, 0, 0, 0, 0, 1, 0, 0, 0,\n       0, 0, 1, 1, 0, 1, 1, 1, 0, 0, 0, 1, 0, 1, 1, 0, 0, 1, 0, 1, 0, 1,\n       0, 0, 1, 1, 0, 0, 1, 1, 0, 0, 0, 0, 0, 0, 1, 0, 0, 1, 0, 0, 0, 1,\n       0, 1, 0, 0, 0, 1, 0, 0, 1, 1, 0, 0, 0, 1, 0, 0, 1, 1, 1, 0, 1, 0,\n       0, 1, 0, 0, 0, 1, 1, 1, 0, 0, 1, 1, 0, 1, 1, 0, 0, 1, 0, 1, 1, 1,\n       1, 0, 1, 0, 0, 1, 1, 1, 0, 0, 1, 0, 1, 1, 1, 0, 1, 0, 1, 1, 0, 0,\n       0, 1, 1, 1, 1, 1, 0, 1, 1, 1, 0, 0, 1, 0, 1, 0, 1, 1, 1, 1, 0, 0,\n       1, 1, 0, 1, 1, 1, 1, 0, 0, 1, 0, 1, 0, 1, 0, 0, 0, 0, 1, 1, 0, 1,\n       1, 1, 1, 0, 0, 1, 1, 0, 1, 1, 1, 1, 0, 1, 1, 0, 0, 0, 1, 0, 1, 0,\n       1, 1, 0, 1, 0, 1, 0, 1, 0, 1, 0, 1, 1, 1, 1, 0, 0, 0, 1, 1, 1, 1,\n       1, 1, 1, 1, 0, 1, 1, 1, 0, 0, 1, 1, 1, 1, 1, 0, 1, 0, 0, 0, 1, 1,\n       1, 1, 1, 0, 1, 1, 1, 0, 0, 1, 1, 1, 1, 0, 0, 0, 0, 0, 0, 1, 1, 0,\n       0, 0, 0, 1, 1, 0, 0, 0, 0, 0, 0, 0, 1, 0, 0, 1, 0, 0, 0, 0, 1, 0,\n       0, 1, 1, 0, 0, 0, 0, 0, 0, 1, 1, 0, 0, 1, 1, 0, 0, 0, 0, 1, 0, 1,\n       1, 1, 0, 1, 0, 0, 0, 0, 1, 1, 1, 0, 0, 0, 1, 1, 0, 1, 0, 0, 1, 1,\n       1, 0, 0, 1, 0, 0, 0, 0, 0, 0, 0, 1, 1, 1, 0, 1, 0, 0, 0, 0, 0, 0,\n       0, 0, 0, 0, 0, 0, 1, 0, 1, 1, 0, 0, 1, 0, 0, 0, 0, 1, 0, 0, 0, 1,\n       0, 0, 0, 1, 0, 0, 1, 1, 0, 0, 1, 0, 0, 1, 1, 1, 0, 0, 0, 0, 0, 1,\n       0, 0, 1, 1, 0, 0, 0, 1, 0, 1, 1, 0, 0, 0, 1, 1, 0, 0, 0, 0, 1, 1,\n       1, 1, 0, 0, 0, 0, 1, 0, 0, 0, 1, 1, 0, 1, 0, 0, 1, 0, 0, 0, 0, 1,\n       0, 0, 0, 1, 0, 0, 0, 1, 0, 1, 1, 0, 0, 1, 1, 1, 0, 1, 1, 0, 0, 0,\n       1, 0, 0, 0, 1, 0, 0, 1, 0, 0, 1, 1, 0, 0, 0, 1, 0, 0, 1, 0, 0, 1,\n       1, 0, 0, 1, 1, 0, 1, 1, 0, 0, 0, 0, 0, 0, 0, 1, 1, 1, 0, 0, 0, 1,\n       1, 1, 0, 1, 0, 0, 0, 0, 0, 0, 0, 1, 0, 0, 0, 1, 0, 0, 0, 0, 0, 0,\n       0, 0, 1, 0, 0, 1, 0, 1, 0, 0, 0, 1, 1, 0, 0, 1, 0, 0, 1, 0, 1, 0,\n       0, 1, 0, 1, 1, 0, 0, 1, 0, 0, 0, 0, 1, 1, 0, 0, 0, 0, 1, 0, 0, 0,\n       0, 1, 0, 1, 0, 0, 0, 0, 1, 0, 0, 0, 0, 0, 0, 1, 1, 1, 0, 0, 1, 0,\n       0, 0, 0, 0, 0, 0, 1, 0, 0, 0, 0, 0, 0, 1, 1, 0, 0, 0, 0, 0, 0, 1,\n       0, 0, 0, 1, 0, 1, 1, 1, 0, 0, 0, 1, 1, 0, 0, 0, 0, 0, 0, 0, 0, 1,\n       0, 0, 0, 1, 0, 1, 0, 0, 0, 0, 0, 0, 0, 1, 0, 0, 0, 1, 0, 0, 1, 0,\n       0, 0, 0, 1, 0, 0, 0, 0, 1, 0, 1, 0, 1, 0, 0, 1, 0, 0, 0, 0, 1, 1,\n       0, 0, 1, 0, 0, 0, 0, 1, 1, 0, 0, 1, 0, 0, 0, 0, 0, 0, 0, 0, 1, 0,\n       0, 0, 0, 0, 0, 0, 0, 1, 1])"
     },
     "execution_count": 26,
     "metadata": {},
     "output_type": "execute_result"
    }
   ],
   "source": [
    "validate_results"
   ],
   "metadata": {
    "collapsed": false
   }
  },
  {
   "cell_type": "code",
   "execution_count": 32,
   "outputs": [],
   "source": [
    "pd.DataFrame(validate_results)[0].map({1:\"True\", 0:\"False\"}).to_csv(\"validation_results.csv\", index=False, header=False)"
   ],
   "metadata": {
    "collapsed": false
   }
  },
  {
   "cell_type": "code",
   "execution_count": 42,
   "outputs": [
    {
     "data": {
      "text/plain": "      startYear  runtimeMinutes  numVotes  awards  boxoffice\n0          1924              95      3654       1          0\n1          1924             150      2136       1          0\n2          1924             129      4341       0          0\n3          2012              59      1724       0          0\n4          1925              69      4188       0          0\n...         ...             ...       ...     ...        ...\n1081       2019             101      5109       0    1298528\n1082       2020             106      5780       1     514107\n1083       2019             149      2331       0     423340\n1084       2020             110      1861       0          0\n1085       2019             140      5271       1          0\n\n[1086 rows x 5 columns]",
      "text/html": "<div>\n<style scoped>\n    .dataframe tbody tr th:only-of-type {\n        vertical-align: middle;\n    }\n\n    .dataframe tbody tr th {\n        vertical-align: top;\n    }\n\n    .dataframe thead th {\n        text-align: right;\n    }\n</style>\n<table border=\"1\" class=\"dataframe\">\n  <thead>\n    <tr style=\"text-align: right;\">\n      <th></th>\n      <th>startYear</th>\n      <th>runtimeMinutes</th>\n      <th>numVotes</th>\n      <th>awards</th>\n      <th>boxoffice</th>\n    </tr>\n  </thead>\n  <tbody>\n    <tr>\n      <th>0</th>\n      <td>1924</td>\n      <td>95</td>\n      <td>3654</td>\n      <td>1</td>\n      <td>0</td>\n    </tr>\n    <tr>\n      <th>1</th>\n      <td>1924</td>\n      <td>150</td>\n      <td>2136</td>\n      <td>1</td>\n      <td>0</td>\n    </tr>\n    <tr>\n      <th>2</th>\n      <td>1924</td>\n      <td>129</td>\n      <td>4341</td>\n      <td>0</td>\n      <td>0</td>\n    </tr>\n    <tr>\n      <th>3</th>\n      <td>2012</td>\n      <td>59</td>\n      <td>1724</td>\n      <td>0</td>\n      <td>0</td>\n    </tr>\n    <tr>\n      <th>4</th>\n      <td>1925</td>\n      <td>69</td>\n      <td>4188</td>\n      <td>0</td>\n      <td>0</td>\n    </tr>\n    <tr>\n      <th>...</th>\n      <td>...</td>\n      <td>...</td>\n      <td>...</td>\n      <td>...</td>\n      <td>...</td>\n    </tr>\n    <tr>\n      <th>1081</th>\n      <td>2019</td>\n      <td>101</td>\n      <td>5109</td>\n      <td>0</td>\n      <td>1298528</td>\n    </tr>\n    <tr>\n      <th>1082</th>\n      <td>2020</td>\n      <td>106</td>\n      <td>5780</td>\n      <td>1</td>\n      <td>514107</td>\n    </tr>\n    <tr>\n      <th>1083</th>\n      <td>2019</td>\n      <td>149</td>\n      <td>2331</td>\n      <td>0</td>\n      <td>423340</td>\n    </tr>\n    <tr>\n      <th>1084</th>\n      <td>2020</td>\n      <td>110</td>\n      <td>1861</td>\n      <td>0</td>\n      <td>0</td>\n    </tr>\n    <tr>\n      <th>1085</th>\n      <td>2019</td>\n      <td>140</td>\n      <td>5271</td>\n      <td>1</td>\n      <td>0</td>\n    </tr>\n  </tbody>\n</table>\n<p>1086 rows × 5 columns</p>\n</div>"
     },
     "execution_count": 42,
     "metadata": {},
     "output_type": "execute_result"
    }
   ],
   "source": [
    "\"\"\"\n",
    "Loading the training csv.\n",
    "\"\"\"\n",
    "\n",
    "test = spark.read.option(\"escape\", \"\\\"\").csv('../datasets/models_dataset/test.csv', header=True,\n",
    "                                                   inferSchema=True)\n",
    "test = test.toPandas()\n",
    "test = test.drop(\n",
    "    [\"tconst\", \"_c0\", \"originalTitle\", \"primaryTitle\", \"endYear\", \"genre\", \"plot\", \"actors\", \"language\", \"country\",\n",
    "     \"rating\", \"entry_type\", \"production\", \"imdb_votes\", \"imdb_year\"], axis=1)\n",
    "test[\"boxoffice\"].fillna(0, inplace=True)\n",
    "test[\"startYear\"].fillna(2012, inplace=True)\n",
    "test['runtimeMinutes'] = pd.to_numeric(test['runtimeMinutes'], errors='coerce')\n",
    "test['runtimeMinutes'].fillna(0, inplace=True)\n",
    "test[\"numVotes\"].fillna(0, inplace=True)\n",
    "test = test.astype(int)\n",
    "test"
   ],
   "metadata": {
    "collapsed": false
   }
  },
  {
   "cell_type": "code",
   "execution_count": 43,
   "outputs": [
    {
     "data": {
      "text/plain": "array([1, 1, 1, ..., 1, 0, 1])"
     },
     "execution_count": 43,
     "metadata": {},
     "output_type": "execute_result"
    }
   ],
   "source": [
    "test_results = clf.predict(test)\n",
    "test_results\n"
   ],
   "metadata": {
    "collapsed": false
   }
  },
  {
   "cell_type": "code",
   "execution_count": 44,
   "outputs": [],
   "source": [
    "pd.DataFrame(test_results)[0].map({1: \"True\", 0: \"False\"}).to_csv(\"test_results.csv\", index=False,\n",
    "                                                                      header=False)"
   ],
   "metadata": {
    "collapsed": false
   }
  },
  {
   "cell_type": "code",
   "execution_count": null,
   "outputs": [],
   "source": [],
   "metadata": {
    "collapsed": false
   }
  }
 ],
 "metadata": {
  "kernelspec": {
   "display_name": "Python 3",
   "language": "python",
   "name": "python3"
  },
  "language_info": {
   "codemirror_mode": {
    "name": "ipython",
    "version": 2
   },
   "file_extension": ".py",
   "mimetype": "text/x-python",
   "name": "python",
   "nbconvert_exporter": "python",
   "pygments_lexer": "ipython2",
   "version": "2.7.6"
  }
 },
 "nbformat": 4,
 "nbformat_minor": 0
}

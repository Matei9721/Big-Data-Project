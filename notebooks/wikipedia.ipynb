{
 "cells": [
  {
   "cell_type": "code",
   "execution_count": 1,
   "metadata": {
    "collapsed": true,
    "pycharm": {
     "name": "#%%\n"
    }
   },
   "outputs": [],
   "source": [
    "import pandas as pd\n",
    "from unidecode import unidecode\n",
    "from pyspark.sql import SparkSession\n",
    "from pyspark.sql.functions import regexp_replace, col, lit, lower"
   ]
  },
  {
   "cell_type": "code",
   "execution_count": 2,
   "outputs": [
    {
     "name": "stdout",
     "output_type": "stream",
     "text": [
      "23/03/18 14:00:57 WARN Utils: Your hostname, MacBook-Air-di-Emanuele.local resolves to a loopback address: 127.0.0.1; using 10.0.0.197 instead (on interface en0)\n",
      "23/03/18 14:00:57 WARN Utils: Set SPARK_LOCAL_IP if you need to bind to another address\n"
     ]
    },
    {
     "name": "stderr",
     "output_type": "stream",
     "text": [
      "Setting default log level to \"WARN\".\n",
      "To adjust logging level use sc.setLogLevel(newLevel). For SparkR, use setLogLevel(newLevel).\n"
     ]
    },
    {
     "name": "stdout",
     "output_type": "stream",
     "text": [
      "23/03/18 14:00:58 WARN NativeCodeLoader: Unable to load native-hadoop library for your platform... using builtin-java classes where applicable\n",
      "23/03/18 14:00:59 WARN Utils: Service 'SparkUI' could not bind on port 4040. Attempting port 4041.\n"
     ]
    }
   ],
   "source": [
    "spark = SparkSession.builder.appName('MyApp').getOrCreate()"
   ],
   "metadata": {
    "collapsed": false,
    "pycharm": {
     "name": "#%%\n"
    }
   }
  },
  {
   "cell_type": "code",
   "execution_count": 3,
   "outputs": [
    {
     "ename": "AnalysisException",
     "evalue": "Path does not exist: file:/Users/manu/PycharmProjects/Big-Data-Project/datasets/wiki_movie_plots_deduped.csv",
     "output_type": "error",
     "traceback": [
      "\u001B[0;31m---------------------------------------------------------------------------\u001B[0m",
      "\u001B[0;31mAnalysisException\u001B[0m                         Traceback (most recent call last)",
      "Input \u001B[0;32mIn [3]\u001B[0m, in \u001B[0;36m<cell line: 3>\u001B[0;34m()\u001B[0m\n\u001B[1;32m      1\u001B[0m \u001B[38;5;66;03m#wiki = pd.read_csv(\"../datasets/wiki_movie_plots_deduped.csv\")\u001B[39;00m\n\u001B[0;32m----> 3\u001B[0m wiki \u001B[38;5;241m=\u001B[39m \u001B[43mspark\u001B[49m\u001B[38;5;241;43m.\u001B[39;49m\u001B[43mread\u001B[49m\u001B[38;5;241;43m.\u001B[39;49m\u001B[43moption\u001B[49m\u001B[43m(\u001B[49m\u001B[38;5;124;43m\"\u001B[39;49m\u001B[38;5;124;43mescape\u001B[39;49m\u001B[38;5;124;43m\"\u001B[39;49m\u001B[43m,\u001B[49m\u001B[43m \u001B[49m\u001B[38;5;124;43m\"\u001B[39;49m\u001B[38;5;130;43;01m\\\"\u001B[39;49;00m\u001B[38;5;124;43m\"\u001B[39;49m\u001B[43m)\u001B[49m\u001B[38;5;241;43m.\u001B[39;49m\u001B[43mcsv\u001B[49m\u001B[43m(\u001B[49m\u001B[38;5;124;43m'\u001B[39;49m\u001B[38;5;124;43m../datasets/wiki_movie_plots_deduped.csv\u001B[39;49m\u001B[38;5;124;43m'\u001B[39;49m\u001B[43m,\u001B[49m\u001B[43mheader\u001B[49m\u001B[38;5;241;43m=\u001B[39;49m\u001B[38;5;28;43;01mTrue\u001B[39;49;00m\u001B[43m,\u001B[49m\u001B[43m \u001B[49m\u001B[43minferSchema\u001B[49m\u001B[38;5;241;43m=\u001B[39;49m\u001B[38;5;28;43;01mTrue\u001B[39;49;00m\u001B[43m)\u001B[49m\n\u001B[1;32m      4\u001B[0m wiki\n",
      "File \u001B[0;32m~/opt/anaconda3/lib/python3.9/site-packages/pyspark/sql/readwriter.py:535\u001B[0m, in \u001B[0;36mDataFrameReader.csv\u001B[0;34m(self, path, schema, sep, encoding, quote, escape, comment, header, inferSchema, ignoreLeadingWhiteSpace, ignoreTrailingWhiteSpace, nullValue, nanValue, positiveInf, negativeInf, dateFormat, timestampFormat, maxColumns, maxCharsPerColumn, maxMalformedLogPerPartition, mode, columnNameOfCorruptRecord, multiLine, charToEscapeQuoteEscaping, samplingRatio, enforceSchema, emptyValue, locale, lineSep, pathGlobFilter, recursiveFileLookup, modifiedBefore, modifiedAfter, unescapedQuoteHandling)\u001B[0m\n\u001B[1;32m    533\u001B[0m \u001B[38;5;28;01mif\u001B[39;00m \u001B[38;5;28mtype\u001B[39m(path) \u001B[38;5;241m==\u001B[39m \u001B[38;5;28mlist\u001B[39m:\n\u001B[1;32m    534\u001B[0m     \u001B[38;5;28;01massert\u001B[39;00m \u001B[38;5;28mself\u001B[39m\u001B[38;5;241m.\u001B[39m_spark\u001B[38;5;241m.\u001B[39m_sc\u001B[38;5;241m.\u001B[39m_jvm \u001B[38;5;129;01mis\u001B[39;00m \u001B[38;5;129;01mnot\u001B[39;00m \u001B[38;5;28;01mNone\u001B[39;00m\n\u001B[0;32m--> 535\u001B[0m     \u001B[38;5;28;01mreturn\u001B[39;00m \u001B[38;5;28mself\u001B[39m\u001B[38;5;241m.\u001B[39m_df(\u001B[38;5;28;43mself\u001B[39;49m\u001B[38;5;241;43m.\u001B[39;49m\u001B[43m_jreader\u001B[49m\u001B[38;5;241;43m.\u001B[39;49m\u001B[43mcsv\u001B[49m\u001B[43m(\u001B[49m\u001B[38;5;28;43mself\u001B[39;49m\u001B[38;5;241;43m.\u001B[39;49m\u001B[43m_spark\u001B[49m\u001B[38;5;241;43m.\u001B[39;49m\u001B[43m_sc\u001B[49m\u001B[38;5;241;43m.\u001B[39;49m\u001B[43m_jvm\u001B[49m\u001B[38;5;241;43m.\u001B[39;49m\u001B[43mPythonUtils\u001B[49m\u001B[38;5;241;43m.\u001B[39;49m\u001B[43mtoSeq\u001B[49m\u001B[43m(\u001B[49m\u001B[43mpath\u001B[49m\u001B[43m)\u001B[49m\u001B[43m)\u001B[49m)\n\u001B[1;32m    536\u001B[0m \u001B[38;5;28;01melif\u001B[39;00m \u001B[38;5;28misinstance\u001B[39m(path, RDD):\n\u001B[1;32m    538\u001B[0m     \u001B[38;5;28;01mdef\u001B[39;00m \u001B[38;5;21mfunc\u001B[39m(iterator):\n",
      "File \u001B[0;32m~/opt/anaconda3/lib/python3.9/site-packages/py4j/java_gateway.py:1321\u001B[0m, in \u001B[0;36mJavaMember.__call__\u001B[0;34m(self, *args)\u001B[0m\n\u001B[1;32m   1315\u001B[0m command \u001B[38;5;241m=\u001B[39m proto\u001B[38;5;241m.\u001B[39mCALL_COMMAND_NAME \u001B[38;5;241m+\u001B[39m\\\n\u001B[1;32m   1316\u001B[0m     \u001B[38;5;28mself\u001B[39m\u001B[38;5;241m.\u001B[39mcommand_header \u001B[38;5;241m+\u001B[39m\\\n\u001B[1;32m   1317\u001B[0m     args_command \u001B[38;5;241m+\u001B[39m\\\n\u001B[1;32m   1318\u001B[0m     proto\u001B[38;5;241m.\u001B[39mEND_COMMAND_PART\n\u001B[1;32m   1320\u001B[0m answer \u001B[38;5;241m=\u001B[39m \u001B[38;5;28mself\u001B[39m\u001B[38;5;241m.\u001B[39mgateway_client\u001B[38;5;241m.\u001B[39msend_command(command)\n\u001B[0;32m-> 1321\u001B[0m return_value \u001B[38;5;241m=\u001B[39m \u001B[43mget_return_value\u001B[49m\u001B[43m(\u001B[49m\n\u001B[1;32m   1322\u001B[0m \u001B[43m    \u001B[49m\u001B[43manswer\u001B[49m\u001B[43m,\u001B[49m\u001B[43m \u001B[49m\u001B[38;5;28;43mself\u001B[39;49m\u001B[38;5;241;43m.\u001B[39;49m\u001B[43mgateway_client\u001B[49m\u001B[43m,\u001B[49m\u001B[43m \u001B[49m\u001B[38;5;28;43mself\u001B[39;49m\u001B[38;5;241;43m.\u001B[39;49m\u001B[43mtarget_id\u001B[49m\u001B[43m,\u001B[49m\u001B[43m \u001B[49m\u001B[38;5;28;43mself\u001B[39;49m\u001B[38;5;241;43m.\u001B[39;49m\u001B[43mname\u001B[49m\u001B[43m)\u001B[49m\n\u001B[1;32m   1324\u001B[0m \u001B[38;5;28;01mfor\u001B[39;00m temp_arg \u001B[38;5;129;01min\u001B[39;00m temp_args:\n\u001B[1;32m   1325\u001B[0m     temp_arg\u001B[38;5;241m.\u001B[39m_detach()\n",
      "File \u001B[0;32m~/opt/anaconda3/lib/python3.9/site-packages/pyspark/sql/utils.py:196\u001B[0m, in \u001B[0;36mcapture_sql_exception.<locals>.deco\u001B[0;34m(*a, **kw)\u001B[0m\n\u001B[1;32m    192\u001B[0m converted \u001B[38;5;241m=\u001B[39m convert_exception(e\u001B[38;5;241m.\u001B[39mjava_exception)\n\u001B[1;32m    193\u001B[0m \u001B[38;5;28;01mif\u001B[39;00m \u001B[38;5;129;01mnot\u001B[39;00m \u001B[38;5;28misinstance\u001B[39m(converted, UnknownException):\n\u001B[1;32m    194\u001B[0m     \u001B[38;5;66;03m# Hide where the exception came from that shows a non-Pythonic\u001B[39;00m\n\u001B[1;32m    195\u001B[0m     \u001B[38;5;66;03m# JVM exception message.\u001B[39;00m\n\u001B[0;32m--> 196\u001B[0m     \u001B[38;5;28;01mraise\u001B[39;00m converted \u001B[38;5;28;01mfrom\u001B[39;00m \u001B[38;5;28mNone\u001B[39m\n\u001B[1;32m    197\u001B[0m \u001B[38;5;28;01melse\u001B[39;00m:\n\u001B[1;32m    198\u001B[0m     \u001B[38;5;28;01mraise\u001B[39;00m\n",
      "\u001B[0;31mAnalysisException\u001B[0m: Path does not exist: file:/Users/manu/PycharmProjects/Big-Data-Project/datasets/wiki_movie_plots_deduped.csv"
     ]
    }
   ],
   "source": [
    "#wiki = pd.read_csv(\"../datasets/wiki_movie_plots_deduped.csv\")\n",
    "\n",
    "wiki = spark.read.option(\"escape\", \"\\\"\").csv('../datasets/wiki_movie_plots_deduped.csv',header=True, inferSchema=True)\n",
    "wiki"
   ],
   "metadata": {
    "collapsed": false,
    "pycharm": {
     "name": "#%%\n"
    }
   }
  },
  {
   "cell_type": "code",
   "execution_count": 3,
   "outputs": [
    {
     "data": {
      "text/plain": "       _c0     tconst                                   primaryTitle  \\\n0        4  tt0010600                                       The Doll   \n1        7  tt0011841                                  Way Down East   \n2        9  tt0012494                                        Déstiny   \n3       25  tt0015163                                  The Navigator   \n4       38  tt0016220                       The Phantom of the Opera   \n...    ...        ...                                            ...   \n7954  9966  tt9625664                                  Trauma Center   \n7955  9981  tt9741310                                          Slaxx   \n7956  9982  tt9742392                                        Kindred   \n7957  9996  tt9850386  The Bee Gees: How Can You Mend a Broken Heart   \n7958  9999  tt9911196                            The Marriage Escape   \n\n                       originalTitle  startYear endYear runtimeMinutes  \\\n0                          Die Puppe       1919      \\N             66   \n1                      Way Down East       1920      \\N            145   \n2                       Der müde Tod       1921      \\N             97   \n3                      The Navigator       1924      \\N             59   \n4           The Phantom of the Opera       1925      \\N             93   \n...                              ...        ...     ...            ...   \n7954                             NaN       2019      \\N             87   \n7955                           Slaxx       2020      \\N             77   \n7956                         Kindred       2020      \\N            101   \n7957                             NaN       2020      \\N            111   \n7958  De beentjes van Sint-Hildegard       2020      \\N            103   \n\n      numVotes  label                                               plot  \\\n0       1898.0   True    The Doll is a 1919 silent film directed by E...   \n1       5376.0   True    The Way Down East is a 1920 silent film dire...   \n2       5842.0   True    Destiny is a 1921 German silent fantasy film...   \n3       9652.0   True    The Navigator is a 1924 silent comedy film s...   \n4      17887.0   True    The Phantom of the Opera is a 1925 silent ho...   \n...        ...    ...                                                ...   \n7954   12951.0  False    The Trauma Center is a 2019 drama film direc...   \n7955    2464.0  False    Slaxx is a 2020 horror-comedy about a posses...   \n7956    1719.0  False    The Kindred is a 2020 science fiction horror...   \n7957    4144.0   True    The Bee Gees: How Can You Mend a Broken Hear...   \n7958    3242.0   True    The Marriage Escape is a 2020 romantic comed...   \n\n      awards  \n0          0  \n1          1  \n2          0  \n3          0  \n4          0  \n...      ...  \n7954       0  \n7955       0  \n7956       0  \n7957       0  \n7958       0  \n\n[7959 rows x 11 columns]",
      "text/html": "<div>\n<style scoped>\n    .dataframe tbody tr th:only-of-type {\n        vertical-align: middle;\n    }\n\n    .dataframe tbody tr th {\n        vertical-align: top;\n    }\n\n    .dataframe thead th {\n        text-align: right;\n    }\n</style>\n<table border=\"1\" class=\"dataframe\">\n  <thead>\n    <tr style=\"text-align: right;\">\n      <th></th>\n      <th>_c0</th>\n      <th>tconst</th>\n      <th>primaryTitle</th>\n      <th>originalTitle</th>\n      <th>startYear</th>\n      <th>endYear</th>\n      <th>runtimeMinutes</th>\n      <th>numVotes</th>\n      <th>label</th>\n      <th>plot</th>\n      <th>awards</th>\n    </tr>\n  </thead>\n  <tbody>\n    <tr>\n      <th>0</th>\n      <td>4</td>\n      <td>tt0010600</td>\n      <td>The Doll</td>\n      <td>Die Puppe</td>\n      <td>1919</td>\n      <td>\\N</td>\n      <td>66</td>\n      <td>1898.0</td>\n      <td>True</td>\n      <td>The Doll is a 1919 silent film directed by E...</td>\n      <td>0</td>\n    </tr>\n    <tr>\n      <th>1</th>\n      <td>7</td>\n      <td>tt0011841</td>\n      <td>Way Down East</td>\n      <td>Way Down East</td>\n      <td>1920</td>\n      <td>\\N</td>\n      <td>145</td>\n      <td>5376.0</td>\n      <td>True</td>\n      <td>The Way Down East is a 1920 silent film dire...</td>\n      <td>1</td>\n    </tr>\n    <tr>\n      <th>2</th>\n      <td>9</td>\n      <td>tt0012494</td>\n      <td>Déstiny</td>\n      <td>Der müde Tod</td>\n      <td>1921</td>\n      <td>\\N</td>\n      <td>97</td>\n      <td>5842.0</td>\n      <td>True</td>\n      <td>Destiny is a 1921 German silent fantasy film...</td>\n      <td>0</td>\n    </tr>\n    <tr>\n      <th>3</th>\n      <td>25</td>\n      <td>tt0015163</td>\n      <td>The Navigator</td>\n      <td>The Navigator</td>\n      <td>1924</td>\n      <td>\\N</td>\n      <td>59</td>\n      <td>9652.0</td>\n      <td>True</td>\n      <td>The Navigator is a 1924 silent comedy film s...</td>\n      <td>0</td>\n    </tr>\n    <tr>\n      <th>4</th>\n      <td>38</td>\n      <td>tt0016220</td>\n      <td>The Phantom of the Opera</td>\n      <td>The Phantom of the Opera</td>\n      <td>1925</td>\n      <td>\\N</td>\n      <td>93</td>\n      <td>17887.0</td>\n      <td>True</td>\n      <td>The Phantom of the Opera is a 1925 silent ho...</td>\n      <td>0</td>\n    </tr>\n    <tr>\n      <th>...</th>\n      <td>...</td>\n      <td>...</td>\n      <td>...</td>\n      <td>...</td>\n      <td>...</td>\n      <td>...</td>\n      <td>...</td>\n      <td>...</td>\n      <td>...</td>\n      <td>...</td>\n      <td>...</td>\n    </tr>\n    <tr>\n      <th>7954</th>\n      <td>9966</td>\n      <td>tt9625664</td>\n      <td>Trauma Center</td>\n      <td>NaN</td>\n      <td>2019</td>\n      <td>\\N</td>\n      <td>87</td>\n      <td>12951.0</td>\n      <td>False</td>\n      <td>The Trauma Center is a 2019 drama film direc...</td>\n      <td>0</td>\n    </tr>\n    <tr>\n      <th>7955</th>\n      <td>9981</td>\n      <td>tt9741310</td>\n      <td>Slaxx</td>\n      <td>Slaxx</td>\n      <td>2020</td>\n      <td>\\N</td>\n      <td>77</td>\n      <td>2464.0</td>\n      <td>False</td>\n      <td>Slaxx is a 2020 horror-comedy about a posses...</td>\n      <td>0</td>\n    </tr>\n    <tr>\n      <th>7956</th>\n      <td>9982</td>\n      <td>tt9742392</td>\n      <td>Kindred</td>\n      <td>Kindred</td>\n      <td>2020</td>\n      <td>\\N</td>\n      <td>101</td>\n      <td>1719.0</td>\n      <td>False</td>\n      <td>The Kindred is a 2020 science fiction horror...</td>\n      <td>0</td>\n    </tr>\n    <tr>\n      <th>7957</th>\n      <td>9996</td>\n      <td>tt9850386</td>\n      <td>The Bee Gees: How Can You Mend a Broken Heart</td>\n      <td>NaN</td>\n      <td>2020</td>\n      <td>\\N</td>\n      <td>111</td>\n      <td>4144.0</td>\n      <td>True</td>\n      <td>The Bee Gees: How Can You Mend a Broken Hear...</td>\n      <td>0</td>\n    </tr>\n    <tr>\n      <th>7958</th>\n      <td>9999</td>\n      <td>tt9911196</td>\n      <td>The Marriage Escape</td>\n      <td>De beentjes van Sint-Hildegard</td>\n      <td>2020</td>\n      <td>\\N</td>\n      <td>103</td>\n      <td>3242.0</td>\n      <td>True</td>\n      <td>The Marriage Escape is a 2020 romantic comed...</td>\n      <td>0</td>\n    </tr>\n  </tbody>\n</table>\n<p>7959 rows × 11 columns</p>\n</div>"
     },
     "execution_count": 3,
     "metadata": {},
     "output_type": "execute_result"
    }
   ],
   "source": [
    "#train = pd.read_csv(\"../datasets/gpt_data/train_plot_awards.csv\", sep=',')\n",
    "train = spark.read.option(\"escape\", \"\\\"\").csv(\"../../datasets/gpt_data/train_plot_awards.csv\", sep=\",\", header=True, inferSchema=True)\n",
    "train"
   ],
   "metadata": {
    "collapsed": false,
    "pycharm": {
     "name": "#%%\n"
    }
   }
  },
  {
   "cell_type": "code",
   "execution_count": 4,
   "outputs": [],
   "source": [
    "#train[\"startYear\"].replace(r\"\\N\", None, inplace=True)\n",
    "#train[\"startYear\"].fillna(train['endYear'], inplace=True)\n",
    "#train[\"startYear\"] = train[\"startYear\"].astype(int)\n",
    "\n",
    "train = train.withColumn(\"startYear\", regexp_replace(col(\"startYear\"), r\"\\\\N\", str(None)))\n",
    "train = train.fillna({'startYear': 'endYear'}, subset=['startYear'])\n",
    "#train = train.select(\"startYear\").fillna(train.select(\"endYear\"))\n",
    "train = train.withColumn(\"startYear\", col(\"startYear\").cast(\"int\"))"
   ],
   "metadata": {
    "collapsed": false,
    "pycharm": {
     "name": "#%%\n"
    }
   }
  },
  {
   "cell_type": "code",
   "execution_count": 5,
   "outputs": [],
   "source": [
    "#train[\"primaryTitle\"] = train[\"primaryTitle\"].str.lower()\n",
    "#train['primaryTitle'] = train['primaryTitle'].apply(unidecode)\n",
    "\n",
    "train = train.withColumn(\"primaryTitle\", lower(col(\"primaryTitle\")))\n",
    "train = train.withColumn(\"primaryTitle\", unidecode(train[\"primaryTitle\"]))"
   ],
   "metadata": {
    "collapsed": false,
    "pycharm": {
     "name": "#%%\n"
    }
   }
  },
  {
   "cell_type": "code",
   "execution_count": 3,
   "outputs": [],
   "source": [
    "#wiki[\"Title\"] = wiki[\"Title\"].str.lower()\n",
    "#wiki.rename({\"Title\": \"primaryTitle\"}, axis=1, inplace=True)\n",
    "#wiki.rename({\"Release Year\": \"startYear\"}, axis=1, inplace=True)\n",
    "#wiki['primaryTitle'] = wiki['primaryTitle'].apply(unidecode)\n",
    "\n",
    "wiki = wiki.withColumn(\"title\", lower(col(\"Title\")))\n",
    "wiki.withColumnRenamed(\"primaryTitle\", \"Title\")\n",
    "wiki.withColumnRenamed(\"startYear\", \"Release Year\")\n",
    "wiki = wiki.withColumn(\"primaryTitle\", unidecode(wiki[\"primaryTitle\"]))"
   ],
   "metadata": {
    "collapsed": false,
    "pycharm": {
     "name": "#%%\n"
    }
   }
  },
  {
   "cell_type": "code",
   "execution_count": null,
   "outputs": [],
   "source": [
    "# remove rows where the 'name' column is a duplicate\n",
    "#wiki = wiki.drop_duplicates(subset=['primaryTitle'], keep='last')\n",
    "\n",
    "wiki = wiki.dropDuplicates(subset=[\"primaryTitle\"])"
   ],
   "metadata": {
    "collapsed": false,
    "pycharm": {
     "name": "#%%\n"
    }
   }
  },
  {
   "cell_type": "code",
   "execution_count": null,
   "outputs": [],
   "source": [
    "# find the duplicate rows based on all columns\n",
    "wiki[wiki[\"primaryTitle\"] == \"interstellar\"]"
   ],
   "metadata": {
    "collapsed": false,
    "pycharm": {
     "name": "#%%\n"
    }
   }
  },
  {
   "cell_type": "code",
   "execution_count": null,
   "outputs": [],
   "source": [
    "pd.merge(train, wiki[[\"primaryTitle\", \"Genre\", \"startYear\"]],on=[\"primaryTitle\", \"startYear\"], how=\"left\")"
   ],
   "metadata": {
    "collapsed": false,
    "pycharm": {
     "name": "#%%\n"
    }
   }
  },
  {
   "cell_type": "code",
   "execution_count": null,
   "outputs": [],
   "source": [
    "#final_train = pd.merge(train, wiki[[\"primaryTitle\", \"Genre\", \"startYear\"]],on=[\"primaryTitle\", \"startYear\"], how=\"left\")\n",
    "\n",
    "final_train = train.merge(wiki.select('primaryTitle', 'Genre', 'startYear'), on=['primaryTitle', 'startYear'], how='left')\n",
    "final_train"
   ],
   "metadata": {
    "collapsed": false,
    "pycharm": {
     "name": "#%%\n"
    }
   }
  },
  {
   "cell_type": "code",
   "execution_count": null,
   "outputs": [],
   "source": [
    "#final_train.to_csv(\"../datasets/gpt_data/train_plots_awards_genre_no_duplicates.csv\", index=False)\n",
    "\n",
    "final_train.toPandas().to_csv('../datasets/gpt_data/train_plots_awards_genre_no_duplicates.csv', index=False)"
   ],
   "metadata": {
    "collapsed": false,
    "pycharm": {
     "name": "#%%\n"
    }
   }
  },
  {
   "cell_type": "markdown",
   "source": [
    "### Validation"
   ],
   "metadata": {
    "collapsed": false,
    "pycharm": {
     "name": "#%% md\n"
    }
   }
  },
  {
   "cell_type": "code",
   "execution_count": 1,
   "outputs": [
    {
     "ename": "NameError",
     "evalue": "name 'spark' is not defined",
     "output_type": "error",
     "traceback": [
      "\u001B[0;31m---------------------------------------------------------------------------\u001B[0m",
      "\u001B[0;31mNameError\u001B[0m                                 Traceback (most recent call last)",
      "Input \u001B[0;32mIn [1]\u001B[0m, in \u001B[0;36m<cell line: 3>\u001B[0;34m()\u001B[0m\n\u001B[1;32m      1\u001B[0m \u001B[38;5;66;03m# validation = pd.read_csv(\"../datasets/gpt_data/validation_plots_awards.csv\", sep=',')\u001B[39;00m\n\u001B[0;32m----> 3\u001B[0m validation \u001B[38;5;241m=\u001B[39m \u001B[43mspark\u001B[49m\u001B[38;5;241m.\u001B[39mread\u001B[38;5;241m.\u001B[39moption(\u001B[38;5;124m\"\u001B[39m\u001B[38;5;124mescape\u001B[39m\u001B[38;5;124m\"\u001B[39m, \u001B[38;5;124m\"\u001B[39m\u001B[38;5;130;01m\\\"\u001B[39;00m\u001B[38;5;124m\"\u001B[39m)\u001B[38;5;241m.\u001B[39mcsv(\u001B[38;5;124m\"\u001B[39m\u001B[38;5;124m../datasets/gpt_data/validation_plots_awards.csv\u001B[39m\u001B[38;5;124m\"\u001B[39m, sep\u001B[38;5;241m=\u001B[39m\u001B[38;5;124m\"\u001B[39m\u001B[38;5;124m,\u001B[39m\u001B[38;5;124m\"\u001B[39m, header\u001B[38;5;241m=\u001B[39m\u001B[38;5;28;01mTrue\u001B[39;00m, inferSchema\u001B[38;5;241m=\u001B[39m\u001B[38;5;28;01mTrue\u001B[39;00m)\n\u001B[1;32m      4\u001B[0m validation\n",
      "\u001B[0;31mNameError\u001B[0m: name 'spark' is not defined"
     ]
    }
   ],
   "source": [
    "# validation = pd.read_csv(\"../datasets/gpt_data/validation_plots_awards.csv\", sep=',')\n",
    "\n",
    "validation = spark.read.option(\"escape\", \"\\\"\").csv(\"../datasets/gpt_data/validation_plots_awards.csv\", sep=\",\", header=True, inferSchema=True)\n",
    "validation"
   ],
   "metadata": {
    "collapsed": false,
    "pycharm": {
     "name": "#%%\n"
    }
   }
  },
  {
   "cell_type": "code",
   "execution_count": null,
   "outputs": [],
   "source": [
    "#validation[\"startYear\"].replace(r\"\\N\", None, inplace=True)\n",
    "#validation[\"startYear\"].fillna(validation['endYear'], inplace=True)\n",
    "#validation[\"startYear\"] = validation[\"startYear\"].astype(int)\n",
    "\n",
    "validation = validation.withColumn(\"startYear\", regexp_replace(col(\"startYear\"), r\"\\\\N\", str(None)))\n",
    "validation = validation.fillna({'startYear': 'endYear'}, subset=['startYear'])\n",
    "#validation = validation.select(\"startYear\").fillna(validation.select(\"endYear\"))\n",
    "validation = validation.withColumn(\"startYear\", col(\"startYear\").cast(\"int\"))"
   ],
   "metadata": {
    "collapsed": false,
    "pycharm": {
     "name": "#%%\n"
    }
   }
  },
  {
   "cell_type": "code",
   "execution_count": null,
   "outputs": [],
   "source": [
    "#validation[\"primaryTitle\"] = validation[\"primaryTitle\"].str.lower()\n",
    "#validation['primaryTitle'] = validation['primaryTitle'].apply(unidecode)\n",
    "\n",
    "validation = validation.withColumn(\"primaryTitle\", lower(col(\"primaryTitle\")))\n",
    "validation = validation.withColumn(\"primaryTitle\", unidecode(validation[\"primaryTitle\"]))"
   ],
   "metadata": {
    "collapsed": false,
    "pycharm": {
     "name": "#%%\n"
    }
   }
  },
  {
   "cell_type": "code",
   "execution_count": null,
   "outputs": [],
   "source": [
    "pd.merge(validation, wiki[[\"primaryTitle\", \"Genre\", \"startYear\"]],on=[\"primaryTitle\", \"startYear\"], how=\"left\")"
   ],
   "metadata": {
    "collapsed": false,
    "pycharm": {
     "name": "#%%\n"
    }
   }
  },
  {
   "cell_type": "code",
   "execution_count": null,
   "outputs": [],
   "source": [
    "#validation_final = pd.merge(validation, wiki[[\"primaryTitle\", \"Genre\", \"startYear\"]],on=[\"primaryTitle\", \"startYear\"], how=\"left\")\n",
    "\n",
    "validation_final = validation.merge(wiki.select('primaryTitle', 'Genre', 'startYear', on=['primaryTitle', 'startYear'], how='left'))\n",
    "validation_final"
   ],
   "metadata": {
    "collapsed": false,
    "pycharm": {
     "name": "#%%\n"
    }
   }
  },
  {
   "cell_type": "code",
   "execution_count": null,
   "outputs": [],
   "source": [
    "#validation_final.to_csv(\"../datasets/gpt_data/validation_plots_awards_genre_no_duplicates.csv\", index=False)\n",
    "\n",
    "validation.toPandas().to_csv(\"../datasets/gpt_data/validation_plots_awards_genre_no_duplicates.csv\", index=False)"
   ],
   "metadata": {
    "collapsed": false,
    "pycharm": {
     "name": "#%%\n"
    }
   }
  },
  {
   "cell_type": "markdown",
   "source": [
    "### Test data"
   ],
   "metadata": {
    "collapsed": false,
    "pycharm": {
     "name": "#%% md\n"
    }
   }
  },
  {
   "cell_type": "code",
   "execution_count": null,
   "outputs": [],
   "source": [
    "# test = pd.read_csv(\"../datasets/gpt_data/test_plots_awards.csv\")\n",
    "test = spark.read.option(\"escape\", \"\\\"\").csv(\"../datasets/gpt_data/test_plots_awards.csv\",\n",
    "                                             sep=\",\", header=True, inferSchema=True)"
   ],
   "metadata": {
    "collapsed": false,
    "pycharm": {
     "name": "#%%\n"
    }
   }
  },
  {
   "cell_type": "code",
   "execution_count": null,
   "outputs": [],
   "source": [
    "#test[\"startYear\"].replace(r\"\\N\", None, inplace=True)\n",
    "#test[\"startYear\"].fillna(test['endYear'], inplace=True)\n",
    "#test[\"startYear\"] = test[\"startYear\"].astype(int)\n",
    "#test[\"primaryTitle\"] = test[\"primaryTitle\"].str.lower()\n",
    "#test['primaryTitle'] = test['primaryTitle'].apply(unidecode)\n",
    "\n",
    "test = test.withColumn(\"startYear\", regexp_replace(col(\"startYear\"), r\"\\\\N\", str(None)))\n",
    "test = test.fillna({'startYear': 'endYear'}, subset=['startYear'])\n",
    "#test = test.select(\"startYear\").fillna(test.select(\"endYear\"))\n",
    "test = test.withColumn(\"startYear\", col(\"startYear\").cast(\"int\"))\n",
    "test = test.withColumn(\"primaryTitle\", lower(col(\"primaryTitle\")))\n",
    "test = test.withColumn(\"primaryTitle\", unidecode(test[\"primaryTitle\"]))"
   ],
   "metadata": {
    "collapsed": false,
    "pycharm": {
     "name": "#%%\n"
    }
   }
  },
  {
   "cell_type": "code",
   "execution_count": null,
   "outputs": [],
   "source": [
    "test"
   ],
   "metadata": {
    "collapsed": false,
    "pycharm": {
     "name": "#%%\n"
    }
   }
  },
  {
   "cell_type": "code",
   "execution_count": null,
   "outputs": [],
   "source": [
    "pd.merge(test, wiki[[\"primaryTitle\", \"Genre\", \"startYear\"]],on=[\"primaryTitle\", \"startYear\"], how=\"left\")"
   ],
   "metadata": {
    "collapsed": false,
    "pycharm": {
     "name": "#%%\n"
    }
   }
  },
  {
   "cell_type": "code",
   "execution_count": null,
   "outputs": [],
   "source": [
    "#test_final = pd.merge(test, wiki[[\"primaryTitle\", \"Genre\", \"startYear\"]],on=[\"primaryTitle\", \"startYear\"], how=\"left\")\n",
    "\n",
    "test_final = test.merge(wiki.select('primaryTitle', 'Genre', 'startYear'), on=['primaryTitle', 'startYear'], how='left')\n",
    "test_final"
   ],
   "metadata": {
    "collapsed": false,
    "pycharm": {
     "name": "#%%\n"
    }
   }
  },
  {
   "cell_type": "code",
   "execution_count": null,
   "outputs": [],
   "source": [
    "#test_final.to_csv(\"../datasets/gpt_data/test_plots_awards_genre_no_duplicates.csv\", index=False)\n",
    "\n",
    "test_final.toPandas().to_csv('../datasets/gpt_data/test_plots_awards_genre_no_duplicates.csv', index=False)"
   ],
   "metadata": {
    "collapsed": false,
    "pycharm": {
     "name": "#%%\n"
    }
   }
  },
  {
   "cell_type": "code",
   "execution_count": 9,
   "outputs": [
    {
     "data": {
      "text/plain": "      Unnamed: 0     tconst                         primaryTitle  \\\n0             22  tt0014972                  he who gets slapped   \n1             23  tt0015016                       the iron horse   \n2             26  tt0015174  die nibelungen: kriemhild's revenge   \n3             28  tt0015214                              at 3:25   \n4             34  tt0015863                              go west   \n...          ...        ...                                  ...   \n1081        9942  tt9430698                  one piece: stampede   \n1082        9943  tt9441638                         the big ugly   \n1083        9948  tt9495690                           pagalpanti   \n1084        9950  tt9519642                the wedding unplanner   \n1085        9951  tt9526826           android kunjappan ver 5.25   \n\n                       originalTitle  startYear endYear runtimeMinutes  \\\n0                He Who Gets Slapped       1924      \\N             95   \n1                                NaN       1924      \\N            150   \n2                                NaN       1924      \\N            129   \n3                                NaN       1925    1925             59   \n4                                NaN       1925      \\N             69   \n...                              ...        ...     ...            ...   \n1081                             NaN       2019      \\N            101   \n1082                             NaN       2020      \\N            106   \n1083                      Pagalpanti       2019      \\N            149   \n1084                             NaN       2020      \\N            110   \n1085  Android Kunjappan Version 5.25       2019      \\N            140   \n\n      numVotes                                               plot  awards  \\\n0       3654.0    He Who Gets Slapped is a 1924 silent film di...       0   \n1       2136.0    The Iron Horse is a 1924 American silent wes...       0   \n2       4341.0    The Die Nibelungen: Kriemhild's Revenge is a...       0   \n3       1724.0    At 3:25 is a drama film about a young woman ...       0   \n4       4188.0    Go West is a 1925 silent comedy film starrin...       0   \n...        ...                                                ...     ...   \n1081    5109.0    The Straw Hat Pirates are invited to the Pir...       0   \n1082    5780.0    The Big Ugly is a 2020 crime drama set in th...       0   \n1083    2331.0    The Págálpánti is a 2019 Indian drama film d...       0   \n1084       NaN    The Wedding Unplanner is a 2020 romantic com...       0   \n1085    5271.0    Android Kunjappan Ver 5.25 is a 2019 Malayal...       0   \n\n        Genre  \n0       drama  \n1     western  \n2         NaN  \n3         NaN  \n4         NaN  \n...       ...  \n1081      NaN  \n1082      NaN  \n1083      NaN  \n1084      NaN  \n1085      NaN  \n\n[1086 rows x 11 columns]",
      "text/html": "<div>\n<style scoped>\n    .dataframe tbody tr th:only-of-type {\n        vertical-align: middle;\n    }\n\n    .dataframe tbody tr th {\n        vertical-align: top;\n    }\n\n    .dataframe thead th {\n        text-align: right;\n    }\n</style>\n<table border=\"1\" class=\"dataframe\">\n  <thead>\n    <tr style=\"text-align: right;\">\n      <th></th>\n      <th>Unnamed: 0</th>\n      <th>tconst</th>\n      <th>primaryTitle</th>\n      <th>originalTitle</th>\n      <th>startYear</th>\n      <th>endYear</th>\n      <th>runtimeMinutes</th>\n      <th>numVotes</th>\n      <th>plot</th>\n      <th>awards</th>\n      <th>Genre</th>\n    </tr>\n  </thead>\n  <tbody>\n    <tr>\n      <th>0</th>\n      <td>22</td>\n      <td>tt0014972</td>\n      <td>he who gets slapped</td>\n      <td>He Who Gets Slapped</td>\n      <td>1924</td>\n      <td>\\N</td>\n      <td>95</td>\n      <td>3654.0</td>\n      <td>He Who Gets Slapped is a 1924 silent film di...</td>\n      <td>0</td>\n      <td>drama</td>\n    </tr>\n    <tr>\n      <th>1</th>\n      <td>23</td>\n      <td>tt0015016</td>\n      <td>the iron horse</td>\n      <td>NaN</td>\n      <td>1924</td>\n      <td>\\N</td>\n      <td>150</td>\n      <td>2136.0</td>\n      <td>The Iron Horse is a 1924 American silent wes...</td>\n      <td>0</td>\n      <td>western</td>\n    </tr>\n    <tr>\n      <th>2</th>\n      <td>26</td>\n      <td>tt0015174</td>\n      <td>die nibelungen: kriemhild's revenge</td>\n      <td>NaN</td>\n      <td>1924</td>\n      <td>\\N</td>\n      <td>129</td>\n      <td>4341.0</td>\n      <td>The Die Nibelungen: Kriemhild's Revenge is a...</td>\n      <td>0</td>\n      <td>NaN</td>\n    </tr>\n    <tr>\n      <th>3</th>\n      <td>28</td>\n      <td>tt0015214</td>\n      <td>at 3:25</td>\n      <td>NaN</td>\n      <td>1925</td>\n      <td>1925</td>\n      <td>59</td>\n      <td>1724.0</td>\n      <td>At 3:25 is a drama film about a young woman ...</td>\n      <td>0</td>\n      <td>NaN</td>\n    </tr>\n    <tr>\n      <th>4</th>\n      <td>34</td>\n      <td>tt0015863</td>\n      <td>go west</td>\n      <td>NaN</td>\n      <td>1925</td>\n      <td>\\N</td>\n      <td>69</td>\n      <td>4188.0</td>\n      <td>Go West is a 1925 silent comedy film starrin...</td>\n      <td>0</td>\n      <td>NaN</td>\n    </tr>\n    <tr>\n      <th>...</th>\n      <td>...</td>\n      <td>...</td>\n      <td>...</td>\n      <td>...</td>\n      <td>...</td>\n      <td>...</td>\n      <td>...</td>\n      <td>...</td>\n      <td>...</td>\n      <td>...</td>\n      <td>...</td>\n    </tr>\n    <tr>\n      <th>1081</th>\n      <td>9942</td>\n      <td>tt9430698</td>\n      <td>one piece: stampede</td>\n      <td>NaN</td>\n      <td>2019</td>\n      <td>\\N</td>\n      <td>101</td>\n      <td>5109.0</td>\n      <td>The Straw Hat Pirates are invited to the Pir...</td>\n      <td>0</td>\n      <td>NaN</td>\n    </tr>\n    <tr>\n      <th>1082</th>\n      <td>9943</td>\n      <td>tt9441638</td>\n      <td>the big ugly</td>\n      <td>NaN</td>\n      <td>2020</td>\n      <td>\\N</td>\n      <td>106</td>\n      <td>5780.0</td>\n      <td>The Big Ugly is a 2020 crime drama set in th...</td>\n      <td>0</td>\n      <td>NaN</td>\n    </tr>\n    <tr>\n      <th>1083</th>\n      <td>9948</td>\n      <td>tt9495690</td>\n      <td>pagalpanti</td>\n      <td>Pagalpanti</td>\n      <td>2019</td>\n      <td>\\N</td>\n      <td>149</td>\n      <td>2331.0</td>\n      <td>The Págálpánti is a 2019 Indian drama film d...</td>\n      <td>0</td>\n      <td>NaN</td>\n    </tr>\n    <tr>\n      <th>1084</th>\n      <td>9950</td>\n      <td>tt9519642</td>\n      <td>the wedding unplanner</td>\n      <td>NaN</td>\n      <td>2020</td>\n      <td>\\N</td>\n      <td>110</td>\n      <td>NaN</td>\n      <td>The Wedding Unplanner is a 2020 romantic com...</td>\n      <td>0</td>\n      <td>NaN</td>\n    </tr>\n    <tr>\n      <th>1085</th>\n      <td>9951</td>\n      <td>tt9526826</td>\n      <td>android kunjappan ver 5.25</td>\n      <td>Android Kunjappan Version 5.25</td>\n      <td>2019</td>\n      <td>\\N</td>\n      <td>140</td>\n      <td>5271.0</td>\n      <td>Android Kunjappan Ver 5.25 is a 2019 Malayal...</td>\n      <td>0</td>\n      <td>NaN</td>\n    </tr>\n  </tbody>\n</table>\n<p>1086 rows × 11 columns</p>\n</div>"
     },
     "execution_count": 9,
     "metadata": {},
     "output_type": "execute_result"
    }
   ],
   "source": [
    "pd.merge(test, wiki[[\"primaryTitle\", \"Genre\", \"startYear\"]],on=[\"primaryTitle\", \"startYear\"], how=\"left\")"
   ],
   "metadata": {
    "collapsed": false,
    "pycharm": {
     "name": "#%%\n"
    }
   }
  },
  {
   "cell_type": "code",
   "execution_count": 10,
   "outputs": [
    {
     "data": {
      "text/plain": "      Unnamed: 0     tconst                         primaryTitle  \\\n0             22  tt0014972                  he who gets slapped   \n1             23  tt0015016                       the iron horse   \n2             26  tt0015174  die nibelungen: kriemhild's revenge   \n3             28  tt0015214                              at 3:25   \n4             34  tt0015863                              go west   \n...          ...        ...                                  ...   \n1081        9942  tt9430698                  one piece: stampede   \n1082        9943  tt9441638                         the big ugly   \n1083        9948  tt9495690                           pagalpanti   \n1084        9950  tt9519642                the wedding unplanner   \n1085        9951  tt9526826           android kunjappan ver 5.25   \n\n                       originalTitle  startYear endYear runtimeMinutes  \\\n0                He Who Gets Slapped       1924      \\N             95   \n1                                NaN       1924      \\N            150   \n2                                NaN       1924      \\N            129   \n3                                NaN       1925    1925             59   \n4                                NaN       1925      \\N             69   \n...                              ...        ...     ...            ...   \n1081                             NaN       2019      \\N            101   \n1082                             NaN       2020      \\N            106   \n1083                      Pagalpanti       2019      \\N            149   \n1084                             NaN       2020      \\N            110   \n1085  Android Kunjappan Version 5.25       2019      \\N            140   \n\n      numVotes                                               plot  awards  \\\n0       3654.0    He Who Gets Slapped is a 1924 silent film di...       0   \n1       2136.0    The Iron Horse is a 1924 American silent wes...       0   \n2       4341.0    The Die Nibelungen: Kriemhild's Revenge is a...       0   \n3       1724.0    At 3:25 is a drama film about a young woman ...       0   \n4       4188.0    Go West is a 1925 silent comedy film starrin...       0   \n...        ...                                                ...     ...   \n1081    5109.0    The Straw Hat Pirates are invited to the Pir...       0   \n1082    5780.0    The Big Ugly is a 2020 crime drama set in th...       0   \n1083    2331.0    The Págálpánti is a 2019 Indian drama film d...       0   \n1084       NaN    The Wedding Unplanner is a 2020 romantic com...       0   \n1085    5271.0    Android Kunjappan Ver 5.25 is a 2019 Malayal...       0   \n\n        Genre  \n0       drama  \n1     western  \n2         NaN  \n3         NaN  \n4         NaN  \n...       ...  \n1081      NaN  \n1082      NaN  \n1083      NaN  \n1084      NaN  \n1085      NaN  \n\n[1086 rows x 11 columns]",
      "text/html": "<div>\n<style scoped>\n    .dataframe tbody tr th:only-of-type {\n        vertical-align: middle;\n    }\n\n    .dataframe tbody tr th {\n        vertical-align: top;\n    }\n\n    .dataframe thead th {\n        text-align: right;\n    }\n</style>\n<table border=\"1\" class=\"dataframe\">\n  <thead>\n    <tr style=\"text-align: right;\">\n      <th></th>\n      <th>Unnamed: 0</th>\n      <th>tconst</th>\n      <th>primaryTitle</th>\n      <th>originalTitle</th>\n      <th>startYear</th>\n      <th>endYear</th>\n      <th>runtimeMinutes</th>\n      <th>numVotes</th>\n      <th>plot</th>\n      <th>awards</th>\n      <th>Genre</th>\n    </tr>\n  </thead>\n  <tbody>\n    <tr>\n      <th>0</th>\n      <td>22</td>\n      <td>tt0014972</td>\n      <td>he who gets slapped</td>\n      <td>He Who Gets Slapped</td>\n      <td>1924</td>\n      <td>\\N</td>\n      <td>95</td>\n      <td>3654.0</td>\n      <td>He Who Gets Slapped is a 1924 silent film di...</td>\n      <td>0</td>\n      <td>drama</td>\n    </tr>\n    <tr>\n      <th>1</th>\n      <td>23</td>\n      <td>tt0015016</td>\n      <td>the iron horse</td>\n      <td>NaN</td>\n      <td>1924</td>\n      <td>\\N</td>\n      <td>150</td>\n      <td>2136.0</td>\n      <td>The Iron Horse is a 1924 American silent wes...</td>\n      <td>0</td>\n      <td>western</td>\n    </tr>\n    <tr>\n      <th>2</th>\n      <td>26</td>\n      <td>tt0015174</td>\n      <td>die nibelungen: kriemhild's revenge</td>\n      <td>NaN</td>\n      <td>1924</td>\n      <td>\\N</td>\n      <td>129</td>\n      <td>4341.0</td>\n      <td>The Die Nibelungen: Kriemhild's Revenge is a...</td>\n      <td>0</td>\n      <td>NaN</td>\n    </tr>\n    <tr>\n      <th>3</th>\n      <td>28</td>\n      <td>tt0015214</td>\n      <td>at 3:25</td>\n      <td>NaN</td>\n      <td>1925</td>\n      <td>1925</td>\n      <td>59</td>\n      <td>1724.0</td>\n      <td>At 3:25 is a drama film about a young woman ...</td>\n      <td>0</td>\n      <td>NaN</td>\n    </tr>\n    <tr>\n      <th>4</th>\n      <td>34</td>\n      <td>tt0015863</td>\n      <td>go west</td>\n      <td>NaN</td>\n      <td>1925</td>\n      <td>\\N</td>\n      <td>69</td>\n      <td>4188.0</td>\n      <td>Go West is a 1925 silent comedy film starrin...</td>\n      <td>0</td>\n      <td>NaN</td>\n    </tr>\n    <tr>\n      <th>...</th>\n      <td>...</td>\n      <td>...</td>\n      <td>...</td>\n      <td>...</td>\n      <td>...</td>\n      <td>...</td>\n      <td>...</td>\n      <td>...</td>\n      <td>...</td>\n      <td>...</td>\n      <td>...</td>\n    </tr>\n    <tr>\n      <th>1081</th>\n      <td>9942</td>\n      <td>tt9430698</td>\n      <td>one piece: stampede</td>\n      <td>NaN</td>\n      <td>2019</td>\n      <td>\\N</td>\n      <td>101</td>\n      <td>5109.0</td>\n      <td>The Straw Hat Pirates are invited to the Pir...</td>\n      <td>0</td>\n      <td>NaN</td>\n    </tr>\n    <tr>\n      <th>1082</th>\n      <td>9943</td>\n      <td>tt9441638</td>\n      <td>the big ugly</td>\n      <td>NaN</td>\n      <td>2020</td>\n      <td>\\N</td>\n      <td>106</td>\n      <td>5780.0</td>\n      <td>The Big Ugly is a 2020 crime drama set in th...</td>\n      <td>0</td>\n      <td>NaN</td>\n    </tr>\n    <tr>\n      <th>1083</th>\n      <td>9948</td>\n      <td>tt9495690</td>\n      <td>pagalpanti</td>\n      <td>Pagalpanti</td>\n      <td>2019</td>\n      <td>\\N</td>\n      <td>149</td>\n      <td>2331.0</td>\n      <td>The Págálpánti is a 2019 Indian drama film d...</td>\n      <td>0</td>\n      <td>NaN</td>\n    </tr>\n    <tr>\n      <th>1084</th>\n      <td>9950</td>\n      <td>tt9519642</td>\n      <td>the wedding unplanner</td>\n      <td>NaN</td>\n      <td>2020</td>\n      <td>\\N</td>\n      <td>110</td>\n      <td>NaN</td>\n      <td>The Wedding Unplanner is a 2020 romantic com...</td>\n      <td>0</td>\n      <td>NaN</td>\n    </tr>\n    <tr>\n      <th>1085</th>\n      <td>9951</td>\n      <td>tt9526826</td>\n      <td>android kunjappan ver 5.25</td>\n      <td>Android Kunjappan Version 5.25</td>\n      <td>2019</td>\n      <td>\\N</td>\n      <td>140</td>\n      <td>5271.0</td>\n      <td>Android Kunjappan Ver 5.25 is a 2019 Malayal...</td>\n      <td>0</td>\n      <td>NaN</td>\n    </tr>\n  </tbody>\n</table>\n<p>1086 rows × 11 columns</p>\n</div>"
     },
     "execution_count": 10,
     "metadata": {},
     "output_type": "execute_result"
    }
   ],
   "source": [
    "test_final = pd.merge(test, wiki[[\"primaryTitle\", \"Genre\", \"startYear\"]],on=[\"primaryTitle\", \"startYear\"], how=\"left\")\n",
    "test_final"
   ],
   "metadata": {
    "collapsed": false,
    "pycharm": {
     "name": "#%%\n"
    }
   }
  },
  {
   "cell_type": "code",
   "execution_count": 11,
   "outputs": [],
   "source": [
    "test_final.to_csv(\"../datasets/gpt_data/test_plots_awards_genre_no_duplicates.csv\", index=False)"
   ],
   "metadata": {
    "collapsed": false,
    "pycharm": {
     "name": "#%%\n"
    }
   }
  },
  {
   "cell_type": "code",
   "execution_count": null,
   "outputs": [],
   "source": [],
   "metadata": {
    "collapsed": false,
    "pycharm": {
     "name": "#%%\n"
    }
   }
  }
 ],
 "metadata": {
  "kernelspec": {
   "display_name": "Python 3",
   "language": "python",
   "name": "python3"
  },
  "language_info": {
   "codemirror_mode": {
    "name": "ipython",
    "version": 2
   },
   "file_extension": ".py",
   "mimetype": "text/x-python",
   "name": "python",
   "nbconvert_exporter": "python",
   "pygments_lexer": "ipython2",
   "version": "2.7.6"
  }
 },
 "nbformat": 4,
 "nbformat_minor": 0
}
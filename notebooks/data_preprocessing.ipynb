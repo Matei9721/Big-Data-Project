{
 "cells": [
  {
   "cell_type": "code",
   "execution_count": 44,
   "metadata": {
    "collapsed": true,
    "pycharm": {
     "name": "#%%\n"
    }
   },
   "outputs": [],
   "source": [
    "# Import PySpark\n",
    "from pyspark.sql import SparkSession\n",
    "\n",
    "#Create SparkSession\n",
    "spark = SparkSession.builder.appName('MyApp').getOrCreate()"
   ]
  },
  {
   "cell_type": "code",
   "execution_count": 45,
   "outputs": [],
   "source": [
    "movies = spark.read.option(\"escape\", \"\\\"\").csv('../datasets/imdb/train_movies_extra_data_new.csv', header=True, inferSchema=True)"
   ],
   "metadata": {
    "collapsed": false,
    "pycharm": {
     "name": "#%%\n"
    }
   }
  },
  {
   "cell_type": "code",
   "execution_count": 46,
   "outputs": [],
   "source": [
    "from pyspark.sql.functions import col, udf, when, split, regexp_replace\n",
    "from pyspark.sql.types import IntegerType, BooleanType, FloatType, StringType\n",
    "\n",
    "import re\n",
    "\n",
    "def manage_awards(award):\n",
    "    if re.search('win', award) or re.search('wins', award):\n",
    "        return True\n",
    "    else:\n",
    "        return False\n",
    "\n",
    "my_udf = udf(manage_awards, BooleanType())\n",
    "\n",
    "def preprocessing_method(df):\n",
    "\n",
    "    \"\"\"\n",
    "    This method will convert to integer all the years and will put to categorical weather\n",
    "    a movie won any awards or not.\n",
    "    :param df: dataframe\n",
    "    :return: return a preprocessed dataframe\n",
    "    \"\"\"\n",
    "\n",
    "    \"\"\"\n",
    "    Here casting to integer all the numerical values\n",
    "    \"\"\"\n",
    "    df = df.withColumn('startYear', col('startYear').cast('int'))\n",
    "    df = df.withColumn('endYear', col('endYear').cast('int'))\n",
    "    df = df.withColumn('numVotes', col('numVotes').cast('int'))\n",
    "\n",
    "    df = df.withColumn(\"boxoffice\", regexp_replace(col(\"boxoffice\"), \"[$,]\", \"\").cast(\"int\"))\n",
    "    df = df.withColumn('imdb_votes', regexp_replace(col('imdb_votes'), \"[,]\", \"\").cast('int'))\n",
    "\n",
    "    \"\"\"\n",
    "    Awards transformed into True or False\n",
    "    \"\"\"\n",
    "    df = df.withColumn('awards', my_udf(df['awards']))\n",
    "\n",
    "    \"\"\"\n",
    "    Substitute numVotes value when null with the value of imdb votes\n",
    "    \"\"\"\n",
    "\n",
    "    df = df.withColumn('numVotes', when(col('numVotes').isNull(), col('imdb_votes')).\n",
    "                       otherwise(col('numVotes')))\n",
    "\n",
    "    \"\"\"\n",
    "    Transformations from string to lists\n",
    "    \"\"\"\n",
    "    df = df.withColumn('genre', split(col('genre'), ','))\n",
    "    df = df.withColumn('actors', split(col('actors'), ','))\n",
    "    df = df.withColumn('language', split(col('language'), ','))\n",
    "\n",
    "    return df"
   ],
   "metadata": {
    "collapsed": false,
    "pycharm": {
     "name": "#%%\n"
    }
   }
  },
  {
   "cell_type": "code",
   "execution_count": 47,
   "outputs": [
    {
     "name": "stdout",
     "output_type": "stream",
     "text": [
      "+----------+\n",
      "|imdb_votes|\n",
      "+----------+\n",
      "|     2,183|\n",
      "|     5,649|\n",
      "|     6,266|\n",
      "|    10,288|\n",
      "|    18,984|\n",
      "|     3,539|\n",
      "|     2,415|\n",
      "|     1,255|\n",
      "|     1,456|\n",
      "|    36,952|\n",
      "|    86,913|\n",
      "|     2,209|\n",
      "|     3,535|\n",
      "|    14,024|\n",
      "|    54,135|\n",
      "|     3,304|\n",
      "|    10,962|\n",
      "|     5,352|\n",
      "|    14,688|\n",
      "|     4,032|\n",
      "+----------+\n",
      "only showing top 20 rows\n",
      "\n"
     ]
    }
   ],
   "source": [
    "movies.select('imdb_votes').show()"
   ],
   "metadata": {
    "collapsed": false,
    "pycharm": {
     "name": "#%%\n"
    }
   }
  },
  {
   "cell_type": "code",
   "execution_count": 48,
   "outputs": [],
   "source": [
    "movies = preprocessing_method(movies)"
   ],
   "metadata": {
    "collapsed": false,
    "pycharm": {
     "name": "#%%\n"
    }
   }
  },
  {
   "cell_type": "code",
   "execution_count": 51,
   "outputs": [
    {
     "name": "stdout",
     "output_type": "stream",
     "text": [
      "+--------+----------+\n",
      "|numVotes|imdb_votes|\n",
      "+--------+----------+\n",
      "|    1898|      2183|\n",
      "|    5376|      5649|\n",
      "|    5842|      6266|\n",
      "|    9652|     10288|\n",
      "|   17887|     18984|\n",
      "|    3285|      3539|\n",
      "|    2275|      2415|\n",
      "|    1255|      1255|\n",
      "|    1456|      1456|\n",
      "|   33562|     36952|\n",
      "|   83177|     86913|\n",
      "|    2038|      2209|\n",
      "|    3535|      3535|\n",
      "|   14024|     14024|\n",
      "|   50707|     54135|\n",
      "|    2967|      3304|\n",
      "|   10311|     10962|\n",
      "|    4904|      5352|\n",
      "|   13595|     14688|\n",
      "|    3600|      4032|\n",
      "+--------+----------+\n",
      "only showing top 20 rows\n",
      "\n"
     ]
    }
   ],
   "source": [
    "movies.select('numVotes', 'imdb_votes').show()"
   ],
   "metadata": {
    "collapsed": false,
    "pycharm": {
     "name": "#%%\n"
    }
   }
  },
  {
   "cell_type": "code",
   "execution_count": null,
   "outputs": [],
   "source": [],
   "metadata": {
    "collapsed": false,
    "pycharm": {
     "name": "#%%\n"
    }
   }
  }
 ],
 "metadata": {
  "kernelspec": {
   "display_name": "Python 3",
   "language": "python",
   "name": "python3"
  },
  "language_info": {
   "codemirror_mode": {
    "name": "ipython",
    "version": 2
   },
   "file_extension": ".py",
   "mimetype": "text/x-python",
   "name": "python",
   "nbconvert_exporter": "python",
   "pygments_lexer": "ipython2",
   "version": "2.7.6"
  }
 },
 "nbformat": 4,
 "nbformat_minor": 0
}
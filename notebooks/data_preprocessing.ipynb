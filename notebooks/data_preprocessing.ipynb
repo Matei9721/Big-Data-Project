{
 "cells": [
  {
   "cell_type": "code",
   "execution_count": 143,
   "metadata": {
    "collapsed": true,
    "pycharm": {
     "name": "#%%\n"
    }
   },
   "outputs": [],
   "source": [
    "# Import PySpark\n",
    "from pyspark.sql import SparkSession\n",
    "\n",
    "#Create SparkSession\n",
    "spark = SparkSession.builder.appName('MyApp').getOrCreate()"
   ]
  },
  {
   "cell_type": "code",
   "execution_count": 144,
   "outputs": [],
   "source": [
    "\"\"\"\n",
    "Loading the training csv.\n",
    "\"\"\"\n",
    "\n",
    "training = spark.read.option(\"escape\", \"\\\"\").csv('../datasets/imdb/train_movies_extra_data_new.csv', header=True, inferSchema=True)"
   ],
   "metadata": {
    "collapsed": false,
    "pycharm": {
     "name": "#%%\n"
    }
   }
  },
  {
   "cell_type": "code",
   "execution_count": 145,
   "outputs": [],
   "source": [
    "\"\"\"\n",
    "Loading the validation csv.\n",
    "\"\"\"\n",
    "\n",
    "validation = spark.read.option(\"escape\", \"\\\"\").csv('../datasets/imdb/validation_extra_data.csv', header=True, inferSchema=True)"
   ],
   "metadata": {
    "collapsed": false,
    "pycharm": {
     "name": "#%%\n"
    }
   }
  },
  {
   "cell_type": "code",
   "execution_count": 146,
   "outputs": [],
   "source": [
    "\"\"\"\n",
    "Loading the test csv.\n",
    "\"\"\"\n",
    "\n",
    "test = spark.read.option(\"escape\", \"\\\"\").csv('../datasets/imdb/test_extra_data.csv', header=True,\n",
    "    inferSchema=True)"
   ],
   "metadata": {
    "collapsed": false,
    "pycharm": {
     "name": "#%%\n"
    }
   }
  },
  {
   "cell_type": "code",
   "execution_count": 147,
   "outputs": [],
   "source": [
    "from pyspark.sql.functions import col, udf, when, split, regexp_replace, min, explode, lower, array_distinct, array_contains\n",
    "from pyspark.sql.types import BooleanType, IntegerType\n",
    "from pyspark.ml.feature import OneHotEncoder, StringIndexer\n",
    "\n",
    "import re\n",
    "\n",
    "def manage_awards(award):\n",
    "\n",
    "    if award is not None:\n",
    "        if re.search('win', award) or re.search('wins', award) or re.search('won', award):\n",
    "            return 1\n",
    "        else:\n",
    "            return 0\n",
    "    else:\n",
    "        return False\n",
    "\n",
    "my_udf = udf(manage_awards, IntegerType())\n",
    "\n",
    "def preprocessing_method(df):\n",
    "\n",
    "    \"\"\"\n",
    "    This method will convert to integer all the years and will put to categorical weather\n",
    "    a movie won any awards or not.\n",
    "    :param df: dataframe\n",
    "    :return: return a preprocessed dataframe\n",
    "    \"\"\"\n",
    "\n",
    "    \"\"\"\n",
    "    Here casting to integer all the numerical values\n",
    "    \"\"\"\n",
    "    df = df.withColumn('startYear', col('startYear').cast('int'))\n",
    "    df = df.withColumn('endYear', col('endYear').cast('int'))\n",
    "    df = df.withColumn('numVotes', col('numVotes').cast('int'))\n",
    "    df = df.withColumn('runtimeMinutes', col('runtimeMinutes').cast('int'))\n",
    "\n",
    "    \"\"\"\n",
    "    Preprocess boxoffice, and put the lowest value if it is null.\n",
    "    \"\"\"\n",
    "\n",
    "    df = df.withColumn(\"boxoffice\", regexp_replace(col(\"boxoffice\"), \"[$,]\", \"\").cast(\"int\"))\n",
    "    min_boxoffice = df.agg(min('boxoffice')).collect()[0][0]\n",
    "    df = df.withColumn(\"boxoffice\", when(col(\"boxoffice\").isNull(), min_boxoffice).otherwise(col(\"boxoffice\")))\n",
    "\n",
    "    \"\"\"\n",
    "    Plot preprocessing.\n",
    "    \"\"\"\n",
    "\n",
    "    df = df.withColumn(\"plot\", lower(col(\"plot\")))\n",
    "\n",
    "    \"\"\"\n",
    "    Preprocess the imdb votes.\n",
    "    \"\"\"\n",
    "\n",
    "    df = df.withColumn('imdb_votes', regexp_replace(col('imdb_votes'), \"[,]\", \"\").cast('int'))\n",
    "\n",
    "    \"\"\"\n",
    "    Awards transformed into True or False\n",
    "    \"\"\"\n",
    "\n",
    "    df = df.withColumn('awards', my_udf(df['awards']))\n",
    "\n",
    "    \"\"\"\n",
    "    Substitute numVotes value when null with the value of imdb votes\n",
    "    \"\"\"\n",
    "\n",
    "    #df = df.withColumn('numVotes', when(col('numVotes').isNull(), col('imdb_votes')).\n",
    "                       #otherwise(col('numVotes')))\n",
    "    df = df.withColumn('startYear', when(col('startYear').isNull(), col('imdb_year')).\n",
    "                       otherwise(col('startYear')))\n",
    "\n",
    "    \"\"\"\n",
    "    Transformations from string to lists, removing the spaced and then putting everything to lower and then\n",
    "    splitting.\n",
    "    \"\"\"\n",
    "\n",
    "    df = df.withColumn('country', split(lower(regexp_replace(col('country'), ', ', ',')), ','))\n",
    "    df = df.withColumn('genre', split(lower(regexp_replace(col('genre'), ', ', ',')), ','))\n",
    "    df = df.withColumn('actors', split(lower(regexp_replace(col('actors'), ', ', ',')), ','))\n",
    "\n",
    "    \"\"\"\n",
    "    Doing one hot encoding for the genre column\n",
    "    \"\"\"\n",
    "\n",
    "    unique_values = [str(row[0]) for row in df.selectExpr(\"explode(array_distinct(genre))\").distinct().collect()]\n",
    "    for value in unique_values:\n",
    "        df = df.withColumn(value, array_contains('genre', value).cast('int'))\n",
    "\n",
    "    \"\"\"\n",
    "    Dropping the columns.\n",
    "    \"\"\"\n",
    "\n",
    "    df = df.drop('_c0', 'primaryTitle', 'originalTitle', 'endYear', 'language', 'rating', 'entry_type', 'production', 'imdb_year', 'genre', 'actors')\n",
    "\n",
    "    return df"
   ],
   "metadata": {
    "collapsed": false,
    "pycharm": {
     "name": "#%%\n"
    }
   }
  },
  {
   "cell_type": "code",
   "execution_count": 148,
   "outputs": [],
   "source": [
    "\"\"\"\n",
    "Preprocessing the training dataset.\n",
    "\"\"\"\n",
    "\n",
    "training_prep = preprocessing_method(training)"
   ],
   "metadata": {
    "collapsed": false,
    "pycharm": {
     "name": "#%%\n"
    }
   }
  },
  {
   "cell_type": "code",
   "execution_count": 149,
   "outputs": [],
   "source": [
    "\"\"\"\n",
    "Preprocessing the validation dataset.\n",
    "\"\"\"\n",
    "\n",
    "validation_prep = preprocessing_method(validation)"
   ],
   "metadata": {
    "collapsed": false,
    "pycharm": {
     "name": "#%%\n"
    }
   }
  },
  {
   "cell_type": "code",
   "execution_count": 150,
   "outputs": [],
   "source": [
    "\"\"\"\n",
    "Preprocessing the test dataset.\n",
    "\"\"\"\n",
    "\n",
    "test_prep = preprocessing_method(test)"
   ],
   "metadata": {
    "collapsed": false,
    "pycharm": {
     "name": "#%%\n"
    }
   }
  },
  {
   "cell_type": "code",
   "execution_count": 151,
   "outputs": [],
   "source": [
    "\"\"\"\n",
    "Saving to csv the training dataset.\n",
    "\"\"\"\n",
    "\n",
    "training_prep.toPandas().to_csv('../datasets/models_dataset/train.csv', index=False)"
   ],
   "metadata": {
    "collapsed": false,
    "pycharm": {
     "name": "#%%\n"
    }
   }
  },
  {
   "cell_type": "code",
   "execution_count": 152,
   "outputs": [],
   "source": [
    "\"\"\"\n",
    "Saving to csv the validation dataset.\n",
    "\"\"\"\n",
    "\n",
    "validation_prep.toPandas().to_csv('../datasets/models_dataset/validation.csv', index=False)\n"
   ],
   "metadata": {
    "collapsed": false,
    "pycharm": {
     "name": "#%%\n"
    }
   }
  },
  {
   "cell_type": "code",
   "execution_count": 153,
   "outputs": [],
   "source": [
    "\"\"\"\n",
    "Saving to csv the test dataset.\n",
    "\"\"\"\n",
    "\n",
    "test_prep.toPandas().to_csv('../datasets/models_dataset/test.csv', index=False)"
   ],
   "metadata": {
    "collapsed": false,
    "pycharm": {
     "name": "#%%\n"
    }
   }
  },
  {
   "cell_type": "code",
   "execution_count": 126,
   "outputs": [],
   "source": [],
   "metadata": {
    "collapsed": false,
    "pycharm": {
     "name": "#%%\n"
    }
   }
  },
  {
   "cell_type": "code",
   "execution_count": null,
   "outputs": [],
   "source": [],
   "metadata": {
    "collapsed": false,
    "pycharm": {
     "name": "#%%\n"
    }
   }
  }
 ],
 "metadata": {
  "kernelspec": {
   "display_name": "Python 3",
   "language": "python",
   "name": "python3"
  },
  "language_info": {
   "codemirror_mode": {
    "name": "ipython",
    "version": 2
   },
   "file_extension": ".py",
   "mimetype": "text/x-python",
   "name": "python",
   "nbconvert_exporter": "python",
   "pygments_lexer": "ipython2",
   "version": "2.7.6"
  }
 },
 "nbformat": 4,
 "nbformat_minor": 0
}
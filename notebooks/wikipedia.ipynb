{
 "cells": [
  {
   "cell_type": "code",
   "execution_count": 95,
   "metadata": {
    "collapsed": true
   },
   "outputs": [],
   "source": [
    "import pandas as pd\n",
    "from unidecode import unidecode"
   ]
  },
  {
   "cell_type": "code",
   "execution_count": 96,
   "outputs": [
    {
     "data": {
      "text/plain": "       Release Year                             Title Origin/Ethnicity  \\\n0              1901            Kansas Saloon Smashers         American   \n1              1901     Love by the Light of the Moon         American   \n2              1901           The Martyred Presidents         American   \n3              1901  Terrible Teddy, the Grizzly King         American   \n4              1902            Jack and the Beanstalk         American   \n...             ...                               ...              ...   \n34881          2014                 The Water Diviner          Turkish   \n34882          2017                Çalgı Çengi İkimiz          Turkish   \n34883          2017                      Olanlar Oldu          Turkish   \n34884          2017                  Non-Transferable          Turkish   \n34885          2017                İstanbul Kırmızısı          Turkish   \n\n                                 Director  \\\n0                                 Unknown   \n1                                 Unknown   \n2                                 Unknown   \n3                                 Unknown   \n4      George S. Fleming, Edwin S. Porter   \n...                                   ...   \n34881             Director: Russell Crowe   \n34882                      Selçuk Aydemir   \n34883                         Hakan Algül   \n34884                     Brendan Bradley   \n34885                      Ferzan Özpetek   \n\n                                                    Cast            Genre  \\\n0                                                    NaN          unknown   \n1                                                    NaN          unknown   \n2                                                    NaN          unknown   \n3                                                    NaN          unknown   \n4                                                    NaN          unknown   \n...                                                  ...              ...   \n34881  Director: Russell Crowe\\r\\nCast: Russell Crowe...          unknown   \n34882                          Ahmet Kural, Murat Cemcir           comedy   \n34883              Ata Demirer, Tuvana Türkay, Ülkü Duru           comedy   \n34884  YouTubers Shanna Malcolm, Shira Lazar, Sara Fl...  romantic comedy   \n34885  Halit Ergenç, Tuba Büyüküstün, Mehmet Günsür, ...         romantic   \n\n                                               Wiki Page  \\\n0      https://en.wikipedia.org/wiki/Kansas_Saloon_Sm...   \n1      https://en.wikipedia.org/wiki/Love_by_the_Ligh...   \n2      https://en.wikipedia.org/wiki/The_Martyred_Pre...   \n3      https://en.wikipedia.org/wiki/Terrible_Teddy,_...   \n4      https://en.wikipedia.org/wiki/Jack_and_the_Bea...   \n...                                                  ...   \n34881    https://en.wikipedia.org/wiki/The_Water_Diviner   \n34882  https://en.wikipedia.org/wiki/%C3%87alg%C4%B1_...   \n34883         https://en.wikipedia.org/wiki/Olanlar_Oldu   \n34884  https://en.wikipedia.org/wiki/Non-Transferable...   \n34885  https://en.wikipedia.org/wiki/%C4%B0stanbul_K%...   \n\n                                                    Plot  \n0      A bartender is working at a saloon, serving dr...  \n1      The moon, painted with a smiling face hangs ov...  \n2      The film, just over a minute long, is composed...  \n3      Lasting just 61 seconds and consisting of two ...  \n4      The earliest known adaptation of the classic f...  \n...                                                  ...  \n34881  The film begins in 1919, just after World War ...  \n34882  Two musicians, Salih and Gürkan, described the...  \n34883  Zafer, a sailor living with his mother Döndü i...  \n34884  The film centres around a young woman named Am...  \n34885  The writer Orhan Şahin returns to İstanbul aft...  \n\n[34886 rows x 8 columns]",
      "text/html": "<div>\n<style scoped>\n    .dataframe tbody tr th:only-of-type {\n        vertical-align: middle;\n    }\n\n    .dataframe tbody tr th {\n        vertical-align: top;\n    }\n\n    .dataframe thead th {\n        text-align: right;\n    }\n</style>\n<table border=\"1\" class=\"dataframe\">\n  <thead>\n    <tr style=\"text-align: right;\">\n      <th></th>\n      <th>Release Year</th>\n      <th>Title</th>\n      <th>Origin/Ethnicity</th>\n      <th>Director</th>\n      <th>Cast</th>\n      <th>Genre</th>\n      <th>Wiki Page</th>\n      <th>Plot</th>\n    </tr>\n  </thead>\n  <tbody>\n    <tr>\n      <th>0</th>\n      <td>1901</td>\n      <td>Kansas Saloon Smashers</td>\n      <td>American</td>\n      <td>Unknown</td>\n      <td>NaN</td>\n      <td>unknown</td>\n      <td>https://en.wikipedia.org/wiki/Kansas_Saloon_Sm...</td>\n      <td>A bartender is working at a saloon, serving dr...</td>\n    </tr>\n    <tr>\n      <th>1</th>\n      <td>1901</td>\n      <td>Love by the Light of the Moon</td>\n      <td>American</td>\n      <td>Unknown</td>\n      <td>NaN</td>\n      <td>unknown</td>\n      <td>https://en.wikipedia.org/wiki/Love_by_the_Ligh...</td>\n      <td>The moon, painted with a smiling face hangs ov...</td>\n    </tr>\n    <tr>\n      <th>2</th>\n      <td>1901</td>\n      <td>The Martyred Presidents</td>\n      <td>American</td>\n      <td>Unknown</td>\n      <td>NaN</td>\n      <td>unknown</td>\n      <td>https://en.wikipedia.org/wiki/The_Martyred_Pre...</td>\n      <td>The film, just over a minute long, is composed...</td>\n    </tr>\n    <tr>\n      <th>3</th>\n      <td>1901</td>\n      <td>Terrible Teddy, the Grizzly King</td>\n      <td>American</td>\n      <td>Unknown</td>\n      <td>NaN</td>\n      <td>unknown</td>\n      <td>https://en.wikipedia.org/wiki/Terrible_Teddy,_...</td>\n      <td>Lasting just 61 seconds and consisting of two ...</td>\n    </tr>\n    <tr>\n      <th>4</th>\n      <td>1902</td>\n      <td>Jack and the Beanstalk</td>\n      <td>American</td>\n      <td>George S. Fleming, Edwin S. Porter</td>\n      <td>NaN</td>\n      <td>unknown</td>\n      <td>https://en.wikipedia.org/wiki/Jack_and_the_Bea...</td>\n      <td>The earliest known adaptation of the classic f...</td>\n    </tr>\n    <tr>\n      <th>...</th>\n      <td>...</td>\n      <td>...</td>\n      <td>...</td>\n      <td>...</td>\n      <td>...</td>\n      <td>...</td>\n      <td>...</td>\n      <td>...</td>\n    </tr>\n    <tr>\n      <th>34881</th>\n      <td>2014</td>\n      <td>The Water Diviner</td>\n      <td>Turkish</td>\n      <td>Director: Russell Crowe</td>\n      <td>Director: Russell Crowe\\r\\nCast: Russell Crowe...</td>\n      <td>unknown</td>\n      <td>https://en.wikipedia.org/wiki/The_Water_Diviner</td>\n      <td>The film begins in 1919, just after World War ...</td>\n    </tr>\n    <tr>\n      <th>34882</th>\n      <td>2017</td>\n      <td>Çalgı Çengi İkimiz</td>\n      <td>Turkish</td>\n      <td>Selçuk Aydemir</td>\n      <td>Ahmet Kural, Murat Cemcir</td>\n      <td>comedy</td>\n      <td>https://en.wikipedia.org/wiki/%C3%87alg%C4%B1_...</td>\n      <td>Two musicians, Salih and Gürkan, described the...</td>\n    </tr>\n    <tr>\n      <th>34883</th>\n      <td>2017</td>\n      <td>Olanlar Oldu</td>\n      <td>Turkish</td>\n      <td>Hakan Algül</td>\n      <td>Ata Demirer, Tuvana Türkay, Ülkü Duru</td>\n      <td>comedy</td>\n      <td>https://en.wikipedia.org/wiki/Olanlar_Oldu</td>\n      <td>Zafer, a sailor living with his mother Döndü i...</td>\n    </tr>\n    <tr>\n      <th>34884</th>\n      <td>2017</td>\n      <td>Non-Transferable</td>\n      <td>Turkish</td>\n      <td>Brendan Bradley</td>\n      <td>YouTubers Shanna Malcolm, Shira Lazar, Sara Fl...</td>\n      <td>romantic comedy</td>\n      <td>https://en.wikipedia.org/wiki/Non-Transferable...</td>\n      <td>The film centres around a young woman named Am...</td>\n    </tr>\n    <tr>\n      <th>34885</th>\n      <td>2017</td>\n      <td>İstanbul Kırmızısı</td>\n      <td>Turkish</td>\n      <td>Ferzan Özpetek</td>\n      <td>Halit Ergenç, Tuba Büyüküstün, Mehmet Günsür, ...</td>\n      <td>romantic</td>\n      <td>https://en.wikipedia.org/wiki/%C4%B0stanbul_K%...</td>\n      <td>The writer Orhan Şahin returns to İstanbul aft...</td>\n    </tr>\n  </tbody>\n</table>\n<p>34886 rows × 8 columns</p>\n</div>"
     },
     "execution_count": 96,
     "metadata": {},
     "output_type": "execute_result"
    }
   ],
   "source": [
    "wiki = pd.read_csv(\"../datasets/wiki_movie_plots_deduped.csv\")\n",
    "wiki"
   ],
   "metadata": {
    "collapsed": false
   }
  },
  {
   "cell_type": "code",
   "execution_count": 97,
   "outputs": [
    {
     "data": {
      "text/plain": "       _c0     tconst                                   primaryTitle  \\\n0        4  tt0010600                                       The Doll   \n1        7  tt0011841                                  Way Down East   \n2        9  tt0012494                                        Déstiny   \n3       25  tt0015163                                  The Navigator   \n4       38  tt0016220                       The Phantom of the Opera   \n...    ...        ...                                            ...   \n7954  9966  tt9625664                                  Trauma Center   \n7955  9981  tt9741310                                          Slaxx   \n7956  9982  tt9742392                                        Kindred   \n7957  9996  tt9850386  The Bee Gees: How Can You Mend a Broken Heart   \n7958  9999  tt9911196                            The Marriage Escape   \n\n                       originalTitle startYear endYear runtimeMinutes  \\\n0                          Die Puppe      1919      \\N             66   \n1                      Way Down East      1920      \\N            145   \n2                       Der müde Tod      1921      \\N             97   \n3                      The Navigator      1924      \\N             59   \n4           The Phantom of the Opera      1925      \\N             93   \n...                              ...       ...     ...            ...   \n7954                             NaN      2019      \\N             87   \n7955                           Slaxx      2020      \\N             77   \n7956                         Kindred      2020      \\N            101   \n7957                             NaN      2020      \\N            111   \n7958  De beentjes van Sint-Hildegard      2020      \\N            103   \n\n      numVotes  label  \n0       1898.0   True  \n1       5376.0   True  \n2       5842.0   True  \n3       9652.0   True  \n4      17887.0   True  \n...        ...    ...  \n7954   12951.0  False  \n7955    2464.0  False  \n7956    1719.0  False  \n7957    4144.0   True  \n7958    3242.0   True  \n\n[7959 rows x 9 columns]",
      "text/html": "<div>\n<style scoped>\n    .dataframe tbody tr th:only-of-type {\n        vertical-align: middle;\n    }\n\n    .dataframe tbody tr th {\n        vertical-align: top;\n    }\n\n    .dataframe thead th {\n        text-align: right;\n    }\n</style>\n<table border=\"1\" class=\"dataframe\">\n  <thead>\n    <tr style=\"text-align: right;\">\n      <th></th>\n      <th>_c0</th>\n      <th>tconst</th>\n      <th>primaryTitle</th>\n      <th>originalTitle</th>\n      <th>startYear</th>\n      <th>endYear</th>\n      <th>runtimeMinutes</th>\n      <th>numVotes</th>\n      <th>label</th>\n    </tr>\n  </thead>\n  <tbody>\n    <tr>\n      <th>0</th>\n      <td>4</td>\n      <td>tt0010600</td>\n      <td>The Doll</td>\n      <td>Die Puppe</td>\n      <td>1919</td>\n      <td>\\N</td>\n      <td>66</td>\n      <td>1898.0</td>\n      <td>True</td>\n    </tr>\n    <tr>\n      <th>1</th>\n      <td>7</td>\n      <td>tt0011841</td>\n      <td>Way Down East</td>\n      <td>Way Down East</td>\n      <td>1920</td>\n      <td>\\N</td>\n      <td>145</td>\n      <td>5376.0</td>\n      <td>True</td>\n    </tr>\n    <tr>\n      <th>2</th>\n      <td>9</td>\n      <td>tt0012494</td>\n      <td>Déstiny</td>\n      <td>Der müde Tod</td>\n      <td>1921</td>\n      <td>\\N</td>\n      <td>97</td>\n      <td>5842.0</td>\n      <td>True</td>\n    </tr>\n    <tr>\n      <th>3</th>\n      <td>25</td>\n      <td>tt0015163</td>\n      <td>The Navigator</td>\n      <td>The Navigator</td>\n      <td>1924</td>\n      <td>\\N</td>\n      <td>59</td>\n      <td>9652.0</td>\n      <td>True</td>\n    </tr>\n    <tr>\n      <th>4</th>\n      <td>38</td>\n      <td>tt0016220</td>\n      <td>The Phantom of the Opera</td>\n      <td>The Phantom of the Opera</td>\n      <td>1925</td>\n      <td>\\N</td>\n      <td>93</td>\n      <td>17887.0</td>\n      <td>True</td>\n    </tr>\n    <tr>\n      <th>...</th>\n      <td>...</td>\n      <td>...</td>\n      <td>...</td>\n      <td>...</td>\n      <td>...</td>\n      <td>...</td>\n      <td>...</td>\n      <td>...</td>\n      <td>...</td>\n    </tr>\n    <tr>\n      <th>7954</th>\n      <td>9966</td>\n      <td>tt9625664</td>\n      <td>Trauma Center</td>\n      <td>NaN</td>\n      <td>2019</td>\n      <td>\\N</td>\n      <td>87</td>\n      <td>12951.0</td>\n      <td>False</td>\n    </tr>\n    <tr>\n      <th>7955</th>\n      <td>9981</td>\n      <td>tt9741310</td>\n      <td>Slaxx</td>\n      <td>Slaxx</td>\n      <td>2020</td>\n      <td>\\N</td>\n      <td>77</td>\n      <td>2464.0</td>\n      <td>False</td>\n    </tr>\n    <tr>\n      <th>7956</th>\n      <td>9982</td>\n      <td>tt9742392</td>\n      <td>Kindred</td>\n      <td>Kindred</td>\n      <td>2020</td>\n      <td>\\N</td>\n      <td>101</td>\n      <td>1719.0</td>\n      <td>False</td>\n    </tr>\n    <tr>\n      <th>7957</th>\n      <td>9996</td>\n      <td>tt9850386</td>\n      <td>The Bee Gees: How Can You Mend a Broken Heart</td>\n      <td>NaN</td>\n      <td>2020</td>\n      <td>\\N</td>\n      <td>111</td>\n      <td>4144.0</td>\n      <td>True</td>\n    </tr>\n    <tr>\n      <th>7958</th>\n      <td>9999</td>\n      <td>tt9911196</td>\n      <td>The Marriage Escape</td>\n      <td>De beentjes van Sint-Hildegard</td>\n      <td>2020</td>\n      <td>\\N</td>\n      <td>103</td>\n      <td>3242.0</td>\n      <td>True</td>\n    </tr>\n  </tbody>\n</table>\n<p>7959 rows × 9 columns</p>\n</div>"
     },
     "execution_count": 97,
     "metadata": {},
     "output_type": "execute_result"
    }
   ],
   "source": [
    "train = pd.read_csv(\"../datasets/imdb/complete_train.csv\", sep=',')\n",
    "train"
   ],
   "metadata": {
    "collapsed": false
   }
  },
  {
   "cell_type": "code",
   "execution_count": 98,
   "outputs": [],
   "source": [
    "train[\"startYear\"].replace(r\"\\N\", None, inplace=True)\n",
    "train[\"startYear\"].fillna(train['endYear'], inplace=True)\n",
    "train[\"startYear\"] = train[\"startYear\"].astype(int)"
   ],
   "metadata": {
    "collapsed": false
   }
  },
  {
   "cell_type": "code",
   "execution_count": 99,
   "outputs": [],
   "source": [
    "train[\"primaryTitle\"] = train[\"primaryTitle\"].str.lower()\n",
    "train['primaryTitle'] = train['primaryTitle'].apply(unidecode)"
   ],
   "metadata": {
    "collapsed": false
   }
  },
  {
   "cell_type": "code",
   "execution_count": 100,
   "outputs": [],
   "source": [
    "wiki[\"Title\"] = wiki[\"Title\"].str.lower()\n",
    "wiki.rename({\"Title\": \"primaryTitle\"}, axis=1, inplace=True)\n",
    "wiki.rename({\"Release Year\": \"startYear\"}, axis=1, inplace=True)\n",
    "wiki['primaryTitle'] = wiki['primaryTitle'].apply(unidecode)"
   ],
   "metadata": {
    "collapsed": false
   }
  },
  {
   "cell_type": "code",
   "execution_count": 101,
   "outputs": [
    {
     "data": {
      "text/plain": "Empty DataFrame\nColumns: [startYear, primaryTitle, Origin/Ethnicity, Director, Cast, Genre, Wiki Page, Plot]\nIndex: []",
      "text/html": "<div>\n<style scoped>\n    .dataframe tbody tr th:only-of-type {\n        vertical-align: middle;\n    }\n\n    .dataframe tbody tr th {\n        vertical-align: top;\n    }\n\n    .dataframe thead th {\n        text-align: right;\n    }\n</style>\n<table border=\"1\" class=\"dataframe\">\n  <thead>\n    <tr style=\"text-align: right;\">\n      <th></th>\n      <th>startYear</th>\n      <th>primaryTitle</th>\n      <th>Origin/Ethnicity</th>\n      <th>Director</th>\n      <th>Cast</th>\n      <th>Genre</th>\n      <th>Wiki Page</th>\n      <th>Plot</th>\n    </tr>\n  </thead>\n  <tbody>\n  </tbody>\n</table>\n</div>"
     },
     "execution_count": 101,
     "metadata": {},
     "output_type": "execute_result"
    }
   ],
   "source": [
    "wiki[wiki[\"primaryTitle\"] == \"the doll\"]"
   ],
   "metadata": {
    "collapsed": false
   }
  },
  {
   "cell_type": "code",
   "execution_count": 102,
   "outputs": [
    {
     "data": {
      "text/plain": "       _c0     tconst                                   primaryTitle  \\\n0        4  tt0010600                                       the doll   \n1        7  tt0011841                                  way down east   \n2        9  tt0012494                                        destiny   \n3       25  tt0015163                                  the navigator   \n4       38  tt0016220                       the phantom of the opera   \n...    ...        ...                                            ...   \n7983  9966  tt9625664                                  trauma center   \n7984  9981  tt9741310                                          slaxx   \n7985  9982  tt9742392                                        kindred   \n7986  9996  tt9850386  the bee gees: how can you mend a broken heart   \n7987  9999  tt9911196                            the marriage escape   \n\n                       originalTitle  startYear endYear runtimeMinutes  \\\n0                          Die Puppe       1919      \\N             66   \n1                      Way Down East       1920      \\N            145   \n2                       Der müde Tod       1921      \\N             97   \n3                      The Navigator       1924      \\N             59   \n4           The Phantom of the Opera       1925      \\N             93   \n...                              ...        ...     ...            ...   \n7983                             NaN       2019      \\N             87   \n7984                           Slaxx       2020      \\N             77   \n7985                         Kindred       2020      \\N            101   \n7986                             NaN       2020      \\N            111   \n7987  De beentjes van Sint-Hildegard       2020      \\N            103   \n\n      numVotes  label   Genre  \\\n0       1898.0   True     NaN   \n1       5376.0   True   drama   \n2       5842.0   True     NaN   \n3       9652.0   True  comedy   \n4      17887.0   True     NaN   \n...        ...    ...     ...   \n7983   12951.0  False     NaN   \n7984    2464.0  False     NaN   \n7985    1719.0  False     NaN   \n7986    4144.0   True     NaN   \n7987    3242.0   True     NaN   \n\n                                                   Plot  \n0                                                   NaN  \n1     The rich, typified by the handsome man-about-t...  \n2                                                   NaN  \n3     Wealthy Rollo Treadway (Buster Keaton) suddenl...  \n4                                                   NaN  \n...                                                 ...  \n7983                                                NaN  \n7984                                                NaN  \n7985                                                NaN  \n7986                                                NaN  \n7987                                                NaN  \n\n[7988 rows x 11 columns]",
      "text/html": "<div>\n<style scoped>\n    .dataframe tbody tr th:only-of-type {\n        vertical-align: middle;\n    }\n\n    .dataframe tbody tr th {\n        vertical-align: top;\n    }\n\n    .dataframe thead th {\n        text-align: right;\n    }\n</style>\n<table border=\"1\" class=\"dataframe\">\n  <thead>\n    <tr style=\"text-align: right;\">\n      <th></th>\n      <th>_c0</th>\n      <th>tconst</th>\n      <th>primaryTitle</th>\n      <th>originalTitle</th>\n      <th>startYear</th>\n      <th>endYear</th>\n      <th>runtimeMinutes</th>\n      <th>numVotes</th>\n      <th>label</th>\n      <th>Genre</th>\n      <th>Plot</th>\n    </tr>\n  </thead>\n  <tbody>\n    <tr>\n      <th>0</th>\n      <td>4</td>\n      <td>tt0010600</td>\n      <td>the doll</td>\n      <td>Die Puppe</td>\n      <td>1919</td>\n      <td>\\N</td>\n      <td>66</td>\n      <td>1898.0</td>\n      <td>True</td>\n      <td>NaN</td>\n      <td>NaN</td>\n    </tr>\n    <tr>\n      <th>1</th>\n      <td>7</td>\n      <td>tt0011841</td>\n      <td>way down east</td>\n      <td>Way Down East</td>\n      <td>1920</td>\n      <td>\\N</td>\n      <td>145</td>\n      <td>5376.0</td>\n      <td>True</td>\n      <td>drama</td>\n      <td>The rich, typified by the handsome man-about-t...</td>\n    </tr>\n    <tr>\n      <th>2</th>\n      <td>9</td>\n      <td>tt0012494</td>\n      <td>destiny</td>\n      <td>Der müde Tod</td>\n      <td>1921</td>\n      <td>\\N</td>\n      <td>97</td>\n      <td>5842.0</td>\n      <td>True</td>\n      <td>NaN</td>\n      <td>NaN</td>\n    </tr>\n    <tr>\n      <th>3</th>\n      <td>25</td>\n      <td>tt0015163</td>\n      <td>the navigator</td>\n      <td>The Navigator</td>\n      <td>1924</td>\n      <td>\\N</td>\n      <td>59</td>\n      <td>9652.0</td>\n      <td>True</td>\n      <td>comedy</td>\n      <td>Wealthy Rollo Treadway (Buster Keaton) suddenl...</td>\n    </tr>\n    <tr>\n      <th>4</th>\n      <td>38</td>\n      <td>tt0016220</td>\n      <td>the phantom of the opera</td>\n      <td>The Phantom of the Opera</td>\n      <td>1925</td>\n      <td>\\N</td>\n      <td>93</td>\n      <td>17887.0</td>\n      <td>True</td>\n      <td>NaN</td>\n      <td>NaN</td>\n    </tr>\n    <tr>\n      <th>...</th>\n      <td>...</td>\n      <td>...</td>\n      <td>...</td>\n      <td>...</td>\n      <td>...</td>\n      <td>...</td>\n      <td>...</td>\n      <td>...</td>\n      <td>...</td>\n      <td>...</td>\n      <td>...</td>\n    </tr>\n    <tr>\n      <th>7983</th>\n      <td>9966</td>\n      <td>tt9625664</td>\n      <td>trauma center</td>\n      <td>NaN</td>\n      <td>2019</td>\n      <td>\\N</td>\n      <td>87</td>\n      <td>12951.0</td>\n      <td>False</td>\n      <td>NaN</td>\n      <td>NaN</td>\n    </tr>\n    <tr>\n      <th>7984</th>\n      <td>9981</td>\n      <td>tt9741310</td>\n      <td>slaxx</td>\n      <td>Slaxx</td>\n      <td>2020</td>\n      <td>\\N</td>\n      <td>77</td>\n      <td>2464.0</td>\n      <td>False</td>\n      <td>NaN</td>\n      <td>NaN</td>\n    </tr>\n    <tr>\n      <th>7985</th>\n      <td>9982</td>\n      <td>tt9742392</td>\n      <td>kindred</td>\n      <td>Kindred</td>\n      <td>2020</td>\n      <td>\\N</td>\n      <td>101</td>\n      <td>1719.0</td>\n      <td>False</td>\n      <td>NaN</td>\n      <td>NaN</td>\n    </tr>\n    <tr>\n      <th>7986</th>\n      <td>9996</td>\n      <td>tt9850386</td>\n      <td>the bee gees: how can you mend a broken heart</td>\n      <td>NaN</td>\n      <td>2020</td>\n      <td>\\N</td>\n      <td>111</td>\n      <td>4144.0</td>\n      <td>True</td>\n      <td>NaN</td>\n      <td>NaN</td>\n    </tr>\n    <tr>\n      <th>7987</th>\n      <td>9999</td>\n      <td>tt9911196</td>\n      <td>the marriage escape</td>\n      <td>De beentjes van Sint-Hildegard</td>\n      <td>2020</td>\n      <td>\\N</td>\n      <td>103</td>\n      <td>3242.0</td>\n      <td>True</td>\n      <td>NaN</td>\n      <td>NaN</td>\n    </tr>\n  </tbody>\n</table>\n<p>7988 rows × 11 columns</p>\n</div>"
     },
     "execution_count": 102,
     "metadata": {},
     "output_type": "execute_result"
    }
   ],
   "source": [
    "pd.merge(train, wiki[[\"primaryTitle\", \"Genre\", \"startYear\", \"Plot\"]],on=[\"primaryTitle\", \"startYear\"], how=\"left\")"
   ],
   "metadata": {
    "collapsed": false
   }
  },
  {
   "cell_type": "markdown",
   "source": [
    "### Validation"
   ],
   "metadata": {
    "collapsed": false
   }
  },
  {
   "cell_type": "code",
   "execution_count": 104,
   "outputs": [
    {
     "data": {
      "text/plain": "     Unnamed: 0     tconst               primaryTitle   originalTitle  \\\n0             0  tt0003740                    Cabiria             NaN   \n1             1  tt0008663            A Man There Was     Terje Vigen   \n2             3  tt0010307                  J'accuse!             NaN   \n3            18  tt0014429               Safety Last!    Safety Last!   \n4            27  tt0015175  Die Nibelungen: Siegfried             NaN   \n..          ...        ...                        ...             ...   \n950        9974  tt9686154         You Will Die at 20             NaN   \n951        9976  tt9690328              Pápér Spidérs   Paper Spiders   \n952        9980  tt9735790             Me You Madness  Me You Madness   \n953        9984  tt9769668             Tughlaq Durbar  Tughlaq Durbar   \n954        9989  tt9812614                       Hope             NaN   \n\n    startYear endYear runtimeMinutes  numVotes  \n0        1914      \\N            148    3452.0  \n1        1917      \\N             65    1882.0  \n2        1919      \\N            166    1692.0  \n3        1923      \\N             74   19898.0  \n4        1924      \\N            143    5676.0  \n..        ...     ...            ...       ...  \n950      2019      \\N            103    2106.0  \n951      2020      \\N            109       NaN  \n952      2021      \\N             98    1056.0  \n953      2021      \\N            145    1430.0  \n954      2019      \\N            130    1402.0  \n\n[955 rows x 8 columns]",
      "text/html": "<div>\n<style scoped>\n    .dataframe tbody tr th:only-of-type {\n        vertical-align: middle;\n    }\n\n    .dataframe tbody tr th {\n        vertical-align: top;\n    }\n\n    .dataframe thead th {\n        text-align: right;\n    }\n</style>\n<table border=\"1\" class=\"dataframe\">\n  <thead>\n    <tr style=\"text-align: right;\">\n      <th></th>\n      <th>Unnamed: 0</th>\n      <th>tconst</th>\n      <th>primaryTitle</th>\n      <th>originalTitle</th>\n      <th>startYear</th>\n      <th>endYear</th>\n      <th>runtimeMinutes</th>\n      <th>numVotes</th>\n    </tr>\n  </thead>\n  <tbody>\n    <tr>\n      <th>0</th>\n      <td>0</td>\n      <td>tt0003740</td>\n      <td>Cabiria</td>\n      <td>NaN</td>\n      <td>1914</td>\n      <td>\\N</td>\n      <td>148</td>\n      <td>3452.0</td>\n    </tr>\n    <tr>\n      <th>1</th>\n      <td>1</td>\n      <td>tt0008663</td>\n      <td>A Man There Was</td>\n      <td>Terje Vigen</td>\n      <td>1917</td>\n      <td>\\N</td>\n      <td>65</td>\n      <td>1882.0</td>\n    </tr>\n    <tr>\n      <th>2</th>\n      <td>3</td>\n      <td>tt0010307</td>\n      <td>J'accuse!</td>\n      <td>NaN</td>\n      <td>1919</td>\n      <td>\\N</td>\n      <td>166</td>\n      <td>1692.0</td>\n    </tr>\n    <tr>\n      <th>3</th>\n      <td>18</td>\n      <td>tt0014429</td>\n      <td>Safety Last!</td>\n      <td>Safety Last!</td>\n      <td>1923</td>\n      <td>\\N</td>\n      <td>74</td>\n      <td>19898.0</td>\n    </tr>\n    <tr>\n      <th>4</th>\n      <td>27</td>\n      <td>tt0015175</td>\n      <td>Die Nibelungen: Siegfried</td>\n      <td>NaN</td>\n      <td>1924</td>\n      <td>\\N</td>\n      <td>143</td>\n      <td>5676.0</td>\n    </tr>\n    <tr>\n      <th>...</th>\n      <td>...</td>\n      <td>...</td>\n      <td>...</td>\n      <td>...</td>\n      <td>...</td>\n      <td>...</td>\n      <td>...</td>\n      <td>...</td>\n    </tr>\n    <tr>\n      <th>950</th>\n      <td>9974</td>\n      <td>tt9686154</td>\n      <td>You Will Die at 20</td>\n      <td>NaN</td>\n      <td>2019</td>\n      <td>\\N</td>\n      <td>103</td>\n      <td>2106.0</td>\n    </tr>\n    <tr>\n      <th>951</th>\n      <td>9976</td>\n      <td>tt9690328</td>\n      <td>Pápér Spidérs</td>\n      <td>Paper Spiders</td>\n      <td>2020</td>\n      <td>\\N</td>\n      <td>109</td>\n      <td>NaN</td>\n    </tr>\n    <tr>\n      <th>952</th>\n      <td>9980</td>\n      <td>tt9735790</td>\n      <td>Me You Madness</td>\n      <td>Me You Madness</td>\n      <td>2021</td>\n      <td>\\N</td>\n      <td>98</td>\n      <td>1056.0</td>\n    </tr>\n    <tr>\n      <th>953</th>\n      <td>9984</td>\n      <td>tt9769668</td>\n      <td>Tughlaq Durbar</td>\n      <td>Tughlaq Durbar</td>\n      <td>2021</td>\n      <td>\\N</td>\n      <td>145</td>\n      <td>1430.0</td>\n    </tr>\n    <tr>\n      <th>954</th>\n      <td>9989</td>\n      <td>tt9812614</td>\n      <td>Hope</td>\n      <td>NaN</td>\n      <td>2019</td>\n      <td>\\N</td>\n      <td>130</td>\n      <td>1402.0</td>\n    </tr>\n  </tbody>\n</table>\n<p>955 rows × 8 columns</p>\n</div>"
     },
     "execution_count": 104,
     "metadata": {},
     "output_type": "execute_result"
    }
   ],
   "source": [
    "validation = pd.read_csv(\"../datasets/imdb/validation_hidden.csv\", sep=',')\n",
    "validation"
   ],
   "metadata": {
    "collapsed": false
   }
  },
  {
   "cell_type": "code",
   "execution_count": 105,
   "outputs": [],
   "source": [
    "validation[\"startYear\"].replace(r\"\\N\", None, inplace=True)\n",
    "validation[\"startYear\"].fillna(validation['endYear'], inplace=True)\n",
    "validation[\"startYear\"] = validation[\"startYear\"].astype(int)"
   ],
   "metadata": {
    "collapsed": false
   }
  },
  {
   "cell_type": "code",
   "execution_count": 106,
   "outputs": [],
   "source": [
    "validation[\"primaryTitle\"] = validation[\"primaryTitle\"].str.lower()\n",
    "validation['primaryTitle'] = validation['primaryTitle'].apply(unidecode)"
   ],
   "metadata": {
    "collapsed": false
   }
  },
  {
   "cell_type": "code",
   "execution_count": 107,
   "outputs": [
    {
     "data": {
      "text/plain": "     Unnamed: 0     tconst               primaryTitle   originalTitle  \\\n0             0  tt0003740                    cabiria             NaN   \n1             1  tt0008663            a man there was     Terje Vigen   \n2             3  tt0010307                  j'accuse!             NaN   \n3            18  tt0014429               safety last!    Safety Last!   \n4            27  tt0015175  die nibelungen: siegfried             NaN   \n..          ...        ...                        ...             ...   \n954        9974  tt9686154         you will die at 20             NaN   \n955        9976  tt9690328              paper spiders   Paper Spiders   \n956        9980  tt9735790             me you madness  Me You Madness   \n957        9984  tt9769668             tughlaq durbar  Tughlaq Durbar   \n958        9989  tt9812614                       hope             NaN   \n\n     startYear endYear runtimeMinutes  numVotes   Genre  \\\n0         1914      \\N            148    3452.0     NaN   \n1         1917      \\N             65    1882.0     NaN   \n2         1919      \\N            166    1692.0     NaN   \n3         1923      \\N             74   19898.0  comedy   \n4         1924      \\N            143    5676.0     NaN   \n..         ...     ...            ...       ...     ...   \n954       2019      \\N            103    2106.0     NaN   \n955       2020      \\N            109       NaN     NaN   \n956       2021      \\N             98    1056.0     NaN   \n957       2021      \\N            145    1430.0     NaN   \n958       2019      \\N            130    1402.0     NaN   \n\n                                                  Plot  \n0                                                  NaN  \n1                                                  NaN  \n2                                                  NaN  \n3    The film opens in 1922 with Harold Lloyd (the ...  \n4                                                  NaN  \n..                                                 ...  \n954                                                NaN  \n955                                                NaN  \n956                                                NaN  \n957                                                NaN  \n958                                                NaN  \n\n[959 rows x 10 columns]",
      "text/html": "<div>\n<style scoped>\n    .dataframe tbody tr th:only-of-type {\n        vertical-align: middle;\n    }\n\n    .dataframe tbody tr th {\n        vertical-align: top;\n    }\n\n    .dataframe thead th {\n        text-align: right;\n    }\n</style>\n<table border=\"1\" class=\"dataframe\">\n  <thead>\n    <tr style=\"text-align: right;\">\n      <th></th>\n      <th>Unnamed: 0</th>\n      <th>tconst</th>\n      <th>primaryTitle</th>\n      <th>originalTitle</th>\n      <th>startYear</th>\n      <th>endYear</th>\n      <th>runtimeMinutes</th>\n      <th>numVotes</th>\n      <th>Genre</th>\n      <th>Plot</th>\n    </tr>\n  </thead>\n  <tbody>\n    <tr>\n      <th>0</th>\n      <td>0</td>\n      <td>tt0003740</td>\n      <td>cabiria</td>\n      <td>NaN</td>\n      <td>1914</td>\n      <td>\\N</td>\n      <td>148</td>\n      <td>3452.0</td>\n      <td>NaN</td>\n      <td>NaN</td>\n    </tr>\n    <tr>\n      <th>1</th>\n      <td>1</td>\n      <td>tt0008663</td>\n      <td>a man there was</td>\n      <td>Terje Vigen</td>\n      <td>1917</td>\n      <td>\\N</td>\n      <td>65</td>\n      <td>1882.0</td>\n      <td>NaN</td>\n      <td>NaN</td>\n    </tr>\n    <tr>\n      <th>2</th>\n      <td>3</td>\n      <td>tt0010307</td>\n      <td>j'accuse!</td>\n      <td>NaN</td>\n      <td>1919</td>\n      <td>\\N</td>\n      <td>166</td>\n      <td>1692.0</td>\n      <td>NaN</td>\n      <td>NaN</td>\n    </tr>\n    <tr>\n      <th>3</th>\n      <td>18</td>\n      <td>tt0014429</td>\n      <td>safety last!</td>\n      <td>Safety Last!</td>\n      <td>1923</td>\n      <td>\\N</td>\n      <td>74</td>\n      <td>19898.0</td>\n      <td>comedy</td>\n      <td>The film opens in 1922 with Harold Lloyd (the ...</td>\n    </tr>\n    <tr>\n      <th>4</th>\n      <td>27</td>\n      <td>tt0015175</td>\n      <td>die nibelungen: siegfried</td>\n      <td>NaN</td>\n      <td>1924</td>\n      <td>\\N</td>\n      <td>143</td>\n      <td>5676.0</td>\n      <td>NaN</td>\n      <td>NaN</td>\n    </tr>\n    <tr>\n      <th>...</th>\n      <td>...</td>\n      <td>...</td>\n      <td>...</td>\n      <td>...</td>\n      <td>...</td>\n      <td>...</td>\n      <td>...</td>\n      <td>...</td>\n      <td>...</td>\n      <td>...</td>\n    </tr>\n    <tr>\n      <th>954</th>\n      <td>9974</td>\n      <td>tt9686154</td>\n      <td>you will die at 20</td>\n      <td>NaN</td>\n      <td>2019</td>\n      <td>\\N</td>\n      <td>103</td>\n      <td>2106.0</td>\n      <td>NaN</td>\n      <td>NaN</td>\n    </tr>\n    <tr>\n      <th>955</th>\n      <td>9976</td>\n      <td>tt9690328</td>\n      <td>paper spiders</td>\n      <td>Paper Spiders</td>\n      <td>2020</td>\n      <td>\\N</td>\n      <td>109</td>\n      <td>NaN</td>\n      <td>NaN</td>\n      <td>NaN</td>\n    </tr>\n    <tr>\n      <th>956</th>\n      <td>9980</td>\n      <td>tt9735790</td>\n      <td>me you madness</td>\n      <td>Me You Madness</td>\n      <td>2021</td>\n      <td>\\N</td>\n      <td>98</td>\n      <td>1056.0</td>\n      <td>NaN</td>\n      <td>NaN</td>\n    </tr>\n    <tr>\n      <th>957</th>\n      <td>9984</td>\n      <td>tt9769668</td>\n      <td>tughlaq durbar</td>\n      <td>Tughlaq Durbar</td>\n      <td>2021</td>\n      <td>\\N</td>\n      <td>145</td>\n      <td>1430.0</td>\n      <td>NaN</td>\n      <td>NaN</td>\n    </tr>\n    <tr>\n      <th>958</th>\n      <td>9989</td>\n      <td>tt9812614</td>\n      <td>hope</td>\n      <td>NaN</td>\n      <td>2019</td>\n      <td>\\N</td>\n      <td>130</td>\n      <td>1402.0</td>\n      <td>NaN</td>\n      <td>NaN</td>\n    </tr>\n  </tbody>\n</table>\n<p>959 rows × 10 columns</p>\n</div>"
     },
     "execution_count": 107,
     "metadata": {},
     "output_type": "execute_result"
    }
   ],
   "source": [
    "pd.merge(validation, wiki[[\"primaryTitle\", \"Genre\", \"startYear\", \"Plot\"]],on=[\"primaryTitle\", \"startYear\"], how=\"left\")"
   ],
   "metadata": {
    "collapsed": false
   }
  },
  {
   "cell_type": "markdown",
   "source": [
    "### Test data"
   ],
   "metadata": {
    "collapsed": false
   }
  },
  {
   "cell_type": "code",
   "execution_count": null,
   "outputs": [],
   "source": [],
   "metadata": {
    "collapsed": false
   }
  }
 ],
 "metadata": {
  "kernelspec": {
   "display_name": "Python 3",
   "language": "python",
   "name": "python3"
  },
  "language_info": {
   "codemirror_mode": {
    "name": "ipython",
    "version": 2
   },
   "file_extension": ".py",
   "mimetype": "text/x-python",
   "name": "python",
   "nbconvert_exporter": "python",
   "pygments_lexer": "ipython2",
   "version": "2.7.6"
  }
 },
 "nbformat": 4,
 "nbformat_minor": 0
}

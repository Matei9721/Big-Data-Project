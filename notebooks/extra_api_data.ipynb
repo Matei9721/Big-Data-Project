{
 "cells": [
  {
   "cell_type": "markdown",
   "source": [
    "### Adding extra movie data using https://www.omdbapi.com/"
   ],
   "metadata": {
    "collapsed": false
   }
  },
  {
   "cell_type": "code",
   "execution_count": 2,
   "outputs": [],
   "source": [
    "from pyspark.sql import SparkSession\n",
    "import requests\n",
    "from pyspark.sql.functions import udf\n",
    "from pyspark.sql.types import StructType, StructField, StringType\n",
    "\n",
    "spark = SparkSession.builder.appName(\"big_data\").getOrCreate()\n",
    "\n",
    "odb_api_key = \"Replace with your own key\""
   ],
   "metadata": {
    "collapsed": false
   }
  },
  {
   "cell_type": "code",
   "execution_count": 9,
   "outputs": [
    {
     "data": {
      "text/plain": "<pyspark.sql.session.SparkSession at 0x26dd8f0af70>",
      "text/html": "\n            <div>\n                <p><b>SparkSession - in-memory</b></p>\n                \n        <div>\n            <p><b>SparkContext</b></p>\n\n            <p><a href=\"http://DESKTOP-V27DAJS:4041\">Spark UI</a></p>\n\n            <dl>\n              <dt>Version</dt>\n                <dd><code>v3.3.2</code></dd>\n              <dt>Master</dt>\n                <dd><code>local[*]</code></dd>\n              <dt>AppName</dt>\n                <dd><code>MyApp</code></dd>\n            </dl>\n        </div>\n        \n            </div>\n        "
     },
     "execution_count": 9,
     "metadata": {},
     "output_type": "execute_result"
    }
   ],
   "source": [
    "spark"
   ],
   "metadata": {
    "collapsed": false
   }
  },
  {
   "cell_type": "markdown",
   "source": [
    "### Read train, validation and test data into Spark dataframe"
   ],
   "metadata": {
    "collapsed": false
   }
  },
  {
   "cell_type": "code",
   "execution_count": null,
   "outputs": [],
   "source": [
    "# Train df contains all 8 different CSVs concatenated\n",
    "train_df_spark = spark.read.option(\"escape\", \"\\\"\").csv(\"/kaggle/input/imdb-big-data/complete_train.csv\", inferSchema=True, header=True)\n",
    "validation_df_spark = spark.option(\"escape\", \"\\\"\").read.csv(\"/kaggle/input/imdb-big-data/validation_hidden.csv\", inferSchema=True, header=True)\n",
    "test_df_spark = spark.read.option(\"escape\", \"\\\"\").csv(\"/kaggle/input/imdb-big-data/test_hidden.csv\", inferSchema=True, header=True)"
   ],
   "metadata": {
    "collapsed": false
   }
  },
  {
   "cell_type": "code",
   "execution_count": null,
   "outputs": [],
   "source": [
    "def add_omdb_api_data(spark_df):\n",
    "    # Define the UDF function that takes a value from a DataFrame column and returns data from an API\n",
    "    def api_udf(value):\n",
    "\n",
    "        try:\n",
    "            # Make an API call with the value\n",
    "            response = requests.get(f\"https://www.omdbapi.com/?plot=full&i={value}&apikey={odb_api_key}\")\n",
    "\n",
    "            # Extract the data from the API response\n",
    "            data = response.json()\n",
    "            genre = data[\"Genre\"]\n",
    "            plot = data[\"Plot\"]\n",
    "            actors = data[\"Actors\"]\n",
    "            language = data[\"Language\"]\n",
    "            country = data[\"Country\"]\n",
    "            awards = data[\"Awards\"]\n",
    "            boxoffice = data[\"BoxOffice\"]\n",
    "            rating = data[\"imdbRating\"]\n",
    "            entry_type = data[\"Type\"]\n",
    "            production = data[\"Production\"]\n",
    "            imdb_votes = data[\"imdbVotes\"]\n",
    "            imdb_year = data[\"Year\"]\n",
    "\n",
    "            # Return a tuple with the new column values\n",
    "            return genre, plot, actors, language,country, awards, boxoffice, rating, entry_type, production, imdb_votes, imdb_year\n",
    "\n",
    "        except Exception as e:\n",
    "            print(f\"Error arose for movie with id {value}: \", e)\n",
    "            # Put Nulls in all columns\n",
    "            return (None, ) * 12\n",
    "\n",
    "    new_columns = [\"genre\", \"plot\", \"actors\", \"language\", \"country\", \"awards\", \"boxoffice\", \"rating\", \"entry_type\", \"production\", \"imdb_votes\", \"imdb_year\"]\n",
    "\n",
    "    # Define the schema for the new columns\n",
    "    new_columns_schema = StructType([StructField(column, StringType(), True) for column in new_columns])\n",
    "\n",
    "    # Create the UDF\n",
    "    api_udf = udf(api_udf, new_columns_schema)\n",
    "\n",
    "    # Apply the UDF on a DataFrame column to create new columns with data from the API\n",
    "    df_spark = spark_df.withColumn(\"new_columns\", api_udf(spark_df[\"tconst\"]))\n",
    "\n",
    "    # Extract the new columns from the struct column and add them to the DataFrame\n",
    "    for col in new_columns:\n",
    "        spark_df = spark_df.withColumn(col, spark_df[\"new_columns\"].getField(col))\n",
    "\n",
    "    # Drop the struct column\n",
    "    spark_df = df_spark.drop(\"new_columns\")\n",
    "\n",
    "    return spark_df"
   ],
   "metadata": {
    "collapsed": false
   }
  },
  {
   "cell_type": "code",
   "execution_count": null,
   "outputs": [],
   "source": [
    "# Apply function to add extra data on all 3 datasets\n",
    "train_df_spark = add_omdb_api_data(train_df_spark)\n",
    "validation_df_spark = add_omdb_api_data(validation_df_spark)\n",
    "test_df_spark = add_omdb_api_data(test_df_spark)"
   ],
   "metadata": {
    "collapsed": false
   }
  },
  {
   "cell_type": "code",
   "execution_count": null,
   "outputs": [],
   "source": [
    "train_df_spark.toPandas().to_csv(\"train_movies_extra_data_new.csv\", index=False)\n",
    "validation_df_spark.toPandas().to_csv(\"validation_extra_data.csv\", index=False)\n",
    "test_df_spark.toPandas().to_csv(\"test_extra_data.csv\", index=False)"
   ],
   "metadata": {
    "collapsed": false
   }
  }
 ],
 "metadata": {
  "kernelspec": {
   "display_name": "Python 3",
   "language": "python",
   "name": "python3"
  },
  "language_info": {
   "codemirror_mode": {
    "name": "ipython",
    "version": 2
   },
   "file_extension": ".py",
   "mimetype": "text/x-python",
   "name": "python",
   "nbconvert_exporter": "python",
   "pygments_lexer": "ipython2",
   "version": "2.7.6"
  }
 },
 "nbformat": 4,
 "nbformat_minor": 0
}

{
 "cells": [
  {
   "cell_type": "code",
   "execution_count": 1,
   "metadata": {
    "collapsed": true
   },
   "outputs": [],
   "source": [
    "import pandas as pd\n",
    "from unidecode import unidecode"
   ]
  },
  {
   "cell_type": "code",
   "execution_count": 2,
   "outputs": [
    {
     "data": {
      "text/plain": "       Release Year                             Title Origin/Ethnicity  \\\n0              1901            Kansas Saloon Smashers         American   \n1              1901     Love by the Light of the Moon         American   \n2              1901           The Martyred Presidents         American   \n3              1901  Terrible Teddy, the Grizzly King         American   \n4              1902            Jack and the Beanstalk         American   \n...             ...                               ...              ...   \n34881          2014                 The Water Diviner          Turkish   \n34882          2017                Çalgı Çengi İkimiz          Turkish   \n34883          2017                      Olanlar Oldu          Turkish   \n34884          2017                  Non-Transferable          Turkish   \n34885          2017                İstanbul Kırmızısı          Turkish   \n\n                                 Director  \\\n0                                 Unknown   \n1                                 Unknown   \n2                                 Unknown   \n3                                 Unknown   \n4      George S. Fleming, Edwin S. Porter   \n...                                   ...   \n34881             Director: Russell Crowe   \n34882                      Selçuk Aydemir   \n34883                         Hakan Algül   \n34884                     Brendan Bradley   \n34885                      Ferzan Özpetek   \n\n                                                    Cast            Genre  \\\n0                                                    NaN          unknown   \n1                                                    NaN          unknown   \n2                                                    NaN          unknown   \n3                                                    NaN          unknown   \n4                                                    NaN          unknown   \n...                                                  ...              ...   \n34881  Director: Russell Crowe\\r\\nCast: Russell Crowe...          unknown   \n34882                          Ahmet Kural, Murat Cemcir           comedy   \n34883              Ata Demirer, Tuvana Türkay, Ülkü Duru           comedy   \n34884  YouTubers Shanna Malcolm, Shira Lazar, Sara Fl...  romantic comedy   \n34885  Halit Ergenç, Tuba Büyüküstün, Mehmet Günsür, ...         romantic   \n\n                                               Wiki Page  \\\n0      https://en.wikipedia.org/wiki/Kansas_Saloon_Sm...   \n1      https://en.wikipedia.org/wiki/Love_by_the_Ligh...   \n2      https://en.wikipedia.org/wiki/The_Martyred_Pre...   \n3      https://en.wikipedia.org/wiki/Terrible_Teddy,_...   \n4      https://en.wikipedia.org/wiki/Jack_and_the_Bea...   \n...                                                  ...   \n34881    https://en.wikipedia.org/wiki/The_Water_Diviner   \n34882  https://en.wikipedia.org/wiki/%C3%87alg%C4%B1_...   \n34883         https://en.wikipedia.org/wiki/Olanlar_Oldu   \n34884  https://en.wikipedia.org/wiki/Non-Transferable...   \n34885  https://en.wikipedia.org/wiki/%C4%B0stanbul_K%...   \n\n                                                    Plot  \n0      A bartender is working at a saloon, serving dr...  \n1      The moon, painted with a smiling face hangs ov...  \n2      The film, just over a minute long, is composed...  \n3      Lasting just 61 seconds and consisting of two ...  \n4      The earliest known adaptation of the classic f...  \n...                                                  ...  \n34881  The film begins in 1919, just after World War ...  \n34882  Two musicians, Salih and Gürkan, described the...  \n34883  Zafer, a sailor living with his mother Döndü i...  \n34884  The film centres around a young woman named Am...  \n34885  The writer Orhan Şahin returns to İstanbul aft...  \n\n[34886 rows x 8 columns]",
      "text/html": "<div>\n<style scoped>\n    .dataframe tbody tr th:only-of-type {\n        vertical-align: middle;\n    }\n\n    .dataframe tbody tr th {\n        vertical-align: top;\n    }\n\n    .dataframe thead th {\n        text-align: right;\n    }\n</style>\n<table border=\"1\" class=\"dataframe\">\n  <thead>\n    <tr style=\"text-align: right;\">\n      <th></th>\n      <th>Release Year</th>\n      <th>Title</th>\n      <th>Origin/Ethnicity</th>\n      <th>Director</th>\n      <th>Cast</th>\n      <th>Genre</th>\n      <th>Wiki Page</th>\n      <th>Plot</th>\n    </tr>\n  </thead>\n  <tbody>\n    <tr>\n      <th>0</th>\n      <td>1901</td>\n      <td>Kansas Saloon Smashers</td>\n      <td>American</td>\n      <td>Unknown</td>\n      <td>NaN</td>\n      <td>unknown</td>\n      <td>https://en.wikipedia.org/wiki/Kansas_Saloon_Sm...</td>\n      <td>A bartender is working at a saloon, serving dr...</td>\n    </tr>\n    <tr>\n      <th>1</th>\n      <td>1901</td>\n      <td>Love by the Light of the Moon</td>\n      <td>American</td>\n      <td>Unknown</td>\n      <td>NaN</td>\n      <td>unknown</td>\n      <td>https://en.wikipedia.org/wiki/Love_by_the_Ligh...</td>\n      <td>The moon, painted with a smiling face hangs ov...</td>\n    </tr>\n    <tr>\n      <th>2</th>\n      <td>1901</td>\n      <td>The Martyred Presidents</td>\n      <td>American</td>\n      <td>Unknown</td>\n      <td>NaN</td>\n      <td>unknown</td>\n      <td>https://en.wikipedia.org/wiki/The_Martyred_Pre...</td>\n      <td>The film, just over a minute long, is composed...</td>\n    </tr>\n    <tr>\n      <th>3</th>\n      <td>1901</td>\n      <td>Terrible Teddy, the Grizzly King</td>\n      <td>American</td>\n      <td>Unknown</td>\n      <td>NaN</td>\n      <td>unknown</td>\n      <td>https://en.wikipedia.org/wiki/Terrible_Teddy,_...</td>\n      <td>Lasting just 61 seconds and consisting of two ...</td>\n    </tr>\n    <tr>\n      <th>4</th>\n      <td>1902</td>\n      <td>Jack and the Beanstalk</td>\n      <td>American</td>\n      <td>George S. Fleming, Edwin S. Porter</td>\n      <td>NaN</td>\n      <td>unknown</td>\n      <td>https://en.wikipedia.org/wiki/Jack_and_the_Bea...</td>\n      <td>The earliest known adaptation of the classic f...</td>\n    </tr>\n    <tr>\n      <th>...</th>\n      <td>...</td>\n      <td>...</td>\n      <td>...</td>\n      <td>...</td>\n      <td>...</td>\n      <td>...</td>\n      <td>...</td>\n      <td>...</td>\n    </tr>\n    <tr>\n      <th>34881</th>\n      <td>2014</td>\n      <td>The Water Diviner</td>\n      <td>Turkish</td>\n      <td>Director: Russell Crowe</td>\n      <td>Director: Russell Crowe\\r\\nCast: Russell Crowe...</td>\n      <td>unknown</td>\n      <td>https://en.wikipedia.org/wiki/The_Water_Diviner</td>\n      <td>The film begins in 1919, just after World War ...</td>\n    </tr>\n    <tr>\n      <th>34882</th>\n      <td>2017</td>\n      <td>Çalgı Çengi İkimiz</td>\n      <td>Turkish</td>\n      <td>Selçuk Aydemir</td>\n      <td>Ahmet Kural, Murat Cemcir</td>\n      <td>comedy</td>\n      <td>https://en.wikipedia.org/wiki/%C3%87alg%C4%B1_...</td>\n      <td>Two musicians, Salih and Gürkan, described the...</td>\n    </tr>\n    <tr>\n      <th>34883</th>\n      <td>2017</td>\n      <td>Olanlar Oldu</td>\n      <td>Turkish</td>\n      <td>Hakan Algül</td>\n      <td>Ata Demirer, Tuvana Türkay, Ülkü Duru</td>\n      <td>comedy</td>\n      <td>https://en.wikipedia.org/wiki/Olanlar_Oldu</td>\n      <td>Zafer, a sailor living with his mother Döndü i...</td>\n    </tr>\n    <tr>\n      <th>34884</th>\n      <td>2017</td>\n      <td>Non-Transferable</td>\n      <td>Turkish</td>\n      <td>Brendan Bradley</td>\n      <td>YouTubers Shanna Malcolm, Shira Lazar, Sara Fl...</td>\n      <td>romantic comedy</td>\n      <td>https://en.wikipedia.org/wiki/Non-Transferable...</td>\n      <td>The film centres around a young woman named Am...</td>\n    </tr>\n    <tr>\n      <th>34885</th>\n      <td>2017</td>\n      <td>İstanbul Kırmızısı</td>\n      <td>Turkish</td>\n      <td>Ferzan Özpetek</td>\n      <td>Halit Ergenç, Tuba Büyüküstün, Mehmet Günsür, ...</td>\n      <td>romantic</td>\n      <td>https://en.wikipedia.org/wiki/%C4%B0stanbul_K%...</td>\n      <td>The writer Orhan Şahin returns to İstanbul aft...</td>\n    </tr>\n  </tbody>\n</table>\n<p>34886 rows × 8 columns</p>\n</div>"
     },
     "execution_count": 2,
     "metadata": {},
     "output_type": "execute_result"
    }
   ],
   "source": [
    "wiki = pd.read_csv(\"../datasets/wiki_movie_plots_deduped.csv\")\n",
    "wiki"
   ],
   "metadata": {
    "collapsed": false
   }
  },
  {
   "cell_type": "code",
   "execution_count": 3,
   "outputs": [
    {
     "data": {
      "text/plain": "       _c0     tconst                                   primaryTitle  \\\n0        4  tt0010600                                       The Doll   \n1        7  tt0011841                                  Way Down East   \n2        9  tt0012494                                        Déstiny   \n3       25  tt0015163                                  The Navigator   \n4       38  tt0016220                       The Phantom of the Opera   \n...    ...        ...                                            ...   \n7954  9966  tt9625664                                  Trauma Center   \n7955  9981  tt9741310                                          Slaxx   \n7956  9982  tt9742392                                        Kindred   \n7957  9996  tt9850386  The Bee Gees: How Can You Mend a Broken Heart   \n7958  9999  tt9911196                            The Marriage Escape   \n\n                       originalTitle  startYear endYear runtimeMinutes  \\\n0                          Die Puppe       1919      \\N             66   \n1                      Way Down East       1920      \\N            145   \n2                       Der müde Tod       1921      \\N             97   \n3                      The Navigator       1924      \\N             59   \n4           The Phantom of the Opera       1925      \\N             93   \n...                              ...        ...     ...            ...   \n7954                             NaN       2019      \\N             87   \n7955                           Slaxx       2020      \\N             77   \n7956                         Kindred       2020      \\N            101   \n7957                             NaN       2020      \\N            111   \n7958  De beentjes van Sint-Hildegard       2020      \\N            103   \n\n      numVotes  label                                               plot  \\\n0       1898.0   True    The Doll is a 1919 silent film directed by E...   \n1       5376.0   True    The Way Down East is a 1920 silent film dire...   \n2       5842.0   True    Destiny is a 1921 German silent fantasy film...   \n3       9652.0   True    The Navigator is a 1924 silent comedy film s...   \n4      17887.0   True    The Phantom of the Opera is a 1925 silent ho...   \n...        ...    ...                                                ...   \n7954   12951.0  False    The Trauma Center is a 2019 drama film direc...   \n7955    2464.0  False    Slaxx is a 2020 horror-comedy about a posses...   \n7956    1719.0  False    The Kindred is a 2020 science fiction horror...   \n7957    4144.0   True    The Bee Gees: How Can You Mend a Broken Hear...   \n7958    3242.0   True    The Marriage Escape is a 2020 romantic comed...   \n\n      awards  \n0          0  \n1          1  \n2          0  \n3          0  \n4          0  \n...      ...  \n7954       0  \n7955       0  \n7956       0  \n7957       0  \n7958       0  \n\n[7959 rows x 11 columns]",
      "text/html": "<div>\n<style scoped>\n    .dataframe tbody tr th:only-of-type {\n        vertical-align: middle;\n    }\n\n    .dataframe tbody tr th {\n        vertical-align: top;\n    }\n\n    .dataframe thead th {\n        text-align: right;\n    }\n</style>\n<table border=\"1\" class=\"dataframe\">\n  <thead>\n    <tr style=\"text-align: right;\">\n      <th></th>\n      <th>_c0</th>\n      <th>tconst</th>\n      <th>primaryTitle</th>\n      <th>originalTitle</th>\n      <th>startYear</th>\n      <th>endYear</th>\n      <th>runtimeMinutes</th>\n      <th>numVotes</th>\n      <th>label</th>\n      <th>plot</th>\n      <th>awards</th>\n    </tr>\n  </thead>\n  <tbody>\n    <tr>\n      <th>0</th>\n      <td>4</td>\n      <td>tt0010600</td>\n      <td>The Doll</td>\n      <td>Die Puppe</td>\n      <td>1919</td>\n      <td>\\N</td>\n      <td>66</td>\n      <td>1898.0</td>\n      <td>True</td>\n      <td>The Doll is a 1919 silent film directed by E...</td>\n      <td>0</td>\n    </tr>\n    <tr>\n      <th>1</th>\n      <td>7</td>\n      <td>tt0011841</td>\n      <td>Way Down East</td>\n      <td>Way Down East</td>\n      <td>1920</td>\n      <td>\\N</td>\n      <td>145</td>\n      <td>5376.0</td>\n      <td>True</td>\n      <td>The Way Down East is a 1920 silent film dire...</td>\n      <td>1</td>\n    </tr>\n    <tr>\n      <th>2</th>\n      <td>9</td>\n      <td>tt0012494</td>\n      <td>Déstiny</td>\n      <td>Der müde Tod</td>\n      <td>1921</td>\n      <td>\\N</td>\n      <td>97</td>\n      <td>5842.0</td>\n      <td>True</td>\n      <td>Destiny is a 1921 German silent fantasy film...</td>\n      <td>0</td>\n    </tr>\n    <tr>\n      <th>3</th>\n      <td>25</td>\n      <td>tt0015163</td>\n      <td>The Navigator</td>\n      <td>The Navigator</td>\n      <td>1924</td>\n      <td>\\N</td>\n      <td>59</td>\n      <td>9652.0</td>\n      <td>True</td>\n      <td>The Navigator is a 1924 silent comedy film s...</td>\n      <td>0</td>\n    </tr>\n    <tr>\n      <th>4</th>\n      <td>38</td>\n      <td>tt0016220</td>\n      <td>The Phantom of the Opera</td>\n      <td>The Phantom of the Opera</td>\n      <td>1925</td>\n      <td>\\N</td>\n      <td>93</td>\n      <td>17887.0</td>\n      <td>True</td>\n      <td>The Phantom of the Opera is a 1925 silent ho...</td>\n      <td>0</td>\n    </tr>\n    <tr>\n      <th>...</th>\n      <td>...</td>\n      <td>...</td>\n      <td>...</td>\n      <td>...</td>\n      <td>...</td>\n      <td>...</td>\n      <td>...</td>\n      <td>...</td>\n      <td>...</td>\n      <td>...</td>\n      <td>...</td>\n    </tr>\n    <tr>\n      <th>7954</th>\n      <td>9966</td>\n      <td>tt9625664</td>\n      <td>Trauma Center</td>\n      <td>NaN</td>\n      <td>2019</td>\n      <td>\\N</td>\n      <td>87</td>\n      <td>12951.0</td>\n      <td>False</td>\n      <td>The Trauma Center is a 2019 drama film direc...</td>\n      <td>0</td>\n    </tr>\n    <tr>\n      <th>7955</th>\n      <td>9981</td>\n      <td>tt9741310</td>\n      <td>Slaxx</td>\n      <td>Slaxx</td>\n      <td>2020</td>\n      <td>\\N</td>\n      <td>77</td>\n      <td>2464.0</td>\n      <td>False</td>\n      <td>Slaxx is a 2020 horror-comedy about a posses...</td>\n      <td>0</td>\n    </tr>\n    <tr>\n      <th>7956</th>\n      <td>9982</td>\n      <td>tt9742392</td>\n      <td>Kindred</td>\n      <td>Kindred</td>\n      <td>2020</td>\n      <td>\\N</td>\n      <td>101</td>\n      <td>1719.0</td>\n      <td>False</td>\n      <td>The Kindred is a 2020 science fiction horror...</td>\n      <td>0</td>\n    </tr>\n    <tr>\n      <th>7957</th>\n      <td>9996</td>\n      <td>tt9850386</td>\n      <td>The Bee Gees: How Can You Mend a Broken Heart</td>\n      <td>NaN</td>\n      <td>2020</td>\n      <td>\\N</td>\n      <td>111</td>\n      <td>4144.0</td>\n      <td>True</td>\n      <td>The Bee Gees: How Can You Mend a Broken Hear...</td>\n      <td>0</td>\n    </tr>\n    <tr>\n      <th>7958</th>\n      <td>9999</td>\n      <td>tt9911196</td>\n      <td>The Marriage Escape</td>\n      <td>De beentjes van Sint-Hildegard</td>\n      <td>2020</td>\n      <td>\\N</td>\n      <td>103</td>\n      <td>3242.0</td>\n      <td>True</td>\n      <td>The Marriage Escape is a 2020 romantic comed...</td>\n      <td>0</td>\n    </tr>\n  </tbody>\n</table>\n<p>7959 rows × 11 columns</p>\n</div>"
     },
     "execution_count": 3,
     "metadata": {},
     "output_type": "execute_result"
    }
   ],
   "source": [
    "train = pd.read_csv(\"../datasets/gpt_data/train_plot_awards.csv\", sep=',')\n",
    "train"
   ],
   "metadata": {
    "collapsed": false
   }
  },
  {
   "cell_type": "code",
   "execution_count": 4,
   "outputs": [],
   "source": [
    "train[\"startYear\"].replace(r\"\\N\", None, inplace=True)\n",
    "train[\"startYear\"].fillna(train['endYear'], inplace=True)\n",
    "train[\"startYear\"] = train[\"startYear\"].astype(int)"
   ],
   "metadata": {
    "collapsed": false
   }
  },
  {
   "cell_type": "code",
   "execution_count": 5,
   "outputs": [],
   "source": [
    "train[\"primaryTitle\"] = train[\"primaryTitle\"].str.lower()\n",
    "train['primaryTitle'] = train['primaryTitle'].apply(unidecode)"
   ],
   "metadata": {
    "collapsed": false
   }
  },
  {
   "cell_type": "code",
   "execution_count": 3,
   "outputs": [],
   "source": [
    "wiki[\"Title\"] = wiki[\"Title\"].str.lower()\n",
    "wiki.rename({\"Title\": \"primaryTitle\"}, axis=1, inplace=True)\n",
    "wiki.rename({\"Release Year\": \"startYear\"}, axis=1, inplace=True)\n",
    "wiki['primaryTitle'] = wiki['primaryTitle'].apply(unidecode)"
   ],
   "metadata": {
    "collapsed": false
   }
  },
  {
   "cell_type": "code",
   "execution_count": 4,
   "outputs": [],
   "source": [
    "# remove rows where the 'name' column is a duplicate\n",
    "wiki = wiki.drop_duplicates(subset=['primaryTitle'], keep='last')"
   ],
   "metadata": {
    "collapsed": false
   }
  },
  {
   "cell_type": "code",
   "execution_count": 5,
   "outputs": [
    {
     "data": {
      "text/plain": "       startYear  primaryTitle Origin/Ethnicity                     Director  \\\n21498       2014  interstellar          British  Director: Christopher Nolan   \n\n                                                    Cast    Genre  \\\n21498  Director: Christopher Nolan\\r\\nCast: Matthew M...  unknown   \n\n                                               Wiki Page  \\\n21498  https://en.wikipedia.org/wiki/Interstellar_(film)   \n\n                                                    Plot  \n21498  In the mid-21st century, crop blights and dust...  ",
      "text/html": "<div>\n<style scoped>\n    .dataframe tbody tr th:only-of-type {\n        vertical-align: middle;\n    }\n\n    .dataframe tbody tr th {\n        vertical-align: top;\n    }\n\n    .dataframe thead th {\n        text-align: right;\n    }\n</style>\n<table border=\"1\" class=\"dataframe\">\n  <thead>\n    <tr style=\"text-align: right;\">\n      <th></th>\n      <th>startYear</th>\n      <th>primaryTitle</th>\n      <th>Origin/Ethnicity</th>\n      <th>Director</th>\n      <th>Cast</th>\n      <th>Genre</th>\n      <th>Wiki Page</th>\n      <th>Plot</th>\n    </tr>\n  </thead>\n  <tbody>\n    <tr>\n      <th>21498</th>\n      <td>2014</td>\n      <td>interstellar</td>\n      <td>British</td>\n      <td>Director: Christopher Nolan</td>\n      <td>Director: Christopher Nolan\\r\\nCast: Matthew M...</td>\n      <td>unknown</td>\n      <td>https://en.wikipedia.org/wiki/Interstellar_(film)</td>\n      <td>In the mid-21st century, crop blights and dust...</td>\n    </tr>\n  </tbody>\n</table>\n</div>"
     },
     "execution_count": 5,
     "metadata": {},
     "output_type": "execute_result"
    }
   ],
   "source": [
    "# find the duplicate rows based on all columns\n",
    "wiki[wiki[\"primaryTitle\"] == \"interstellar\"]"
   ],
   "metadata": {
    "collapsed": false
   }
  },
  {
   "cell_type": "code",
   "execution_count": 9,
   "outputs": [
    {
     "data": {
      "text/plain": "       _c0     tconst                                   primaryTitle  \\\n0        4  tt0010600                                       the doll   \n1        7  tt0011841                                  way down east   \n2        9  tt0012494                                        destiny   \n3       25  tt0015163                                  the navigator   \n4       38  tt0016220                       the phantom of the opera   \n...    ...        ...                                            ...   \n7954  9966  tt9625664                                  trauma center   \n7955  9981  tt9741310                                          slaxx   \n7956  9982  tt9742392                                        kindred   \n7957  9996  tt9850386  the bee gees: how can you mend a broken heart   \n7958  9999  tt9911196                            the marriage escape   \n\n                       originalTitle  startYear endYear runtimeMinutes  \\\n0                          Die Puppe       1919      \\N             66   \n1                      Way Down East       1920      \\N            145   \n2                       Der müde Tod       1921      \\N             97   \n3                      The Navigator       1924      \\N             59   \n4           The Phantom of the Opera       1925      \\N             93   \n...                              ...        ...     ...            ...   \n7954                             NaN       2019      \\N             87   \n7955                           Slaxx       2020      \\N             77   \n7956                         Kindred       2020      \\N            101   \n7957                             NaN       2020      \\N            111   \n7958  De beentjes van Sint-Hildegard       2020      \\N            103   \n\n      numVotes  label                                               plot  \\\n0       1898.0   True    The Doll is a 1919 silent film directed by E...   \n1       5376.0   True    The Way Down East is a 1920 silent film dire...   \n2       5842.0   True    Destiny is a 1921 German silent fantasy film...   \n3       9652.0   True    The Navigator is a 1924 silent comedy film s...   \n4      17887.0   True    The Phantom of the Opera is a 1925 silent ho...   \n...        ...    ...                                                ...   \n7954   12951.0  False    The Trauma Center is a 2019 drama film direc...   \n7955    2464.0  False    Slaxx is a 2020 horror-comedy about a posses...   \n7956    1719.0  False    The Kindred is a 2020 science fiction horror...   \n7957    4144.0   True    The Bee Gees: How Can You Mend a Broken Hear...   \n7958    3242.0   True    The Marriage Escape is a 2020 romantic comed...   \n\n      awards   Genre  \n0          0     NaN  \n1          1     NaN  \n2          0     NaN  \n3          0  comedy  \n4          0     NaN  \n...      ...     ...  \n7954       0     NaN  \n7955       0     NaN  \n7956       0     NaN  \n7957       0     NaN  \n7958       0     NaN  \n\n[7959 rows x 12 columns]",
      "text/html": "<div>\n<style scoped>\n    .dataframe tbody tr th:only-of-type {\n        vertical-align: middle;\n    }\n\n    .dataframe tbody tr th {\n        vertical-align: top;\n    }\n\n    .dataframe thead th {\n        text-align: right;\n    }\n</style>\n<table border=\"1\" class=\"dataframe\">\n  <thead>\n    <tr style=\"text-align: right;\">\n      <th></th>\n      <th>_c0</th>\n      <th>tconst</th>\n      <th>primaryTitle</th>\n      <th>originalTitle</th>\n      <th>startYear</th>\n      <th>endYear</th>\n      <th>runtimeMinutes</th>\n      <th>numVotes</th>\n      <th>label</th>\n      <th>plot</th>\n      <th>awards</th>\n      <th>Genre</th>\n    </tr>\n  </thead>\n  <tbody>\n    <tr>\n      <th>0</th>\n      <td>4</td>\n      <td>tt0010600</td>\n      <td>the doll</td>\n      <td>Die Puppe</td>\n      <td>1919</td>\n      <td>\\N</td>\n      <td>66</td>\n      <td>1898.0</td>\n      <td>True</td>\n      <td>The Doll is a 1919 silent film directed by E...</td>\n      <td>0</td>\n      <td>NaN</td>\n    </tr>\n    <tr>\n      <th>1</th>\n      <td>7</td>\n      <td>tt0011841</td>\n      <td>way down east</td>\n      <td>Way Down East</td>\n      <td>1920</td>\n      <td>\\N</td>\n      <td>145</td>\n      <td>5376.0</td>\n      <td>True</td>\n      <td>The Way Down East is a 1920 silent film dire...</td>\n      <td>1</td>\n      <td>NaN</td>\n    </tr>\n    <tr>\n      <th>2</th>\n      <td>9</td>\n      <td>tt0012494</td>\n      <td>destiny</td>\n      <td>Der müde Tod</td>\n      <td>1921</td>\n      <td>\\N</td>\n      <td>97</td>\n      <td>5842.0</td>\n      <td>True</td>\n      <td>Destiny is a 1921 German silent fantasy film...</td>\n      <td>0</td>\n      <td>NaN</td>\n    </tr>\n    <tr>\n      <th>3</th>\n      <td>25</td>\n      <td>tt0015163</td>\n      <td>the navigator</td>\n      <td>The Navigator</td>\n      <td>1924</td>\n      <td>\\N</td>\n      <td>59</td>\n      <td>9652.0</td>\n      <td>True</td>\n      <td>The Navigator is a 1924 silent comedy film s...</td>\n      <td>0</td>\n      <td>comedy</td>\n    </tr>\n    <tr>\n      <th>4</th>\n      <td>38</td>\n      <td>tt0016220</td>\n      <td>the phantom of the opera</td>\n      <td>The Phantom of the Opera</td>\n      <td>1925</td>\n      <td>\\N</td>\n      <td>93</td>\n      <td>17887.0</td>\n      <td>True</td>\n      <td>The Phantom of the Opera is a 1925 silent ho...</td>\n      <td>0</td>\n      <td>NaN</td>\n    </tr>\n    <tr>\n      <th>...</th>\n      <td>...</td>\n      <td>...</td>\n      <td>...</td>\n      <td>...</td>\n      <td>...</td>\n      <td>...</td>\n      <td>...</td>\n      <td>...</td>\n      <td>...</td>\n      <td>...</td>\n      <td>...</td>\n      <td>...</td>\n    </tr>\n    <tr>\n      <th>7954</th>\n      <td>9966</td>\n      <td>tt9625664</td>\n      <td>trauma center</td>\n      <td>NaN</td>\n      <td>2019</td>\n      <td>\\N</td>\n      <td>87</td>\n      <td>12951.0</td>\n      <td>False</td>\n      <td>The Trauma Center is a 2019 drama film direc...</td>\n      <td>0</td>\n      <td>NaN</td>\n    </tr>\n    <tr>\n      <th>7955</th>\n      <td>9981</td>\n      <td>tt9741310</td>\n      <td>slaxx</td>\n      <td>Slaxx</td>\n      <td>2020</td>\n      <td>\\N</td>\n      <td>77</td>\n      <td>2464.0</td>\n      <td>False</td>\n      <td>Slaxx is a 2020 horror-comedy about a posses...</td>\n      <td>0</td>\n      <td>NaN</td>\n    </tr>\n    <tr>\n      <th>7956</th>\n      <td>9982</td>\n      <td>tt9742392</td>\n      <td>kindred</td>\n      <td>Kindred</td>\n      <td>2020</td>\n      <td>\\N</td>\n      <td>101</td>\n      <td>1719.0</td>\n      <td>False</td>\n      <td>The Kindred is a 2020 science fiction horror...</td>\n      <td>0</td>\n      <td>NaN</td>\n    </tr>\n    <tr>\n      <th>7957</th>\n      <td>9996</td>\n      <td>tt9850386</td>\n      <td>the bee gees: how can you mend a broken heart</td>\n      <td>NaN</td>\n      <td>2020</td>\n      <td>\\N</td>\n      <td>111</td>\n      <td>4144.0</td>\n      <td>True</td>\n      <td>The Bee Gees: How Can You Mend a Broken Hear...</td>\n      <td>0</td>\n      <td>NaN</td>\n    </tr>\n    <tr>\n      <th>7958</th>\n      <td>9999</td>\n      <td>tt9911196</td>\n      <td>the marriage escape</td>\n      <td>De beentjes van Sint-Hildegard</td>\n      <td>2020</td>\n      <td>\\N</td>\n      <td>103</td>\n      <td>3242.0</td>\n      <td>True</td>\n      <td>The Marriage Escape is a 2020 romantic comed...</td>\n      <td>0</td>\n      <td>NaN</td>\n    </tr>\n  </tbody>\n</table>\n<p>7959 rows × 12 columns</p>\n</div>"
     },
     "execution_count": 9,
     "metadata": {},
     "output_type": "execute_result"
    }
   ],
   "source": [
    "pd.merge(train, wiki[[\"primaryTitle\", \"Genre\", \"startYear\"]],on=[\"primaryTitle\", \"startYear\"], how=\"left\")"
   ],
   "metadata": {
    "collapsed": false
   }
  },
  {
   "cell_type": "code",
   "execution_count": 10,
   "outputs": [
    {
     "data": {
      "text/plain": "       _c0     tconst                                   primaryTitle  \\\n0        4  tt0010600                                       the doll   \n1        7  tt0011841                                  way down east   \n2        9  tt0012494                                        destiny   \n3       25  tt0015163                                  the navigator   \n4       38  tt0016220                       the phantom of the opera   \n...    ...        ...                                            ...   \n7954  9966  tt9625664                                  trauma center   \n7955  9981  tt9741310                                          slaxx   \n7956  9982  tt9742392                                        kindred   \n7957  9996  tt9850386  the bee gees: how can you mend a broken heart   \n7958  9999  tt9911196                            the marriage escape   \n\n                       originalTitle  startYear endYear runtimeMinutes  \\\n0                          Die Puppe       1919      \\N             66   \n1                      Way Down East       1920      \\N            145   \n2                       Der müde Tod       1921      \\N             97   \n3                      The Navigator       1924      \\N             59   \n4           The Phantom of the Opera       1925      \\N             93   \n...                              ...        ...     ...            ...   \n7954                             NaN       2019      \\N             87   \n7955                           Slaxx       2020      \\N             77   \n7956                         Kindred       2020      \\N            101   \n7957                             NaN       2020      \\N            111   \n7958  De beentjes van Sint-Hildegard       2020      \\N            103   \n\n      numVotes  label                                               plot  \\\n0       1898.0   True    The Doll is a 1919 silent film directed by E...   \n1       5376.0   True    The Way Down East is a 1920 silent film dire...   \n2       5842.0   True    Destiny is a 1921 German silent fantasy film...   \n3       9652.0   True    The Navigator is a 1924 silent comedy film s...   \n4      17887.0   True    The Phantom of the Opera is a 1925 silent ho...   \n...        ...    ...                                                ...   \n7954   12951.0  False    The Trauma Center is a 2019 drama film direc...   \n7955    2464.0  False    Slaxx is a 2020 horror-comedy about a posses...   \n7956    1719.0  False    The Kindred is a 2020 science fiction horror...   \n7957    4144.0   True    The Bee Gees: How Can You Mend a Broken Hear...   \n7958    3242.0   True    The Marriage Escape is a 2020 romantic comed...   \n\n      awards   Genre  \n0          0     NaN  \n1          1     NaN  \n2          0     NaN  \n3          0  comedy  \n4          0     NaN  \n...      ...     ...  \n7954       0     NaN  \n7955       0     NaN  \n7956       0     NaN  \n7957       0     NaN  \n7958       0     NaN  \n\n[7959 rows x 12 columns]",
      "text/html": "<div>\n<style scoped>\n    .dataframe tbody tr th:only-of-type {\n        vertical-align: middle;\n    }\n\n    .dataframe tbody tr th {\n        vertical-align: top;\n    }\n\n    .dataframe thead th {\n        text-align: right;\n    }\n</style>\n<table border=\"1\" class=\"dataframe\">\n  <thead>\n    <tr style=\"text-align: right;\">\n      <th></th>\n      <th>_c0</th>\n      <th>tconst</th>\n      <th>primaryTitle</th>\n      <th>originalTitle</th>\n      <th>startYear</th>\n      <th>endYear</th>\n      <th>runtimeMinutes</th>\n      <th>numVotes</th>\n      <th>label</th>\n      <th>plot</th>\n      <th>awards</th>\n      <th>Genre</th>\n    </tr>\n  </thead>\n  <tbody>\n    <tr>\n      <th>0</th>\n      <td>4</td>\n      <td>tt0010600</td>\n      <td>the doll</td>\n      <td>Die Puppe</td>\n      <td>1919</td>\n      <td>\\N</td>\n      <td>66</td>\n      <td>1898.0</td>\n      <td>True</td>\n      <td>The Doll is a 1919 silent film directed by E...</td>\n      <td>0</td>\n      <td>NaN</td>\n    </tr>\n    <tr>\n      <th>1</th>\n      <td>7</td>\n      <td>tt0011841</td>\n      <td>way down east</td>\n      <td>Way Down East</td>\n      <td>1920</td>\n      <td>\\N</td>\n      <td>145</td>\n      <td>5376.0</td>\n      <td>True</td>\n      <td>The Way Down East is a 1920 silent film dire...</td>\n      <td>1</td>\n      <td>NaN</td>\n    </tr>\n    <tr>\n      <th>2</th>\n      <td>9</td>\n      <td>tt0012494</td>\n      <td>destiny</td>\n      <td>Der müde Tod</td>\n      <td>1921</td>\n      <td>\\N</td>\n      <td>97</td>\n      <td>5842.0</td>\n      <td>True</td>\n      <td>Destiny is a 1921 German silent fantasy film...</td>\n      <td>0</td>\n      <td>NaN</td>\n    </tr>\n    <tr>\n      <th>3</th>\n      <td>25</td>\n      <td>tt0015163</td>\n      <td>the navigator</td>\n      <td>The Navigator</td>\n      <td>1924</td>\n      <td>\\N</td>\n      <td>59</td>\n      <td>9652.0</td>\n      <td>True</td>\n      <td>The Navigator is a 1924 silent comedy film s...</td>\n      <td>0</td>\n      <td>comedy</td>\n    </tr>\n    <tr>\n      <th>4</th>\n      <td>38</td>\n      <td>tt0016220</td>\n      <td>the phantom of the opera</td>\n      <td>The Phantom of the Opera</td>\n      <td>1925</td>\n      <td>\\N</td>\n      <td>93</td>\n      <td>17887.0</td>\n      <td>True</td>\n      <td>The Phantom of the Opera is a 1925 silent ho...</td>\n      <td>0</td>\n      <td>NaN</td>\n    </tr>\n    <tr>\n      <th>...</th>\n      <td>...</td>\n      <td>...</td>\n      <td>...</td>\n      <td>...</td>\n      <td>...</td>\n      <td>...</td>\n      <td>...</td>\n      <td>...</td>\n      <td>...</td>\n      <td>...</td>\n      <td>...</td>\n      <td>...</td>\n    </tr>\n    <tr>\n      <th>7954</th>\n      <td>9966</td>\n      <td>tt9625664</td>\n      <td>trauma center</td>\n      <td>NaN</td>\n      <td>2019</td>\n      <td>\\N</td>\n      <td>87</td>\n      <td>12951.0</td>\n      <td>False</td>\n      <td>The Trauma Center is a 2019 drama film direc...</td>\n      <td>0</td>\n      <td>NaN</td>\n    </tr>\n    <tr>\n      <th>7955</th>\n      <td>9981</td>\n      <td>tt9741310</td>\n      <td>slaxx</td>\n      <td>Slaxx</td>\n      <td>2020</td>\n      <td>\\N</td>\n      <td>77</td>\n      <td>2464.0</td>\n      <td>False</td>\n      <td>Slaxx is a 2020 horror-comedy about a posses...</td>\n      <td>0</td>\n      <td>NaN</td>\n    </tr>\n    <tr>\n      <th>7956</th>\n      <td>9982</td>\n      <td>tt9742392</td>\n      <td>kindred</td>\n      <td>Kindred</td>\n      <td>2020</td>\n      <td>\\N</td>\n      <td>101</td>\n      <td>1719.0</td>\n      <td>False</td>\n      <td>The Kindred is a 2020 science fiction horror...</td>\n      <td>0</td>\n      <td>NaN</td>\n    </tr>\n    <tr>\n      <th>7957</th>\n      <td>9996</td>\n      <td>tt9850386</td>\n      <td>the bee gees: how can you mend a broken heart</td>\n      <td>NaN</td>\n      <td>2020</td>\n      <td>\\N</td>\n      <td>111</td>\n      <td>4144.0</td>\n      <td>True</td>\n      <td>The Bee Gees: How Can You Mend a Broken Hear...</td>\n      <td>0</td>\n      <td>NaN</td>\n    </tr>\n    <tr>\n      <th>7958</th>\n      <td>9999</td>\n      <td>tt9911196</td>\n      <td>the marriage escape</td>\n      <td>De beentjes van Sint-Hildegard</td>\n      <td>2020</td>\n      <td>\\N</td>\n      <td>103</td>\n      <td>3242.0</td>\n      <td>True</td>\n      <td>The Marriage Escape is a 2020 romantic comed...</td>\n      <td>0</td>\n      <td>NaN</td>\n    </tr>\n  </tbody>\n</table>\n<p>7959 rows × 12 columns</p>\n</div>"
     },
     "execution_count": 10,
     "metadata": {},
     "output_type": "execute_result"
    }
   ],
   "source": [
    "final_train = pd.merge(train, wiki[[\"primaryTitle\", \"Genre\", \"startYear\"]],on=[\"primaryTitle\", \"startYear\"], how=\"left\")\n",
    "final_train"
   ],
   "metadata": {
    "collapsed": false
   }
  },
  {
   "cell_type": "code",
   "execution_count": 11,
   "outputs": [],
   "source": [
    "final_train.to_csv(\"../datasets/gpt_data/train_plots_awards_genre_no_duplicates.csv\", index=False)"
   ],
   "metadata": {
    "collapsed": false
   }
  },
  {
   "cell_type": "markdown",
   "source": [
    "### Validation"
   ],
   "metadata": {
    "collapsed": false
   }
  },
  {
   "cell_type": "code",
   "execution_count": 6,
   "outputs": [
    {
     "data": {
      "text/plain": "     Unnamed: 0     tconst               primaryTitle   originalTitle  \\\n0             0  tt0003740                    Cabiria             NaN   \n1             1  tt0008663            A Man There Was     Terje Vigen   \n2             3  tt0010307                  J'accuse!             NaN   \n3            18  tt0014429               Safety Last!    Safety Last!   \n4            27  tt0015175  Die Nibelungen: Siegfried             NaN   \n..          ...        ...                        ...             ...   \n950        9974  tt9686154         You Will Die at 20             NaN   \n951        9976  tt9690328              Pápér Spidérs   Paper Spiders   \n952        9980  tt9735790             Me You Madness  Me You Madness   \n953        9984  tt9769668             Tughlaq Durbar  Tughlaq Durbar   \n954        9989  tt9812614                       Hope             NaN   \n\n     startYear endYear runtimeMinutes  numVotes  \\\n0         1914      \\N            148    3452.0   \n1         1917      \\N             65    1882.0   \n2         1919      \\N            166    1692.0   \n3         1923      \\N             74   19898.0   \n4         1924      \\N            143    5676.0   \n..         ...     ...            ...       ...   \n950       2019      \\N            103    2106.0   \n951       2020      \\N            109       NaN   \n952       2021      \\N             98    1056.0   \n953       2021      \\N            145    1430.0   \n954       2019      \\N            130    1402.0   \n\n                                                  plot  awards  \n0      Cabiria is a 1914 Italian silent film direct...       1  \n1      A Man There Was is a 1917 silent film direct...       0  \n2      The film J'accuse! (1919) is a French silent...       0  \n3      Safety Last! is a 1923 silent comedy film st...       0  \n4      The epic saga of Die Nibelungen: Siegfried f...       0  \n..                                                 ...     ...  \n950    You Will Die at 20 is a 2019 Sudanese drama ...       0  \n951    The Pápér Spidérs is a 2020 drama film direc...       0  \n952    Me You Madness is a 2021 romantic comedy abo...       0  \n953    The Tughlaq Durbar is a 2021 Indian Tamil-la...       0  \n954    Hope is a 2019 drama film about a young woma...       0  \n\n[955 rows x 10 columns]",
      "text/html": "<div>\n<style scoped>\n    .dataframe tbody tr th:only-of-type {\n        vertical-align: middle;\n    }\n\n    .dataframe tbody tr th {\n        vertical-align: top;\n    }\n\n    .dataframe thead th {\n        text-align: right;\n    }\n</style>\n<table border=\"1\" class=\"dataframe\">\n  <thead>\n    <tr style=\"text-align: right;\">\n      <th></th>\n      <th>Unnamed: 0</th>\n      <th>tconst</th>\n      <th>primaryTitle</th>\n      <th>originalTitle</th>\n      <th>startYear</th>\n      <th>endYear</th>\n      <th>runtimeMinutes</th>\n      <th>numVotes</th>\n      <th>plot</th>\n      <th>awards</th>\n    </tr>\n  </thead>\n  <tbody>\n    <tr>\n      <th>0</th>\n      <td>0</td>\n      <td>tt0003740</td>\n      <td>Cabiria</td>\n      <td>NaN</td>\n      <td>1914</td>\n      <td>\\N</td>\n      <td>148</td>\n      <td>3452.0</td>\n      <td>Cabiria is a 1914 Italian silent film direct...</td>\n      <td>1</td>\n    </tr>\n    <tr>\n      <th>1</th>\n      <td>1</td>\n      <td>tt0008663</td>\n      <td>A Man There Was</td>\n      <td>Terje Vigen</td>\n      <td>1917</td>\n      <td>\\N</td>\n      <td>65</td>\n      <td>1882.0</td>\n      <td>A Man There Was is a 1917 silent film direct...</td>\n      <td>0</td>\n    </tr>\n    <tr>\n      <th>2</th>\n      <td>3</td>\n      <td>tt0010307</td>\n      <td>J'accuse!</td>\n      <td>NaN</td>\n      <td>1919</td>\n      <td>\\N</td>\n      <td>166</td>\n      <td>1692.0</td>\n      <td>The film J'accuse! (1919) is a French silent...</td>\n      <td>0</td>\n    </tr>\n    <tr>\n      <th>3</th>\n      <td>18</td>\n      <td>tt0014429</td>\n      <td>Safety Last!</td>\n      <td>Safety Last!</td>\n      <td>1923</td>\n      <td>\\N</td>\n      <td>74</td>\n      <td>19898.0</td>\n      <td>Safety Last! is a 1923 silent comedy film st...</td>\n      <td>0</td>\n    </tr>\n    <tr>\n      <th>4</th>\n      <td>27</td>\n      <td>tt0015175</td>\n      <td>Die Nibelungen: Siegfried</td>\n      <td>NaN</td>\n      <td>1924</td>\n      <td>\\N</td>\n      <td>143</td>\n      <td>5676.0</td>\n      <td>The epic saga of Die Nibelungen: Siegfried f...</td>\n      <td>0</td>\n    </tr>\n    <tr>\n      <th>...</th>\n      <td>...</td>\n      <td>...</td>\n      <td>...</td>\n      <td>...</td>\n      <td>...</td>\n      <td>...</td>\n      <td>...</td>\n      <td>...</td>\n      <td>...</td>\n      <td>...</td>\n    </tr>\n    <tr>\n      <th>950</th>\n      <td>9974</td>\n      <td>tt9686154</td>\n      <td>You Will Die at 20</td>\n      <td>NaN</td>\n      <td>2019</td>\n      <td>\\N</td>\n      <td>103</td>\n      <td>2106.0</td>\n      <td>You Will Die at 20 is a 2019 Sudanese drama ...</td>\n      <td>0</td>\n    </tr>\n    <tr>\n      <th>951</th>\n      <td>9976</td>\n      <td>tt9690328</td>\n      <td>Pápér Spidérs</td>\n      <td>Paper Spiders</td>\n      <td>2020</td>\n      <td>\\N</td>\n      <td>109</td>\n      <td>NaN</td>\n      <td>The Pápér Spidérs is a 2020 drama film direc...</td>\n      <td>0</td>\n    </tr>\n    <tr>\n      <th>952</th>\n      <td>9980</td>\n      <td>tt9735790</td>\n      <td>Me You Madness</td>\n      <td>Me You Madness</td>\n      <td>2021</td>\n      <td>\\N</td>\n      <td>98</td>\n      <td>1056.0</td>\n      <td>Me You Madness is a 2021 romantic comedy abo...</td>\n      <td>0</td>\n    </tr>\n    <tr>\n      <th>953</th>\n      <td>9984</td>\n      <td>tt9769668</td>\n      <td>Tughlaq Durbar</td>\n      <td>Tughlaq Durbar</td>\n      <td>2021</td>\n      <td>\\N</td>\n      <td>145</td>\n      <td>1430.0</td>\n      <td>The Tughlaq Durbar is a 2021 Indian Tamil-la...</td>\n      <td>0</td>\n    </tr>\n    <tr>\n      <th>954</th>\n      <td>9989</td>\n      <td>tt9812614</td>\n      <td>Hope</td>\n      <td>NaN</td>\n      <td>2019</td>\n      <td>\\N</td>\n      <td>130</td>\n      <td>1402.0</td>\n      <td>Hope is a 2019 drama film about a young woma...</td>\n      <td>0</td>\n    </tr>\n  </tbody>\n</table>\n<p>955 rows × 10 columns</p>\n</div>"
     },
     "execution_count": 6,
     "metadata": {},
     "output_type": "execute_result"
    }
   ],
   "source": [
    "validation = pd.read_csv(\"../datasets/gpt_data/validation_plots_awards.csv\", sep=',')\n",
    "validation"
   ],
   "metadata": {
    "collapsed": false
   }
  },
  {
   "cell_type": "code",
   "execution_count": 7,
   "outputs": [],
   "source": [
    "validation[\"startYear\"].replace(r\"\\N\", None, inplace=True)\n",
    "validation[\"startYear\"].fillna(validation['endYear'], inplace=True)\n",
    "validation[\"startYear\"] = validation[\"startYear\"].astype(int)"
   ],
   "metadata": {
    "collapsed": false
   }
  },
  {
   "cell_type": "code",
   "execution_count": 8,
   "outputs": [],
   "source": [
    "validation[\"primaryTitle\"] = validation[\"primaryTitle\"].str.lower()\n",
    "validation['primaryTitle'] = validation['primaryTitle'].apply(unidecode)"
   ],
   "metadata": {
    "collapsed": false
   }
  },
  {
   "cell_type": "code",
   "execution_count": 9,
   "outputs": [
    {
     "data": {
      "text/plain": "     Unnamed: 0     tconst               primaryTitle   originalTitle  \\\n0             0  tt0003740                    cabiria             NaN   \n1             1  tt0008663            a man there was     Terje Vigen   \n2             3  tt0010307                  j'accuse!             NaN   \n3            18  tt0014429               safety last!    Safety Last!   \n4            27  tt0015175  die nibelungen: siegfried             NaN   \n..          ...        ...                        ...             ...   \n950        9974  tt9686154         you will die at 20             NaN   \n951        9976  tt9690328              paper spiders   Paper Spiders   \n952        9980  tt9735790             me you madness  Me You Madness   \n953        9984  tt9769668             tughlaq durbar  Tughlaq Durbar   \n954        9989  tt9812614                       hope             NaN   \n\n     startYear endYear runtimeMinutes  numVotes  \\\n0         1914      \\N            148    3452.0   \n1         1917      \\N             65    1882.0   \n2         1919      \\N            166    1692.0   \n3         1923      \\N             74   19898.0   \n4         1924      \\N            143    5676.0   \n..         ...     ...            ...       ...   \n950       2019      \\N            103    2106.0   \n951       2020      \\N            109       NaN   \n952       2021      \\N             98    1056.0   \n953       2021      \\N            145    1430.0   \n954       2019      \\N            130    1402.0   \n\n                                                  plot  awards   Genre  \n0      Cabiria is a 1914 Italian silent film direct...       1     NaN  \n1      A Man There Was is a 1917 silent film direct...       0     NaN  \n2      The film J'accuse! (1919) is a French silent...       0     NaN  \n3      Safety Last! is a 1923 silent comedy film st...       0  comedy  \n4      The epic saga of Die Nibelungen: Siegfried f...       0     NaN  \n..                                                 ...     ...     ...  \n950    You Will Die at 20 is a 2019 Sudanese drama ...       0     NaN  \n951    The Pápér Spidérs is a 2020 drama film direc...       0     NaN  \n952    Me You Madness is a 2021 romantic comedy abo...       0     NaN  \n953    The Tughlaq Durbar is a 2021 Indian Tamil-la...       0     NaN  \n954    Hope is a 2019 drama film about a young woma...       0     NaN  \n\n[955 rows x 11 columns]",
      "text/html": "<div>\n<style scoped>\n    .dataframe tbody tr th:only-of-type {\n        vertical-align: middle;\n    }\n\n    .dataframe tbody tr th {\n        vertical-align: top;\n    }\n\n    .dataframe thead th {\n        text-align: right;\n    }\n</style>\n<table border=\"1\" class=\"dataframe\">\n  <thead>\n    <tr style=\"text-align: right;\">\n      <th></th>\n      <th>Unnamed: 0</th>\n      <th>tconst</th>\n      <th>primaryTitle</th>\n      <th>originalTitle</th>\n      <th>startYear</th>\n      <th>endYear</th>\n      <th>runtimeMinutes</th>\n      <th>numVotes</th>\n      <th>plot</th>\n      <th>awards</th>\n      <th>Genre</th>\n    </tr>\n  </thead>\n  <tbody>\n    <tr>\n      <th>0</th>\n      <td>0</td>\n      <td>tt0003740</td>\n      <td>cabiria</td>\n      <td>NaN</td>\n      <td>1914</td>\n      <td>\\N</td>\n      <td>148</td>\n      <td>3452.0</td>\n      <td>Cabiria is a 1914 Italian silent film direct...</td>\n      <td>1</td>\n      <td>NaN</td>\n    </tr>\n    <tr>\n      <th>1</th>\n      <td>1</td>\n      <td>tt0008663</td>\n      <td>a man there was</td>\n      <td>Terje Vigen</td>\n      <td>1917</td>\n      <td>\\N</td>\n      <td>65</td>\n      <td>1882.0</td>\n      <td>A Man There Was is a 1917 silent film direct...</td>\n      <td>0</td>\n      <td>NaN</td>\n    </tr>\n    <tr>\n      <th>2</th>\n      <td>3</td>\n      <td>tt0010307</td>\n      <td>j'accuse!</td>\n      <td>NaN</td>\n      <td>1919</td>\n      <td>\\N</td>\n      <td>166</td>\n      <td>1692.0</td>\n      <td>The film J'accuse! (1919) is a French silent...</td>\n      <td>0</td>\n      <td>NaN</td>\n    </tr>\n    <tr>\n      <th>3</th>\n      <td>18</td>\n      <td>tt0014429</td>\n      <td>safety last!</td>\n      <td>Safety Last!</td>\n      <td>1923</td>\n      <td>\\N</td>\n      <td>74</td>\n      <td>19898.0</td>\n      <td>Safety Last! is a 1923 silent comedy film st...</td>\n      <td>0</td>\n      <td>comedy</td>\n    </tr>\n    <tr>\n      <th>4</th>\n      <td>27</td>\n      <td>tt0015175</td>\n      <td>die nibelungen: siegfried</td>\n      <td>NaN</td>\n      <td>1924</td>\n      <td>\\N</td>\n      <td>143</td>\n      <td>5676.0</td>\n      <td>The epic saga of Die Nibelungen: Siegfried f...</td>\n      <td>0</td>\n      <td>NaN</td>\n    </tr>\n    <tr>\n      <th>...</th>\n      <td>...</td>\n      <td>...</td>\n      <td>...</td>\n      <td>...</td>\n      <td>...</td>\n      <td>...</td>\n      <td>...</td>\n      <td>...</td>\n      <td>...</td>\n      <td>...</td>\n      <td>...</td>\n    </tr>\n    <tr>\n      <th>950</th>\n      <td>9974</td>\n      <td>tt9686154</td>\n      <td>you will die at 20</td>\n      <td>NaN</td>\n      <td>2019</td>\n      <td>\\N</td>\n      <td>103</td>\n      <td>2106.0</td>\n      <td>You Will Die at 20 is a 2019 Sudanese drama ...</td>\n      <td>0</td>\n      <td>NaN</td>\n    </tr>\n    <tr>\n      <th>951</th>\n      <td>9976</td>\n      <td>tt9690328</td>\n      <td>paper spiders</td>\n      <td>Paper Spiders</td>\n      <td>2020</td>\n      <td>\\N</td>\n      <td>109</td>\n      <td>NaN</td>\n      <td>The Pápér Spidérs is a 2020 drama film direc...</td>\n      <td>0</td>\n      <td>NaN</td>\n    </tr>\n    <tr>\n      <th>952</th>\n      <td>9980</td>\n      <td>tt9735790</td>\n      <td>me you madness</td>\n      <td>Me You Madness</td>\n      <td>2021</td>\n      <td>\\N</td>\n      <td>98</td>\n      <td>1056.0</td>\n      <td>Me You Madness is a 2021 romantic comedy abo...</td>\n      <td>0</td>\n      <td>NaN</td>\n    </tr>\n    <tr>\n      <th>953</th>\n      <td>9984</td>\n      <td>tt9769668</td>\n      <td>tughlaq durbar</td>\n      <td>Tughlaq Durbar</td>\n      <td>2021</td>\n      <td>\\N</td>\n      <td>145</td>\n      <td>1430.0</td>\n      <td>The Tughlaq Durbar is a 2021 Indian Tamil-la...</td>\n      <td>0</td>\n      <td>NaN</td>\n    </tr>\n    <tr>\n      <th>954</th>\n      <td>9989</td>\n      <td>tt9812614</td>\n      <td>hope</td>\n      <td>NaN</td>\n      <td>2019</td>\n      <td>\\N</td>\n      <td>130</td>\n      <td>1402.0</td>\n      <td>Hope is a 2019 drama film about a young woma...</td>\n      <td>0</td>\n      <td>NaN</td>\n    </tr>\n  </tbody>\n</table>\n<p>955 rows × 11 columns</p>\n</div>"
     },
     "execution_count": 9,
     "metadata": {},
     "output_type": "execute_result"
    }
   ],
   "source": [
    "pd.merge(validation, wiki[[\"primaryTitle\", \"Genre\", \"startYear\"]],on=[\"primaryTitle\", \"startYear\"], how=\"left\")"
   ],
   "metadata": {
    "collapsed": false
   }
  },
  {
   "cell_type": "code",
   "execution_count": 10,
   "outputs": [
    {
     "data": {
      "text/plain": "     Unnamed: 0     tconst               primaryTitle   originalTitle  \\\n0             0  tt0003740                    cabiria             NaN   \n1             1  tt0008663            a man there was     Terje Vigen   \n2             3  tt0010307                  j'accuse!             NaN   \n3            18  tt0014429               safety last!    Safety Last!   \n4            27  tt0015175  die nibelungen: siegfried             NaN   \n..          ...        ...                        ...             ...   \n950        9974  tt9686154         you will die at 20             NaN   \n951        9976  tt9690328              paper spiders   Paper Spiders   \n952        9980  tt9735790             me you madness  Me You Madness   \n953        9984  tt9769668             tughlaq durbar  Tughlaq Durbar   \n954        9989  tt9812614                       hope             NaN   \n\n     startYear endYear runtimeMinutes  numVotes  \\\n0         1914      \\N            148    3452.0   \n1         1917      \\N             65    1882.0   \n2         1919      \\N            166    1692.0   \n3         1923      \\N             74   19898.0   \n4         1924      \\N            143    5676.0   \n..         ...     ...            ...       ...   \n950       2019      \\N            103    2106.0   \n951       2020      \\N            109       NaN   \n952       2021      \\N             98    1056.0   \n953       2021      \\N            145    1430.0   \n954       2019      \\N            130    1402.0   \n\n                                                  plot  awards   Genre  \n0      Cabiria is a 1914 Italian silent film direct...       1     NaN  \n1      A Man There Was is a 1917 silent film direct...       0     NaN  \n2      The film J'accuse! (1919) is a French silent...       0     NaN  \n3      Safety Last! is a 1923 silent comedy film st...       0  comedy  \n4      The epic saga of Die Nibelungen: Siegfried f...       0     NaN  \n..                                                 ...     ...     ...  \n950    You Will Die at 20 is a 2019 Sudanese drama ...       0     NaN  \n951    The Pápér Spidérs is a 2020 drama film direc...       0     NaN  \n952    Me You Madness is a 2021 romantic comedy abo...       0     NaN  \n953    The Tughlaq Durbar is a 2021 Indian Tamil-la...       0     NaN  \n954    Hope is a 2019 drama film about a young woma...       0     NaN  \n\n[955 rows x 11 columns]",
      "text/html": "<div>\n<style scoped>\n    .dataframe tbody tr th:only-of-type {\n        vertical-align: middle;\n    }\n\n    .dataframe tbody tr th {\n        vertical-align: top;\n    }\n\n    .dataframe thead th {\n        text-align: right;\n    }\n</style>\n<table border=\"1\" class=\"dataframe\">\n  <thead>\n    <tr style=\"text-align: right;\">\n      <th></th>\n      <th>Unnamed: 0</th>\n      <th>tconst</th>\n      <th>primaryTitle</th>\n      <th>originalTitle</th>\n      <th>startYear</th>\n      <th>endYear</th>\n      <th>runtimeMinutes</th>\n      <th>numVotes</th>\n      <th>plot</th>\n      <th>awards</th>\n      <th>Genre</th>\n    </tr>\n  </thead>\n  <tbody>\n    <tr>\n      <th>0</th>\n      <td>0</td>\n      <td>tt0003740</td>\n      <td>cabiria</td>\n      <td>NaN</td>\n      <td>1914</td>\n      <td>\\N</td>\n      <td>148</td>\n      <td>3452.0</td>\n      <td>Cabiria is a 1914 Italian silent film direct...</td>\n      <td>1</td>\n      <td>NaN</td>\n    </tr>\n    <tr>\n      <th>1</th>\n      <td>1</td>\n      <td>tt0008663</td>\n      <td>a man there was</td>\n      <td>Terje Vigen</td>\n      <td>1917</td>\n      <td>\\N</td>\n      <td>65</td>\n      <td>1882.0</td>\n      <td>A Man There Was is a 1917 silent film direct...</td>\n      <td>0</td>\n      <td>NaN</td>\n    </tr>\n    <tr>\n      <th>2</th>\n      <td>3</td>\n      <td>tt0010307</td>\n      <td>j'accuse!</td>\n      <td>NaN</td>\n      <td>1919</td>\n      <td>\\N</td>\n      <td>166</td>\n      <td>1692.0</td>\n      <td>The film J'accuse! (1919) is a French silent...</td>\n      <td>0</td>\n      <td>NaN</td>\n    </tr>\n    <tr>\n      <th>3</th>\n      <td>18</td>\n      <td>tt0014429</td>\n      <td>safety last!</td>\n      <td>Safety Last!</td>\n      <td>1923</td>\n      <td>\\N</td>\n      <td>74</td>\n      <td>19898.0</td>\n      <td>Safety Last! is a 1923 silent comedy film st...</td>\n      <td>0</td>\n      <td>comedy</td>\n    </tr>\n    <tr>\n      <th>4</th>\n      <td>27</td>\n      <td>tt0015175</td>\n      <td>die nibelungen: siegfried</td>\n      <td>NaN</td>\n      <td>1924</td>\n      <td>\\N</td>\n      <td>143</td>\n      <td>5676.0</td>\n      <td>The epic saga of Die Nibelungen: Siegfried f...</td>\n      <td>0</td>\n      <td>NaN</td>\n    </tr>\n    <tr>\n      <th>...</th>\n      <td>...</td>\n      <td>...</td>\n      <td>...</td>\n      <td>...</td>\n      <td>...</td>\n      <td>...</td>\n      <td>...</td>\n      <td>...</td>\n      <td>...</td>\n      <td>...</td>\n      <td>...</td>\n    </tr>\n    <tr>\n      <th>950</th>\n      <td>9974</td>\n      <td>tt9686154</td>\n      <td>you will die at 20</td>\n      <td>NaN</td>\n      <td>2019</td>\n      <td>\\N</td>\n      <td>103</td>\n      <td>2106.0</td>\n      <td>You Will Die at 20 is a 2019 Sudanese drama ...</td>\n      <td>0</td>\n      <td>NaN</td>\n    </tr>\n    <tr>\n      <th>951</th>\n      <td>9976</td>\n      <td>tt9690328</td>\n      <td>paper spiders</td>\n      <td>Paper Spiders</td>\n      <td>2020</td>\n      <td>\\N</td>\n      <td>109</td>\n      <td>NaN</td>\n      <td>The Pápér Spidérs is a 2020 drama film direc...</td>\n      <td>0</td>\n      <td>NaN</td>\n    </tr>\n    <tr>\n      <th>952</th>\n      <td>9980</td>\n      <td>tt9735790</td>\n      <td>me you madness</td>\n      <td>Me You Madness</td>\n      <td>2021</td>\n      <td>\\N</td>\n      <td>98</td>\n      <td>1056.0</td>\n      <td>Me You Madness is a 2021 romantic comedy abo...</td>\n      <td>0</td>\n      <td>NaN</td>\n    </tr>\n    <tr>\n      <th>953</th>\n      <td>9984</td>\n      <td>tt9769668</td>\n      <td>tughlaq durbar</td>\n      <td>Tughlaq Durbar</td>\n      <td>2021</td>\n      <td>\\N</td>\n      <td>145</td>\n      <td>1430.0</td>\n      <td>The Tughlaq Durbar is a 2021 Indian Tamil-la...</td>\n      <td>0</td>\n      <td>NaN</td>\n    </tr>\n    <tr>\n      <th>954</th>\n      <td>9989</td>\n      <td>tt9812614</td>\n      <td>hope</td>\n      <td>NaN</td>\n      <td>2019</td>\n      <td>\\N</td>\n      <td>130</td>\n      <td>1402.0</td>\n      <td>Hope is a 2019 drama film about a young woma...</td>\n      <td>0</td>\n      <td>NaN</td>\n    </tr>\n  </tbody>\n</table>\n<p>955 rows × 11 columns</p>\n</div>"
     },
     "execution_count": 10,
     "metadata": {},
     "output_type": "execute_result"
    }
   ],
   "source": [
    "validation_final = pd.merge(validation, wiki[[\"primaryTitle\", \"Genre\", \"startYear\"]],on=[\"primaryTitle\", \"startYear\"], how=\"left\")\n",
    "validation_final"
   ],
   "metadata": {
    "collapsed": false
   }
  },
  {
   "cell_type": "code",
   "execution_count": 11,
   "outputs": [],
   "source": [
    "validation_final.to_csv(\"../datasets/gpt_data/validation_plots_awards_genre_no_duplicates.csv\", index=False)"
   ],
   "metadata": {
    "collapsed": false
   }
  },
  {
   "cell_type": "markdown",
   "source": [
    "### Test data"
   ],
   "metadata": {
    "collapsed": false
   }
  },
  {
   "cell_type": "code",
   "execution_count": 6,
   "outputs": [],
   "source": [
    "test = pd.read_csv(\"../datasets/gpt_data/test_plots_awards.csv\")"
   ],
   "metadata": {
    "collapsed": false
   }
  },
  {
   "cell_type": "code",
   "execution_count": 7,
   "outputs": [],
   "source": [
    "test[\"startYear\"].replace(r\"\\N\", None, inplace=True)\n",
    "test[\"startYear\"].fillna(test['endYear'], inplace=True)\n",
    "test[\"startYear\"] = test[\"startYear\"].astype(int)\n",
    "test[\"primaryTitle\"] = test[\"primaryTitle\"].str.lower()\n",
    "test['primaryTitle'] = test['primaryTitle'].apply(unidecode)"
   ],
   "metadata": {
    "collapsed": false
   }
  },
  {
   "cell_type": "code",
   "execution_count": 8,
   "outputs": [
    {
     "data": {
      "text/plain": "      Unnamed: 0     tconst                         primaryTitle  \\\n0             22  tt0014972                  he who gets slapped   \n1             23  tt0015016                       the iron horse   \n2             26  tt0015174  die nibelungen: kriemhild's revenge   \n3             28  tt0015214                              at 3:25   \n4             34  tt0015863                              go west   \n...          ...        ...                                  ...   \n1081        9942  tt9430698                  one piece: stampede   \n1082        9943  tt9441638                         the big ugly   \n1083        9948  tt9495690                           pagalpanti   \n1084        9950  tt9519642                the wedding unplanner   \n1085        9951  tt9526826           android kunjappan ver 5.25   \n\n                       originalTitle  startYear endYear runtimeMinutes  \\\n0                He Who Gets Slapped       1924      \\N             95   \n1                                NaN       1924      \\N            150   \n2                                NaN       1924      \\N            129   \n3                                NaN       1925    1925             59   \n4                                NaN       1925      \\N             69   \n...                              ...        ...     ...            ...   \n1081                             NaN       2019      \\N            101   \n1082                             NaN       2020      \\N            106   \n1083                      Pagalpanti       2019      \\N            149   \n1084                             NaN       2020      \\N            110   \n1085  Android Kunjappan Version 5.25       2019      \\N            140   \n\n      numVotes                                               plot  awards  \n0       3654.0    He Who Gets Slapped is a 1924 silent film di...       0  \n1       2136.0    The Iron Horse is a 1924 American silent wes...       0  \n2       4341.0    The Die Nibelungen: Kriemhild's Revenge is a...       0  \n3       1724.0    At 3:25 is a drama film about a young woman ...       0  \n4       4188.0    Go West is a 1925 silent comedy film starrin...       0  \n...        ...                                                ...     ...  \n1081    5109.0    The Straw Hat Pirates are invited to the Pir...       0  \n1082    5780.0    The Big Ugly is a 2020 crime drama set in th...       0  \n1083    2331.0    The Págálpánti is a 2019 Indian drama film d...       0  \n1084       NaN    The Wedding Unplanner is a 2020 romantic com...       0  \n1085    5271.0    Android Kunjappan Ver 5.25 is a 2019 Malayal...       0  \n\n[1086 rows x 10 columns]",
      "text/html": "<div>\n<style scoped>\n    .dataframe tbody tr th:only-of-type {\n        vertical-align: middle;\n    }\n\n    .dataframe tbody tr th {\n        vertical-align: top;\n    }\n\n    .dataframe thead th {\n        text-align: right;\n    }\n</style>\n<table border=\"1\" class=\"dataframe\">\n  <thead>\n    <tr style=\"text-align: right;\">\n      <th></th>\n      <th>Unnamed: 0</th>\n      <th>tconst</th>\n      <th>primaryTitle</th>\n      <th>originalTitle</th>\n      <th>startYear</th>\n      <th>endYear</th>\n      <th>runtimeMinutes</th>\n      <th>numVotes</th>\n      <th>plot</th>\n      <th>awards</th>\n    </tr>\n  </thead>\n  <tbody>\n    <tr>\n      <th>0</th>\n      <td>22</td>\n      <td>tt0014972</td>\n      <td>he who gets slapped</td>\n      <td>He Who Gets Slapped</td>\n      <td>1924</td>\n      <td>\\N</td>\n      <td>95</td>\n      <td>3654.0</td>\n      <td>He Who Gets Slapped is a 1924 silent film di...</td>\n      <td>0</td>\n    </tr>\n    <tr>\n      <th>1</th>\n      <td>23</td>\n      <td>tt0015016</td>\n      <td>the iron horse</td>\n      <td>NaN</td>\n      <td>1924</td>\n      <td>\\N</td>\n      <td>150</td>\n      <td>2136.0</td>\n      <td>The Iron Horse is a 1924 American silent wes...</td>\n      <td>0</td>\n    </tr>\n    <tr>\n      <th>2</th>\n      <td>26</td>\n      <td>tt0015174</td>\n      <td>die nibelungen: kriemhild's revenge</td>\n      <td>NaN</td>\n      <td>1924</td>\n      <td>\\N</td>\n      <td>129</td>\n      <td>4341.0</td>\n      <td>The Die Nibelungen: Kriemhild's Revenge is a...</td>\n      <td>0</td>\n    </tr>\n    <tr>\n      <th>3</th>\n      <td>28</td>\n      <td>tt0015214</td>\n      <td>at 3:25</td>\n      <td>NaN</td>\n      <td>1925</td>\n      <td>1925</td>\n      <td>59</td>\n      <td>1724.0</td>\n      <td>At 3:25 is a drama film about a young woman ...</td>\n      <td>0</td>\n    </tr>\n    <tr>\n      <th>4</th>\n      <td>34</td>\n      <td>tt0015863</td>\n      <td>go west</td>\n      <td>NaN</td>\n      <td>1925</td>\n      <td>\\N</td>\n      <td>69</td>\n      <td>4188.0</td>\n      <td>Go West is a 1925 silent comedy film starrin...</td>\n      <td>0</td>\n    </tr>\n    <tr>\n      <th>...</th>\n      <td>...</td>\n      <td>...</td>\n      <td>...</td>\n      <td>...</td>\n      <td>...</td>\n      <td>...</td>\n      <td>...</td>\n      <td>...</td>\n      <td>...</td>\n      <td>...</td>\n    </tr>\n    <tr>\n      <th>1081</th>\n      <td>9942</td>\n      <td>tt9430698</td>\n      <td>one piece: stampede</td>\n      <td>NaN</td>\n      <td>2019</td>\n      <td>\\N</td>\n      <td>101</td>\n      <td>5109.0</td>\n      <td>The Straw Hat Pirates are invited to the Pir...</td>\n      <td>0</td>\n    </tr>\n    <tr>\n      <th>1082</th>\n      <td>9943</td>\n      <td>tt9441638</td>\n      <td>the big ugly</td>\n      <td>NaN</td>\n      <td>2020</td>\n      <td>\\N</td>\n      <td>106</td>\n      <td>5780.0</td>\n      <td>The Big Ugly is a 2020 crime drama set in th...</td>\n      <td>0</td>\n    </tr>\n    <tr>\n      <th>1083</th>\n      <td>9948</td>\n      <td>tt9495690</td>\n      <td>pagalpanti</td>\n      <td>Pagalpanti</td>\n      <td>2019</td>\n      <td>\\N</td>\n      <td>149</td>\n      <td>2331.0</td>\n      <td>The Págálpánti is a 2019 Indian drama film d...</td>\n      <td>0</td>\n    </tr>\n    <tr>\n      <th>1084</th>\n      <td>9950</td>\n      <td>tt9519642</td>\n      <td>the wedding unplanner</td>\n      <td>NaN</td>\n      <td>2020</td>\n      <td>\\N</td>\n      <td>110</td>\n      <td>NaN</td>\n      <td>The Wedding Unplanner is a 2020 romantic com...</td>\n      <td>0</td>\n    </tr>\n    <tr>\n      <th>1085</th>\n      <td>9951</td>\n      <td>tt9526826</td>\n      <td>android kunjappan ver 5.25</td>\n      <td>Android Kunjappan Version 5.25</td>\n      <td>2019</td>\n      <td>\\N</td>\n      <td>140</td>\n      <td>5271.0</td>\n      <td>Android Kunjappan Ver 5.25 is a 2019 Malayal...</td>\n      <td>0</td>\n    </tr>\n  </tbody>\n</table>\n<p>1086 rows × 10 columns</p>\n</div>"
     },
     "execution_count": 8,
     "metadata": {},
     "output_type": "execute_result"
    }
   ],
   "source": [
    "test"
   ],
   "metadata": {
    "collapsed": false
   }
  },
  {
   "cell_type": "code",
   "execution_count": 9,
   "outputs": [
    {
     "data": {
      "text/plain": "      Unnamed: 0     tconst                         primaryTitle  \\\n0             22  tt0014972                  he who gets slapped   \n1             23  tt0015016                       the iron horse   \n2             26  tt0015174  die nibelungen: kriemhild's revenge   \n3             28  tt0015214                              at 3:25   \n4             34  tt0015863                              go west   \n...          ...        ...                                  ...   \n1081        9942  tt9430698                  one piece: stampede   \n1082        9943  tt9441638                         the big ugly   \n1083        9948  tt9495690                           pagalpanti   \n1084        9950  tt9519642                the wedding unplanner   \n1085        9951  tt9526826           android kunjappan ver 5.25   \n\n                       originalTitle  startYear endYear runtimeMinutes  \\\n0                He Who Gets Slapped       1924      \\N             95   \n1                                NaN       1924      \\N            150   \n2                                NaN       1924      \\N            129   \n3                                NaN       1925    1925             59   \n4                                NaN       1925      \\N             69   \n...                              ...        ...     ...            ...   \n1081                             NaN       2019      \\N            101   \n1082                             NaN       2020      \\N            106   \n1083                      Pagalpanti       2019      \\N            149   \n1084                             NaN       2020      \\N            110   \n1085  Android Kunjappan Version 5.25       2019      \\N            140   \n\n      numVotes                                               plot  awards  \\\n0       3654.0    He Who Gets Slapped is a 1924 silent film di...       0   \n1       2136.0    The Iron Horse is a 1924 American silent wes...       0   \n2       4341.0    The Die Nibelungen: Kriemhild's Revenge is a...       0   \n3       1724.0    At 3:25 is a drama film about a young woman ...       0   \n4       4188.0    Go West is a 1925 silent comedy film starrin...       0   \n...        ...                                                ...     ...   \n1081    5109.0    The Straw Hat Pirates are invited to the Pir...       0   \n1082    5780.0    The Big Ugly is a 2020 crime drama set in th...       0   \n1083    2331.0    The Págálpánti is a 2019 Indian drama film d...       0   \n1084       NaN    The Wedding Unplanner is a 2020 romantic com...       0   \n1085    5271.0    Android Kunjappan Ver 5.25 is a 2019 Malayal...       0   \n\n        Genre  \n0       drama  \n1     western  \n2         NaN  \n3         NaN  \n4         NaN  \n...       ...  \n1081      NaN  \n1082      NaN  \n1083      NaN  \n1084      NaN  \n1085      NaN  \n\n[1086 rows x 11 columns]",
      "text/html": "<div>\n<style scoped>\n    .dataframe tbody tr th:only-of-type {\n        vertical-align: middle;\n    }\n\n    .dataframe tbody tr th {\n        vertical-align: top;\n    }\n\n    .dataframe thead th {\n        text-align: right;\n    }\n</style>\n<table border=\"1\" class=\"dataframe\">\n  <thead>\n    <tr style=\"text-align: right;\">\n      <th></th>\n      <th>Unnamed: 0</th>\n      <th>tconst</th>\n      <th>primaryTitle</th>\n      <th>originalTitle</th>\n      <th>startYear</th>\n      <th>endYear</th>\n      <th>runtimeMinutes</th>\n      <th>numVotes</th>\n      <th>plot</th>\n      <th>awards</th>\n      <th>Genre</th>\n    </tr>\n  </thead>\n  <tbody>\n    <tr>\n      <th>0</th>\n      <td>22</td>\n      <td>tt0014972</td>\n      <td>he who gets slapped</td>\n      <td>He Who Gets Slapped</td>\n      <td>1924</td>\n      <td>\\N</td>\n      <td>95</td>\n      <td>3654.0</td>\n      <td>He Who Gets Slapped is a 1924 silent film di...</td>\n      <td>0</td>\n      <td>drama</td>\n    </tr>\n    <tr>\n      <th>1</th>\n      <td>23</td>\n      <td>tt0015016</td>\n      <td>the iron horse</td>\n      <td>NaN</td>\n      <td>1924</td>\n      <td>\\N</td>\n      <td>150</td>\n      <td>2136.0</td>\n      <td>The Iron Horse is a 1924 American silent wes...</td>\n      <td>0</td>\n      <td>western</td>\n    </tr>\n    <tr>\n      <th>2</th>\n      <td>26</td>\n      <td>tt0015174</td>\n      <td>die nibelungen: kriemhild's revenge</td>\n      <td>NaN</td>\n      <td>1924</td>\n      <td>\\N</td>\n      <td>129</td>\n      <td>4341.0</td>\n      <td>The Die Nibelungen: Kriemhild's Revenge is a...</td>\n      <td>0</td>\n      <td>NaN</td>\n    </tr>\n    <tr>\n      <th>3</th>\n      <td>28</td>\n      <td>tt0015214</td>\n      <td>at 3:25</td>\n      <td>NaN</td>\n      <td>1925</td>\n      <td>1925</td>\n      <td>59</td>\n      <td>1724.0</td>\n      <td>At 3:25 is a drama film about a young woman ...</td>\n      <td>0</td>\n      <td>NaN</td>\n    </tr>\n    <tr>\n      <th>4</th>\n      <td>34</td>\n      <td>tt0015863</td>\n      <td>go west</td>\n      <td>NaN</td>\n      <td>1925</td>\n      <td>\\N</td>\n      <td>69</td>\n      <td>4188.0</td>\n      <td>Go West is a 1925 silent comedy film starrin...</td>\n      <td>0</td>\n      <td>NaN</td>\n    </tr>\n    <tr>\n      <th>...</th>\n      <td>...</td>\n      <td>...</td>\n      <td>...</td>\n      <td>...</td>\n      <td>...</td>\n      <td>...</td>\n      <td>...</td>\n      <td>...</td>\n      <td>...</td>\n      <td>...</td>\n      <td>...</td>\n    </tr>\n    <tr>\n      <th>1081</th>\n      <td>9942</td>\n      <td>tt9430698</td>\n      <td>one piece: stampede</td>\n      <td>NaN</td>\n      <td>2019</td>\n      <td>\\N</td>\n      <td>101</td>\n      <td>5109.0</td>\n      <td>The Straw Hat Pirates are invited to the Pir...</td>\n      <td>0</td>\n      <td>NaN</td>\n    </tr>\n    <tr>\n      <th>1082</th>\n      <td>9943</td>\n      <td>tt9441638</td>\n      <td>the big ugly</td>\n      <td>NaN</td>\n      <td>2020</td>\n      <td>\\N</td>\n      <td>106</td>\n      <td>5780.0</td>\n      <td>The Big Ugly is a 2020 crime drama set in th...</td>\n      <td>0</td>\n      <td>NaN</td>\n    </tr>\n    <tr>\n      <th>1083</th>\n      <td>9948</td>\n      <td>tt9495690</td>\n      <td>pagalpanti</td>\n      <td>Pagalpanti</td>\n      <td>2019</td>\n      <td>\\N</td>\n      <td>149</td>\n      <td>2331.0</td>\n      <td>The Págálpánti is a 2019 Indian drama film d...</td>\n      <td>0</td>\n      <td>NaN</td>\n    </tr>\n    <tr>\n      <th>1084</th>\n      <td>9950</td>\n      <td>tt9519642</td>\n      <td>the wedding unplanner</td>\n      <td>NaN</td>\n      <td>2020</td>\n      <td>\\N</td>\n      <td>110</td>\n      <td>NaN</td>\n      <td>The Wedding Unplanner is a 2020 romantic com...</td>\n      <td>0</td>\n      <td>NaN</td>\n    </tr>\n    <tr>\n      <th>1085</th>\n      <td>9951</td>\n      <td>tt9526826</td>\n      <td>android kunjappan ver 5.25</td>\n      <td>Android Kunjappan Version 5.25</td>\n      <td>2019</td>\n      <td>\\N</td>\n      <td>140</td>\n      <td>5271.0</td>\n      <td>Android Kunjappan Ver 5.25 is a 2019 Malayal...</td>\n      <td>0</td>\n      <td>NaN</td>\n    </tr>\n  </tbody>\n</table>\n<p>1086 rows × 11 columns</p>\n</div>"
     },
     "execution_count": 9,
     "metadata": {},
     "output_type": "execute_result"
    }
   ],
   "source": [
    "pd.merge(test, wiki[[\"primaryTitle\", \"Genre\", \"startYear\"]],on=[\"primaryTitle\", \"startYear\"], how=\"left\")"
   ],
   "metadata": {
    "collapsed": false
   }
  },
  {
   "cell_type": "code",
   "execution_count": 10,
   "outputs": [
    {
     "data": {
      "text/plain": "      Unnamed: 0     tconst                         primaryTitle  \\\n0             22  tt0014972                  he who gets slapped   \n1             23  tt0015016                       the iron horse   \n2             26  tt0015174  die nibelungen: kriemhild's revenge   \n3             28  tt0015214                              at 3:25   \n4             34  tt0015863                              go west   \n...          ...        ...                                  ...   \n1081        9942  tt9430698                  one piece: stampede   \n1082        9943  tt9441638                         the big ugly   \n1083        9948  tt9495690                           pagalpanti   \n1084        9950  tt9519642                the wedding unplanner   \n1085        9951  tt9526826           android kunjappan ver 5.25   \n\n                       originalTitle  startYear endYear runtimeMinutes  \\\n0                He Who Gets Slapped       1924      \\N             95   \n1                                NaN       1924      \\N            150   \n2                                NaN       1924      \\N            129   \n3                                NaN       1925    1925             59   \n4                                NaN       1925      \\N             69   \n...                              ...        ...     ...            ...   \n1081                             NaN       2019      \\N            101   \n1082                             NaN       2020      \\N            106   \n1083                      Pagalpanti       2019      \\N            149   \n1084                             NaN       2020      \\N            110   \n1085  Android Kunjappan Version 5.25       2019      \\N            140   \n\n      numVotes                                               plot  awards  \\\n0       3654.0    He Who Gets Slapped is a 1924 silent film di...       0   \n1       2136.0    The Iron Horse is a 1924 American silent wes...       0   \n2       4341.0    The Die Nibelungen: Kriemhild's Revenge is a...       0   \n3       1724.0    At 3:25 is a drama film about a young woman ...       0   \n4       4188.0    Go West is a 1925 silent comedy film starrin...       0   \n...        ...                                                ...     ...   \n1081    5109.0    The Straw Hat Pirates are invited to the Pir...       0   \n1082    5780.0    The Big Ugly is a 2020 crime drama set in th...       0   \n1083    2331.0    The Págálpánti is a 2019 Indian drama film d...       0   \n1084       NaN    The Wedding Unplanner is a 2020 romantic com...       0   \n1085    5271.0    Android Kunjappan Ver 5.25 is a 2019 Malayal...       0   \n\n        Genre  \n0       drama  \n1     western  \n2         NaN  \n3         NaN  \n4         NaN  \n...       ...  \n1081      NaN  \n1082      NaN  \n1083      NaN  \n1084      NaN  \n1085      NaN  \n\n[1086 rows x 11 columns]",
      "text/html": "<div>\n<style scoped>\n    .dataframe tbody tr th:only-of-type {\n        vertical-align: middle;\n    }\n\n    .dataframe tbody tr th {\n        vertical-align: top;\n    }\n\n    .dataframe thead th {\n        text-align: right;\n    }\n</style>\n<table border=\"1\" class=\"dataframe\">\n  <thead>\n    <tr style=\"text-align: right;\">\n      <th></th>\n      <th>Unnamed: 0</th>\n      <th>tconst</th>\n      <th>primaryTitle</th>\n      <th>originalTitle</th>\n      <th>startYear</th>\n      <th>endYear</th>\n      <th>runtimeMinutes</th>\n      <th>numVotes</th>\n      <th>plot</th>\n      <th>awards</th>\n      <th>Genre</th>\n    </tr>\n  </thead>\n  <tbody>\n    <tr>\n      <th>0</th>\n      <td>22</td>\n      <td>tt0014972</td>\n      <td>he who gets slapped</td>\n      <td>He Who Gets Slapped</td>\n      <td>1924</td>\n      <td>\\N</td>\n      <td>95</td>\n      <td>3654.0</td>\n      <td>He Who Gets Slapped is a 1924 silent film di...</td>\n      <td>0</td>\n      <td>drama</td>\n    </tr>\n    <tr>\n      <th>1</th>\n      <td>23</td>\n      <td>tt0015016</td>\n      <td>the iron horse</td>\n      <td>NaN</td>\n      <td>1924</td>\n      <td>\\N</td>\n      <td>150</td>\n      <td>2136.0</td>\n      <td>The Iron Horse is a 1924 American silent wes...</td>\n      <td>0</td>\n      <td>western</td>\n    </tr>\n    <tr>\n      <th>2</th>\n      <td>26</td>\n      <td>tt0015174</td>\n      <td>die nibelungen: kriemhild's revenge</td>\n      <td>NaN</td>\n      <td>1924</td>\n      <td>\\N</td>\n      <td>129</td>\n      <td>4341.0</td>\n      <td>The Die Nibelungen: Kriemhild's Revenge is a...</td>\n      <td>0</td>\n      <td>NaN</td>\n    </tr>\n    <tr>\n      <th>3</th>\n      <td>28</td>\n      <td>tt0015214</td>\n      <td>at 3:25</td>\n      <td>NaN</td>\n      <td>1925</td>\n      <td>1925</td>\n      <td>59</td>\n      <td>1724.0</td>\n      <td>At 3:25 is a drama film about a young woman ...</td>\n      <td>0</td>\n      <td>NaN</td>\n    </tr>\n    <tr>\n      <th>4</th>\n      <td>34</td>\n      <td>tt0015863</td>\n      <td>go west</td>\n      <td>NaN</td>\n      <td>1925</td>\n      <td>\\N</td>\n      <td>69</td>\n      <td>4188.0</td>\n      <td>Go West is a 1925 silent comedy film starrin...</td>\n      <td>0</td>\n      <td>NaN</td>\n    </tr>\n    <tr>\n      <th>...</th>\n      <td>...</td>\n      <td>...</td>\n      <td>...</td>\n      <td>...</td>\n      <td>...</td>\n      <td>...</td>\n      <td>...</td>\n      <td>...</td>\n      <td>...</td>\n      <td>...</td>\n      <td>...</td>\n    </tr>\n    <tr>\n      <th>1081</th>\n      <td>9942</td>\n      <td>tt9430698</td>\n      <td>one piece: stampede</td>\n      <td>NaN</td>\n      <td>2019</td>\n      <td>\\N</td>\n      <td>101</td>\n      <td>5109.0</td>\n      <td>The Straw Hat Pirates are invited to the Pir...</td>\n      <td>0</td>\n      <td>NaN</td>\n    </tr>\n    <tr>\n      <th>1082</th>\n      <td>9943</td>\n      <td>tt9441638</td>\n      <td>the big ugly</td>\n      <td>NaN</td>\n      <td>2020</td>\n      <td>\\N</td>\n      <td>106</td>\n      <td>5780.0</td>\n      <td>The Big Ugly is a 2020 crime drama set in th...</td>\n      <td>0</td>\n      <td>NaN</td>\n    </tr>\n    <tr>\n      <th>1083</th>\n      <td>9948</td>\n      <td>tt9495690</td>\n      <td>pagalpanti</td>\n      <td>Pagalpanti</td>\n      <td>2019</td>\n      <td>\\N</td>\n      <td>149</td>\n      <td>2331.0</td>\n      <td>The Págálpánti is a 2019 Indian drama film d...</td>\n      <td>0</td>\n      <td>NaN</td>\n    </tr>\n    <tr>\n      <th>1084</th>\n      <td>9950</td>\n      <td>tt9519642</td>\n      <td>the wedding unplanner</td>\n      <td>NaN</td>\n      <td>2020</td>\n      <td>\\N</td>\n      <td>110</td>\n      <td>NaN</td>\n      <td>The Wedding Unplanner is a 2020 romantic com...</td>\n      <td>0</td>\n      <td>NaN</td>\n    </tr>\n    <tr>\n      <th>1085</th>\n      <td>9951</td>\n      <td>tt9526826</td>\n      <td>android kunjappan ver 5.25</td>\n      <td>Android Kunjappan Version 5.25</td>\n      <td>2019</td>\n      <td>\\N</td>\n      <td>140</td>\n      <td>5271.0</td>\n      <td>Android Kunjappan Ver 5.25 is a 2019 Malayal...</td>\n      <td>0</td>\n      <td>NaN</td>\n    </tr>\n  </tbody>\n</table>\n<p>1086 rows × 11 columns</p>\n</div>"
     },
     "execution_count": 10,
     "metadata": {},
     "output_type": "execute_result"
    }
   ],
   "source": [
    "test_final = pd.merge(test, wiki[[\"primaryTitle\", \"Genre\", \"startYear\"]],on=[\"primaryTitle\", \"startYear\"], how=\"left\")\n",
    "test_final"
   ],
   "metadata": {
    "collapsed": false
   }
  },
  {
   "cell_type": "code",
   "execution_count": 11,
   "outputs": [],
   "source": [
    "test_final.to_csv(\"../datasets/gpt_data/test_plots_awards_genre_no_duplicates.csv\", index=False)"
   ],
   "metadata": {
    "collapsed": false
   }
  },
  {
   "cell_type": "code",
   "execution_count": null,
   "outputs": [],
   "source": [],
   "metadata": {
    "collapsed": false
   }
  }
 ],
 "metadata": {
  "kernelspec": {
   "display_name": "Python 3",
   "language": "python",
   "name": "python3"
  },
  "language_info": {
   "codemirror_mode": {
    "name": "ipython",
    "version": 2
   },
   "file_extension": ".py",
   "mimetype": "text/x-python",
   "name": "python",
   "nbconvert_exporter": "python",
   "pygments_lexer": "ipython2",
   "version": "2.7.6"
  }
 },
 "nbformat": 4,
 "nbformat_minor": 0
}

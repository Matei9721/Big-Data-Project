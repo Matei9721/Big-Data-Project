{
 "cells": [
  {
   "cell_type": "code",
   "execution_count": 138,
   "metadata": {
    "collapsed": true,
    "pycharm": {
     "name": "#%%\n"
    }
   },
   "outputs": [],
   "source": [
    "# Import PySpark\n",
    "from pyspark.sql import SparkSession\n",
    "\n",
    "#Create SparkSession\n",
    "spark = SparkSession.builder.appName('MyApp').getOrCreate()"
   ]
  },
  {
   "cell_type": "code",
   "execution_count": 139,
   "outputs": [],
   "source": [
    "\"\"\"\n",
    "Loading the training csv.\n",
    "\"\"\"\n",
    "\n",
    "training = spark.read.option(\"escape\", \"\\\"\").csv('../datasets/imdb/train_movies_extra_data_new.csv', header=True, inferSchema=True)"
   ],
   "metadata": {
    "collapsed": false,
    "pycharm": {
     "name": "#%%\n"
    }
   }
  },
  {
   "cell_type": "code",
   "execution_count": 140,
   "outputs": [],
   "source": [
    "\"\"\"\n",
    "Loading the validation csv.\n",
    "\"\"\"\n",
    "\n",
    "validation = spark.read.option(\"escape\", \"\\\"\").csv('../datasets/imdb/validation_extra_data.csv', header=True, inferSchema=True)"
   ],
   "metadata": {
    "collapsed": false,
    "pycharm": {
     "name": "#%%\n"
    }
   }
  },
  {
   "cell_type": "code",
   "execution_count": 141,
   "outputs": [],
   "source": [
    "\"\"\"\n",
    "Loading the test csv.\n",
    "\"\"\"\n",
    "\n",
    "test = spark.read.option(\"escape\", \"\\\"\").csv('../datasets/imdb/test_extra_data.csv', header=True,\n",
    "    inferSchema=True)"
   ],
   "metadata": {
    "collapsed": false,
    "pycharm": {
     "name": "#%%\n"
    }
   }
  },
  {
   "cell_type": "code",
   "execution_count": 142,
   "outputs": [],
   "source": [
    "from pyspark.sql.functions import col, udf, when, split, regexp_replace\n",
    "from pyspark.sql.types import BooleanType, IntegerType\n",
    "\n",
    "import re\n",
    "\n",
    "def manage_awards(award):\n",
    "\n",
    "    if award is not None:\n",
    "        if re.search('win', award) or re.search('wins', award) or re.search('won', award):\n",
    "            return True\n",
    "        else:\n",
    "            return False\n",
    "    else:\n",
    "        return False\n",
    "\n",
    "my_udf = udf(manage_awards, BooleanType())\n",
    "\n",
    "def preprocessing_method(df):\n",
    "\n",
    "    \"\"\"\n",
    "    This method will convert to integer all the years and will put to categorical weather\n",
    "    a movie won any awards or not.\n",
    "    :param df: dataframe\n",
    "    :return: return a preprocessed dataframe\n",
    "    \"\"\"\n",
    "\n",
    "    \"\"\"\n",
    "    Here casting to integer all the numerical values\n",
    "    \"\"\"\n",
    "    df = df.withColumn('startYear', col('startYear').cast('int'))\n",
    "    df = df.withColumn('endYear', col('endYear').cast('int'))\n",
    "    df = df.withColumn('numVotes', col('numVotes').cast('int'))\n",
    "\n",
    "    df = df.withColumn(\"boxoffice\", regexp_replace(col(\"boxoffice\"), \"[$,]\", \"\").cast(\"int\"))\n",
    "    df = df.withColumn('imdb_votes', regexp_replace(col('imdb_votes'), \"[,]\", \"\").cast('int'))\n",
    "\n",
    "    \"\"\"\n",
    "    Awards transformed into True or False\n",
    "    \"\"\"\n",
    "\n",
    "    df = df.withColumn('awards', my_udf(df['awards']))\n",
    "\n",
    "    \"\"\"\n",
    "    Substitute numVotes value when null with the value of imdb votes\n",
    "    \"\"\"\n",
    "\n",
    "    df = df.withColumn('numVotes', when(col('numVotes').isNull(), col('imdb_votes')).\n",
    "                       otherwise(col('numVotes')))\n",
    "\n",
    "    \"\"\"\n",
    "    Transformations from string to lists\n",
    "    \"\"\"\n",
    "\n",
    "    df = df.withColumn('genre', split(col('genre'), ','))\n",
    "    df = df.withColumn('actors', split(col('actors'), ','))\n",
    "    df = df.withColumn('language', split(col('language'), ','))\n",
    "\n",
    "    return df"
   ],
   "metadata": {
    "collapsed": false,
    "pycharm": {
     "name": "#%%\n"
    }
   }
  },
  {
   "cell_type": "code",
   "execution_count": 143,
   "outputs": [],
   "source": [
    "\"\"\"\n",
    "Preprocessing the training dataset.\n",
    "\"\"\"\n",
    "\n",
    "training_prep = preprocessing_method(training)"
   ],
   "metadata": {
    "collapsed": false,
    "pycharm": {
     "name": "#%%\n"
    }
   }
  },
  {
   "cell_type": "code",
   "execution_count": 144,
   "outputs": [],
   "source": [
    "\"\"\"\n",
    "Preprocessing the validation dataset.\n",
    "\"\"\"\n",
    "\n",
    "validation_prep = preprocessing_method(validation)"
   ],
   "metadata": {
    "collapsed": false,
    "pycharm": {
     "name": "#%%\n"
    }
   }
  },
  {
   "cell_type": "code",
   "execution_count": 145,
   "outputs": [],
   "source": [
    "\"\"\"\n",
    "Preprocessing the test dataset.\n",
    "\"\"\"\n",
    "\n",
    "test_prep = preprocessing_method(test)"
   ],
   "metadata": {
    "collapsed": false,
    "pycharm": {
     "name": "#%%\n"
    }
   }
  },
  {
   "cell_type": "code",
   "execution_count": 146,
   "outputs": [],
   "source": [
    "\"\"\"\n",
    "Saving to csv the training dataset.\n",
    "\"\"\"\n",
    "\n",
    "training_prep.toPandas().to_csv('../datasets/models_dataset/train.csv', index=False)"
   ],
   "metadata": {
    "collapsed": false,
    "pycharm": {
     "name": "#%%\n"
    }
   }
  },
  {
   "cell_type": "code",
   "execution_count": 147,
   "outputs": [],
   "source": [
    "\"\"\"\n",
    "Saving to csv the validation dataset.\n",
    "\"\"\"\n",
    "\n",
    "validation_prep.toPandas().to_csv('../datasets/models_dataset/validation.csv', index=False)\n"
   ],
   "metadata": {
    "collapsed": false,
    "pycharm": {
     "name": "#%%\n"
    }
   }
  },
  {
   "cell_type": "code",
   "execution_count": 148,
   "outputs": [],
   "source": [
    "\"\"\"\n",
    "Saving to csv the test dataset.\n",
    "\"\"\"\n",
    "\n",
    "test_prep.toPandas().to_csv('../datasets/models_dataset/test.csv', index=False)"
   ],
   "metadata": {
    "collapsed": false,
    "pycharm": {
     "name": "#%%\n"
    }
   }
  }
 ],
 "metadata": {
  "kernelspec": {
   "display_name": "Python 3",
   "language": "python",
   "name": "python3"
  },
  "language_info": {
   "codemirror_mode": {
    "name": "ipython",
    "version": 2
   },
   "file_extension": ".py",
   "mimetype": "text/x-python",
   "name": "python",
   "nbconvert_exporter": "python",
   "pygments_lexer": "ipython2",
   "version": "2.7.6"
  }
 },
 "nbformat": 4,
 "nbformat_minor": 0
}
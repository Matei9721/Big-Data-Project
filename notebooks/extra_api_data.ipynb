{
 "cells": [
  {
   "cell_type": "markdown",
   "source": [
    "### Adding extra movie data using https://www.omdbapi.com/"
   ],
   "metadata": {
    "collapsed": false
   }
  },
  {
   "cell_type": "code",
   "execution_count": 2,
   "outputs": [],
   "source": [
    "from pyspark import SparkConf, SparkContext\n",
    "\n",
    "conf = SparkConf().setAppName(\"MyApp\").setMaster(\"local[*]\")\\\n",
    "                  .set(\"spark.driver.memory\", \"2g\")\n",
    "sc = SparkContext(conf=conf)\n"
   ],
   "metadata": {
    "collapsed": false
   }
  },
  {
   "cell_type": "code",
   "execution_count": 8,
   "outputs": [],
   "source": [
    "# Import PySpark\n",
    "from pyspark.sql import SparkSession\n",
    "\n",
    "#Create SparkSession\n",
    "spark = SparkSession.builder.appName('MyApp').getOrCreate()"
   ],
   "metadata": {
    "collapsed": false
   }
  },
  {
   "cell_type": "code",
   "execution_count": 9,
   "outputs": [
    {
     "data": {
      "text/plain": "<pyspark.sql.session.SparkSession at 0x26dd8f0af70>",
      "text/html": "\n            <div>\n                <p><b>SparkSession - in-memory</b></p>\n                \n        <div>\n            <p><b>SparkContext</b></p>\n\n            <p><a href=\"http://DESKTOP-V27DAJS:4041\">Spark UI</a></p>\n\n            <dl>\n              <dt>Version</dt>\n                <dd><code>v3.3.2</code></dd>\n              <dt>Master</dt>\n                <dd><code>local[*]</code></dd>\n              <dt>AppName</dt>\n                <dd><code>MyApp</code></dd>\n            </dl>\n        </div>\n        \n            </div>\n        "
     },
     "execution_count": 9,
     "metadata": {},
     "output_type": "execute_result"
    }
   ],
   "source": [
    "spark"
   ],
   "metadata": {
    "collapsed": false
   }
  },
  {
   "cell_type": "code",
   "execution_count": 19,
   "outputs": [],
   "source": [
    "df_spark = spark.read.csv(\"../datasets/imdb/train_movies_extra_data.csv\", inferSchema=True, header=True)"
   ],
   "metadata": {
    "collapsed": false
   }
  },
  {
   "cell_type": "code",
   "execution_count": 24,
   "outputs": [
    {
     "data": {
      "text/plain": "       _c0     tconst                                   primaryTitle  \\\n0        4  tt0010600                                       The Doll   \n1        7  tt0011841                                  Way Down East   \n2        9  tt0012494                                        Déstiny   \n3       25  tt0015163                                  The Navigator   \n4       38  tt0016220                       The Phantom of the Opera   \n...    ...        ...                                            ...   \n7954  9966  tt9625664                                  Trauma Center   \n7955  9981  tt9741310                                          Slaxx   \n7956  9982  tt9742392                                        Kindred   \n7957  9996  tt9850386  The Bee Gees: How Can You Mend a Broken Heart   \n7958  9999  tt9911196                            The Marriage Escape   \n\n                       originalTitle startYear endYear runtimeMinutes  \\\n0                          Die Puppe      1919      \\N             66   \n1                      Way Down East      1920      \\N            145   \n2                       Der müde Tod      1921      \\N             97   \n3                      The Navigator      1924      \\N             59   \n4           The Phantom of the Opera      1925      \\N             93   \n...                              ...       ...     ...            ...   \n7954                            None      2019      \\N             87   \n7955                           Slaxx      2020      \\N             77   \n7956                         Kindred      2020      \\N            101   \n7957                            None      2020      \\N            111   \n7958  De beentjes van Sint-Hildegard      2020      \\N            103   \n\n      numVotes  label                          genre  \\\n0       1898.0   True        Comedy, Fantasy, Sci-Fi   \n1       5376.0   True                 Drama, Romance   \n2       5842.0   True         Drama, Fantasy, Horror   \n3       9652.0   True        Action, Comedy, Romance   \n4      17887.0   True                         Horror   \n...        ...    ...                            ...   \n7954   12951.0  False               Action, Thriller   \n7955    2464.0  False                 Comedy, Horror   \n7956    1719.0  False         Drama, Horror, Mystery   \n7957    4144.0   True  Documentary, Biography, Music   \n7958    3242.0   True                  Comedy, Drama   \n\n                                                   plot  \\\n0     Because the Baron of Chanterelle wants to pres...   \n1     The callous rich, portrayed by Lennox, think o...   \n2     As a young couple stops and rests in a small v...   \n3     \"Rollo decides to marry his sweetheart Betsy a...   \n4     At the Opera of Paris, a mysterious phantom th...   \n...                                                 ...   \n7954  Alone and trapped in a locked-down hospital is...   \n7955  When a possessed pair of jeans begins to kill ...   \n7956  When her boyfriend dies suddenly in an acciden...   \n7957  An exploration of the history of the Bee Gees,...   \n7958  Jan and Gedda have been married for a long tim...   \n\n                                                 actors  \\\n0           Ossi Oswalda, Hermann Thimig, Victor Janson   \n1     Lillian Gish, Richard Barthelmess, Mrs. David ...   \n2         Bernhard Goetzke, Lil Dagover, Walter Janssen   \n3      Betsy boards the ship to look for her father....   \n4                Lon Chaney, Mary Philbin, Norman Kerry   \n...                                                 ...   \n7954             Nicky Whelan, Bruce Willis, Tito Ortiz   \n7955         Romane Denis, Brett Donahue, Sehar Bhojani   \n7956      Tamara Lawrance, Edward Holcroft, Jack Lowden   \n7957               Barry Gibb, Maurice Gibb, Robin Gibb   \n7958  Herman Finkers, Johanna ter Steege, Leonie ter...   \n\n                                             language  \\\n0                                     English, German   \n1                                             English   \n2                                              German   \n3     Buster Keaton, Kathryn McGuire, Frederick Vroom   \n4                                                 N/A   \n...                                               ...   \n7954                                 English, Spanish   \n7955                                          English   \n7956                                          English   \n7957                                          English   \n7958                                Low German, Dutch   \n\n                                                country  \\\n0                                               Germany   \n1                                         United States   \n2                                               Germany   \n3                                               English   \n4                                         United States   \n...                                                 ...   \n7954                                      United States   \n7955                                             Canada   \n7956  United Kingdom, United Arab Emirates, Germany,...   \n7957                                      United States   \n7958                                        Netherlands   \n\n                                                 awards             boxoffice  \\\n0                                                   N/A                   N/A   \n1                                                   N/A                   N/A   \n2                                         2 nominations               $12,156   \n3                                         United States  1 win & 1 nomination   \n4                                 2 wins & 1 nomination            $3,751,476   \n...                                                 ...                   ...   \n7954                                                N/A                   N/A   \n7955                               1 win & 1 nomination                   N/A   \n7956                                      4 nominations                $8,921   \n7957  Won 1 Primetime Emmy. 4 wins & 8 nominations t...                   N/A   \n7958                             2 wins & 3 nominations                   N/A   \n\n     rating entry_type       production  \n0       7.4      movie              N/A  \n1       7.4      movie   United Artists  \n2       7.6      movie              N/A  \n3       N/A        7.6            movie  \n4       7.5      movie     Hammer Films  \n...     ...        ...              ...  \n7954    4.0      movie  MoviePass Films  \n7955    5.4      movie              N/A  \n7956    5.0      movie     IFC Midnight  \n7957    8.1      movie              N/A  \n7958    7.5      movie              N/A  \n\n[7959 rows x 19 columns]",
      "text/html": "<div>\n<style scoped>\n    .dataframe tbody tr th:only-of-type {\n        vertical-align: middle;\n    }\n\n    .dataframe tbody tr th {\n        vertical-align: top;\n    }\n\n    .dataframe thead th {\n        text-align: right;\n    }\n</style>\n<table border=\"1\" class=\"dataframe\">\n  <thead>\n    <tr style=\"text-align: right;\">\n      <th></th>\n      <th>_c0</th>\n      <th>tconst</th>\n      <th>primaryTitle</th>\n      <th>originalTitle</th>\n      <th>startYear</th>\n      <th>endYear</th>\n      <th>runtimeMinutes</th>\n      <th>numVotes</th>\n      <th>label</th>\n      <th>genre</th>\n      <th>plot</th>\n      <th>actors</th>\n      <th>language</th>\n      <th>country</th>\n      <th>awards</th>\n      <th>boxoffice</th>\n      <th>rating</th>\n      <th>entry_type</th>\n      <th>production</th>\n    </tr>\n  </thead>\n  <tbody>\n    <tr>\n      <th>0</th>\n      <td>4</td>\n      <td>tt0010600</td>\n      <td>The Doll</td>\n      <td>Die Puppe</td>\n      <td>1919</td>\n      <td>\\N</td>\n      <td>66</td>\n      <td>1898.0</td>\n      <td>True</td>\n      <td>Comedy, Fantasy, Sci-Fi</td>\n      <td>Because the Baron of Chanterelle wants to pres...</td>\n      <td>Ossi Oswalda, Hermann Thimig, Victor Janson</td>\n      <td>English, German</td>\n      <td>Germany</td>\n      <td>N/A</td>\n      <td>N/A</td>\n      <td>7.4</td>\n      <td>movie</td>\n      <td>N/A</td>\n    </tr>\n    <tr>\n      <th>1</th>\n      <td>7</td>\n      <td>tt0011841</td>\n      <td>Way Down East</td>\n      <td>Way Down East</td>\n      <td>1920</td>\n      <td>\\N</td>\n      <td>145</td>\n      <td>5376.0</td>\n      <td>True</td>\n      <td>Drama, Romance</td>\n      <td>The callous rich, portrayed by Lennox, think o...</td>\n      <td>Lillian Gish, Richard Barthelmess, Mrs. David ...</td>\n      <td>English</td>\n      <td>United States</td>\n      <td>N/A</td>\n      <td>N/A</td>\n      <td>7.4</td>\n      <td>movie</td>\n      <td>United Artists</td>\n    </tr>\n    <tr>\n      <th>2</th>\n      <td>9</td>\n      <td>tt0012494</td>\n      <td>Déstiny</td>\n      <td>Der müde Tod</td>\n      <td>1921</td>\n      <td>\\N</td>\n      <td>97</td>\n      <td>5842.0</td>\n      <td>True</td>\n      <td>Drama, Fantasy, Horror</td>\n      <td>As a young couple stops and rests in a small v...</td>\n      <td>Bernhard Goetzke, Lil Dagover, Walter Janssen</td>\n      <td>German</td>\n      <td>Germany</td>\n      <td>2 nominations</td>\n      <td>$12,156</td>\n      <td>7.6</td>\n      <td>movie</td>\n      <td>N/A</td>\n    </tr>\n    <tr>\n      <th>3</th>\n      <td>25</td>\n      <td>tt0015163</td>\n      <td>The Navigator</td>\n      <td>The Navigator</td>\n      <td>1924</td>\n      <td>\\N</td>\n      <td>59</td>\n      <td>9652.0</td>\n      <td>True</td>\n      <td>Action, Comedy, Romance</td>\n      <td>\"Rollo decides to marry his sweetheart Betsy a...</td>\n      <td>Betsy boards the ship to look for her father....</td>\n      <td>Buster Keaton, Kathryn McGuire, Frederick Vroom</td>\n      <td>English</td>\n      <td>United States</td>\n      <td>1 win &amp; 1 nomination</td>\n      <td>N/A</td>\n      <td>7.6</td>\n      <td>movie</td>\n    </tr>\n    <tr>\n      <th>4</th>\n      <td>38</td>\n      <td>tt0016220</td>\n      <td>The Phantom of the Opera</td>\n      <td>The Phantom of the Opera</td>\n      <td>1925</td>\n      <td>\\N</td>\n      <td>93</td>\n      <td>17887.0</td>\n      <td>True</td>\n      <td>Horror</td>\n      <td>At the Opera of Paris, a mysterious phantom th...</td>\n      <td>Lon Chaney, Mary Philbin, Norman Kerry</td>\n      <td>N/A</td>\n      <td>United States</td>\n      <td>2 wins &amp; 1 nomination</td>\n      <td>$3,751,476</td>\n      <td>7.5</td>\n      <td>movie</td>\n      <td>Hammer Films</td>\n    </tr>\n    <tr>\n      <th>...</th>\n      <td>...</td>\n      <td>...</td>\n      <td>...</td>\n      <td>...</td>\n      <td>...</td>\n      <td>...</td>\n      <td>...</td>\n      <td>...</td>\n      <td>...</td>\n      <td>...</td>\n      <td>...</td>\n      <td>...</td>\n      <td>...</td>\n      <td>...</td>\n      <td>...</td>\n      <td>...</td>\n      <td>...</td>\n      <td>...</td>\n      <td>...</td>\n    </tr>\n    <tr>\n      <th>7954</th>\n      <td>9966</td>\n      <td>tt9625664</td>\n      <td>Trauma Center</td>\n      <td>None</td>\n      <td>2019</td>\n      <td>\\N</td>\n      <td>87</td>\n      <td>12951.0</td>\n      <td>False</td>\n      <td>Action, Thriller</td>\n      <td>Alone and trapped in a locked-down hospital is...</td>\n      <td>Nicky Whelan, Bruce Willis, Tito Ortiz</td>\n      <td>English, Spanish</td>\n      <td>United States</td>\n      <td>N/A</td>\n      <td>N/A</td>\n      <td>4.0</td>\n      <td>movie</td>\n      <td>MoviePass Films</td>\n    </tr>\n    <tr>\n      <th>7955</th>\n      <td>9981</td>\n      <td>tt9741310</td>\n      <td>Slaxx</td>\n      <td>Slaxx</td>\n      <td>2020</td>\n      <td>\\N</td>\n      <td>77</td>\n      <td>2464.0</td>\n      <td>False</td>\n      <td>Comedy, Horror</td>\n      <td>When a possessed pair of jeans begins to kill ...</td>\n      <td>Romane Denis, Brett Donahue, Sehar Bhojani</td>\n      <td>English</td>\n      <td>Canada</td>\n      <td>1 win &amp; 1 nomination</td>\n      <td>N/A</td>\n      <td>5.4</td>\n      <td>movie</td>\n      <td>N/A</td>\n    </tr>\n    <tr>\n      <th>7956</th>\n      <td>9982</td>\n      <td>tt9742392</td>\n      <td>Kindred</td>\n      <td>Kindred</td>\n      <td>2020</td>\n      <td>\\N</td>\n      <td>101</td>\n      <td>1719.0</td>\n      <td>False</td>\n      <td>Drama, Horror, Mystery</td>\n      <td>When her boyfriend dies suddenly in an acciden...</td>\n      <td>Tamara Lawrance, Edward Holcroft, Jack Lowden</td>\n      <td>English</td>\n      <td>United Kingdom, United Arab Emirates, Germany,...</td>\n      <td>4 nominations</td>\n      <td>$8,921</td>\n      <td>5.0</td>\n      <td>movie</td>\n      <td>IFC Midnight</td>\n    </tr>\n    <tr>\n      <th>7957</th>\n      <td>9996</td>\n      <td>tt9850386</td>\n      <td>The Bee Gees: How Can You Mend a Broken Heart</td>\n      <td>None</td>\n      <td>2020</td>\n      <td>\\N</td>\n      <td>111</td>\n      <td>4144.0</td>\n      <td>True</td>\n      <td>Documentary, Biography, Music</td>\n      <td>An exploration of the history of the Bee Gees,...</td>\n      <td>Barry Gibb, Maurice Gibb, Robin Gibb</td>\n      <td>English</td>\n      <td>United States</td>\n      <td>Won 1 Primetime Emmy. 4 wins &amp; 8 nominations t...</td>\n      <td>N/A</td>\n      <td>8.1</td>\n      <td>movie</td>\n      <td>N/A</td>\n    </tr>\n    <tr>\n      <th>7958</th>\n      <td>9999</td>\n      <td>tt9911196</td>\n      <td>The Marriage Escape</td>\n      <td>De beentjes van Sint-Hildegard</td>\n      <td>2020</td>\n      <td>\\N</td>\n      <td>103</td>\n      <td>3242.0</td>\n      <td>True</td>\n      <td>Comedy, Drama</td>\n      <td>Jan and Gedda have been married for a long tim...</td>\n      <td>Herman Finkers, Johanna ter Steege, Leonie ter...</td>\n      <td>Low German, Dutch</td>\n      <td>Netherlands</td>\n      <td>2 wins &amp; 3 nominations</td>\n      <td>N/A</td>\n      <td>7.5</td>\n      <td>movie</td>\n      <td>N/A</td>\n    </tr>\n  </tbody>\n</table>\n<p>7959 rows × 19 columns</p>\n</div>"
     },
     "execution_count": 24,
     "metadata": {},
     "output_type": "execute_result"
    }
   ],
   "source": [
    "df_spark.toPandas()"
   ],
   "metadata": {
    "collapsed": false
   }
  },
  {
   "cell_type": "code",
   "execution_count": 12,
   "outputs": [
    {
     "data": {
      "text/plain": "7959"
     },
     "execution_count": 12,
     "metadata": {},
     "output_type": "execute_result"
    }
   ],
   "source": [
    "df_spark.cache()\n",
    "df_spark.count()"
   ],
   "metadata": {
    "collapsed": false
   }
  },
  {
   "cell_type": "code",
   "execution_count": 15,
   "metadata": {
    "collapsed": true
   },
   "outputs": [],
   "source": [
    "import requests\n",
    "from pyspark.sql.functions import udf\n",
    "from pyspark.sql.types import StructType, StructField, StringType, IntegerType\n",
    "\n",
    "# Define the UDF function that takes a value from a DataFrame column and returns data from an API\n",
    "def api_udf(value):\n",
    "\n",
    "    genre = None\n",
    "    plot = None\n",
    "    actors = None\n",
    "    language = None\n",
    "    country = None\n",
    "    awards = None\n",
    "    boxoffice = None\n",
    "    rating = None\n",
    "    entry_type = None\n",
    "    production = None\n",
    "    try:\n",
    "        # Make an API call with the value\n",
    "        response = requests.get(f\"https://www.omdbapi.com/?plot=full&i={value}&apikey=43c7c72f\")\n",
    "\n",
    "        # Extract the data from the API response\n",
    "        data = response.json()\n",
    "        genre = data[\"Genre\"]\n",
    "        plot = data[\"Plot\"]\n",
    "        actors = data[\"Actors\"]\n",
    "        language = data[\"Language\"]\n",
    "        country = data[\"Country\"]\n",
    "        awards = data[\"Awards\"]\n",
    "        boxoffice = data[\"BoxOffice\"]\n",
    "        rating = data[\"imdbRating\"]\n",
    "        entry_type = data[\"Type\"]\n",
    "        production = data[\"Production\"]\n",
    "    except:\n",
    "        print(f\"error arose for movie with id {value}\")\n",
    "\n",
    "    # Return a tuple with the new column values\n",
    "    return genre, plot, actors, language,country, awards, boxoffice, rating, entry_type, production\n",
    "\n",
    "# Define the schema for the new columns\n",
    "new_columns_schema = StructType([\n",
    "    StructField(\"genre\", StringType(), True),\n",
    "    StructField(\"plot\", StringType(), True),\n",
    "    StructField(\"actors\", StringType(), True),\n",
    "    StructField(\"language\", StringType(), True),\n",
    "    StructField(\"country\", StringType(), True),\n",
    "    StructField(\"awards\", StringType(), True),\n",
    "    StructField(\"boxoffice\", StringType(), True),\n",
    "    StructField(\"rating\", StringType(), True),\n",
    "    StructField(\"entry_type\", StringType(), True),\n",
    "    StructField(\"production\", StringType(), True),\n",
    "])\n",
    "\n",
    "# Create the UDF\n",
    "api_udf = udf(api_udf, new_columns_schema)\n",
    "\n",
    "# Apply the UDF on a DataFrame column to create new columns with data from the API\n",
    "df_spark = df_spark.withColumn(\"new_columns\", api_udf(df_spark[\"tconst\"]))\n",
    "\n",
    "# Extract the new columns from the struct column and add them to the DataFrame\n",
    "df_spark = df_spark.withColumn(\"genre\", df_spark[\"new_columns\"][\"genre\"])\n",
    "df_spark = df_spark.withColumn(\"plot\", df_spark[\"new_columns\"][\"plot\"])\n",
    "df_spark = df_spark.withColumn(\"actors\", df_spark[\"new_columns\"][\"actors\"])\n",
    "df_spark = df_spark.withColumn(\"language\", df_spark[\"new_columns\"][\"language\"])\n",
    "df_spark = df_spark.withColumn(\"country\", df_spark[\"new_columns\"][\"country\"])\n",
    "df_spark = df_spark.withColumn(\"awards\", df_spark[\"new_columns\"][\"awards\"])\n",
    "df_spark = df_spark.withColumn(\"boxoffice\", df_spark[\"new_columns\"][\"boxoffice\"])\n",
    "df_spark = df_spark.withColumn(\"rating\", df_spark[\"new_columns\"][\"rating\"])\n",
    "df_spark = df_spark.withColumn(\"entry_type\", df_spark[\"new_columns\"][\"entry_type\"])\n",
    "df_spark = df_spark.withColumn(\"production\", df_spark[\"new_columns\"][\"production\"])\n",
    "\n",
    "# Drop the struct column\n",
    "df_spark = df_spark.drop(\"new_columns\")\n"
   ]
  },
  {
   "cell_type": "code",
   "execution_count": null,
   "outputs": [],
   "source": [
    "df_spark.cache()\n",
    "df_spark.show()\n"
   ],
   "metadata": {
    "collapsed": false
   }
  },
  {
   "cell_type": "code",
   "execution_count": null,
   "outputs": [],
   "source": [
    "df_spark.toPandas().to_csv(\"train_movies_extra_data.csv\", index=False)"
   ],
   "metadata": {
    "collapsed": false
   }
  }
 ],
 "metadata": {
  "kernelspec": {
   "display_name": "Python 3",
   "language": "python",
   "name": "python3"
  },
  "language_info": {
   "codemirror_mode": {
    "name": "ipython",
    "version": 2
   },
   "file_extension": ".py",
   "mimetype": "text/x-python",
   "name": "python",
   "nbconvert_exporter": "python",
   "pygments_lexer": "ipython2",
   "version": "2.7.6"
  }
 },
 "nbformat": 4,
 "nbformat_minor": 0
}

{
 "cells": [
  {
   "cell_type": "code",
   "execution_count": 1,
   "metadata": {
    "collapsed": true
   },
   "outputs": [
    {
     "name": "stderr",
     "output_type": "stream",
     "text": [
      "Setting default log level to \"WARN\".\n",
      "To adjust logging level use sc.setLogLevel(newLevel). For SparkR, use setLogLevel(newLevel).\n"
     ]
    },
    {
     "name": "stdout",
     "output_type": "stream",
     "text": [
      "23/03/12 16:29:43 WARN NativeCodeLoader: Unable to load native-hadoop library for your platform... using builtin-java classes where applicable\n"
     ]
    }
   ],
   "source": [
    "# Import PySpark\n",
    "from pyspark.sql import SparkSession\n",
    "\n",
    "#Create SparkSession\n",
    "spark = SparkSession.builder.appName('SparkCleaning').getOrCreate()"
   ]
  },
  {
   "cell_type": "code",
   "execution_count": 2,
   "outputs": [
    {
     "data": {
      "text/plain": "<pyspark.sql.session.SparkSession at 0x117f97ac8>",
      "text/html": "\n            <div>\n                <p><b>SparkSession - in-memory</b></p>\n                \n        <div>\n            <p><b>SparkContext</b></p>\n\n            <p><a href=\"http://192.168.16.103:4040\">Spark UI</a></p>\n\n            <dl>\n              <dt>Version</dt>\n                <dd><code>v3.3.2</code></dd>\n              <dt>Master</dt>\n                <dd><code>local[*]</code></dd>\n              <dt>AppName</dt>\n                <dd><code>SparkCleaning</code></dd>\n            </dl>\n        </div>\n        \n            </div>\n        "
     },
     "execution_count": 2,
     "metadata": {},
     "output_type": "execute_result"
    }
   ],
   "source": [
    "spark"
   ],
   "metadata": {
    "collapsed": false
   }
  },
  {
   "cell_type": "code",
   "execution_count": 3,
   "outputs": [
    {
     "data": {
      "text/plain": "DataFrame[_c0: int, tconst: string, primaryTitle: string, originalTitle: string, startYear: string, endYear: string, runtimeMinutes: string, numVotes: double]"
     },
     "execution_count": 3,
     "metadata": {},
     "output_type": "execute_result"
    }
   ],
   "source": [
    "df_spark = spark.read.csv(\"../datasets/imdb/validation_hidden.csv\", inferSchema=True, header=True)\n",
    "df_spark.repartition(4)"
   ],
   "metadata": {
    "collapsed": false
   }
  },
  {
   "cell_type": "code",
   "execution_count": 4,
   "outputs": [
    {
     "name": "stdout",
     "output_type": "stream",
     "text": [
      "23/03/12 16:29:50 WARN CSVHeaderChecker: CSV header does not conform to the schema.\n",
      " Header: , tconst, primaryTitle, originalTitle, startYear, endYear, runtimeMinutes, numVotes\n",
      " Schema: _c0, tconst, primaryTitle, originalTitle, startYear, endYear, runtimeMinutes, numVotes\n",
      "Expected: _c0 but found: \n",
      "CSV file: file:///Users/mattiacintioli/PycharmProjects/Big-Data-Project/datasets/imdb/validation_hidden.csv\n",
      "+---+---------+--------------------+-------------------+---------+-------+--------------+--------+\n",
      "|_c0|   tconst|        primaryTitle|      originalTitle|startYear|endYear|runtimeMinutes|numVotes|\n",
      "+---+---------+--------------------+-------------------+---------+-------+--------------+--------+\n",
      "|  0|tt0003740|             Cabiria|               null|     1914|     \\N|           148|  3452.0|\n",
      "|  1|tt0008663|     A Man There Was|        Terje Vigen|     1917|     \\N|            65|  1882.0|\n",
      "|  3|tt0010307|           J'accuse!|               null|     1919|     \\N|           166|  1692.0|\n",
      "| 18|tt0014429|        Safety Last!|       Safety Last!|     1923|     \\N|            74| 19898.0|\n",
      "| 27|tt0015175|Die Nibelungen: S...|               null|     1924|     \\N|           143|  5676.0|\n",
      "| 39|tt0016332|       Seven Chances|               null|     1925|     \\N|            56|  9914.0|\n",
      "| 61|tt0018737|       Pandora's Box|               null|       \\N|   1929|           109| 10475.0|\n",
      "| 65|tt0018839|The Docks of New ...|               null|     1928|     \\N|            76|  4339.0|\n",
      "| 71|tt0019421| Steamboat Bill, Jr.|Steamboat Bill, Jr.|     1928|     \\N|            70| 14166.0|\n",
      "| 75|tt0019901|   Woman in the Moon|               null|     1929|     \\N|           156|    null|\n",
      "| 91|tt0022150|          Le Million|               null|     1931|     \\N|            91|  3434.0|\n",
      "| 92|tt0022153|   The Miracle Woman|               null|     1931|     \\N|            90|  2013.0|\n",
      "|142|tt0025699|   Randy Rides Alone|               null|     1934|     \\N|            52|  1034.0|\n",
      "|153|tt0026725|      Les Misérables|     Les Misérables|     1935|     \\N|           108|  3512.0|\n",
      "|158|tt0027336|    The Lower Depths|      Les bas-fonds|     1936|     \\N|            95|  3194.0|\n",
      "|159|tt0027342|      They Were Five|    La belle équipe|     1936|     \\N|           100|  1202.0|\n",
      "|167|tt0027672| Sisters of the Gion|               null|     1936|     \\N|            69|  2621.0|\n",
      "|174|tt0028167|           Rembrandt|          Rembrandt|     1936|     \\N|            85|  1778.0|\n",
      "|178|tt0028313|The Story of Loui...|               null|     1936|     \\N|            86|  2705.0|\n",
      "|187|tt0028737|          Confession|         Confession|     1937|     \\N|            87|  1201.0|\n",
      "+---+---------+--------------------+-------------------+---------+-------+--------------+--------+\n",
      "only showing top 20 rows\n",
      "\n"
     ]
    }
   ],
   "source": [
    "df_spark.show()"
   ],
   "metadata": {
    "collapsed": false
   }
  },
  {
   "cell_type": "code",
   "execution_count": 5,
   "outputs": [
    {
     "data": {
      "text/plain": "955"
     },
     "execution_count": 5,
     "metadata": {},
     "output_type": "execute_result"
    }
   ],
   "source": [
    "df_spark.count()"
   ],
   "metadata": {
    "collapsed": false
   }
  },
  {
   "cell_type": "markdown",
   "source": [
    "Starting to do stuff"
   ],
   "metadata": {
    "collapsed": false
   }
  },
  {
   "cell_type": "code",
   "execution_count": 6,
   "outputs": [],
   "source": [
    "import pandas as pd\n",
    "import os"
   ],
   "metadata": {
    "collapsed": false
   }
  },
  {
   "cell_type": "markdown",
   "source": [
    "Count how many \"train-i\" files we have"
   ],
   "metadata": {
    "collapsed": false
   }
  },
  {
   "cell_type": "code",
   "execution_count": 7,
   "outputs": [
    {
     "name": "stdout",
     "output_type": "stream",
     "text": [
      "Number of train files: 8\n"
     ]
    }
   ],
   "source": [
    "dir_path = \"../datasets/imdb/\"\n",
    "\n",
    "# Get a list of all the files in the directory\n",
    "files = os.listdir(dir_path)\n",
    "\n",
    "# Filter the list to include only files that start with \"train-\" and have a \".csv\" extension\n",
    "train_files = [f for f in files if f.startswith(\"train-\") and f.endswith(\".csv\")]\n",
    "\n",
    "# Count the number of files\n",
    "num_train_files = len(train_files)\n",
    "\n",
    "print(\"Number of train files: {}\".format(num_train_files))"
   ],
   "metadata": {
    "collapsed": false
   }
  },
  {
   "cell_type": "markdown",
   "source": [
    "print shape of training files, concatenate all the files, and print shape of big_file"
   ],
   "metadata": {
    "collapsed": false
   }
  },
  {
   "cell_type": "code",
   "execution_count": 8,
   "outputs": [
    {
     "name": "stdout",
     "output_type": "stream",
     "text": [
      "Shape of df_train_1: 1001 rows, 9 columns\n",
      "Shape of df_train_2: 1035 rows, 9 columns\n",
      "Shape of df_train_3: 974 rows, 9 columns\n",
      "Shape of df_train_4: 1049 rows, 9 columns\n",
      "Shape of df_train_5: 963 rows, 9 columns\n",
      "Shape of df_train_6: 951 rows, 9 columns\n",
      "Shape of df_train_7: 993 rows, 9 columns\n",
      "Shape of df_train_8: 993 rows, 9 columns\n",
      "\n",
      "Shape of big_df: 7959 rows, 8 columns\n"
     ]
    }
   ],
   "source": [
    "# Create an empty list to store the DataFrames\n",
    "dfs = []\n",
    "\n",
    "# Loop through the file names and read each file into a DataFrame\n",
    "for file in train_files:\n",
    "    file_name = f\"../datasets/imdb/{file}\"\n",
    "    df = spark.read.csv(file_name, header=True, inferSchema=True)\n",
    "    dfs.append(df)\n",
    "\n",
    "# Loop through the DataFrames and print the shape of each one\n",
    "for i, df in enumerate(dfs):\n",
    "    num_rows = df.count()\n",
    "    num_cols = len(df.columns)\n",
    "    print(\"Shape of df_train_{}: {} rows, {} columns\".format(i+1, num_rows, num_cols))\n",
    "\n",
    "# Union all the DataFrames into one big DataFrame\n",
    "big_df = dfs[0]\n",
    "for df in dfs[1:]:\n",
    "    big_df = big_df.union(df)\n",
    "\n",
    "#Drop columns _c0\n",
    "big_df = big_df.drop(\"_c0\")\n",
    "\n",
    "num_rows = big_df.count()\n",
    "num_cols = len(big_df.columns)\n",
    "print(f\"\\nShape of big_df: {num_rows} rows, {num_cols} columns\")"
   ],
   "metadata": {
    "collapsed": false
   }
  },
  {
   "cell_type": "code",
   "execution_count": 9,
   "outputs": [
    {
     "name": "stdout",
     "output_type": "stream",
     "text": [
      "+---------+--------------------+--------------------+---------+-------+--------------+--------+-----+\n",
      "|   tconst|        primaryTitle|       originalTitle|startYear|endYear|runtimeMinutes|numVotes|label|\n",
      "+---------+--------------------+--------------------+---------+-------+--------------+--------+-----+\n",
      "|tt0013257|               Häxan|               Häxan|     1922|     \\N|            91| 13679.0| true|\n",
      "|tt0013556|          Robin Hood|                null|     1922|     \\N|           143|  2178.0| true|\n",
      "|tt0014341|     Our Hospitality|     Our Hospitality|     1923|     \\N|            65| 10911.0| true|\n",
      "|tt0014538|          Three Ages|                null|     1923|     \\N|            63|  4312.0| true|\n",
      "|tt0017925|         The General|                null|     1926|     \\N|            67| 87784.0| true|\n",
      "|tt0018192|            Napoleon|Napoléon vu par A...|     1927|     \\N|           330|  7622.0| true|\n",
      "|tt0018526|          Úndérwớrld|                null|     1927|     \\N|            80|  2912.0| true|\n",
      "|tt0018806|           The Crowd|           The Crowd|       \\N|   1928|            98|  8197.0| true|\n",
      "|tt0019788|            Coquette|            Coquette|       \\N|   1929|            76|  2127.0|false|\n",
      "|tt0023871|    Á Sớng ớf Lisbớn|  A Canção de Lisboa|     1933|     \\N|            85|  1432.0| true|\n",
      "|tt0023969|           Dúck Sớúp|           Duck Soup|     1933|     \\N|            69| 59069.0| true|\n",
      "|tt0025410|  Little Miss Marker|  Little Miss Marker|     1934|     \\N|            80|  1277.0| true|\n",
      "|tt0026529|        The Informer|        The Informer|       \\N|   1935|            91|  6255.0| true|\n",
      "|tt0027914|     Love on the Run|                null|     1936|     \\N|            80|  1219.0|false|\n",
      "|tt0028212|            Sabotage|            Sabotage|     1936|     \\N|            76| 16166.0| true|\n",
      "|tt0028249|           Show Boat|                null|     1936|     \\N|           113|  3236.0| true|\n",
      "|tt0028944|      The Good Earth|      The Good Earth|       \\N|   1937|           138|  4801.0| true|\n",
      "|tt0029146|The Life of Emile...|The Life of Emile...|     1937|     \\N|           116|    null| true|\n",
      "|tt0029314|Humanity and Pape...|                null|     1937|     \\N|            86|  1995.0| true|\n",
      "|tt0029995|         Thé Citádél|                null|     1938|     \\N|           110|  2066.0| true|\n",
      "+---------+--------------------+--------------------+---------+-------+--------------+--------+-----+\n",
      "only showing top 20 rows\n",
      "\n"
     ]
    }
   ],
   "source": [
    "big_df.show()"
   ],
   "metadata": {
    "collapsed": false
   }
  },
  {
   "cell_type": "code",
   "execution_count": 10,
   "outputs": [
    {
     "name": "stdout",
     "output_type": "stream",
     "text": [
      "total movies: 7959\n",
      "unique movies: 7959\n"
     ]
    }
   ],
   "source": [
    "#function to count number of distinct(unique) movies and total movies in dataset. To avoid duplicates number should be equal\n",
    "def count_total_unique(df):\n",
    "    unique_movies = df.select(\"tconst\").distinct()\n",
    "    total_movies = df.select(\"tconst\")\n",
    "\n",
    "    print(\"total movies:\", total_movies.count())\n",
    "    print(\"unique movies:\", unique_movies.count())\n",
    "\n",
    "count_total_unique(big_df)"
   ],
   "metadata": {
    "collapsed": false
   }
  },
  {
   "cell_type": "markdown",
   "source": [
    "Merging with writing.json"
   ],
   "metadata": {
    "collapsed": false
   }
  },
  {
   "cell_type": "code",
   "execution_count": 11,
   "outputs": [
    {
     "name": "stderr",
     "output_type": "stream",
     "text": [
      "[Stage 60:>                                                         (0 + 8) / 8]\r"
     ]
    },
    {
     "name": "stdout",
     "output_type": "stream",
     "text": [
      "+---------+--------------------+--------------------+---------+-------+--------------+--------+-----+--------------------+\n",
      "|   tconst|        primaryTitle|       originalTitle|startYear|endYear|runtimeMinutes|numVotes|label|              writer|\n",
      "+---------+--------------------+--------------------+---------+-------+--------------+--------+-----+--------------------+\n",
      "|tt0018526|          Úndérwớrld|                null|     1927|     \\N|            80|  2912.0| true|[nm0299153, nm000...|\n",
      "|tt0031334|   The Four Feathers|                null|     1939|     \\N|           129|  5917.0| true|[nm0556571, nm079...|\n",
      "|tt0025410|  Little Miss Marker|  Little Miss Marker|     1934|     \\N|            80|  1277.0| true|[nm0750357, nm051...|\n",
      "|tt0013257|               Häxan|               Häxan|     1922|     \\N|            91| 13679.0| true|         [nm0159725]|\n",
      "|tt0027914|     Love on the Run|                null|     1936|     \\N|            80|  1219.0|false|[nm0536941, nm078...|\n",
      "|tt0029146|The Life of Emile...|The Life of Emile...|     1937|     \\N|           116|    null| true|[nm0706993, nm037...|\n",
      "|tt0028212|            Sabotage|            Sabotage|     1936|     \\N|            76| 16166.0| true|[nm0175676, nm007...|\n",
      "|tt0019788|            Coquette|            Coquette|       \\N|   1929|            76|  2127.0|false|[nm0007973, nm010...|\n",
      "|tt0017925|         The General|                null|     1926|     \\N|            67| 87784.0| true|[nm0000036, nm011...|\n",
      "|tt0023871|    Á Sớng ớf Lisbớn|  A Canção de Lisboa|     1933|     \\N|            85|  1432.0| true|[nm0183018, nm030...|\n",
      "|tt0018192|            Napoleon|Napoléon vu par A...|     1927|     \\N|           330|  7622.0| true|         [nm0304098]|\n",
      "|tt0018806|           The Crowd|           The Crowd|       \\N|   1928|            98|  8197.0| true|[nm0896542, nm091...|\n",
      "|tt0014538|          Three Ages|                null|     1923|     \\N|            63|  4312.0| true|[nm0115669, nm059...|\n",
      "|tt0023969|           Dúck Sớúp|           Duck Soup|     1933|     \\N|            69| 59069.0| true|[nm0436095, nm074...|\n",
      "|tt0029995|         Thé Citádél|                null|     1938|     \\N|           110|  2066.0| true|[nm0198202, nm091...|\n",
      "|tt0013556|          Robin Hood|                null|     1922|     \\N|           143|  2178.0| true|[nm0001196, nm020...|\n",
      "|tt0014341|     Our Hospitality|     Our Hospitality|     1923|     \\N|            65| 10911.0| true|[nm0369841, nm011...|\n",
      "|tt0026529|        The Informer|        The Informer|       \\N|   1935|            91|  6255.0| true|[nm0629580, nm064...|\n",
      "|tt0028249|           Show Boat|                null|     1936|     \\N|           113|  3236.0| true|[nm0272209, nm035...|\n",
      "|tt0028944|      The Good Earth|      The Good Earth|       \\N|   1937|           138|  4801.0| true|[nm0421255, nm080...|\n",
      "+---------+--------------------+--------------------+---------+-------+--------------+--------+-----+--------------------+\n",
      "only showing top 20 rows\n",
      "\n"
     ]
    },
    {
     "name": "stderr",
     "output_type": "stream",
     "text": [
      "                                                                                \r"
     ]
    }
   ],
   "source": [
    "import json\n",
    "with open(\"../datasets/imdb/writing.json\") as f:\n",
    "    data = json.load(f)\n",
    "\n",
    "#convert to pandas\n",
    "writing_df = pd.DataFrame(data)\n",
    "\n",
    "#taking care of multiple writers and adding them to a list\n",
    "writing_df = writing_df.groupby('movie')['writer'].apply(list).reset_index()\n",
    "\n",
    "#convert to spark\n",
    "writing_df = spark.createDataFrame(writing_df)\n",
    "\n",
    "# Rename the \"movie\" column in the JSON file to \"tconst\"\n",
    "writing_df = writing_df.withColumnRenamed(\"movie\", \"tconst\")\n",
    "\n",
    "# Join the two DataFrames based on the \"tconst\"\n",
    "merged_df = big_df.join(writing_df, on='tconst', how='left')\n",
    "\n",
    "merged_df.show()"
   ],
   "metadata": {
    "collapsed": false
   }
  },
  {
   "cell_type": "code",
   "execution_count": 12,
   "outputs": [
    {
     "name": "stdout",
     "output_type": "stream",
     "text": [
      "total movies: 7959\n",
      "unique movies: 7959\n"
     ]
    }
   ],
   "source": [
    "count_total_unique(merged_df)"
   ],
   "metadata": {
    "collapsed": false
   }
  },
  {
   "cell_type": "markdown",
   "source": [
    "Merging with directing.json"
   ],
   "metadata": {
    "collapsed": false
   }
  },
  {
   "cell_type": "code",
   "execution_count": 13,
   "outputs": [
    {
     "name": "stdout",
     "output_type": "stream",
     "text": [
      "+---------+--------------------+--------------------+---------+-------+--------------+--------+-----+--------------------+--------------------+\n",
      "|   tconst|        primaryTitle|       originalTitle|startYear|endYear|runtimeMinutes|numVotes|label|              writer|            director|\n",
      "+---------+--------------------+--------------------+---------+-------+--------------+--------+-----+--------------------+--------------------+\n",
      "|tt0018526|          Úndérwớrld|                null|     1927|     \\N|            80|  2912.0| true|[nm0299153, nm000...|[nm0903049, nm074...|\n",
      "|tt0031334|   The Four Feathers|                null|     1939|     \\N|           129|  5917.0| true|[nm0556571, nm079...|         [nm0466113]|\n",
      "|tt0025410|  Little Miss Marker|  Little Miss Marker|     1934|     \\N|            80|  1277.0| true|[nm0750357, nm051...|         [nm0355284]|\n",
      "|tt0013257|               Häxan|               Häxan|     1922|     \\N|            91| 13679.0| true|         [nm0159725]|         [nm0159725]|\n",
      "|tt0027914|     Love on the Run|                null|     1936|     \\N|            80|  1219.0|false|[nm0536941, nm078...|         [nm0886754]|\n",
      "|tt0029146|The Life of Emile...|The Life of Emile...|     1937|     \\N|           116|    null| true|[nm0706993, nm037...|         [nm0226189]|\n",
      "|tt0028212|            Sabotage|            Sabotage|     1936|     \\N|            76| 16166.0| true|[nm0175676, nm007...|         [nm0000033]|\n",
      "|tt0019788|            Coquette|            Coquette|       \\N|   1929|            76|  2127.0|false|[nm0007973, nm010...|         [nm0853130]|\n",
      "|tt0017925|         The General|                null|     1926|     \\N|            67| 87784.0| true|[nm0000036, nm011...|[nm0115669, nm000...|\n",
      "|tt0023871|    Á Sớng ớf Lisbớn|  A Canção de Lisboa|     1933|     \\N|            85|  1432.0| true|[nm0183018, nm030...|         [nm0183018]|\n",
      "|tt0018192|            Napoleon|Napoléon vu par A...|     1927|     \\N|           330|  7622.0| true|         [nm0304098]|         [nm0304098]|\n",
      "|tt0018806|           The Crowd|           The Crowd|       \\N|   1928|            98|  8197.0| true|[nm0896542, nm091...|         [nm0896542]|\n",
      "|tt0014538|          Three Ages|                null|     1923|     \\N|            63|  4312.0| true|[nm0115669, nm059...|[nm0000036, nm016...|\n",
      "|tt0023969|           Dúck Sớúp|           Duck Soup|     1933|     \\N|            69| 59069.0| true|[nm0436095, nm074...|         [nm0564970]|\n",
      "|tt0029995|         Thé Citádél|                null|     1938|     \\N|           110|  2066.0| true|[nm0198202, nm091...|         [nm0896542]|\n",
      "|tt0013556|          Robin Hood|                null|     1922|     \\N|           143|  2178.0| true|[nm0001196, nm020...|         [nm0245385]|\n",
      "|tt0014341|     Our Hospitality|     Our Hospitality|     1923|     \\N|            65| 10911.0| true|[nm0369841, nm011...|[nm0090007, nm000...|\n",
      "|tt0026529|        The Informer|        The Informer|       \\N|   1935|            91|  6255.0| true|[nm0629580, nm064...|         [nm0000406]|\n",
      "|tt0028249|           Show Boat|                null|     1936|     \\N|           113|  3236.0| true|[nm0272209, nm035...|         [nm0001843]|\n",
      "|tt0028944|      The Good Earth|      The Good Earth|       \\N|   1937|           138|  4801.0| true|[nm0421255, nm080...|[nm0281808, nm093...|\n",
      "+---------+--------------------+--------------------+---------+-------+--------------+--------+-----+--------------------+--------------------+\n",
      "only showing top 20 rows\n",
      "\n"
     ]
    },
    {
     "name": "stderr",
     "output_type": "stream",
     "text": [
      "                                                                                \r"
     ]
    }
   ],
   "source": [
    "import json\n",
    "with open(\"../datasets/imdb/directing.json\") as f:\n",
    "    data = json.load(f)\n",
    "\n",
    "#convert to pandas\n",
    "director_df = pd.DataFrame(data)\n",
    "\n",
    "#taking care of multiple writers and adding them to a list\n",
    "director_df = director_df.groupby('movie')['director'].apply(list).reset_index()\n",
    "\n",
    "#convert to spark\n",
    "director_df = spark.createDataFrame(director_df)\n",
    "\n",
    "# Rename the \"movie\" column in the JSON file to \"tconst\"\n",
    "director_df = director_df.withColumnRenamed(\"movie\", \"tconst\")\n",
    "\n",
    "# Join the two DataFrames based on the \"tconst\"\n",
    "merged_df = merged_df.join(director_df, on='tconst', how='left')\n",
    "merged_df.show()"
   ],
   "metadata": {
    "collapsed": false
   }
  },
  {
   "cell_type": "code",
   "execution_count": 14,
   "outputs": [
    {
     "name": "stderr",
     "output_type": "stream",
     "text": [
      "                                                                                \r"
     ]
    },
    {
     "name": "stdout",
     "output_type": "stream",
     "text": [
      "total movies: 7959\n",
      "unique movies: 7959\n"
     ]
    }
   ],
   "source": [
    "count_total_unique(merged_df)"
   ],
   "metadata": {
    "collapsed": false
   }
  }
 ],
 "metadata": {
  "kernelspec": {
   "display_name": "Python 3",
   "language": "python",
   "name": "python3"
  },
  "language_info": {
   "codemirror_mode": {
    "name": "ipython",
    "version": 2
   },
   "file_extension": ".py",
   "mimetype": "text/x-python",
   "name": "python",
   "nbconvert_exporter": "python",
   "pygments_lexer": "ipython2",
   "version": "2.7.6"
  }
 },
 "nbformat": 4,
 "nbformat_minor": 0
}

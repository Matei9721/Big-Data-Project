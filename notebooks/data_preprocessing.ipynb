{
 "cells": [
  {
   "cell_type": "code",
   "execution_count": 1,
   "metadata": {
    "collapsed": true,
    "pycharm": {
     "name": "#%%\n"
    }
   },
   "outputs": [
    {
     "name": "stdout",
     "output_type": "stream",
     "text": [
      "23/03/18 11:08:00 WARN Utils: Your hostname, MacBook-Air-di-Emanuele.local resolves to a loopback address: 127.0.0.1; using 10.0.0.197 instead (on interface en0)\n",
      "23/03/18 11:08:00 WARN Utils: Set SPARK_LOCAL_IP if you need to bind to another address\n"
     ]
    },
    {
     "name": "stderr",
     "output_type": "stream",
     "text": [
      "Setting default log level to \"WARN\".\n",
      "To adjust logging level use sc.setLogLevel(newLevel). For SparkR, use setLogLevel(newLevel).\n"
     ]
    },
    {
     "name": "stdout",
     "output_type": "stream",
     "text": [
      "23/03/18 11:08:01 WARN NativeCodeLoader: Unable to load native-hadoop library for your platform... using builtin-java classes where applicable\n"
     ]
    }
   ],
   "source": [
    "# Import PySpark\n",
    "from pyspark.sql import SparkSession\n",
    "\n",
    "#Create SparkSession\n",
    "spark = SparkSession.builder.appName('MyApp').getOrCreate()"
   ]
  },
  {
   "cell_type": "code",
   "execution_count": 2,
   "outputs": [
    {
     "name": "stderr",
     "output_type": "stream",
     "text": [
      "                                                                                \r"
     ]
    }
   ],
   "source": [
    "\"\"\"\n",
    "Loading the training csv.\n",
    "\"\"\"\n",
    "\n",
    "training = spark.read.option(\"escape\", \"\\\"\").csv('../datasets/gpt_data/final/train_plots_awards_genre_no_duplicates.csv', header=True, inferSchema=True)"
   ],
   "metadata": {
    "collapsed": false,
    "pycharm": {
     "name": "#%%\n"
    }
   }
  },
  {
   "cell_type": "code",
   "execution_count": 24,
   "outputs": [
    {
     "data": {
      "text/plain": "446"
     },
     "execution_count": 24,
     "metadata": {},
     "output_type": "execute_result"
    }
   ],
   "source": [
    "training.select('Genre').distinct().count()"
   ],
   "metadata": {
    "collapsed": false,
    "pycharm": {
     "name": "#%%\n"
    }
   }
  },
  {
   "cell_type": "code",
   "execution_count": 25,
   "outputs": [
    {
     "name": "stdout",
     "output_type": "stream",
     "text": [
      "+-------------------------------------------------------------------------------+\n",
      "|Genre                                                                          |\n",
      "+-------------------------------------------------------------------------------+\n",
      "|anime                                                                          |\n",
      "|biography, drama                                                               |\n",
      "|disaster film                                                                  |\n",
      "|biography, crime, drama                                                        |\n",
      "|disaster                                                                       |\n",
      "|romantic-comedy                                                                |\n",
      "|biography                                                                      |\n",
      "|action, adventure                                                              |\n",
      "|family comedy                                                                  |\n",
      "|animation, family                                                              |\n",
      "|sci-fi, adventure, drama, action                                               |\n",
      "|action / adventure                                                             |\n",
      "|western, drama                                                                 |\n",
      "|crime comedy                                                                   |\n",
      "|drama/comedy                                                                   |\n",
      "|romance, comedy, drama, art house & international, action                      |\n",
      "|fantasy adventure comedy                                                       |\n",
      "|crime                                                                          |\n",
      "|drama, adventure                                                               |\n",
      "|drama, biography                                                               |\n",
      "|world war i drama                                                              |\n",
      "|drama, romance                                                                 |\n",
      "|anime action adventure                                                         |\n",
      "|sf                                                                             |\n",
      "|experimental                                                                   |\n",
      "|comedy horror                                                                  |\n",
      "|historical, drama                                                              |\n",
      "|fantasy                                                                        |\n",
      "|romance/action                                                                 |\n",
      "|parody                                                                         |\n",
      "|action-comedy                                                                  |\n",
      "|comedy drama anime                                                             |\n",
      "|prison drama                                                                   |\n",
      "|war film                                                                       |\n",
      "|romance, drama                                                                 |\n",
      "|fantasy adventure                                                              |\n",
      "|teen, comedy                                                                   |\n",
      "|documentary                                                                    |\n",
      "|crime, drama, mystery                                                          |\n",
      "|drama, war, romance, action                                                    |\n",
      "|drama, musical, romance                                                        |\n",
      "|romance thriller                                                               |\n",
      "|bio-pic, drama                                                                 |\n",
      "|gangster film                                                                  |\n",
      "|comedy, musical                                                                |\n",
      "|romance, comedy, thriller                                                      |\n",
      "|drama, comedy                                                                  |\n",
      "|comedy/romance                                                                 |\n",
      "|comedy, romance                                                                |\n",
      "|animated, buddy comedy                                                         |\n",
      "|animated film                                                                  |\n",
      "|adventure, family                                                              |\n",
      "|kung fu, action                                                                |\n",
      "|world war ii/adventure                                                         |\n",
      "|comedy                                                                         |\n",
      "|action, romance                                                                |\n",
      "|action, romance, thriller, crime                                               |\n",
      "|computer animated                                                              |\n",
      "|action comedy                                                                  |\n",
      "|action / crime / drama                                                         |\n",
      "|drama, social, action                                                          |\n",
      "|suspense                                                                       |\n",
      "|comedy, social, musical                                                        |\n",
      "|literary adaptation                                                            |\n",
      "|action, adventure, superhero, drama                                            |\n",
      "|historical, psychological thriller, black comedy, dark fantasy, science fantasy|\n",
      "|unknown                                                                        |\n",
      "|melodrama                                                                      |\n",
      "|war, drama                                                                     |\n",
      "|biography, comedy, drama                                                       |\n",
      "|drama, comedy, romance, musical                                                |\n",
      "|drama adapted from wajdi mouawad's play of the same name                       |\n",
      "|action, comedy, romance                                                        |\n",
      "|western, romantic drama                                                        |\n",
      "|sexploitation                                                                  |\n",
      "|action                                                                         |\n",
      "|love                                                                           |\n",
      "|drama, romance, family                                                         |\n",
      "|thriller, horror                                                               |\n",
      "|action, science fiction, thriller                                              |\n",
      "|fantasy, adventure, musical, drama, romance                                    |\n",
      "|null                                                                           |\n",
      "|animation                                                                      |\n",
      "|mystery, comedy                                                                |\n",
      "|historical adventure                                                           |\n",
      "|biography, war                                                                 |\n",
      "|crime drama, action                                                            |\n",
      "|national film board documentary                                                |\n",
      "|crime, action                                                                  |\n",
      "|psychological thriller                                                         |\n",
      "|action thriller                                                                |\n",
      "|musical comedy                                                                 |\n",
      "|action, crime                                                                  |\n",
      "|animated                                                                       |\n",
      "|fantasy romance, horror                                                        |\n",
      "|crime/drama                                                                    |\n",
      "|satire, drama                                                                  |\n",
      "|adult/thriller                                                                 |\n",
      "|mystery                                                                        |\n",
      "|anthology, drama                                                               |\n",
      "|drama, sports                                                                  |\n",
      "|drama, musical                                                                 |\n",
      "|horror spoof                                                                   |\n",
      "|comedy/action                                                                  |\n",
      "|comedy, fantasy                                                                |\n",
      "|animation, comedy                                                              |\n",
      "|erotic/thriller                                                                |\n",
      "|horror/thriller                                                                |\n",
      "|animated, family                                                               |\n",
      "|biographical, drama                                                            |\n",
      "|adventure, disaster                                                            |\n",
      "|superhero, comedy, adventure, sci-fi                                           |\n",
      "|historical biopic                                                              |\n",
      "|romance/comedy                                                                 |\n",
      "|romantic, drama                                                                |\n",
      "|animation / fantasy                                                            |\n",
      "|drama, comedy-drama, science fantasy                                           |\n",
      "|romance/teen                                                                   |\n",
      "|fantasy anime                                                                  |\n",
      "|literary drama                                                                 |\n",
      "|warner bros. biography                                                         |\n",
      "|comedy/drama/action                                                            |\n",
      "|musical, drama                                                                 |\n",
      "|mystery, suspense thriller                                                     |\n",
      "|romance/drama                                                                  |\n",
      "|science fiction                                                                |\n",
      "|family                                                                         |\n",
      "|world war ii                                                                   |\n",
      "|action-adventure, family                                                       |\n",
      "|biographical                                                                   |\n",
      "|horror                                                                         |\n",
      "|crime, drama, mystery, jidaigeki                                               |\n",
      "|war drama                                                                      |\n",
      "|horror, slasher                                                                |\n",
      "|adventure, fantasy                                                             |\n",
      "|outlaw biker film                                                              |\n",
      "|musical/triller                                                                |\n",
      "|drama / family                                                                 |\n",
      "|drama, thriller                                                                |\n",
      "|crime comedy-drama                                                             |\n",
      "|horror, fantasy                                                                |\n",
      "|spy/action                                                                     |\n",
      "|horror, dark fantasy, supernatural horror, action, monster, spy                |\n",
      "|animation, musical, fantasy, mystery                                           |\n",
      "|comedy, drama                                                                  |\n",
      "|comedy, science fiction                                                        |\n",
      "|comedy, crime                                                                  |\n",
      "|comedy, parody                                                                 |\n",
      "|family, fantasy                                                                |\n",
      "|historical drama                                                               |\n",
      "|action/drama                                                                   |\n",
      "|horror/comedy                                                                  |\n",
      "|biography / drama / romance                                                    |\n",
      "|bio-pic                                                                        |\n",
      "|action drama, war                                                              |\n",
      "|comedy, cult                                                                   |\n",
      "|action / adventure / comedy / crime / drama                                    |\n",
      "|drama, comedy, romance                                                         |\n",
      "|musical, thriller                                                              |\n",
      "|exploitation                                                                   |\n",
      "|family drama                                                                   |\n",
      "|reincarnation romance                                                          |\n",
      "|romantic comedy, romantic                                                      |\n",
      "|biblical drama                                                                 |\n",
      "|detective fiction, drama                                                       |\n",
      "|history                                                                        |\n",
      "|musical fantasy                                                                |\n",
      "|adventure                                                                      |\n",
      "|avant-garde, horror                                                            |\n",
      "|animation, comedy, action                                                      |\n",
      "|science fiction, thriller                                                      |\n",
      "|black comedy/thriller                                                          |\n",
      "|biblical                                                                       |\n",
      "|teen romantic comedy-drama                                                     |\n",
      "|romance drama                                                                  |\n",
      "|action, crime, drama                                                           |\n",
      "|comedy/drama/romance                                                           |\n",
      "|slasher                                                                        |\n",
      "|action, horror in 3d.                                                          |\n",
      "|superhero                                                                      |\n",
      "|satire/comedy/teen film                                                        |\n",
      "|political satire                                                               |\n",
      "|romance / drama                                                                |\n",
      "|social romance                                                                 |\n",
      "|warner bros. drama                                                             |\n",
      "|action/thriller                                                                |\n",
      "|crime thriller, drama                                                          |\n",
      "|political thriller                                                             |\n",
      "|drama, romance, thriller                                                       |\n",
      "|drama / action / suspense                                                      |\n",
      "|thriller, 3-d                                                                  |\n",
      "|black comedy                                                                   |\n",
      "|romantic drama                                                                 |\n",
      "|coming of age                                                                  |\n",
      "|action, science fiction                                                        |\n",
      "|action drama, bio-pic, thriller                                                |\n",
      "|comedy, satire                                                                 |\n",
      "|film noir                                                                      |\n",
      "|comedy, crime, romance                                                         |\n",
      "|animated, sci-fi comedy                                                        |\n",
      "|science-fiction                                                                |\n",
      "|comedy / drama                                                                 |\n",
      "|drama/thriller                                                                 |\n",
      "|action-adventure, fantasy                                                      |\n",
      "|thriller, drama                                                                |\n",
      "|comedy, sports                                                                 |\n",
      "|musical                                                                        |\n",
      "|science fiction thriller                                                       |\n",
      "|adventure                                                                      |\n",
      "|social/drama                                                                   |\n",
      "|musical, comedy                                                                |\n",
      "|mystery/thriller                                                               |\n",
      "|neo-noir                                                                       |\n",
      "|comedy/crime/romance                                                           |\n",
      "|sports comedy                                                                  |\n",
      "|historical romance based on colm tóibín's novel of the same name.              |\n",
      "|fantasy, anime                                                                 |\n",
      "|horror, thriller                                                               |\n",
      "|comedy/satire                                                                  |\n",
      "|drama                                                                          |\n",
      "|tragedy drama romance                                                          |\n",
      "|adventure horror                                                               |\n",
      "|romantic comedy                                                                |\n",
      "|horror, comedy                                                                 |\n",
      "|science fiction, horror                                                        |\n",
      "|crime thriller                                                                 |\n",
      "|comedy, adventure                                                              |\n",
      "|sci-fi horror                                                                  |\n",
      "|mystery/action                                                                 |\n",
      "|action / science fiction                                                       |\n",
      "|drama, romance, social                                                         |\n",
      "|concert, documentary                                                           |\n",
      "|drama/action                                                                   |\n",
      "|historical epic, disaster                                                      |\n",
      "|action / drama                                                                 |\n",
      "|comedy, martial arts                                                           |\n",
      "|comedy, mystery                                                                |\n",
      "|action/comedy                                                                  |\n",
      "|animation adventure                                                            |\n",
      "|operetta                                                                       |\n",
      "|drama/suspense                                                                 |\n",
      "|drama                                                                          |\n",
      "|buddy cop, comedy                                                              |\n",
      "|chanbara                                                                       |\n",
      "|animation, family, romance                                                     |\n",
      "|sci-fi, action, thriller                                                       |\n",
      "|action, comedy                                                                 |\n",
      "|horror, sci-fi, drama                                                          |\n",
      "|science fiction, comedy                                                        |\n",
      "|epic, biography                                                                |\n",
      "|samurai film                                                                   |\n",
      "|drama, silent                                                                  |\n",
      "|drama, romance                                                                 |\n",
      "|revenge, thriller                                                              |\n",
      "|drama, mystery                                                                 |\n",
      "|drama/romance                                                                  |\n",
      "|comedy, crime, drama, thriller                                                 |\n",
      "|thriller                                                                       |\n",
      "|action film                                                                    |\n",
      "|animation, science fiction, drama, family                                      |\n",
      "|war biography                                                                  |\n",
      "|drama, war                                                                     |\n",
      "|sports                                                                         |\n",
      "|western                                                                        |\n",
      "|war drama[not in citation given]                                               |\n",
      "|western, biography                                                             |\n",
      "|supernatural thriller                                                          |\n",
      "|action, history                                                                |\n",
      "|comedy-drama                                                                   |\n",
      "|satire                                                                         |\n",
      "|western, comedy                                                                |\n",
      "|drama, crime                                                                   |\n",
      "|family, live-action/animated film                                              |\n",
      "|biopic                                                                         |\n",
      "|comedy/drama                                                                   |\n",
      "|drama, romance, musical                                                        |\n",
      "|family film                                                                    |\n",
      "|action / crime / thriller                                                      |\n",
      "|adult/action/crime                                                             |\n",
      "|romance/thriller                                                               |\n",
      "|biopic/world war ii                                                            |\n",
      "|swashbuckler                                                                   |\n",
      "|horror–thriller                                                                |\n",
      "|action, comedy                                                                 |\n",
      "|comedy, romance                                                                |\n",
      "|social drama, comedy                                                           |\n",
      "|thriller/drama                                                                 |\n",
      "|war, action                                                                    |\n",
      "|shakespearean                                                                  |\n",
      "|war                                                                            |\n",
      "|action / kung fu / comedy                                                      |\n",
      "|romantic thriller                                                              |\n",
      "|musical drama                                                                  |\n",
      "|action / martial arts                                                          |\n",
      "|crime, biography                                                               |\n",
      "|historical                                                                     |\n",
      "|historical fiction                                                             |\n",
      "|family, musical                                                                |\n",
      "|action, adventure, superhero, comedy, sci-fi                                   |\n",
      "|western drama                                                                  |\n",
      "|spy film                                                                       |\n",
      "|action / romance                                                               |\n",
      "|science fiction, family                                                        |\n",
      "|crime, drama                                                                   |\n",
      "|sci-fi/comedy                                                                  |\n",
      "|comedy, family                                                                 |\n",
      "|comedy masala                                                                  |\n",
      "|horror comedy                                                                  |\n",
      "|biography, sports                                                              |\n",
      "|heist-comedy                                                                   |\n",
      "|biography, musical                                                             |\n",
      "|musical, fantasy                                                               |\n",
      "|mockumentary                                                                   |\n",
      "|biography crime                                                                |\n",
      "|action, crime drama                                                            |\n",
      "|action, sci-fi                                                                 |\n",
      "|action, fantasy, adventure, horror, sci-fi, western                            |\n",
      "|crime, comedy                                                                  |\n",
      "|action, drama                                                                  |\n",
      "|crime drama                                                                    |\n",
      "|romance                                                                        |\n",
      "|drama/espionage thriller                                                       |\n",
      "|horror, science fiction                                                        |\n",
      "|action-thriller                                                                |\n",
      "|youth drama                                                                    |\n",
      "|thriller, mystery                                                              |\n",
      "|martial arts                                                                   |\n",
      "|adventure, drama                                                               |\n",
      "|superhero, western                                                             |\n",
      "|family, drama                                                                  |\n",
      "|action, crime, drama, romance                                                  |\n",
      "|spoof                                                                          |\n",
      "|comedy, sci-fi                                                                 |\n",
      "|sci-fi, horror                                                                 |\n",
      "|action horror, science fiction                                                 |\n",
      "|action drama                                                                   |\n",
      "|screwball comedy                                                               |\n",
      "|thriller                                                                       |\n",
      "|western thriller                                                               |\n",
      "|comedy, horror                                                                 |\n",
      "|romance, drama, musical                                                        |\n",
      "|black comedy/war                                                               |\n",
      "|gangster drama                                                                 |\n",
      "|drama, family                                                                  |\n",
      "|comedy / action / adventure                                                    |\n",
      "|zombie horror                                                                  |\n",
      "|dark comedy                                                                    |\n",
      "|nature documentary                                                             |\n",
      "|drama horror thriller film                                                     |\n",
      "|biker film                                                                     |\n",
      "|thriller drama                                                                 |\n",
      "|comedy drama                                                                   |\n",
      "|fantasy, comedy                                                                |\n",
      "|superhero, action                                                              |\n",
      "|animation fantasy                                                              |\n",
      "|epic                                                                           |\n",
      "|drama / action                                                                 |\n",
      "|spy thriller                                                                   |\n",
      "|paramount. biblical epic                                                       |\n",
      "|fantasy, teen                                                                  |\n",
      "|action comedy, family                                                          |\n",
      "|sci-fi                                                                         |\n",
      "|epic drama                                                                     |\n",
      "|action / science-fiction                                                       |\n",
      "|fantasy/adventure                                                              |\n",
      "|action, thriller                                                               |\n",
      "|comedy                                                                         |\n",
      "|horror thriller                                                                |\n",
      "|action-adventure, sci-fi                                                       |\n",
      "|sci-fi, comedy, drama                                                          |\n",
      "|drama, romance, comedy, family, musical, social                                |\n",
      "|horror, dark fantasy, drama, supernatural horror, action, monster              |\n",
      "|fantasy, drama, science fantasy                                                |\n",
      "|mythology                                                                      |\n",
      "|romance, comedy                                                                |\n",
      "|comedy, superhero                                                              |\n",
      "|romance                                                                        |\n",
      "|drama, romance, musical, social                                                |\n",
      "|drama, action, thriller                                                        |\n",
      "|musical, drama, romance, family                                                |\n",
      "|war, comedy                                                                    |\n",
      "|war/historical                                                                 |\n",
      "|comedy, teen                                                                   |\n",
      "|biography, drama, history, thriller                                            |\n",
      "|serial                                                                         |\n",
      "|adventure-comedy                                                               |\n",
      "|horror, psychological thriller, drama, dark fantasy                            |\n",
      "|animated, family, fantasy                                                      |\n",
      "|crime, thriller                                                                |\n",
      "|crime, horror, mystery, thriller                                               |\n",
      "|adventure / musical                                                            |\n",
      "|drama, biopic                                                                  |\n",
      "|drama[not in citation given]                                                   |\n",
      "|action, adventure, sci-fi                                                      |\n",
      "|action / crime / adventure                                                     |\n",
      "|history, romance                                                               |\n",
      "|crime-thriller                                                                 |\n",
      "|action, mystery                                                                |\n",
      "|romance, drama,                                                                |\n",
      "|psychological thriller film                                                    |\n",
      "|kung fu                                                                        |\n",
      "|science fiction psychological thriller                                         |\n",
      "|thriller, fantasy                                                              |\n",
      "|romance - thriller                                                             |\n",
      "|animation, comedy, adventure                                                   |\n",
      "|drama, horror                                                                  |\n",
      "|biography, war, drama                                                          |\n",
      "|animated comedy                                                                |\n",
      "|social                                                                         |\n",
      "|horror drama comedy                                                            |\n",
      "|war, drama, action, romance                                                    |\n",
      "|comedy / action                                                                |\n",
      "|comedy-horror                                                                  |\n",
      "|comedy-drama, fantasy                                                          |\n",
      "|drama/noir                                                                     |\n",
      "|social satire                                                                  |\n",
      "|spy comedy                                                                     |\n",
      "|drama, thriller                                                                |\n",
      "|dramedy                                                                        |\n",
      "|family, adventure                                                              |\n",
      "|historical / action                                                            |\n",
      "|comedy, action, horror                                                         |\n",
      "|drama, romantic comedy                                                         |\n",
      "|action/romance                                                                 |\n",
      "|superhero action adventure                                                     |\n",
      "|fantasy, romantic comedy                                                       |\n",
      "|historical epic                                                                |\n",
      "|anime drama                                                                    |\n",
      "|comedy / romance / suspense / adventure                                        |\n",
      "|anime fantasy                                                                  |\n",
      "|drama / action / science fiction                                               |\n",
      "|romance / fantasy                                                              |\n",
      "|family, live-action                                                            |\n",
      "|comedy, romance, drama                                                         |\n",
      "|children's film                                                                |\n",
      "|sci-fi romance                                                                 |\n",
      "|epic, science fiction                                                          |\n",
      "|comedy, action                                                                 |\n",
      "|drama based on the novel by russell banks;                                     |\n",
      "|action-comedy, parody                                                          |\n",
      "|drama, social                                                                  |\n",
      "|comedy action                                                                  |\n",
      "|action thriller                                                                |\n",
      "|fantasy, action, drama, adventure, mystery, spy                                |\n",
      "|fantasy, family                                                                |\n",
      "|superhero/action                                                               |\n",
      "+-------------------------------------------------------------------------------+\n",
      "\n"
     ]
    }
   ],
   "source": [
    "training.select('Genre').distinct().show(446, truncate=False)"
   ],
   "metadata": {
    "collapsed": false,
    "pycharm": {
     "name": "#%%\n"
    }
   }
  },
  {
   "cell_type": "code",
   "execution_count": 3,
   "outputs": [],
   "source": [
    "\"\"\"\n",
    "Loading the validation csv.\n",
    "\"\"\"\n",
    "\n",
    "validation = spark.read.option(\"escape\", \"\\\"\").csv('../datasets/gpt_data/final/validation_plots_awards_genre_no_duplicates.csv', header=True, inferSchema=True)"
   ],
   "metadata": {
    "collapsed": false,
    "pycharm": {
     "name": "#%%\n"
    }
   }
  },
  {
   "cell_type": "code",
   "execution_count": 4,
   "outputs": [],
   "source": [
    "\"\"\"\n",
    "Loading the test csv.\n",
    "\"\"\"\n",
    "\n",
    "test = spark.read.option(\"escape\", \"\\\"\").csv('../datasets/gpt_data/final/test_plots_awards_genre_no_duplicates.csv',\n",
    "    header=True, inferSchema=True)"
   ],
   "metadata": {
    "collapsed": false,
    "pycharm": {
     "name": "#%%\n"
    }
   }
  },
  {
   "cell_type": "code",
   "execution_count": 5,
   "outputs": [],
   "source": [
    "from pyspark.sql.functions import col, udf, when, split, regexp_replace, min, \\\n",
    "    mean, lower, array_contains, trim\n",
    "from pyspark.sql.types import IntegerType, DoubleType\n",
    "from pyspark.ml.feature import VectorAssembler, StandardScaler\n",
    "\n",
    "import re\n",
    "\n",
    "def manage_awards(award):\n",
    "\n",
    "    if award is not None:\n",
    "        if re.search('win', award) or re.search('wins', award) or re.search('won', award):\n",
    "            return 1\n",
    "        else:\n",
    "            return 0\n",
    "    else:\n",
    "        return False\n",
    "\n",
    "def scaling_method(df, column_name, vector_column_name, scaled_column_name, placeholder):\n",
    "\n",
    "     # Replace null values with a placeholder value, e.g. -1, using when/otherwise\n",
    "    df = df.withColumn(column_name, when(col(column_name).isNull(), placeholder).otherwise(col(column_name)))\n",
    "\n",
    "    # Create a VectorAssembler to convert the scalar column to a vector column\n",
    "    assembler = VectorAssembler(inputCols=[column_name], outputCol=vector_column_name)\n",
    "    df = assembler.transform(df)\n",
    "\n",
    "    # Create the StandardScaler transformer and fit it to the data\n",
    "    scaler = StandardScaler(inputCol=vector_column_name, outputCol=scaled_column_name, withMean=True, withStd=True)\n",
    "    scaler_model = scaler.fit(df)\n",
    "\n",
    "    scaled_data = scaler_model.transform(df)\n",
    "\n",
    "    # Replace the placeholder values with null\n",
    "    scaled_data = scaled_data.withColumn(scaled_column_name, when(col(column_name) == -1, None).\n",
    "                                         otherwise(col(scaled_column_name)))\n",
    "    scaled_data = scaled_data.withColumn(column_name, when(col(column_name) == -1, None).\n",
    "                                         otherwise(col(column_name)))\n",
    "\n",
    "    scaled_data = scaled_data.drop(vector_column_name)\n",
    "\n",
    "    return scaled_data\n",
    "\n",
    "def interval_check(r, year):\n",
    "    limit0, limit1 = r.split('-')\n",
    "    limit0 = int(limit0)\n",
    "    limit1 = int(limit1)\n",
    "\n",
    "    print(\"Limit0: \", limit0, \"Limit1: \", limit1)\n",
    "    print(\"Year: \", year)\n",
    "\n",
    "    if limit0 <= year <= limit1:\n",
    "        return 1\n",
    "    else:\n",
    "        return 0\n",
    "\n",
    "def genre_preprocessing(df):\n",
    "\n",
    "    # Everything to lower case\n",
    "    df = df.withColumn('Genre', lower(col('Genre')))\n",
    "\n",
    "    df = df.withColumn('Genre', regexp_replace(col('Genre'), 'film ', ''))\n",
    "    df = df.withColumn('Genre', regexp_replace(col('Genre'), ' in ', ' '))\n",
    "    df = df.withColumn('Genre', regexp_replace(col('Genre'), ' of ', ' '))\n",
    "    df = df.withColumn('Genre', regexp_replace(col('Genre'), '\\.', ''))\n",
    "    df = df.withColumn('Genre', regexp_replace(col('Genre'), 'drama based on the novel by russell banks;', 'drama'))\n",
    "    df = df.withColumn('Genre', regexp_replace(col('Genre'), 'drama adapted from wajdi mouawad\\'s play of the same name', 'drama'))\n",
    "    df = df.withColumn('Genre', regexp_replace(col('Genre'), 'world war ii', 'war'))\n",
    "    df = df.withColumn('Genre', regexp_replace(col('Genre'), 'biopic', 'biography'))\n",
    "    df = df.withColumn('Genre', regexp_replace(col('Genre'), 'drama\\[not in citation given\\]', 'drama'))\n",
    "    df = df.withColumn('Genre', regexp_replace(col('Genre'), 'kung fu', 'kungfu'))\n",
    "    df = df.withColumn('Genre', regexp_replace(col('Genre'), 'historical romance based on colm tóibín\\'s novel of the same name', 'romantic'))\n",
    "    df = df.withColumn('Genre', regexp_replace(col('Genre'), '3-d', '3d'))\n",
    "    df = df.withColumn('Genre', regexp_replace(col('Genre'), 'neo-noir', 'noir'))\n",
    "\n",
    "    df = df.withColumn('Genre', when(col('Genre').isNull(), 'unknown').otherwise(col('Genre')))\n",
    "\n",
    "    df = df.withColumn('Genre', regexp_replace(col('Genre'), '/', ', '))\n",
    "    df = df.withColumn('Genre', regexp_replace(col('Genre'), ' ,', ','))\n",
    "    df = df.withColumn('Genre', regexp_replace(col('Genre'), ', ', ','))\n",
    "\n",
    "    df = df.withColumn('Genre', regexp_replace(col('Genre'), '-', ' '))\n",
    "    df = df.withColumn('Genre', regexp_replace(col('Genre'), 'sci fi', 'sci-fi'))\n",
    "    df = df.withColumn('Genre', regexp_replace(col('Genre'), ' ', ','))\n",
    "    df = df.withColumn('Genre', regexp_replace(col('Genre'), 'martial,arts', 'martial arts'))\n",
    "\n",
    "    # Split the columns\n",
    "    df = df.withColumn('Genre', split(lower(col('Genre')), ','))\n",
    "\n",
    "    print(df.columns)\n",
    "\n",
    "    # Creating the one hot encoding\n",
    "    unique_values = [str(row[0]) for row in df.selectExpr(\"explode(array_distinct(Genre))\").distinct().collect()]\n",
    "    for value in unique_values:\n",
    "        df = df.withColumn(value, array_contains('Genre', value).cast('int'))\n",
    "\n",
    "    df = df.drop('&', ' ', 'on', 'sf', 'i', 'jidaigeki', '', 'the', 'mouawad\\'s', 'tóibín\\'s', 'drama[not', 'given]', 'wajdi')\n",
    "\n",
    "    return df\n",
    "\n",
    "my_udf = udf(manage_awards, IntegerType())\n",
    "scalar_udf = udf(lambda arr: float(arr[0]), DoubleType())\n",
    "interval_check_udf = udf(interval_check, IntegerType())\n",
    "\n",
    "def preprocessing_method(df):\n",
    "\n",
    "    \"\"\"\n",
    "    This method will convert to integer all the years and will put to categorical weather\n",
    "    a movie won any awards or not.\n",
    "    :param df: dataframe\n",
    "    :return: return a preprocessed dataframe\n",
    "    \"\"\"\n",
    "\n",
    "    \"\"\"\n",
    "    Bringing to lower case the titles\n",
    "    \"\"\"\n",
    "\n",
    "    df = df.withColumn('primaryTitle', lower(col('primaryTitle')))\n",
    "    df = df.withColumn('originalTitle', lower(col('originalTitle')))\n",
    "\n",
    "    \"\"\"\n",
    "    Here casting to integer all the numerical values\n",
    "    \"\"\"\n",
    "    df = df.withColumn('startYear', col('startYear').cast('int'))\n",
    "    df = df.withColumn('endYear', col('endYear').cast('int'))\n",
    "    df = df.withColumn('numVotes', col('numVotes').cast('int'))\n",
    "    df = df.withColumn('runtimeMinutes', col('runtimeMinutes').cast('int'))\n",
    "\n",
    "    \"\"\"\n",
    "    Preprocessing years. We add range of years and then for each row we check in which range it is\n",
    "    \"\"\"\n",
    "\n",
    "    ranges = ['1915-1929', '1930-1939', '1940-1949', '1950-1959', '1960-1969', '1970-1979', '1980-1989',\n",
    "              '1990-1999', '2000-2009', '2010-2019', '2020-2023']\n",
    "\n",
    "    for r in ranges:\n",
    "        limit0, limit1 = r.split('-')\n",
    "        limit0 = int(limit0)\n",
    "        limit1 = int(limit1)\n",
    "        df = df.withColumn(r, when((col('startYear') >= limit0) & (col('startYear') <= limit1), 1).otherwise(0))\n",
    "\n",
    "    \"\"\"\n",
    "    Preprocess runtime minutes. If there are null values substitute with the mean.\n",
    "    \"\"\"\n",
    "\n",
    "    mean_runtime = df.select(mean(\"runtimeMinutes\").cast(\"int\")).collect()[0][0]\n",
    "    df = df.withColumn(\"runtimeMinutes\", when(col(\"runtimeMinutes\").isNull(), mean_runtime).\n",
    "                       otherwise(col(\"runtimeMinutes\")))\n",
    "\n",
    "    \"\"\"\n",
    "    Plot preprocessing.\n",
    "    \"\"\"\n",
    "\n",
    "    df = df.withColumn(\"plot\", lower(col(\"plot\")))\n",
    "\n",
    "    \"\"\"\n",
    "    Preprocessing of the numVotes.\n",
    "    \"\"\"\n",
    "\n",
    "    min_numVotes = df.select(min('numVotes')).collect()[0][0]\n",
    "    df = df.withColumn('numVotes', when(col('numVotes').isNull(), min_numVotes).\n",
    "                       otherwise(col('numVotes')))\n",
    "\n",
    "    df = scaling_method(df, \"numVotes\", \"vector_column_votes\", \"scaled_votes\", -1)\n",
    "    df = df.withColumn('numVotes', scalar_udf(df['scaled_votes']))\n",
    "\n",
    "\n",
    "    \"\"\"\n",
    "    Preprocessing of genre. Create also a list of genres.\n",
    "    \"\"\"\n",
    "\n",
    "    df = genre_preprocessing(df)\n",
    "\n",
    "    \"\"\"\n",
    "    Dropping the columns.\n",
    "    \"\"\"\n",
    "\n",
    "    df = df.drop('originalTitle', 'endYear', 'scaled_votes', 'Genre')\n",
    "\n",
    "    print(df.columns)\n",
    "\n",
    "    return df"
   ],
   "metadata": {
    "collapsed": false,
    "pycharm": {
     "name": "#%%\n"
    }
   }
  },
  {
   "cell_type": "code",
   "execution_count": 6,
   "outputs": [
    {
     "name": "stderr",
     "output_type": "stream",
     "text": [
      "                                                                                \r"
     ]
    },
    {
     "name": "stdout",
     "output_type": "stream",
     "text": [
      "['_c0', 'tconst', 'primaryTitle', 'originalTitle', 'startYear', 'endYear', 'runtimeMinutes', 'numVotes', 'label', 'plot', 'awards', 'Genre', '1915-1929', '1930-1939', '1940-1949', '1950-1959', '1960-1969', '1970-1979', '1980-1989', '1990-1999', '2000-2009', '2010-2019', '2020-2023', 'scaled_votes']\n"
     ]
    },
    {
     "name": "stderr",
     "output_type": "stream",
     "text": [
      "                                                                                \r"
     ]
    },
    {
     "name": "stdout",
     "output_type": "stream",
     "text": [
      "['_c0', 'tconst', 'primaryTitle', 'startYear', 'runtimeMinutes', 'numVotes', 'label', 'plot', 'awards', '1915-1929', '1930-1939', '1940-1949', '1950-1959', '1960-1969', '1970-1979', '1980-1989', '1990-1999', '2000-2009', '2010-2019', '2020-2023', 'anime', 'art', 'disaster', 'romantic', 'biography', 'film', 'bros', 'erotic', 'crime', '3d', 'fantasy', 'parody', 'name', 'paramount', 'documentary', 'based', 'concert', 'prison', 'monster', 'suspense', 'unknown', 'melodrama', 'sexploitation', 'action', 'love', 'animation', 'anthology', 'animated', 'samurai', 'mystery', 'same', 'biker', 'supernatural', 'silent', 'psychological', 'family', 'biographical', 'horror', 'nature', 'zombie', 'avant', 'bio', 'fiction', 'adult', 'exploitation', 'live', 'history', 'science', 'dark', 'biblical', 'novel', 'youth', 'colm', 'social', 'slasher', 'superhero', 'revenge', 'garde', 'national', 'citation', 'screwball', 'detective', 'age', 'musical', 'coming', 'adventure', 'spy', 'cult', 'political', 'outlaw', 'from', 'noir', 'drama', 'pic', 'cop', 'operetta', 'triller', 'gangster', 'chanbara', 'adaptation', 'literary', 'buddy', 'adapted', 'sports', 'heist', 'western', 'warner', 'black', 'world', 'satire', 'computer', 'teen', 'house', 'horror–thriller', 'shakespearean', 'board', 'war', 'historical', 'masala', 'espionage', 'mockumentary', 'play', 'romance', 'martial arts', 'spoof', 'thriller', 'international', 'epic', 'sci-fi', 'kungfu', 'comedy', 'mythology', 'serial', 'dramedy', \"children's\"]\n"
     ]
    }
   ],
   "source": [
    "\"\"\"\n",
    "Preprocessing the training dataset.\n",
    "\"\"\"\n",
    "\n",
    "training_prep = preprocessing_method(training)"
   ],
   "metadata": {
    "collapsed": false,
    "pycharm": {
     "name": "#%%\n"
    }
   }
  },
  {
   "cell_type": "code",
   "execution_count": 7,
   "outputs": [
    {
     "name": "stdout",
     "output_type": "stream",
     "text": [
      "23/03/18 11:09:47 WARN package: Truncated the string representation of a plan since it was too large. This behavior can be adjusted by setting 'spark.sql.debug.maxToStringFields'.\n"
     ]
    },
    {
     "name": "stderr",
     "output_type": "stream",
     "text": [
      "                                                                                \r"
     ]
    }
   ],
   "source": [
    "\"\"\"\n",
    "Saving to csv the training dataset.\n",
    "\"\"\"\n",
    "\n",
    "training_prep.toPandas().to_csv('../datasets/gpt_data/definitive/train.csv', index=False)"
   ],
   "metadata": {
    "collapsed": false,
    "pycharm": {
     "name": "#%%\n"
    }
   }
  },
  {
   "cell_type": "code",
   "execution_count": 8,
   "outputs": [
    {
     "name": "stdout",
     "output_type": "stream",
     "text": [
      "['Unnamed: 0', 'tconst', 'primaryTitle', 'originalTitle', 'startYear', 'endYear', 'runtimeMinutes', 'numVotes', 'plot', 'awards', 'Genre', '1915-1929', '1930-1939', '1940-1949', '1950-1959', '1960-1969', '1970-1979', '1980-1989', '1990-1999', '2000-2009', '2010-2019', '2020-2023', 'scaled_votes']\n",
      "['Unnamed: 0', 'tconst', 'primaryTitle', 'startYear', 'runtimeMinutes', 'numVotes', 'plot', 'awards', '1915-1929', '1930-1939', '1940-1949', '1950-1959', '1960-1969', '1970-1979', '1980-1989', '1990-1999', '2000-2009', '2010-2019', '2020-2023', 'anime', 'socio', 'biography', 'romantic', 'film', 'crime', 'fantasy', 'srikanth', 'documentary', 'suspense', 'unknown', 'melodrama', 'action', 'animation', 'animated', 'dance', 'splatter', 'supernatural', 'psychological', 'family', 'horror', 'bhavana', 'fiction', 'science', 'slasher', 'superhero', 'screwball', 'police', 'musical', 'adventure', 'wuxia', 'noir', 'drama', 'shravan', 'dramedy', 'western', 'docudrama', 'satire', 'nadeem', 'war', 'historical', 'mockumentary', 'romance', 'martial arts', 'thriller', 'epic', 'sci-fi', 'comedy']\n"
     ]
    }
   ],
   "source": [
    "\"\"\"\n",
    "Preprocessing the validation dataset.\n",
    "\"\"\"\n",
    "\n",
    "validation_prep = preprocessing_method(validation)"
   ],
   "metadata": {
    "collapsed": false,
    "pycharm": {
     "name": "#%%\n"
    }
   }
  },
  {
   "cell_type": "code",
   "execution_count": 9,
   "outputs": [
    {
     "name": "stderr",
     "output_type": "stream",
     "text": [
      "                                                                                \r"
     ]
    }
   ],
   "source": [
    "\"\"\"\n",
    "Saving to csv the validation dataset.\n",
    "\"\"\"\n",
    "\n",
    "validation_prep.toPandas().to_csv('../datasets/gpt_data/definitive/validation.csv', index=False)\n"
   ],
   "metadata": {
    "collapsed": false,
    "pycharm": {
     "name": "#%%\n"
    }
   }
  },
  {
   "cell_type": "code",
   "execution_count": 10,
   "outputs": [
    {
     "name": "stdout",
     "output_type": "stream",
     "text": [
      "['Unnamed: 0', 'tconst', 'primaryTitle', 'originalTitle', 'startYear', 'endYear', 'runtimeMinutes', 'numVotes', 'plot', 'awards', 'Genre', '1915-1929', '1930-1939', '1940-1949', '1950-1959', '1960-1969', '1970-1979', '1980-1989', '1990-1999', '2000-2009', '2010-2019', '2020-2023', 'scaled_votes']\n",
      "['Unnamed: 0', 'tconst', 'primaryTitle', 'startYear', 'runtimeMinutes', 'numVotes', 'plot', 'awards', '1915-1929', '1930-1939', '1940-1949', '1950-1959', '1960-1969', '1970-1979', '1980-1989', '1990-1999', '2000-2009', '2010-2019', '2020-2023', 'anime', 'romantic', 'biography', 'film', 'crime', 'fantasy', 'set', 'documentary', 'superheroes', 'suspense', 'unknown', 'melodrama', 'action', 'animation', 'chan', 'samurai', 'animated', 'mystery', 'campus', 'years', 'psychological', 'arctic', 'family', 'horror', 'canadian', 'fiction', 'adult', 'live', 'science', 'prehistoric', 'music', 'social', 'superhero', 'charlie', 'citation', 'musical', 'adventure', 'spy', 'comedy[not', 'wuxia', 'noir', 'drama', 'dramedy', 'period', 'literary', 'sports', 'western', 'satire', 'ago', 'war', 'historical', '4', 'independent', '000', 'romance', 'martial arts', 'thriller', 'epic', 'sci-fi', 'comedy']\n"
     ]
    }
   ],
   "source": [
    "\"\"\"\n",
    "Preprocessing the test dataset.\n",
    "\"\"\"\n",
    "\n",
    "test_prep = preprocessing_method(test)"
   ],
   "metadata": {
    "collapsed": false,
    "pycharm": {
     "name": "#%%\n"
    }
   }
  },
  {
   "cell_type": "code",
   "execution_count": 11,
   "outputs": [],
   "source": [
    "\"\"\"\n",
    "Saving to csv the test dataset.\n",
    "\"\"\"\n",
    "\n",
    "test_prep.toPandas().to_csv('../datasets/gpt_data/definitive/test.csv', index=False)"
   ],
   "metadata": {
    "collapsed": false,
    "pycharm": {
     "name": "#%%\n"
    }
   }
  },
  {
   "cell_type": "code",
   "execution_count": null,
   "outputs": [],
   "source": [],
   "metadata": {
    "collapsed": false,
    "pycharm": {
     "name": "#%%\n"
    }
   }
  }
 ],
 "metadata": {
  "kernelspec": {
   "display_name": "Python 3",
   "language": "python",
   "name": "python3"
  },
  "language_info": {
   "codemirror_mode": {
    "name": "ipython",
    "version": 2
   },
   "file_extension": ".py",
   "mimetype": "text/x-python",
   "name": "python",
   "nbconvert_exporter": "python",
   "pygments_lexer": "ipython2",
   "version": "2.7.6"
  }
 },
 "nbformat": 4,
 "nbformat_minor": 0
}
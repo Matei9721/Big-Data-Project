{
 "cells": [
  {
   "cell_type": "code",
   "execution_count": 1,
   "metadata": {
    "collapsed": true
   },
   "outputs": [
    {
     "name": "stderr",
     "output_type": "stream",
     "text": [
      "Setting default log level to \"WARN\".\n",
      "To adjust logging level use sc.setLogLevel(newLevel). For SparkR, use setLogLevel(newLevel).\n"
     ]
    },
    {
     "name": "stdout",
     "output_type": "stream",
     "text": [
      "23/03/09 15:55:34 WARN NativeCodeLoader: Unable to load native-hadoop library for your platform... using builtin-java classes where applicable\n"
     ]
    }
   ],
   "source": [
    "# Import PySpark\n",
    "from pyspark.sql import SparkSession\n",
    "\n",
    "#Create SparkSession\n",
    "spark = SparkSession.builder.appName('SparkCleaning').getOrCreate()"
   ]
  },
  {
   "cell_type": "code",
   "execution_count": 2,
   "outputs": [
    {
     "data": {
      "text/plain": "<pyspark.sql.session.SparkSession at 0x11236cb00>",
      "text/html": "\n            <div>\n                <p><b>SparkSession - in-memory</b></p>\n                \n        <div>\n            <p><b>SparkContext</b></p>\n\n            <p><a href=\"http://sp-byods-145-109-24-148.wireless.uva.nl:4040\">Spark UI</a></p>\n\n            <dl>\n              <dt>Version</dt>\n                <dd><code>v3.3.2</code></dd>\n              <dt>Master</dt>\n                <dd><code>local[*]</code></dd>\n              <dt>AppName</dt>\n                <dd><code>SparkCleaning</code></dd>\n            </dl>\n        </div>\n        \n            </div>\n        "
     },
     "execution_count": 2,
     "metadata": {},
     "output_type": "execute_result"
    }
   ],
   "source": [
    "spark"
   ],
   "metadata": {
    "collapsed": false
   }
  },
  {
   "cell_type": "code",
   "execution_count": 3,
   "outputs": [
    {
     "data": {
      "text/plain": "DataFrame[_c0: int, tconst: string, primaryTitle: string, originalTitle: string, startYear: string, endYear: string, runtimeMinutes: string, numVotes: double]"
     },
     "execution_count": 3,
     "metadata": {},
     "output_type": "execute_result"
    }
   ],
   "source": [
    "df_spark = spark.read.csv(\"../datasets/imdb/validation_hidden.csv\", inferSchema=True, header=True)\n",
    "df_spark.repartition(4)"
   ],
   "metadata": {
    "collapsed": false
   }
  },
  {
   "cell_type": "code",
   "execution_count": 4,
   "outputs": [
    {
     "name": "stdout",
     "output_type": "stream",
     "text": [
      "23/03/09 15:55:40 WARN CSVHeaderChecker: CSV header does not conform to the schema.\n",
      " Header: , tconst, primaryTitle, originalTitle, startYear, endYear, runtimeMinutes, numVotes\n",
      " Schema: _c0, tconst, primaryTitle, originalTitle, startYear, endYear, runtimeMinutes, numVotes\n",
      "Expected: _c0 but found: \n",
      "CSV file: file:///Users/mattiacintioli/PycharmProjects/Big-Data-Project/datasets/imdb/validation_hidden.csv\n",
      "+---+---------+--------------------+-------------------+---------+-------+--------------+--------+\n",
      "|_c0|   tconst|        primaryTitle|      originalTitle|startYear|endYear|runtimeMinutes|numVotes|\n",
      "+---+---------+--------------------+-------------------+---------+-------+--------------+--------+\n",
      "|  0|tt0003740|             Cabiria|               null|     1914|     \\N|           148|  3452.0|\n",
      "|  1|tt0008663|     A Man There Was|        Terje Vigen|     1917|     \\N|            65|  1882.0|\n",
      "|  3|tt0010307|           J'accuse!|               null|     1919|     \\N|           166|  1692.0|\n",
      "| 18|tt0014429|        Safety Last!|       Safety Last!|     1923|     \\N|            74| 19898.0|\n",
      "| 27|tt0015175|Die Nibelungen: S...|               null|     1924|     \\N|           143|  5676.0|\n",
      "| 39|tt0016332|       Seven Chances|               null|     1925|     \\N|            56|  9914.0|\n",
      "| 61|tt0018737|       Pandora's Box|               null|       \\N|   1929|           109| 10475.0|\n",
      "| 65|tt0018839|The Docks of New ...|               null|     1928|     \\N|            76|  4339.0|\n",
      "| 71|tt0019421| Steamboat Bill, Jr.|Steamboat Bill, Jr.|     1928|     \\N|            70| 14166.0|\n",
      "| 75|tt0019901|   Woman in the Moon|               null|     1929|     \\N|           156|    null|\n",
      "| 91|tt0022150|          Le Million|               null|     1931|     \\N|            91|  3434.0|\n",
      "| 92|tt0022153|   The Miracle Woman|               null|     1931|     \\N|            90|  2013.0|\n",
      "|142|tt0025699|   Randy Rides Alone|               null|     1934|     \\N|            52|  1034.0|\n",
      "|153|tt0026725|      Les Misérables|     Les Misérables|     1935|     \\N|           108|  3512.0|\n",
      "|158|tt0027336|    The Lower Depths|      Les bas-fonds|     1936|     \\N|            95|  3194.0|\n",
      "|159|tt0027342|      They Were Five|    La belle équipe|     1936|     \\N|           100|  1202.0|\n",
      "|167|tt0027672| Sisters of the Gion|               null|     1936|     \\N|            69|  2621.0|\n",
      "|174|tt0028167|           Rembrandt|          Rembrandt|     1936|     \\N|            85|  1778.0|\n",
      "|178|tt0028313|The Story of Loui...|               null|     1936|     \\N|            86|  2705.0|\n",
      "|187|tt0028737|          Confession|         Confession|     1937|     \\N|            87|  1201.0|\n",
      "+---+---------+--------------------+-------------------+---------+-------+--------------+--------+\n",
      "only showing top 20 rows\n",
      "\n"
     ]
    }
   ],
   "source": [
    "df_spark.show()"
   ],
   "metadata": {
    "collapsed": false
   }
  },
  {
   "cell_type": "code",
   "execution_count": 5,
   "outputs": [
    {
     "data": {
      "text/plain": "955"
     },
     "execution_count": 5,
     "metadata": {},
     "output_type": "execute_result"
    }
   ],
   "source": [
    "df_spark.count()"
   ],
   "metadata": {
    "collapsed": false
   }
  },
  {
   "cell_type": "markdown",
   "source": [
    "Starting to do stuff"
   ],
   "metadata": {
    "collapsed": false
   }
  },
  {
   "cell_type": "code",
   "execution_count": 6,
   "outputs": [],
   "source": [
    "import pandas as pd\n",
    "import os"
   ],
   "metadata": {
    "collapsed": false
   }
  },
  {
   "cell_type": "code",
   "execution_count": 7,
   "outputs": [
    {
     "name": "stdout",
     "output_type": "stream",
     "text": [
      "Number of train files: 8\n"
     ]
    }
   ],
   "source": [
    "import os\n",
    "\n",
    "dir_path = \"../datasets/imdb/\"\n",
    "\n",
    "# Get a list of all the files in the directory\n",
    "files = os.listdir(dir_path)\n",
    "\n",
    "# Filter the list to include only files that start with \"train-\" and have a \".csv\" extension\n",
    "train_files = [f for f in files if f.startswith(\"train-\") and f.endswith(\".csv\")]\n",
    "\n",
    "# Count the number of files\n",
    "num_train_files = len(train_files)\n",
    "\n",
    "print(\"Number of train files: {}\".format(num_train_files))\n"
   ],
   "metadata": {
    "collapsed": false
   }
  },
  {
   "cell_type": "code",
   "execution_count": 8,
   "outputs": [
    {
     "name": "stdout",
     "output_type": "stream",
     "text": [
      "Shape of df_train_1: 1001 rows, 9 columns\n",
      "Shape of df_train_2: 1035 rows, 9 columns\n",
      "Shape of df_train_3: 974 rows, 9 columns\n",
      "Shape of df_train_4: 1049 rows, 9 columns\n",
      "Shape of df_train_5: 963 rows, 9 columns\n",
      "Shape of df_train_6: 951 rows, 9 columns\n",
      "Shape of df_train_7: 993 rows, 9 columns\n",
      "Shape of df_train_8: 993 rows, 9 columns\n",
      "\n",
      "Shape of big_df: 7959 rows, 9 columns\n"
     ]
    }
   ],
   "source": [
    "# Create an empty list to store the DataFrames\n",
    "dfs = []\n",
    "\n",
    "# Loop through the file names and read each file into a DataFrame\n",
    "for file in train_files:\n",
    "    file_name = f\"../datasets/imdb/{file}\"\n",
    "    df = spark.read.csv(file_name, header=True, inferSchema=True)\n",
    "    dfs.append(df)\n",
    "\n",
    "# Loop through the DataFrames and print the shape of each one\n",
    "for i, df in enumerate(dfs):\n",
    "    num_rows = df.count()\n",
    "    num_cols = len(df.columns)\n",
    "    print(\"Shape of df_train_{}: {} rows, {} columns\".format(i+1, num_rows, num_cols))\n",
    "\n",
    "# Union all the DataFrames into one big DataFrame\n",
    "big_df = dfs[0]\n",
    "for df in dfs[1:]:\n",
    "    big_df = big_df.union(df)\n",
    "num_rows = big_df.count()\n",
    "num_cols = len(big_df.columns)\n",
    "print(f\"\\nShape of big_df: {num_rows} rows, {num_cols} columns\")"
   ],
   "metadata": {
    "collapsed": false
   }
  },
  {
   "cell_type": "code",
   "execution_count": 9,
   "outputs": [
    {
     "name": "stdout",
     "output_type": "stream",
     "text": [
      "23/03/09 15:55:43 WARN CSVHeaderChecker: CSV header does not conform to the schema.\n",
      " Header: , tconst, primaryTitle, originalTitle, startYear, endYear, runtimeMinutes, numVotes, label\n",
      " Schema: _c0, tconst, primaryTitle, originalTitle, startYear, endYear, runtimeMinutes, numVotes, label\n",
      "Expected: _c0 but found: \n",
      "CSV file: file:///Users/mattiacintioli/PycharmProjects/Big-Data-Project/datasets/imdb/train-6.csv\n",
      "+---+---------+--------------------+--------------------+---------+-------+--------------+--------+-----+\n",
      "|_c0|   tconst|        primaryTitle|       originalTitle|startYear|endYear|runtimeMinutes|numVotes|label|\n",
      "+---+---------+--------------------+--------------------+---------+-------+--------------+--------+-----+\n",
      "| 11|tt0013257|               Häxan|               Häxan|     1922|     \\N|            91| 13679.0| true|\n",
      "| 12|tt0013556|          Robin Hood|                null|     1922|     \\N|           143|  2178.0| true|\n",
      "| 16|tt0014341|     Our Hospitality|     Our Hospitality|     1923|     \\N|            65| 10911.0| true|\n",
      "| 19|tt0014538|          Three Ages|                null|     1923|     \\N|            63|  4312.0| true|\n",
      "| 50|tt0017925|         The General|                null|     1926|     \\N|            67| 87784.0| true|\n",
      "| 54|tt0018192|            Napoleon|Napoléon vu par A...|     1927|     \\N|           330|  7622.0| true|\n",
      "| 57|tt0018526|          Úndérwớrld|                null|     1927|     \\N|            80|  2912.0| true|\n",
      "| 64|tt0018806|           The Crowd|           The Crowd|       \\N|   1928|            98|  8197.0| true|\n",
      "| 74|tt0019788|            Coquette|            Coquette|       \\N|   1929|            76|  2127.0|false|\n",
      "|112|tt0023871|    Á Sớng ớf Lisbớn|  A Canção de Lisboa|     1933|     \\N|            85|  1432.0| true|\n",
      "|117|tt0023969|           Dúck Sớúp|           Duck Soup|     1933|     \\N|            69| 59069.0| true|\n",
      "|138|tt0025410|  Little Miss Marker|  Little Miss Marker|     1934|     \\N|            80|  1277.0| true|\n",
      "|152|tt0026529|        The Informer|        The Informer|       \\N|   1935|            91|  6255.0| true|\n",
      "|168|tt0027914|     Love on the Run|                null|     1936|     \\N|            80|  1219.0|false|\n",
      "|175|tt0028212|            Sabotage|            Sabotage|     1936|     \\N|            76| 16166.0| true|\n",
      "|177|tt0028249|           Show Boat|                null|     1936|     \\N|           113|  3236.0| true|\n",
      "|191|tt0028944|      The Good Earth|      The Good Earth|       \\N|   1937|           138|  4801.0| true|\n",
      "|193|tt0029146|The Life of Emile...|The Life of Emile...|     1937|     \\N|           116|    null| true|\n",
      "|198|tt0029314|Humanity and Pape...|                null|     1937|     \\N|            86|  1995.0| true|\n",
      "|209|tt0029995|         Thé Citádél|                null|     1938|     \\N|           110|  2066.0| true|\n",
      "+---+---------+--------------------+--------------------+---------+-------+--------------+--------+-----+\n",
      "only showing top 20 rows\n",
      "\n"
     ]
    }
   ],
   "source": [
    "big_df.show()"
   ],
   "metadata": {
    "collapsed": false
   }
  },
  {
   "cell_type": "code",
   "execution_count": 16,
   "outputs": [
    {
     "name": "stdout",
     "output_type": "stream",
     "text": [
      "+---------+---------+\n",
      "|    movie|   writer|\n",
      "+---------+---------+\n",
      "|tt0003740|nm0195339|\n",
      "|tt0003740|nm0515385|\n",
      "|tt0003740|nm0665163|\n",
      "|tt0003740|nm0758215|\n",
      "|tt0008663|nm0406585|\n",
      "|tt0008663|nm0596410|\n",
      "|tt0008663|nm0803705|\n",
      "|tt0009369|nm0215874|\n",
      "|tt0009369|nm0370271|\n",
      "|tt0010307|nm0304098|\n",
      "|tt0010600|nm0006782|\n",
      "|tt0010600|nm0473134|\n",
      "|tt0010600|nm0523932|\n",
      "|tt0010600|nm0932559|\n",
      "|tt0011439|nm0191547|\n",
      "|tt0011439|nm0001196|\n",
      "|tt0011439|nm1491939|\n",
      "|tt0011607|nm0003433|\n",
      "|tt0011607|nm0418114|\n",
      "|tt0011841|nm0662461|\n",
      "+---------+---------+\n",
      "only showing top 20 rows\n",
      "\n"
     ]
    }
   ],
   "source": [],
   "metadata": {
    "collapsed": false
   }
  }
 ],
 "metadata": {
  "kernelspec": {
   "display_name": "Python 3",
   "language": "python",
   "name": "python3"
  },
  "language_info": {
   "codemirror_mode": {
    "name": "ipython",
    "version": 2
   },
   "file_extension": ".py",
   "mimetype": "text/x-python",
   "name": "python",
   "nbconvert_exporter": "python",
   "pygments_lexer": "ipython2",
   "version": "2.7.6"
  }
 },
 "nbformat": 4,
 "nbformat_minor": 0
}

{
 "cells": [
  {
   "cell_type": "code",
   "execution_count": 1,
   "metadata": {
    "collapsed": true
   },
   "outputs": [],
   "source": [
    "# Import PySpark\n",
    "from pyspark.sql import SparkSession\n",
    "\n",
    "#Create SparkSession\n",
    "spark = SparkSession.builder.appName('SparkCleaning').getOrCreate()"
   ]
  },
  {
   "cell_type": "code",
   "execution_count": 6,
   "outputs": [
    {
     "data": {
      "text/plain": "<pyspark.sql.session.SparkSession at 0x1722b6a8fa0>",
      "text/html": "\n            <div>\n                <p><b>SparkSession - in-memory</b></p>\n                \n        <div>\n            <p><b>SparkContext</b></p>\n\n            <p><a href=\"http://DESKTOP-V27DAJS.mshome.net:4040\">Spark UI</a></p>\n\n            <dl>\n              <dt>Version</dt>\n                <dd><code>v3.3.2</code></dd>\n              <dt>Master</dt>\n                <dd><code>local[*]</code></dd>\n              <dt>AppName</dt>\n                <dd><code>SparkCleaning</code></dd>\n            </dl>\n        </div>\n        \n            </div>\n        "
     },
     "execution_count": 6,
     "metadata": {},
     "output_type": "execute_result"
    }
   ],
   "source": [
    "spark"
   ],
   "metadata": {
    "collapsed": false
   }
  },
  {
   "cell_type": "code",
   "execution_count": 3,
   "outputs": [
    {
     "data": {
      "text/plain": "DataFrame[_c0: int, tconst: string, primaryTitle: string, originalTitle: string, startYear: string, endYear: string, runtimeMinutes: string, numVotes: double]"
     },
     "execution_count": 3,
     "metadata": {},
     "output_type": "execute_result"
    }
   ],
   "source": [
    "df_spark = spark.read.csv(\"../datasets/imdb/validation_hidden.csv\", inferSchema=True, header=True)\n",
    "df_spark.repartition(4)"
   ],
   "metadata": {
    "collapsed": false
   }
  },
  {
   "cell_type": "code",
   "execution_count": 4,
   "outputs": [
    {
     "name": "stdout",
     "output_type": "stream",
     "text": [
      "+---+---------+--------------------+-------------------+---------+-------+--------------+--------+\n",
      "|_c0|   tconst|        primaryTitle|      originalTitle|startYear|endYear|runtimeMinutes|numVotes|\n",
      "+---+---------+--------------------+-------------------+---------+-------+--------------+--------+\n",
      "|  0|tt0003740|             Cabiria|               null|     1914|     \\N|           148|  3452.0|\n",
      "|  1|tt0008663|     A Man There Was|        Terje Vigen|     1917|     \\N|            65|  1882.0|\n",
      "|  3|tt0010307|           J'accuse!|               null|     1919|     \\N|           166|  1692.0|\n",
      "| 18|tt0014429|        Safety Last!|       Safety Last!|     1923|     \\N|            74| 19898.0|\n",
      "| 27|tt0015175|Die Nibelungen: S...|               null|     1924|     \\N|           143|  5676.0|\n",
      "| 39|tt0016332|       Seven Chances|               null|     1925|     \\N|            56|  9914.0|\n",
      "| 61|tt0018737|       Pandora's Box|               null|       \\N|   1929|           109| 10475.0|\n",
      "| 65|tt0018839|The Docks of New ...|               null|     1928|     \\N|            76|  4339.0|\n",
      "| 71|tt0019421| Steamboat Bill, Jr.|Steamboat Bill, Jr.|     1928|     \\N|            70| 14166.0|\n",
      "| 75|tt0019901|   Woman in the Moon|               null|     1929|     \\N|           156|    null|\n",
      "| 91|tt0022150|          Le Million|               null|     1931|     \\N|            91|  3434.0|\n",
      "| 92|tt0022153|   The Miracle Woman|               null|     1931|     \\N|            90|  2013.0|\n",
      "|142|tt0025699|   Randy Rides Alone|               null|     1934|     \\N|            52|  1034.0|\n",
      "|153|tt0026725|      Les Misérables|     Les Misérables|     1935|     \\N|           108|  3512.0|\n",
      "|158|tt0027336|    The Lower Depths|      Les bas-fonds|     1936|     \\N|            95|  3194.0|\n",
      "|159|tt0027342|      They Were Five|    La belle équipe|     1936|     \\N|           100|  1202.0|\n",
      "|167|tt0027672| Sisters of the Gion|               null|     1936|     \\N|            69|  2621.0|\n",
      "|174|tt0028167|           Rembrandt|          Rembrandt|     1936|     \\N|            85|  1778.0|\n",
      "|178|tt0028313|The Story of Loui...|               null|     1936|     \\N|            86|  2705.0|\n",
      "|187|tt0028737|          Confession|         Confession|     1937|     \\N|            87|  1201.0|\n",
      "+---+---------+--------------------+-------------------+---------+-------+--------------+--------+\n",
      "only showing top 20 rows\n",
      "\n"
     ]
    }
   ],
   "source": [
    "df_spark.show()"
   ],
   "metadata": {
    "collapsed": false
   }
  },
  {
   "cell_type": "code",
   "execution_count": 5,
   "outputs": [
    {
     "data": {
      "text/plain": "955"
     },
     "execution_count": 5,
     "metadata": {},
     "output_type": "execute_result"
    }
   ],
   "source": [
    "df_spark.count()"
   ],
   "metadata": {
    "collapsed": false
   }
  },
  {
   "cell_type": "code",
   "execution_count": null,
   "outputs": [],
   "source": [],
   "metadata": {
    "collapsed": false
   }
  }
 ],
 "metadata": {
  "kernelspec": {
   "display_name": "Python 3",
   "language": "python",
   "name": "python3"
  },
  "language_info": {
   "codemirror_mode": {
    "name": "ipython",
    "version": 2
   },
   "file_extension": ".py",
   "mimetype": "text/x-python",
   "name": "python",
   "nbconvert_exporter": "python",
   "pygments_lexer": "ipython2",
   "version": "2.7.6"
  }
 },
 "nbformat": 4,
 "nbformat_minor": 0
}

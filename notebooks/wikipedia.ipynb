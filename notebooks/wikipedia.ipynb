{
 "cells": [
  {
   "cell_type": "code",
   "execution_count": 12,
   "metadata": {
    "collapsed": true,
    "pycharm": {
     "name": "#%%\n"
    }
   },
   "outputs": [],
   "source": [
    "import pandas as pd\n",
    "from unidecode import unidecode\n",
    "from pyspark.sql import SparkSession\n",
    "from pyspark.sql.functions import regexp_replace, col, lit, lower, udf"
   ]
  },
  {
   "cell_type": "code",
   "execution_count": 4,
   "outputs": [
    {
     "name": "stdout",
     "output_type": "stream",
     "text": [
      "23/03/19 14:40:17 WARN Utils: Your hostname, MacBook-Air-di-Emanuele.local resolves to a loopback address: 127.0.0.1; using 10.217.14.148 instead (on interface en0)\n",
      "23/03/19 14:40:17 WARN Utils: Set SPARK_LOCAL_IP if you need to bind to another address\n"
     ]
    },
    {
     "name": "stderr",
     "output_type": "stream",
     "text": [
      "Setting default log level to \"WARN\".\n",
      "To adjust logging level use sc.setLogLevel(newLevel). For SparkR, use setLogLevel(newLevel).\n"
     ]
    },
    {
     "name": "stdout",
     "output_type": "stream",
     "text": [
      "23/03/19 14:40:18 WARN NativeCodeLoader: Unable to load native-hadoop library for your platform... using builtin-java classes where applicable\n"
     ]
    }
   ],
   "source": [
    "spark = SparkSession.builder.appName('MyApp').getOrCreate()"
   ],
   "metadata": {
    "collapsed": false,
    "pycharm": {
     "name": "#%%\n"
    }
   }
  },
  {
   "cell_type": "code",
   "execution_count": 16,
   "outputs": [
    {
     "name": "stderr",
     "output_type": "stream",
     "text": [
      "                                                                                \r"
     ]
    },
    {
     "data": {
      "text/plain": "DataFrame[Release Year: string, Title: string, Origin/Ethnicity: string, Director: string, Cast: string, Genre: string, Wiki Page: string, Plot: string]"
     },
     "execution_count": 16,
     "metadata": {},
     "output_type": "execute_result"
    }
   ],
   "source": [
    "#wiki = pd.read_csv(\"../datasets/wiki_movie_plots_deduped.csv\")\n",
    "\n",
    "wiki = spark.read.option(\"escape\", \"\\\"\").csv('../datasets/wiki_movie_plots_deduped.csv',header=True, inferSchema=True)\n",
    "wiki"
   ],
   "metadata": {
    "collapsed": false,
    "pycharm": {
     "name": "#%%\n"
    }
   }
  },
  {
   "cell_type": "code",
   "execution_count": 17,
   "outputs": [
    {
     "data": {
      "text/plain": "DataFrame[_c0: int, tconst: string, primaryTitle: string, originalTitle: string, startYear: int, endYear: string, runtimeMinutes: string, numVotes: double, label: boolean, plot: string, awards: int]"
     },
     "execution_count": 17,
     "metadata": {},
     "output_type": "execute_result"
    }
   ],
   "source": [
    "#train = pd.read_csv(\"../datasets/gpt_data/train_plot_awards.csv\", sep=',')\n",
    "train = spark.read.option(\"escape\", \"\\\"\").csv(\"../datasets/gpt_data/train_plot_awards.csv\", sep=\",\", header=True, inferSchema=True)\n",
    "train"
   ],
   "metadata": {
    "collapsed": false,
    "pycharm": {
     "name": "#%%\n"
    }
   }
  },
  {
   "cell_type": "code",
   "execution_count": 18,
   "outputs": [],
   "source": [
    "#train[\"startYear\"].replace(r\"\\N\", None, inplace=True)\n",
    "#train[\"startYear\"].fillna(train['endYear'], inplace=True)\n",
    "#train[\"startYear\"] = train[\"startYear\"].astype(int)\n",
    "\n",
    "train = train.withColumn(\"startYear\", regexp_replace(col(\"startYear\"), r\"\\\\N\", str(None)))\n",
    "train = train.fillna({'startYear': 'endYear'}, subset=['startYear'])\n",
    "#train = train.select(\"startYear\").fillna(train.select(\"endYear\"))\n",
    "train = train.withColumn(\"startYear\", col(\"startYear\").cast(\"int\"))"
   ],
   "metadata": {
    "collapsed": false,
    "pycharm": {
     "name": "#%%\n"
    }
   }
  },
  {
   "cell_type": "code",
   "execution_count": 19,
   "outputs": [],
   "source": [
    "udf_unidecode = udf(lambda x: unidecode(x) if x is not None else None)"
   ],
   "metadata": {
    "collapsed": false,
    "pycharm": {
     "name": "#%%\n"
    }
   }
  },
  {
   "cell_type": "code",
   "execution_count": 20,
   "outputs": [],
   "source": [
    "#train[\"primaryTitle\"] = train[\"primaryTitle\"].str.lower()\n",
    "#train['primaryTitle'] = train['primaryTitle'].apply(unidecode)\n",
    "\n",
    "train = train.withColumn(\"primaryTitle\", lower(col(\"primaryTitle\")))\n",
    "train = train.withColumn(\"primaryTitle\", udf_unidecode(train[\"primaryTitle\"]))"
   ],
   "metadata": {
    "collapsed": false,
    "pycharm": {
     "name": "#%%\n"
    }
   }
  },
  {
   "cell_type": "code",
   "execution_count": 22,
   "outputs": [],
   "source": [
    "#wiki[\"Title\"] = wiki[\"Title\"].str.lower()\n",
    "#wiki.rename({\"Title\": \"primaryTitle\"}, axis=1, inplace=True)\n",
    "#wiki.rename({\"Release Year\": \"startYear\"}, axis=1, inplace=True)\n",
    "#wiki['primaryTitle'] = wiki['primaryTitle'].apply(unidecode)\n",
    "\n",
    "wiki = wiki.withColumn(\"Title\", lower(col(\"Title\")))\n",
    "wiki = wiki.withColumnRenamed(\"Title\", \"primaryTitle\")\n",
    "wiki = wiki.withColumnRenamed(\"Release Year\", \"startYear\")\n",
    "wiki = wiki.withColumn(\"primaryTitle\", udf_unidecode(wiki[\"primaryTitle\"]))"
   ],
   "metadata": {
    "collapsed": false,
    "pycharm": {
     "name": "#%%\n"
    }
   }
  },
  {
   "cell_type": "code",
   "execution_count": 23,
   "outputs": [],
   "source": [
    "# remove rows where the 'name' column is a duplicate\n",
    "#wiki = wiki.drop_duplicates(subset=['primaryTitle'], keep='last')\n",
    "\n",
    "wiki = wiki.dropDuplicates(subset=[\"primaryTitle\"])"
   ],
   "metadata": {
    "collapsed": false,
    "pycharm": {
     "name": "#%%\n"
    }
   }
  },
  {
   "cell_type": "code",
   "execution_count": null,
   "outputs": [],
   "source": [
    "# find the duplicate rows based on all columns\n",
    "wiki[wiki[\"primaryTitle\"] == \"interstellar\"]"
   ],
   "metadata": {
    "collapsed": false,
    "pycharm": {
     "name": "#%%\n"
    }
   }
  },
  {
   "cell_type": "code",
   "execution_count": null,
   "outputs": [],
   "source": [
    "pd.merge(train, wiki[[\"primaryTitle\", \"Genre\", \"startYear\"]],on=[\"primaryTitle\", \"startYear\"], how=\"left\")"
   ],
   "metadata": {
    "collapsed": false,
    "pycharm": {
     "name": "#%%\n"
    }
   }
  },
  {
   "cell_type": "code",
   "execution_count": 25,
   "outputs": [
    {
     "data": {
      "text/plain": "DataFrame[primaryTitle: string, startYear: int, _c0: int, tconst: string, originalTitle: string, endYear: string, runtimeMinutes: string, numVotes: double, label: boolean, plot: string, awards: int, Genre: string]"
     },
     "execution_count": 25,
     "metadata": {},
     "output_type": "execute_result"
    }
   ],
   "source": [
    "#final_train = pd.merge(train, wiki[[\"primaryTitle\", \"Genre\", \"startYear\"]],on=[\"primaryTitle\", \"startYear\"], how=\"left\")\n",
    "\n",
    "final_train = train.join(wiki.select('primaryTitle', 'Genre', 'startYear'), on=['primaryTitle', 'startYear'], how='left')\n",
    "final_train"
   ],
   "metadata": {
    "collapsed": false,
    "pycharm": {
     "name": "#%%\n"
    }
   }
  },
  {
   "cell_type": "code",
   "execution_count": 26,
   "outputs": [
    {
     "name": "stderr",
     "output_type": "stream",
     "text": [
      "                                                                                \r"
     ]
    }
   ],
   "source": [
    "#final_train.to_csv(\"../datasets/gpt_data/train_plots_awards_genre_no_duplicates.csv\", index=False)\n",
    "\n",
    "final_train.toPandas().to_csv('../datasets/gpt_data/train_plots_awards_genre_no_duplicates.csv', index=False)"
   ],
   "metadata": {
    "collapsed": false,
    "pycharm": {
     "name": "#%%\n"
    }
   }
  },
  {
   "cell_type": "markdown",
   "source": [
    "### Validation"
   ],
   "metadata": {
    "collapsed": false,
    "pycharm": {
     "name": "#%% md\n"
    }
   }
  },
  {
   "cell_type": "code",
   "execution_count": 27,
   "outputs": [
    {
     "data": {
      "text/plain": "DataFrame[Unnamed: 0: int, tconst: string, primaryTitle: string, originalTitle: string, startYear: int, endYear: string, runtimeMinutes: string, numVotes: double, plot: string, awards: int]"
     },
     "execution_count": 27,
     "metadata": {},
     "output_type": "execute_result"
    }
   ],
   "source": [
    "# validation = pd.read_csv(\"../datasets/gpt_data/validation_plots_awards.csv\", sep=',')\n",
    "\n",
    "validation = spark.read.option(\"escape\", \"\\\"\").csv(\"../datasets/gpt_data/validation_plots_awards.csv\", sep=\",\", header=True, inferSchema=True)\n",
    "validation"
   ],
   "metadata": {
    "collapsed": false,
    "pycharm": {
     "name": "#%%\n"
    }
   }
  },
  {
   "cell_type": "code",
   "execution_count": 28,
   "outputs": [],
   "source": [
    "#validation[\"startYear\"].replace(r\"\\N\", None, inplace=True)\n",
    "#validation[\"startYear\"].fillna(validation['endYear'], inplace=True)\n",
    "#validation[\"startYear\"] = validation[\"startYear\"].astype(int)\n",
    "\n",
    "validation = validation.withColumn(\"startYear\", regexp_replace(col(\"startYear\"), r\"\\\\N\", str(None)))\n",
    "validation = validation.fillna({'startYear': 'endYear'}, subset=['startYear'])\n",
    "#validation = validation.select(\"startYear\").fillna(validation.select(\"endYear\"))\n",
    "validation = validation.withColumn(\"startYear\", col(\"startYear\").cast(\"int\"))"
   ],
   "metadata": {
    "collapsed": false,
    "pycharm": {
     "name": "#%%\n"
    }
   }
  },
  {
   "cell_type": "code",
   "execution_count": 29,
   "outputs": [],
   "source": [
    "#validation[\"primaryTitle\"] = validation[\"primaryTitle\"].str.lower()\n",
    "#validation['primaryTitle'] = validation['primaryTitle'].apply(unidecode)\n",
    "\n",
    "validation = validation.withColumn(\"primaryTitle\", lower(col(\"primaryTitle\")))\n",
    "validation = validation.withColumn(\"primaryTitle\", udf_unidecode(validation[\"primaryTitle\"]))"
   ],
   "metadata": {
    "collapsed": false,
    "pycharm": {
     "name": "#%%\n"
    }
   }
  },
  {
   "cell_type": "code",
   "execution_count": null,
   "outputs": [],
   "source": [
    "pd.merge(validation, wiki[[\"primaryTitle\", \"Genre\", \"startYear\"]],on=[\"primaryTitle\", \"startYear\"], how=\"left\")"
   ],
   "metadata": {
    "collapsed": false,
    "pycharm": {
     "name": "#%%\n"
    }
   }
  },
  {
   "cell_type": "code",
   "execution_count": 32,
   "outputs": [
    {
     "data": {
      "text/plain": "DataFrame[primaryTitle: string, startYear: int, Unnamed: 0: int, tconst: string, originalTitle: string, endYear: string, runtimeMinutes: string, numVotes: double, plot: string, awards: int, Genre: string]"
     },
     "execution_count": 32,
     "metadata": {},
     "output_type": "execute_result"
    }
   ],
   "source": [
    "#validation_final = pd.merge(validation, wiki[[\"primaryTitle\", \"Genre\", \"startYear\"]],on=[\"primaryTitle\", \"startYear\"], how=\"left\")\n",
    "\n",
    "validation_final = validation.join(wiki.select('primaryTitle', 'Genre', 'startYear'), on=['primaryTitle', 'startYear'], how='left')\n",
    "validation_final"
   ],
   "metadata": {
    "collapsed": false,
    "pycharm": {
     "name": "#%%\n"
    }
   }
  },
  {
   "cell_type": "code",
   "execution_count": 33,
   "outputs": [],
   "source": [
    "#validation_final.to_csv(\"../datasets/gpt_data/validation_plots_awards_genre_no_duplicates.csv\", index=False)\n",
    "\n",
    "validation.toPandas().to_csv(\"../datasets/gpt_data/validation_plots_awards_genre_no_duplicates.csv\", index=False)"
   ],
   "metadata": {
    "collapsed": false,
    "pycharm": {
     "name": "#%%\n"
    }
   }
  },
  {
   "cell_type": "markdown",
   "source": [
    "### Test data"
   ],
   "metadata": {
    "collapsed": false,
    "pycharm": {
     "name": "#%% md\n"
    }
   }
  },
  {
   "cell_type": "code",
   "execution_count": 34,
   "outputs": [],
   "source": [
    "# test = pd.read_csv(\"../datasets/gpt_data/test_plots_awards.csv\")\n",
    "test = spark.read.option(\"escape\", \"\\\"\").csv(\"../datasets/gpt_data/test_plots_awards.csv\",\n",
    "                                             sep=\",\", header=True, inferSchema=True)"
   ],
   "metadata": {
    "collapsed": false,
    "pycharm": {
     "name": "#%%\n"
    }
   }
  },
  {
   "cell_type": "code",
   "execution_count": 36,
   "outputs": [],
   "source": [
    "#test[\"startYear\"].replace(r\"\\N\", None, inplace=True)\n",
    "#test[\"startYear\"].fillna(test['endYear'], inplace=True)\n",
    "#test[\"startYear\"] = test[\"startYear\"].astype(int)\n",
    "#test[\"primaryTitle\"] = test[\"primaryTitle\"].str.lower()\n",
    "#test['primaryTitle'] = test['primaryTitle'].apply(unidecode)\n",
    "\n",
    "test = test.withColumn(\"startYear\", regexp_replace(col(\"startYear\"), r\"\\\\N\", str(None)))\n",
    "test = test.fillna({'startYear': 'endYear'}, subset=['startYear'])\n",
    "#test = test.select(\"startYear\").fillna(test.select(\"endYear\"))\n",
    "test = test.withColumn(\"startYear\", col(\"startYear\").cast(\"int\"))\n",
    "test = test.withColumn(\"primaryTitle\", lower(col(\"primaryTitle\")))\n",
    "test = test.withColumn(\"primaryTitle\", udf_unidecode(test[\"primaryTitle\"]))"
   ],
   "metadata": {
    "collapsed": false,
    "pycharm": {
     "name": "#%%\n"
    }
   }
  },
  {
   "cell_type": "code",
   "execution_count": 37,
   "outputs": [
    {
     "data": {
      "text/plain": "DataFrame[Unnamed: 0: int, tconst: string, primaryTitle: string, originalTitle: string, startYear: int, endYear: string, runtimeMinutes: string, numVotes: double, plot: string, awards: int]"
     },
     "execution_count": 37,
     "metadata": {},
     "output_type": "execute_result"
    }
   ],
   "source": [
    "test"
   ],
   "metadata": {
    "collapsed": false,
    "pycharm": {
     "name": "#%%\n"
    }
   }
  },
  {
   "cell_type": "code",
   "execution_count": 40,
   "outputs": [
    {
     "name": "stderr",
     "output_type": "stream",
     "text": [
      "                                                                                \r"
     ]
    },
    {
     "name": "stdout",
     "output_type": "stream",
     "text": [
      "+--------------------+---------+----------+---------+-------------------+-------+--------------+--------+--------------------+------+----------------+\n",
      "|        primaryTitle|startYear|Unnamed: 0|   tconst|      originalTitle|endYear|runtimeMinutes|numVotes|                plot|awards|           Genre|\n",
      "+--------------------+---------+----------+---------+-------------------+-------+--------------+--------+--------------------+------+----------------+\n",
      "| laugh, clown, laugh|     1928|        67|tt0019074|Laugh, Clown, Laugh|     \\N|            73|  1934.0|  Laugh, Clown, L...|     0|       melodrama|\n",
      "|   the farmer's wife|     1928|        66|tt0018876|               null|     \\N|           100|  2741.0|  The Farmer's Wi...|     0| romantic comedy|\n",
      "|          metropolis|     1927|        46|tt0017136|               null|     \\N|           153|168372.0|  Metropolis is a...|     1|            null|\n",
      "|       mr. thank you|     1936|       157|tt0027307|               null|   1936|            76|  1063.0|  Mr. Thánk Yớú i...|     0|            null|\n",
      "|             at 3:25|     1925|        28|tt0015214|               null|   1925|            59|  1724.0|  At 3:25 is a dr...|     0|            null|\n",
      "|    footlight parade|     1933|       120|tt0024028|   Footlight Parade|     \\N|           104|  5285.0|  The Footlight P...|     0| comedy, musical|\n",
      "| he who gets slapped|     1924|        22|tt0014972|He Who Gets Slapped|     \\N|            95|  3654.0|  He Who Gets Sla...|     0|           drama|\n",
      "|           the champ|     1931|        84|tt0021730|               null|     \\N|            86|  3057.0|  The Champ is a ...|     1|           drama|\n",
      "|             go west|     1925|        34|tt0015863|               null|     \\N|            69|  4188.0|  Go West is a 19...|     0| comedy, western|\n",
      "|      lady for a day|     1933|       126|tt0024240|     Lady for a Day|     \\N|            96|    null|  The Lady for a ...|     0|          comedy|\n",
      "|the smiling lieut...|     1931|        87|tt0022074|               null|     \\N|            93|  3632.0|  The Smiling Lie...|     0|  musical comedy|\n",
      "|      the iron horse|     1924|        23|tt0015016|               null|     \\N|           150|  2136.0|  The Iron Horse ...|     0|         western|\n",
      "|a story of floati...|     1934|       147|tt0025929| Ukikusa monogatari|     \\N|            86|  3032.0|  The film A Stor...|     0|            null|\n",
      "|             variety|     1925|        40|tt0016481|            Varieté|     \\N|           104|  1188.0|  The Variety fro...|     0|            null|\n",
      "|           baby face|     1933|       111|tt0023775|               null|     \\N|            71|  6775.0|  The 1933 film B...|     0|           drama|\n",
      "|die nibelungen: k...|     1924|        26|tt0015174|               null|     \\N|           129|  4341.0|  The Die Nibelun...|     0|            null|\n",
      "|         movie crazy|     1932|       103|tt0023241|               null|     \\N|            84|    null|  Crazy from 1932...|     0|          comedy|\n",
      "| tarzan and his mate|     1934|       144|tt0025862|               null|     \\N|           104|  5033.0|  Tarzan and His ...|     0|drama, adventure|\n",
      "|   design for living|     1933|       115|tt0023940|  Design for Living|     \\N|            91|    null|  Design for Livi...|     0| comedy, romance|\n",
      "|               limit|     1931|        88|tt0022080|               null|     \\N|           114|    null|  The Limit is a ...|     0|            null|\n",
      "+--------------------+---------+----------+---------+-------------------+-------+--------------+--------+--------------------+------+----------------+\n",
      "only showing top 20 rows\n",
      "\n"
     ]
    }
   ],
   "source": [
    "#pd.merge(test, wiki[[\"primaryTitle\", \"Genre\", \"startYear\"]],on=[\"primaryTitle\", \"startYear\"], how=\"left\")\n",
    "\n",
    "test.join(wiki.select('primaryTitle', 'Genre', 'startYear'), on=['primaryTitle', 'startYear'], how='left').show()"
   ],
   "metadata": {
    "collapsed": false,
    "pycharm": {
     "name": "#%%\n"
    }
   }
  },
  {
   "cell_type": "code",
   "execution_count": 41,
   "outputs": [
    {
     "data": {
      "text/plain": "DataFrame[primaryTitle: string, startYear: int, Unnamed: 0: int, tconst: string, originalTitle: string, endYear: string, runtimeMinutes: string, numVotes: double, plot: string, awards: int, Genre: string]"
     },
     "execution_count": 41,
     "metadata": {},
     "output_type": "execute_result"
    }
   ],
   "source": [
    "#test_final = pd.merge(test, wiki[[\"primaryTitle\", \"Genre\", \"startYear\"]],on=[\"primaryTitle\", \"startYear\"], how=\"left\")\n",
    "\n",
    "test_final = test.join(wiki.select('primaryTitle', 'Genre', 'startYear'), on=['primaryTitle', 'startYear'], how='left')\n",
    "test_final"
   ],
   "metadata": {
    "collapsed": false,
    "pycharm": {
     "name": "#%%\n"
    }
   }
  },
  {
   "cell_type": "code",
   "execution_count": 42,
   "outputs": [
    {
     "name": "stderr",
     "output_type": "stream",
     "text": [
      "                                                                                \r"
     ]
    }
   ],
   "source": [
    "#test_final.to_csv(\"../datasets/gpt_data/test_plots_awards_genre_no_duplicates.csv\", index=False)\n",
    "\n",
    "test_final.toPandas().to_csv('../datasets/gpt_data/test_plots_awards_genre_no_duplicates.csv', index=False)"
   ],
   "metadata": {
    "collapsed": false,
    "pycharm": {
     "name": "#%%\n"
    }
   }
  },
  {
   "cell_type": "code",
   "execution_count": 9,
   "outputs": [
    {
     "data": {
      "text/plain": "      Unnamed: 0     tconst                         primaryTitle  \\\n0             22  tt0014972                  he who gets slapped   \n1             23  tt0015016                       the iron horse   \n2             26  tt0015174  die nibelungen: kriemhild's revenge   \n3             28  tt0015214                              at 3:25   \n4             34  tt0015863                              go west   \n...          ...        ...                                  ...   \n1081        9942  tt9430698                  one piece: stampede   \n1082        9943  tt9441638                         the big ugly   \n1083        9948  tt9495690                           pagalpanti   \n1084        9950  tt9519642                the wedding unplanner   \n1085        9951  tt9526826           android kunjappan ver 5.25   \n\n                       originalTitle  startYear endYear runtimeMinutes  \\\n0                He Who Gets Slapped       1924      \\N             95   \n1                                NaN       1924      \\N            150   \n2                                NaN       1924      \\N            129   \n3                                NaN       1925    1925             59   \n4                                NaN       1925      \\N             69   \n...                              ...        ...     ...            ...   \n1081                             NaN       2019      \\N            101   \n1082                             NaN       2020      \\N            106   \n1083                      Pagalpanti       2019      \\N            149   \n1084                             NaN       2020      \\N            110   \n1085  Android Kunjappan Version 5.25       2019      \\N            140   \n\n      numVotes                                               plot  awards  \\\n0       3654.0    He Who Gets Slapped is a 1924 silent film di...       0   \n1       2136.0    The Iron Horse is a 1924 American silent wes...       0   \n2       4341.0    The Die Nibelungen: Kriemhild's Revenge is a...       0   \n3       1724.0    At 3:25 is a drama film about a young woman ...       0   \n4       4188.0    Go West is a 1925 silent comedy film starrin...       0   \n...        ...                                                ...     ...   \n1081    5109.0    The Straw Hat Pirates are invited to the Pir...       0   \n1082    5780.0    The Big Ugly is a 2020 crime drama set in th...       0   \n1083    2331.0    The Págálpánti is a 2019 Indian drama film d...       0   \n1084       NaN    The Wedding Unplanner is a 2020 romantic com...       0   \n1085    5271.0    Android Kunjappan Ver 5.25 is a 2019 Malayal...       0   \n\n        Genre  \n0       drama  \n1     western  \n2         NaN  \n3         NaN  \n4         NaN  \n...       ...  \n1081      NaN  \n1082      NaN  \n1083      NaN  \n1084      NaN  \n1085      NaN  \n\n[1086 rows x 11 columns]",
      "text/html": "<div>\n<style scoped>\n    .dataframe tbody tr th:only-of-type {\n        vertical-align: middle;\n    }\n\n    .dataframe tbody tr th {\n        vertical-align: top;\n    }\n\n    .dataframe thead th {\n        text-align: right;\n    }\n</style>\n<table border=\"1\" class=\"dataframe\">\n  <thead>\n    <tr style=\"text-align: right;\">\n      <th></th>\n      <th>Unnamed: 0</th>\n      <th>tconst</th>\n      <th>primaryTitle</th>\n      <th>originalTitle</th>\n      <th>startYear</th>\n      <th>endYear</th>\n      <th>runtimeMinutes</th>\n      <th>numVotes</th>\n      <th>plot</th>\n      <th>awards</th>\n      <th>Genre</th>\n    </tr>\n  </thead>\n  <tbody>\n    <tr>\n      <th>0</th>\n      <td>22</td>\n      <td>tt0014972</td>\n      <td>he who gets slapped</td>\n      <td>He Who Gets Slapped</td>\n      <td>1924</td>\n      <td>\\N</td>\n      <td>95</td>\n      <td>3654.0</td>\n      <td>He Who Gets Slapped is a 1924 silent film di...</td>\n      <td>0</td>\n      <td>drama</td>\n    </tr>\n    <tr>\n      <th>1</th>\n      <td>23</td>\n      <td>tt0015016</td>\n      <td>the iron horse</td>\n      <td>NaN</td>\n      <td>1924</td>\n      <td>\\N</td>\n      <td>150</td>\n      <td>2136.0</td>\n      <td>The Iron Horse is a 1924 American silent wes...</td>\n      <td>0</td>\n      <td>western</td>\n    </tr>\n    <tr>\n      <th>2</th>\n      <td>26</td>\n      <td>tt0015174</td>\n      <td>die nibelungen: kriemhild's revenge</td>\n      <td>NaN</td>\n      <td>1924</td>\n      <td>\\N</td>\n      <td>129</td>\n      <td>4341.0</td>\n      <td>The Die Nibelungen: Kriemhild's Revenge is a...</td>\n      <td>0</td>\n      <td>NaN</td>\n    </tr>\n    <tr>\n      <th>3</th>\n      <td>28</td>\n      <td>tt0015214</td>\n      <td>at 3:25</td>\n      <td>NaN</td>\n      <td>1925</td>\n      <td>1925</td>\n      <td>59</td>\n      <td>1724.0</td>\n      <td>At 3:25 is a drama film about a young woman ...</td>\n      <td>0</td>\n      <td>NaN</td>\n    </tr>\n    <tr>\n      <th>4</th>\n      <td>34</td>\n      <td>tt0015863</td>\n      <td>go west</td>\n      <td>NaN</td>\n      <td>1925</td>\n      <td>\\N</td>\n      <td>69</td>\n      <td>4188.0</td>\n      <td>Go West is a 1925 silent comedy film starrin...</td>\n      <td>0</td>\n      <td>NaN</td>\n    </tr>\n    <tr>\n      <th>...</th>\n      <td>...</td>\n      <td>...</td>\n      <td>...</td>\n      <td>...</td>\n      <td>...</td>\n      <td>...</td>\n      <td>...</td>\n      <td>...</td>\n      <td>...</td>\n      <td>...</td>\n      <td>...</td>\n    </tr>\n    <tr>\n      <th>1081</th>\n      <td>9942</td>\n      <td>tt9430698</td>\n      <td>one piece: stampede</td>\n      <td>NaN</td>\n      <td>2019</td>\n      <td>\\N</td>\n      <td>101</td>\n      <td>5109.0</td>\n      <td>The Straw Hat Pirates are invited to the Pir...</td>\n      <td>0</td>\n      <td>NaN</td>\n    </tr>\n    <tr>\n      <th>1082</th>\n      <td>9943</td>\n      <td>tt9441638</td>\n      <td>the big ugly</td>\n      <td>NaN</td>\n      <td>2020</td>\n      <td>\\N</td>\n      <td>106</td>\n      <td>5780.0</td>\n      <td>The Big Ugly is a 2020 crime drama set in th...</td>\n      <td>0</td>\n      <td>NaN</td>\n    </tr>\n    <tr>\n      <th>1083</th>\n      <td>9948</td>\n      <td>tt9495690</td>\n      <td>pagalpanti</td>\n      <td>Pagalpanti</td>\n      <td>2019</td>\n      <td>\\N</td>\n      <td>149</td>\n      <td>2331.0</td>\n      <td>The Págálpánti is a 2019 Indian drama film d...</td>\n      <td>0</td>\n      <td>NaN</td>\n    </tr>\n    <tr>\n      <th>1084</th>\n      <td>9950</td>\n      <td>tt9519642</td>\n      <td>the wedding unplanner</td>\n      <td>NaN</td>\n      <td>2020</td>\n      <td>\\N</td>\n      <td>110</td>\n      <td>NaN</td>\n      <td>The Wedding Unplanner is a 2020 romantic com...</td>\n      <td>0</td>\n      <td>NaN</td>\n    </tr>\n    <tr>\n      <th>1085</th>\n      <td>9951</td>\n      <td>tt9526826</td>\n      <td>android kunjappan ver 5.25</td>\n      <td>Android Kunjappan Version 5.25</td>\n      <td>2019</td>\n      <td>\\N</td>\n      <td>140</td>\n      <td>5271.0</td>\n      <td>Android Kunjappan Ver 5.25 is a 2019 Malayal...</td>\n      <td>0</td>\n      <td>NaN</td>\n    </tr>\n  </tbody>\n</table>\n<p>1086 rows × 11 columns</p>\n</div>"
     },
     "execution_count": 9,
     "metadata": {},
     "output_type": "execute_result"
    }
   ],
   "source": [
    "pd.merge(test, wiki[[\"primaryTitle\", \"Genre\", \"startYear\"]],on=[\"primaryTitle\", \"startYear\"], how=\"left\")"
   ],
   "metadata": {
    "collapsed": false,
    "pycharm": {
     "name": "#%%\n"
    }
   }
  },
  {
   "cell_type": "code",
   "execution_count": 10,
   "outputs": [
    {
     "data": {
      "text/plain": "      Unnamed: 0     tconst                         primaryTitle  \\\n0             22  tt0014972                  he who gets slapped   \n1             23  tt0015016                       the iron horse   \n2             26  tt0015174  die nibelungen: kriemhild's revenge   \n3             28  tt0015214                              at 3:25   \n4             34  tt0015863                              go west   \n...          ...        ...                                  ...   \n1081        9942  tt9430698                  one piece: stampede   \n1082        9943  tt9441638                         the big ugly   \n1083        9948  tt9495690                           pagalpanti   \n1084        9950  tt9519642                the wedding unplanner   \n1085        9951  tt9526826           android kunjappan ver 5.25   \n\n                       originalTitle  startYear endYear runtimeMinutes  \\\n0                He Who Gets Slapped       1924      \\N             95   \n1                                NaN       1924      \\N            150   \n2                                NaN       1924      \\N            129   \n3                                NaN       1925    1925             59   \n4                                NaN       1925      \\N             69   \n...                              ...        ...     ...            ...   \n1081                             NaN       2019      \\N            101   \n1082                             NaN       2020      \\N            106   \n1083                      Pagalpanti       2019      \\N            149   \n1084                             NaN       2020      \\N            110   \n1085  Android Kunjappan Version 5.25       2019      \\N            140   \n\n      numVotes                                               plot  awards  \\\n0       3654.0    He Who Gets Slapped is a 1924 silent film di...       0   \n1       2136.0    The Iron Horse is a 1924 American silent wes...       0   \n2       4341.0    The Die Nibelungen: Kriemhild's Revenge is a...       0   \n3       1724.0    At 3:25 is a drama film about a young woman ...       0   \n4       4188.0    Go West is a 1925 silent comedy film starrin...       0   \n...        ...                                                ...     ...   \n1081    5109.0    The Straw Hat Pirates are invited to the Pir...       0   \n1082    5780.0    The Big Ugly is a 2020 crime drama set in th...       0   \n1083    2331.0    The Págálpánti is a 2019 Indian drama film d...       0   \n1084       NaN    The Wedding Unplanner is a 2020 romantic com...       0   \n1085    5271.0    Android Kunjappan Ver 5.25 is a 2019 Malayal...       0   \n\n        Genre  \n0       drama  \n1     western  \n2         NaN  \n3         NaN  \n4         NaN  \n...       ...  \n1081      NaN  \n1082      NaN  \n1083      NaN  \n1084      NaN  \n1085      NaN  \n\n[1086 rows x 11 columns]",
      "text/html": "<div>\n<style scoped>\n    .dataframe tbody tr th:only-of-type {\n        vertical-align: middle;\n    }\n\n    .dataframe tbody tr th {\n        vertical-align: top;\n    }\n\n    .dataframe thead th {\n        text-align: right;\n    }\n</style>\n<table border=\"1\" class=\"dataframe\">\n  <thead>\n    <tr style=\"text-align: right;\">\n      <th></th>\n      <th>Unnamed: 0</th>\n      <th>tconst</th>\n      <th>primaryTitle</th>\n      <th>originalTitle</th>\n      <th>startYear</th>\n      <th>endYear</th>\n      <th>runtimeMinutes</th>\n      <th>numVotes</th>\n      <th>plot</th>\n      <th>awards</th>\n      <th>Genre</th>\n    </tr>\n  </thead>\n  <tbody>\n    <tr>\n      <th>0</th>\n      <td>22</td>\n      <td>tt0014972</td>\n      <td>he who gets slapped</td>\n      <td>He Who Gets Slapped</td>\n      <td>1924</td>\n      <td>\\N</td>\n      <td>95</td>\n      <td>3654.0</td>\n      <td>He Who Gets Slapped is a 1924 silent film di...</td>\n      <td>0</td>\n      <td>drama</td>\n    </tr>\n    <tr>\n      <th>1</th>\n      <td>23</td>\n      <td>tt0015016</td>\n      <td>the iron horse</td>\n      <td>NaN</td>\n      <td>1924</td>\n      <td>\\N</td>\n      <td>150</td>\n      <td>2136.0</td>\n      <td>The Iron Horse is a 1924 American silent wes...</td>\n      <td>0</td>\n      <td>western</td>\n    </tr>\n    <tr>\n      <th>2</th>\n      <td>26</td>\n      <td>tt0015174</td>\n      <td>die nibelungen: kriemhild's revenge</td>\n      <td>NaN</td>\n      <td>1924</td>\n      <td>\\N</td>\n      <td>129</td>\n      <td>4341.0</td>\n      <td>The Die Nibelungen: Kriemhild's Revenge is a...</td>\n      <td>0</td>\n      <td>NaN</td>\n    </tr>\n    <tr>\n      <th>3</th>\n      <td>28</td>\n      <td>tt0015214</td>\n      <td>at 3:25</td>\n      <td>NaN</td>\n      <td>1925</td>\n      <td>1925</td>\n      <td>59</td>\n      <td>1724.0</td>\n      <td>At 3:25 is a drama film about a young woman ...</td>\n      <td>0</td>\n      <td>NaN</td>\n    </tr>\n    <tr>\n      <th>4</th>\n      <td>34</td>\n      <td>tt0015863</td>\n      <td>go west</td>\n      <td>NaN</td>\n      <td>1925</td>\n      <td>\\N</td>\n      <td>69</td>\n      <td>4188.0</td>\n      <td>Go West is a 1925 silent comedy film starrin...</td>\n      <td>0</td>\n      <td>NaN</td>\n    </tr>\n    <tr>\n      <th>...</th>\n      <td>...</td>\n      <td>...</td>\n      <td>...</td>\n      <td>...</td>\n      <td>...</td>\n      <td>...</td>\n      <td>...</td>\n      <td>...</td>\n      <td>...</td>\n      <td>...</td>\n      <td>...</td>\n    </tr>\n    <tr>\n      <th>1081</th>\n      <td>9942</td>\n      <td>tt9430698</td>\n      <td>one piece: stampede</td>\n      <td>NaN</td>\n      <td>2019</td>\n      <td>\\N</td>\n      <td>101</td>\n      <td>5109.0</td>\n      <td>The Straw Hat Pirates are invited to the Pir...</td>\n      <td>0</td>\n      <td>NaN</td>\n    </tr>\n    <tr>\n      <th>1082</th>\n      <td>9943</td>\n      <td>tt9441638</td>\n      <td>the big ugly</td>\n      <td>NaN</td>\n      <td>2020</td>\n      <td>\\N</td>\n      <td>106</td>\n      <td>5780.0</td>\n      <td>The Big Ugly is a 2020 crime drama set in th...</td>\n      <td>0</td>\n      <td>NaN</td>\n    </tr>\n    <tr>\n      <th>1083</th>\n      <td>9948</td>\n      <td>tt9495690</td>\n      <td>pagalpanti</td>\n      <td>Pagalpanti</td>\n      <td>2019</td>\n      <td>\\N</td>\n      <td>149</td>\n      <td>2331.0</td>\n      <td>The Págálpánti is a 2019 Indian drama film d...</td>\n      <td>0</td>\n      <td>NaN</td>\n    </tr>\n    <tr>\n      <th>1084</th>\n      <td>9950</td>\n      <td>tt9519642</td>\n      <td>the wedding unplanner</td>\n      <td>NaN</td>\n      <td>2020</td>\n      <td>\\N</td>\n      <td>110</td>\n      <td>NaN</td>\n      <td>The Wedding Unplanner is a 2020 romantic com...</td>\n      <td>0</td>\n      <td>NaN</td>\n    </tr>\n    <tr>\n      <th>1085</th>\n      <td>9951</td>\n      <td>tt9526826</td>\n      <td>android kunjappan ver 5.25</td>\n      <td>Android Kunjappan Version 5.25</td>\n      <td>2019</td>\n      <td>\\N</td>\n      <td>140</td>\n      <td>5271.0</td>\n      <td>Android Kunjappan Ver 5.25 is a 2019 Malayal...</td>\n      <td>0</td>\n      <td>NaN</td>\n    </tr>\n  </tbody>\n</table>\n<p>1086 rows × 11 columns</p>\n</div>"
     },
     "execution_count": 10,
     "metadata": {},
     "output_type": "execute_result"
    }
   ],
   "source": [
    "test_final = pd.join(test, wiki[[\"primaryTitle\", \"Genre\", \"startYear\"]],on=[\"primaryTitle\", \"startYear\"], how=\"left\")\n",
    "test_final"
   ],
   "metadata": {
    "collapsed": false,
    "pycharm": {
     "name": "#%%\n"
    }
   }
  },
  {
   "cell_type": "code",
   "execution_count": 11,
   "outputs": [],
   "source": [
    "test_final.to_csv(\"../datasets/gpt_data/test_plots_awards_genre_no_duplicates.csv\", index=False)"
   ],
   "metadata": {
    "collapsed": false,
    "pycharm": {
     "name": "#%%\n"
    }
   }
  },
  {
   "cell_type": "code",
   "execution_count": null,
   "outputs": [],
   "source": [],
   "metadata": {
    "collapsed": false,
    "pycharm": {
     "name": "#%%\n"
    }
   }
  }
 ],
 "metadata": {
  "kernelspec": {
   "display_name": "Python 3",
   "language": "python",
   "name": "python3"
  },
  "language_info": {
   "codemirror_mode": {
    "name": "ipython",
    "version": 2
   },
   "file_extension": ".py",
   "mimetype": "text/x-python",
   "name": "python",
   "nbconvert_exporter": "python",
   "pygments_lexer": "ipython2",
   "version": "2.7.6"
  }
 },
 "nbformat": 4,
 "nbformat_minor": 0
}

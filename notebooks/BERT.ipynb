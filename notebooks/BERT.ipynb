{
 "metadata": {
  "kernelspec": {
   "name": "python3",
   "display_name": "Python 3",
   "language": "python"
  },
  "language_info": {
   "name": "python",
   "version": "3.7.12",
   "mimetype": "text/x-python",
   "codemirror_mode": {
    "name": "ipython",
    "version": 3
   },
   "pygments_lexer": "ipython3",
   "nbconvert_exporter": "python",
   "file_extension": ".py"
  }
 },
 "nbformat_minor": 5,
 "nbformat": 4,
 "cells": [
  {
   "cell_type": "code",
   "source": [
    "import pandas as pd\n",
    "import matplotlib.pyplot as plt"
   ],
   "metadata": {
    "execution": {
     "iopub.status.busy": "2023-03-20T13:44:24.625707Z",
     "iopub.execute_input": "2023-03-20T13:44:24.626309Z",
     "iopub.status.idle": "2023-03-20T13:44:24.642235Z",
     "shell.execute_reply.started": "2023-03-20T13:44:24.626262Z",
     "shell.execute_reply": "2023-03-20T13:44:24.641101Z"
    },
    "trusted": true
   },
   "execution_count": 4,
   "outputs": []
  },
  {
   "cell_type": "code",
   "source": [
    "train = pd.read_csv('../datasets/gpt_data/definitive/train.csv')"
   ],
   "metadata": {
    "execution": {
     "iopub.status.busy": "2023-03-20T13:44:31.143952Z",
     "iopub.execute_input": "2023-03-20T13:44:31.144405Z",
     "iopub.status.idle": "2023-03-20T13:44:31.475074Z",
     "shell.execute_reply.started": "2023-03-20T13:44:31.144363Z",
     "shell.execute_reply": "2023-03-20T13:44:31.473845Z"
    },
    "trusted": true
   },
   "execution_count": 7,
   "outputs": []
  },
  {
   "cell_type": "code",
   "source": [
    "train['label'] = train['label'].astype(int)"
   ],
   "metadata": {
    "execution": {
     "iopub.status.busy": "2023-03-20T13:44:32.625204Z",
     "iopub.execute_input": "2023-03-20T13:44:32.625608Z",
     "iopub.status.idle": "2023-03-20T13:44:32.637958Z",
     "shell.execute_reply.started": "2023-03-20T13:44:32.625572Z",
     "shell.execute_reply": "2023-03-20T13:44:32.636569Z"
    },
    "trusted": true
   },
   "execution_count": 8,
   "outputs": []
  },
  {
   "cell_type": "code",
   "source": [
    "train = train[['plot', 'label']]\n",
    "train"
   ],
   "metadata": {
    "scrolled": true,
    "execution": {
     "iopub.status.busy": "2023-03-20T13:44:33.644798Z",
     "iopub.execute_input": "2023-03-20T13:44:33.645469Z",
     "iopub.status.idle": "2023-03-20T13:44:33.687241Z",
     "shell.execute_reply.started": "2023-03-20T13:44:33.645419Z",
     "shell.execute_reply": "2023-03-20T13:44:33.686313Z"
    },
    "trusted": true
   },
   "execution_count": 9,
   "outputs": [
    {
     "data": {
      "text/plain": "                                                   plot  label\n0       the doll is a 1919 silent film directed by e...      1\n1       the way down east is a 1920 silent film dire...      1\n2       destiny is a 1921 german silent fantasy film...      1\n3       the navigator is a 1924 silent comedy film s...      1\n4       the phantom of the opera is a 1925 silent ho...      1\n...                                                 ...    ...\n7954    the trauma center is a 2019 drama film direc...      0\n7955    slaxx is a 2020 horror-comedy about a posses...      0\n7956    the kindred is a 2020 science fiction horror...      0\n7957    the bee gees: how can you mend a broken hear...      1\n7958    the marriage escape is a 2020 romantic comed...      1\n\n[7959 rows x 2 columns]",
      "text/html": "<div>\n<style scoped>\n    .dataframe tbody tr th:only-of-type {\n        vertical-align: middle;\n    }\n\n    .dataframe tbody tr th {\n        vertical-align: top;\n    }\n\n    .dataframe thead th {\n        text-align: right;\n    }\n</style>\n<table border=\"1\" class=\"dataframe\">\n  <thead>\n    <tr style=\"text-align: right;\">\n      <th></th>\n      <th>plot</th>\n      <th>label</th>\n    </tr>\n  </thead>\n  <tbody>\n    <tr>\n      <th>0</th>\n      <td>the doll is a 1919 silent film directed by e...</td>\n      <td>1</td>\n    </tr>\n    <tr>\n      <th>1</th>\n      <td>the way down east is a 1920 silent film dire...</td>\n      <td>1</td>\n    </tr>\n    <tr>\n      <th>2</th>\n      <td>destiny is a 1921 german silent fantasy film...</td>\n      <td>1</td>\n    </tr>\n    <tr>\n      <th>3</th>\n      <td>the navigator is a 1924 silent comedy film s...</td>\n      <td>1</td>\n    </tr>\n    <tr>\n      <th>4</th>\n      <td>the phantom of the opera is a 1925 silent ho...</td>\n      <td>1</td>\n    </tr>\n    <tr>\n      <th>...</th>\n      <td>...</td>\n      <td>...</td>\n    </tr>\n    <tr>\n      <th>7954</th>\n      <td>the trauma center is a 2019 drama film direc...</td>\n      <td>0</td>\n    </tr>\n    <tr>\n      <th>7955</th>\n      <td>slaxx is a 2020 horror-comedy about a posses...</td>\n      <td>0</td>\n    </tr>\n    <tr>\n      <th>7956</th>\n      <td>the kindred is a 2020 science fiction horror...</td>\n      <td>0</td>\n    </tr>\n    <tr>\n      <th>7957</th>\n      <td>the bee gees: how can you mend a broken hear...</td>\n      <td>1</td>\n    </tr>\n    <tr>\n      <th>7958</th>\n      <td>the marriage escape is a 2020 romantic comed...</td>\n      <td>1</td>\n    </tr>\n  </tbody>\n</table>\n<p>7959 rows × 2 columns</p>\n</div>"
     },
     "execution_count": 9,
     "metadata": {},
     "output_type": "execute_result"
    }
   ]
  },
  {
   "cell_type": "code",
   "source": [
    "train.info()"
   ],
   "metadata": {
    "scrolled": true,
    "execution": {
     "iopub.status.busy": "2023-03-20T13:44:35.341358Z",
     "iopub.execute_input": "2023-03-20T13:44:35.342258Z",
     "iopub.status.idle": "2023-03-20T13:44:35.362985Z",
     "shell.execute_reply.started": "2023-03-20T13:44:35.342208Z",
     "shell.execute_reply": "2023-03-20T13:44:35.361702Z"
    },
    "trusted": true
   },
   "execution_count": 10,
   "outputs": [
    {
     "name": "stdout",
     "output_type": "stream",
     "text": [
      "<class 'pandas.core.frame.DataFrame'>\n",
      "RangeIndex: 7959 entries, 0 to 7958\n",
      "Data columns (total 2 columns):\n",
      " #   Column  Non-Null Count  Dtype \n",
      "---  ------  --------------  ----- \n",
      " 0   plot    7959 non-null   object\n",
      " 1   label   7959 non-null   int64 \n",
      "dtypes: int64(1), object(1)\n",
      "memory usage: 124.5+ KB\n"
     ]
    }
   ]
  },
  {
   "cell_type": "code",
   "source": [
    "lengths = []\n",
    "for i, sentence in enumerate(train['plot']):\n",
    "    lengths.append(len(sentence))\n",
    "    \n",
    "plt.hist(lengths, bins=20);  \n",
    "print('min length:', min(lengths),'\\nmax length:',max(lengths))  "
   ],
   "metadata": {
    "scrolled": true,
    "execution": {
     "iopub.status.busy": "2023-03-20T13:44:37.027980Z",
     "iopub.execute_input": "2023-03-20T13:44:37.028750Z",
     "iopub.status.idle": "2023-03-20T13:44:37.334561Z",
     "shell.execute_reply.started": "2023-03-20T13:44:37.028713Z",
     "shell.execute_reply": "2023-03-20T13:44:37.333503Z"
    },
    "trusted": true
   },
   "execution_count": 11,
   "outputs": [
    {
     "name": "stdout",
     "output_type": "stream",
     "text": [
      "min length: 366 \n",
      "max length: 776\n"
     ]
    },
    {
     "data": {
      "text/plain": "<Figure size 640x480 with 1 Axes>",
      "image/png": "[encoded data removed]"
     },
     "metadata": {},
     "output_type": "display_data"
    }
   ]
  },
  {
   "cell_type": "code",
   "source": [
    "#NEW TRAIN TEST SPLIT (this randomization is the same for this notebook and the lightgbm notebook)\n",
    "train = train.sample(frac=1, random_state=420).reset_index(drop=True)\n",
    "train.head()"
   ],
   "metadata": {
    "execution": {
     "iopub.status.busy": "2023-03-20T13:44:51.835014Z",
     "iopub.execute_input": "2023-03-20T13:44:51.835436Z",
     "iopub.status.idle": "2023-03-20T13:44:51.858668Z",
     "shell.execute_reply.started": "2023-03-20T13:44:51.835400Z",
     "shell.execute_reply": "2023-03-20T13:44:51.857382Z"
    },
    "trusted": true
   },
   "execution_count": 7,
   "outputs": [
    {
     "execution_count": 7,
     "output_type": "execute_result",
     "data": {
      "text/plain": "                                                plot  label\n0    in 1968, a small town in the midwest is rock...      0\n1    hawaizaada is a 2015 indian biographical dra...      0\n2    the beverly hillbillies is a 1993 comedy fil...      0\n3    the man who came to dinner is a 1942 comedy ...      1\n4    the black godfather is a biographical drama ...      1",
      "text/html": "<div>\n<style scoped>\n    .dataframe tbody tr th:only-of-type {\n        vertical-align: middle;\n    }\n\n    .dataframe tbody tr th {\n        vertical-align: top;\n    }\n\n    .dataframe thead th {\n        text-align: right;\n    }\n</style>\n<table border=\"1\" class=\"dataframe\">\n  <thead>\n    <tr style=\"text-align: right;\">\n      <th></th>\n      <th>plot</th>\n      <th>label</th>\n    </tr>\n  </thead>\n  <tbody>\n    <tr>\n      <th>0</th>\n      <td>in 1968, a small town in the midwest is rock...</td>\n      <td>0</td>\n    </tr>\n    <tr>\n      <th>1</th>\n      <td>hawaizaada is a 2015 indian biographical dra...</td>\n      <td>0</td>\n    </tr>\n    <tr>\n      <th>2</th>\n      <td>the beverly hillbillies is a 1993 comedy fil...</td>\n      <td>0</td>\n    </tr>\n    <tr>\n      <th>3</th>\n      <td>the man who came to dinner is a 1942 comedy ...</td>\n      <td>1</td>\n    </tr>\n    <tr>\n      <th>4</th>\n      <td>the black godfather is a biographical drama ...</td>\n      <td>1</td>\n    </tr>\n  </tbody>\n</table>\n</div>"
     },
     "metadata": {}
    }
   ]
  },
  {
   "cell_type": "code",
   "source": [
    "import torch\n",
    "from torch.utils.data import TensorDataset, DataLoader, random_split\n",
    "from transformers import BertTokenizer, BertForSequenceClassification, AdamW, get_linear_schedule_with_warmup"
   ],
   "metadata": {
    "execution": {
     "iopub.status.busy": "2023-03-20T13:44:53.568440Z",
     "iopub.execute_input": "2023-03-20T13:44:53.569174Z",
     "iopub.status.idle": "2023-03-20T13:45:12.048212Z",
     "shell.execute_reply.started": "2023-03-20T13:44:53.569135Z",
     "shell.execute_reply": "2023-03-20T13:45:12.046989Z"
    },
    "trusted": true
   },
   "execution_count": 8,
   "outputs": []
  },
  {
   "cell_type": "code",
   "source": [
    "# Set up the device\n",
    "device = torch.device('cuda' if torch.cuda.is_available() else 'cpu')"
   ],
   "metadata": {
    "execution": {
     "iopub.status.busy": "2023-03-20T13:45:23.246316Z",
     "iopub.execute_input": "2023-03-20T13:45:23.246724Z",
     "iopub.status.idle": "2023-03-20T13:45:23.356377Z",
     "shell.execute_reply.started": "2023-03-20T13:45:23.246676Z",
     "shell.execute_reply": "2023-03-20T13:45:23.354968Z"
    },
    "trusted": true
   },
   "execution_count": 9,
   "outputs": []
  },
  {
   "cell_type": "code",
   "source": [
    "# Example movie plot\n",
    "plot = list(train['plot'].values)[0]\n",
    "plot = \"A young woman falls in love with a man who is secretly a prince.\"\n",
    "\n",
    "# Initialize the tokenizer\n",
    "tokenizer = BertTokenizer.from_pretrained('bert-base-uncased')\n",
    "\n",
    "# Tokenize the plot using the tokenizer's encode() method\n",
    "tokens = tokenizer.encode(plot, add_special_tokens=True)\n",
    "\n",
    "# The tokens variable now contains the token IDs of the tokenized plot\n",
    "print('Original plot:', plot)\n",
    "print()\n",
    "print('Tokenized plot:', tokenizer.convert_ids_to_tokens(tokens))\n",
    "print()\n",
    "print('Token IDs:', tokens)"
   ],
   "metadata": {
    "execution": {
     "iopub.status.busy": "2023-03-20T13:45:26.272214Z",
     "iopub.execute_input": "2023-03-20T13:45:26.272925Z",
     "iopub.status.idle": "2023-03-20T13:45:27.695372Z",
     "shell.execute_reply.started": "2023-03-20T13:45:26.272887Z",
     "shell.execute_reply": "2023-03-20T13:45:27.694242Z"
    },
    "trusted": true
   },
   "execution_count": 10,
   "outputs": [
    {
     "output_type": "display_data",
     "data": {
      "text/plain": "Downloading (…)solve/main/vocab.txt:   0%|          | 0.00/232k [00:00<?, ?B/s]",
      "application/vnd.jupyter.widget-view+json": {
       "version_major": 2,
       "version_minor": 0,
       "model_id": "b0b807f7cfe74b8ea009c1423ba9dddf"
      }
     },
     "metadata": {}
    },
    {
     "output_type": "display_data",
     "data": {
      "text/plain": "Downloading (…)okenizer_config.json:   0%|          | 0.00/28.0 [00:00<?, ?B/s]",
      "application/vnd.jupyter.widget-view+json": {
       "version_major": 2,
       "version_minor": 0,
       "model_id": "083cf011fe6a446b8b8a704274d6036c"
      }
     },
     "metadata": {}
    },
    {
     "output_type": "display_data",
     "data": {
      "text/plain": "Downloading (…)lve/main/config.json:   0%|          | 0.00/570 [00:00<?, ?B/s]",
      "application/vnd.jupyter.widget-view+json": {
       "version_major": 2,
       "version_minor": 0,
       "model_id": "ee35946acf32428bb8a77007440206ae"
      }
     },
     "metadata": {}
    },
    {
     "name": "stdout",
     "text": "Original plot: A young woman falls in love with a man who is secretly a prince.\n\nTokenized plot: ['[CLS]', 'a', 'young', 'woman', 'falls', 'in', 'love', 'with', 'a', 'man', 'who', 'is', 'secretly', 'a', 'prince', '.', '[SEP]']\n\nToken IDs: [101, 1037, 2402, 2450, 4212, 1999, 2293, 2007, 1037, 2158, 2040, 2003, 10082, 1037, 3159, 1012, 102]\n",
     "output_type": "stream"
    }
   ]
  },
  {
   "cell_type": "code",
   "source": [
    "max_len = 128 # maximum sequence length to use\n",
    "\n",
    "# Initialize the tokenizer\n",
    "tokenizer = BertTokenizer.from_pretrained('bert-base-uncased')\n",
    "\n",
    "#encoded_plots = tokenizer.batch_encode_plus(list(train['plot'].values), add_special_tokens=True, max_length=max_len, pad_to_max_length=True, truncation=True, return_attention_mask=True, return_tensors='pt')\n",
    "encoded_plots = tokenizer.batch_encode_plus(list(train['plot'].values), add_special_tokens=True, max_length=max_len, \n",
    "                                            padding=True, truncation=True, return_tensors='pt')"
   ],
   "metadata": {
    "scrolled": true,
    "execution": {
     "iopub.status.busy": "2023-03-20T13:45:29.559988Z",
     "iopub.execute_input": "2023-03-20T13:45:29.560864Z",
     "iopub.status.idle": "2023-03-20T13:45:54.408116Z",
     "shell.execute_reply.started": "2023-03-20T13:45:29.560827Z",
     "shell.execute_reply": "2023-03-20T13:45:54.407029Z"
    },
    "trusted": true
   },
   "execution_count": 11,
   "outputs": []
  },
  {
   "cell_type": "code",
   "source": [
    "encoded_plots['input_ids'].shape"
   ],
   "metadata": {
    "execution": {
     "iopub.status.busy": "2023-03-20T13:45:54.410155Z",
     "iopub.execute_input": "2023-03-20T13:45:54.410745Z",
     "iopub.status.idle": "2023-03-20T13:45:54.417850Z",
     "shell.execute_reply.started": "2023-03-20T13:45:54.410705Z",
     "shell.execute_reply": "2023-03-20T13:45:54.416759Z"
    },
    "trusted": true
   },
   "execution_count": 12,
   "outputs": [
    {
     "execution_count": 12,
     "output_type": "execute_result",
     "data": {
      "text/plain": "torch.Size([7959, 128])"
     },
     "metadata": {}
    }
   ]
  },
  {
   "cell_type": "code",
   "source": [
    "labels_tensor = torch.tensor(train['label'])"
   ],
   "metadata": {
    "execution": {
     "iopub.status.busy": "2023-03-20T13:45:54.419840Z",
     "iopub.execute_input": "2023-03-20T13:45:54.420451Z",
     "iopub.status.idle": "2023-03-20T13:45:54.459086Z",
     "shell.execute_reply.started": "2023-03-20T13:45:54.420414Z",
     "shell.execute_reply": "2023-03-20T13:45:54.457800Z"
    },
    "trusted": true
   },
   "execution_count": 13,
   "outputs": []
  },
  {
   "cell_type": "markdown",
   "source": [
    "### Old Shuffle"
   ],
   "metadata": {}
  },
  {
   "cell_type": "code",
   "source": [
    "# Create a TensorDataset and DataLoader for training and validation\n",
    "dataset = TensorDataset(encoded_plots['input_ids'], encoded_plots['attention_mask'], labels_tensor)\n",
    "\n",
    "train_size = int(0.8 * len(dataset))\n",
    "val_size = len(dataset) - train_size\n",
    "\n",
    "train_dataset, val_dataset = random_split(dataset, [train_size, val_size])\n",
    "\n",
    "batch_size = 16\n",
    "\n",
    "train_dataloader = DataLoader(train_dataset, batch_size=batch_size, shuffle=True)\n",
    "val_dataloader = DataLoader(val_dataset, batch_size=batch_size, shuffle=True)\n"
   ],
   "metadata": {
    "execution": {
     "iopub.status.busy": "2023-03-20T13:45:54.461817Z",
     "iopub.execute_input": "2023-03-20T13:45:54.462232Z",
     "iopub.status.idle": "2023-03-20T13:45:54.501331Z",
     "shell.execute_reply.started": "2023-03-20T13:45:54.462194Z",
     "shell.execute_reply": "2023-03-20T13:45:54.500457Z"
    },
    "trusted": true
   },
   "execution_count": 14,
   "outputs": []
  },
  {
   "cell_type": "markdown",
   "source": [
    "### New shuffle (same to lightGBM)"
   ],
   "metadata": {}
  },
  {
   "cell_type": "code",
   "source": [
    "train_size = int(0.8 * len(train))\n",
    "\n",
    "train_dataset = TensorDataset(\n",
    "    encoded_plots['input_ids'][:train_size], \n",
    "    encoded_plots['attention_mask'][:train_size], \n",
    "    labels_tensor[:train_size]\n",
    ")\n",
    "\n",
    "val_dataset = TensorDataset(\n",
    "    encoded_plots['input_ids'][train_size:], \n",
    "    encoded_plots['attention_mask'][train_size:], \n",
    "    labels_tensor[train_size:]\n",
    ")\n",
    "batch_size = 16\n",
    "\n",
    "train_dataloader = DataLoader(train_dataset, batch_size=batch_size, shuffle=True) #cambiaaa\n",
    "val_dataloader = DataLoader(val_dataset, batch_size=batch_size, shuffle=True)"
   ],
   "metadata": {
    "execution": {
     "iopub.status.busy": "2023-03-20T10:09:36.449386Z",
     "iopub.execute_input": "2023-03-20T10:09:36.450327Z",
     "iopub.status.idle": "2023-03-20T10:09:36.458026Z",
     "shell.execute_reply.started": "2023-03-20T10:09:36.450274Z",
     "shell.execute_reply": "2023-03-20T10:09:36.456807Z"
    },
    "trusted": true
   },
   "execution_count": 44,
   "outputs": []
  },
  {
   "cell_type": "code",
   "source": [
    "#test\n",
    "train['label'][0:15]"
   ],
   "metadata": {
    "execution": {
     "iopub.status.busy": "2023-03-20T10:09:38.898117Z",
     "iopub.execute_input": "2023-03-20T10:09:38.898684Z",
     "iopub.status.idle": "2023-03-20T10:09:38.906203Z",
     "shell.execute_reply.started": "2023-03-20T10:09:38.898642Z",
     "shell.execute_reply": "2023-03-20T10:09:38.905207Z"
    },
    "trusted": true
   },
   "execution_count": 45,
   "outputs": [
    {
     "execution_count": 45,
     "output_type": "execute_result",
     "data": {
      "text/plain": "0     0\n1     0\n2     0\n3     1\n4     1\n5     1\n6     1\n7     0\n8     1\n9     1\n10    1\n11    1\n12    1\n13    0\n14    1\nName: label, dtype: int64"
     },
     "metadata": {}
    }
   ]
  },
  {
   "cell_type": "code",
   "source": [
    "#test\n",
    "for i, batch in enumerate(train_dataloader):\n",
    "    print(batch[2])\n",
    "    break"
   ],
   "metadata": {
    "execution": {
     "iopub.status.busy": "2023-03-20T10:09:41.722044Z",
     "iopub.execute_input": "2023-03-20T10:09:41.724718Z",
     "iopub.status.idle": "2023-03-20T10:09:41.732937Z",
     "shell.execute_reply.started": "2023-03-20T10:09:41.724675Z",
     "shell.execute_reply": "2023-03-20T10:09:41.731654Z"
    },
    "trusted": true
   },
   "execution_count": 46,
   "outputs": [
    {
     "name": "stdout",
     "text": "tensor([0, 1, 1, 0, 1, 1, 0, 1, 1, 0, 1, 0, 0, 0, 1, 0])\n",
     "output_type": "stream"
    }
   ]
  },
  {
   "cell_type": "markdown",
   "source": [
    "## Model"
   ],
   "metadata": {}
  },
  {
   "cell_type": "code",
   "source": [
    "# Load the pre-trained BERT model and add a classification layer on top of it\n",
    "model = BertForSequenceClassification.from_pretrained('bert-base-uncased', num_labels=2)"
   ],
   "metadata": {
    "execution": {
     "iopub.status.busy": "2023-03-20T13:46:20.631825Z",
     "iopub.execute_input": "2023-03-20T13:46:20.632200Z",
     "iopub.status.idle": "2023-03-20T13:46:28.446134Z",
     "shell.execute_reply.started": "2023-03-20T13:46:20.632166Z",
     "shell.execute_reply": "2023-03-20T13:46:28.445225Z"
    },
    "trusted": true
   },
   "execution_count": 15,
   "outputs": [
    {
     "output_type": "display_data",
     "data": {
      "text/plain": "Downloading (…)\"pytorch_model.bin\";:   0%|          | 0.00/440M [00:00<?, ?B/s]",
      "application/vnd.jupyter.widget-view+json": {
       "version_major": 2,
       "version_minor": 0,
       "model_id": "1209c76c382e4edfb4eec7b42094b10a"
      }
     },
     "metadata": {}
    },
    {
     "name": "stderr",
     "text": "Some weights of the model checkpoint at bert-base-uncased were not used when initializing BertForSequenceClassification: ['cls.seq_relationship.weight', 'cls.predictions.transform.LayerNorm.weight', 'cls.predictions.decoder.weight', 'cls.predictions.transform.LayerNorm.bias', 'cls.predictions.transform.dense.weight', 'cls.seq_relationship.bias', 'cls.predictions.bias', 'cls.predictions.transform.dense.bias']\n- This IS expected if you are initializing BertForSequenceClassification from the checkpoint of a model trained on another task or with another architecture (e.g. initializing a BertForSequenceClassification model from a BertForPreTraining model).\n- This IS NOT expected if you are initializing BertForSequenceClassification from the checkpoint of a model that you expect to be exactly identical (initializing a BertForSequenceClassification model from a BertForSequenceClassification model).\nSome weights of BertForSequenceClassification were not initialized from the model checkpoint at bert-base-uncased and are newly initialized: ['classifier.bias', 'classifier.weight']\nYou should probably TRAIN this model on a down-stream task to be able to use it for predictions and inference.\n",
     "output_type": "stream"
    }
   ]
  },
  {
   "cell_type": "code",
   "source": [
    "# Set up the optimizer and learning rate scheduler\n",
    "optimizer = AdamW(model.parameters(), lr=2e-5, eps=1e-8)\n",
    "epochs = 3\n",
    "total_steps = len(train_dataloader) * epochs\n",
    "scheduler = get_linear_schedule_with_warmup(optimizer, num_warmup_steps=0, num_training_steps=total_steps)\n",
    "\n",
    "# Fine-tune the BERT model\n",
    "model.to(device)\n",
    "model.train()\n",
    "\n",
    "for epoch in range(epochs):\n",
    "    for i, batch in enumerate(train_dataloader):\n",
    "        input_ids = batch[0].to(device)\n",
    "        attention_mask = batch[1].to(device)\n",
    "        labels = batch[2].to(device)\n",
    "\n",
    "        optimizer.zero_grad() #set the gradients to zero for each batch\n",
    "        \n",
    "        # forward pass\n",
    "        outputs = model(input_ids, attention_mask=attention_mask, labels=labels)\n",
    "        loss = outputs.loss\n",
    "        logits = outputs.logits\n",
    "        \n",
    "        # backward pass\n",
    "        loss.backward()\n",
    "        torch.nn.utils.clip_grad_norm_(model.parameters(), 1.0) #still don't know what it does\n",
    "        \n",
    "        #parameter update based on the current gradient (stored in . grad attribute of a parameter)\n",
    "        optimizer.step()\n",
    "        \n",
    "        #update learning rate with scheduler\n",
    "        scheduler.step()\n",
    "        \n",
    "        if i % 50 == 0:\n",
    "            print(f'epoch:{epoch}, batch {i} out of {len(train_dataset)//batch_size} is done')\n",
    "\n",
    "    # Evaluate the model on the validation set after each epoch\n",
    "    model.eval()\n",
    "    val_loss = 0\n",
    "    val_accuracy = 0\n",
    "    with torch.no_grad():\n",
    "        for batch in val_dataloader:\n",
    "            input_ids = batch[0].to(device)\n",
    "            attention_mask = batch[1].to(device)\n",
    "            labels = batch[2].to(device)\n",
    "\n",
    "            outputs = model(input_ids, attention_mask=attention_mask, labels=labels)\n",
    "            loss = outputs.loss\n",
    "            logits = outputs.logits\n",
    "\n",
    "            val_loss += loss.item()\n",
    "            _, preds = torch.max(logits, dim=1)\n",
    "            val_accuracy += torch.sum(preds == labels).item()\n",
    "\n",
    "    avg_val_loss = val_loss / len(val_dataloader)\n",
    "    avg_val_accuracy = val_accuracy / len(val_dataset)\n",
    "\n",
    "    print(f\"Epoch {epoch+1}/{epochs}, Validation Loss: {avg_val_loss:.4f}, Validation Accuracy: {avg_val_accuracy:.4f}\")"
   ],
   "metadata": {
    "execution": {
     "iopub.status.busy": "2023-03-20T13:46:28.448330Z",
     "iopub.execute_input": "2023-03-20T13:46:28.448711Z",
     "iopub.status.idle": "2023-03-20T13:52:11.777592Z",
     "shell.execute_reply.started": "2023-03-20T13:46:28.448671Z",
     "shell.execute_reply": "2023-03-20T13:52:11.776370Z"
    },
    "trusted": true
   },
   "execution_count": 16,
   "outputs": [
    {
     "name": "stderr",
     "text": "/opt/conda/lib/python3.7/site-packages/transformers/optimization.py:310: FutureWarning: This implementation of AdamW is deprecated and will be removed in a future version. Use the PyTorch implementation torch.optim.AdamW instead, or set `no_deprecation_warning=True` to disable this warning\n  FutureWarning,\n",
     "output_type": "stream"
    },
    {
     "name": "stdout",
     "text": "epoch:0, batch 0 out of 248 is done\nepoch:0, batch 50 out of 248 is done\nepoch:0, batch 100 out of 248 is done\nepoch:0, batch 150 out of 248 is done\nepoch:0, batch 200 out of 248 is done\nEpoch 1/3, Validation Loss: 0.4804, Validation Accuracy: 0.7741\nepoch:1, batch 0 out of 248 is done\nepoch:1, batch 50 out of 248 is done\nepoch:1, batch 100 out of 248 is done\nepoch:1, batch 150 out of 248 is done\nepoch:1, batch 200 out of 248 is done\nEpoch 2/3, Validation Loss: 0.4570, Validation Accuracy: 0.7942\nepoch:2, batch 0 out of 248 is done\nepoch:2, batch 50 out of 248 is done\nepoch:2, batch 100 out of 248 is done\nepoch:2, batch 150 out of 248 is done\nepoch:2, batch 200 out of 248 is done\nEpoch 3/3, Validation Loss: 0.5175, Validation Accuracy: 0.7940\n",
     "output_type": "stream"
    }
   ]
  },
  {
   "cell_type": "markdown",
   "source": [
    "### Model on ALL dataset"
   ],
   "metadata": {}
  },
  {
   "cell_type": "code",
   "source": [
    "# ADDDDD\n",
    "batch_size = 16\n",
    "\n",
    "dataset = TensorDataset(encoded_plots['input_ids'], encoded_plots['attention_mask'], labels_tensor)\n",
    "\n",
    "train_dataloader = DataLoader(dataset, batch_size=batch_size, shuffle=True) #cambiaaa"
   ],
   "metadata": {
    "execution": {
     "iopub.status.busy": "2023-03-20T09:36:39.463837Z",
     "iopub.execute_input": "2023-03-20T09:36:39.464236Z",
     "iopub.status.idle": "2023-03-20T09:36:39.470111Z",
     "shell.execute_reply.started": "2023-03-20T09:36:39.464199Z",
     "shell.execute_reply": "2023-03-20T09:36:39.468892Z"
    },
    "trusted": true
   },
   "execution_count": 15,
   "outputs": []
  },
  {
   "cell_type": "code",
   "source": [
    "#check\n",
    "0.8*len(dataset)//batch_size"
   ],
   "metadata": {
    "execution": {
     "iopub.status.busy": "2023-03-20T10:09:23.892025Z",
     "iopub.execute_input": "2023-03-20T10:09:23.892763Z",
     "iopub.status.idle": "2023-03-20T10:09:23.899708Z",
     "shell.execute_reply.started": "2023-03-20T10:09:23.892707Z",
     "shell.execute_reply": "2023-03-20T10:09:23.898666Z"
    },
    "trusted": true
   },
   "execution_count": 43,
   "outputs": [
    {
     "execution_count": 43,
     "output_type": "execute_result",
     "data": {
      "text/plain": "397.0"
     },
     "metadata": {}
    }
   ]
  },
  {
   "cell_type": "code",
   "source": [
    "# Set up the optimizer and learning rate scheduler\n",
    "optimizer = AdamW(model.parameters(), lr=2e-5, eps=1e-8)\n",
    "epochs = 3\n",
    "total_steps = len(train_dataloader) * epochs\n",
    "scheduler = get_linear_schedule_with_warmup(optimizer, num_warmup_steps=0, num_training_steps=total_steps)\n",
    "\n",
    "# Fine-tune the BERT model\n",
    "model.to(device)\n",
    "model.train()\n",
    "\n",
    "for epoch in range(epochs):\n",
    "    for i, batch in enumerate(train_dataloader):\n",
    "        input_ids = batch[0].to(device)\n",
    "        attention_mask = batch[1].to(device)\n",
    "        labels = batch[2].to(device)\n",
    "\n",
    "        optimizer.zero_grad() #set the gradients to zero for each batch\n",
    "        \n",
    "        # forward pass\n",
    "        outputs = model(input_ids, attention_mask=attention_mask, labels=labels)\n",
    "        loss = outputs.loss\n",
    "        logits = outputs.logits\n",
    "        \n",
    "        # backward pass\n",
    "        loss.backward()\n",
    "        torch.nn.utils.clip_grad_norm_(model.parameters(), 1.0) #still don't know what it does\n",
    "        \n",
    "        #parameter update based on the current gradient (stored in . grad attribute of a parameter)\n",
    "        optimizer.step()\n",
    "        \n",
    "        #update learning rate with scheduler\n",
    "        scheduler.step()\n",
    "        \n",
    "        if i % 50 == 0:\n",
    "            print(f'epoch:{epoch}, batch {i} out of {len(dataset)//batch_size} is done')\n",
    "\n",
    "    "
   ],
   "metadata": {
    "execution": {
     "iopub.status.busy": "2023-03-20T09:40:59.368311Z",
     "iopub.execute_input": "2023-03-20T09:40:59.368854Z",
     "iopub.status.idle": "2023-03-20T09:49:37.855843Z",
     "shell.execute_reply.started": "2023-03-20T09:40:59.368801Z",
     "shell.execute_reply": "2023-03-20T09:49:37.854812Z"
    },
    "trusted": true
   },
   "execution_count": 22,
   "outputs": [
    {
     "name": "stderr",
     "text": "/opt/conda/lib/python3.7/site-packages/transformers/optimization.py:310: FutureWarning: This implementation of AdamW is deprecated and will be removed in a future version. Use the PyTorch implementation torch.optim.AdamW instead, or set `no_deprecation_warning=True` to disable this warning\n  FutureWarning,\n",
     "output_type": "stream"
    },
    {
     "name": "stdout",
     "text": "epoch:0, batch 0 out of 497 is done\nepoch:0, batch 50 out of 497 is done\nepoch:0, batch 100 out of 497 is done\nepoch:0, batch 150 out of 497 is done\nepoch:0, batch 200 out of 497 is done\nepoch:0, batch 250 out of 497 is done\nepoch:0, batch 300 out of 497 is done\nepoch:0, batch 350 out of 497 is done\nepoch:0, batch 400 out of 497 is done\nepoch:0, batch 450 out of 497 is done\nepoch:1, batch 0 out of 497 is done\nepoch:1, batch 50 out of 497 is done\nepoch:1, batch 100 out of 497 is done\nepoch:1, batch 150 out of 497 is done\nepoch:1, batch 200 out of 497 is done\nepoch:1, batch 250 out of 497 is done\nepoch:1, batch 300 out of 497 is done\nepoch:1, batch 350 out of 497 is done\nepoch:1, batch 400 out of 497 is done\nepoch:1, batch 450 out of 497 is done\nepoch:2, batch 0 out of 497 is done\nepoch:2, batch 50 out of 497 is done\nepoch:2, batch 100 out of 497 is done\nepoch:2, batch 150 out of 497 is done\nepoch:2, batch 200 out of 497 is done\nepoch:2, batch 250 out of 497 is done\nepoch:2, batch 300 out of 497 is done\nepoch:2, batch 350 out of 497 is done\nepoch:2, batch 400 out of 497 is done\nepoch:2, batch 450 out of 497 is done\n",
     "output_type": "stream"
    }
   ]
  },
  {
   "cell_type": "markdown",
   "source": [
    "### Save the model"
   ],
   "metadata": {}
  },
  {
   "cell_type": "code",
   "source": [
    "torch.save(model.state_dict(), 'model_new_plts.pth')"
   ],
   "metadata": {
    "execution": {
     "iopub.status.busy": "2023-03-20T13:56:02.280948Z",
     "iopub.execute_input": "2023-03-20T13:56:02.281947Z",
     "iopub.status.idle": "2023-03-20T13:56:03.152013Z",
     "shell.execute_reply.started": "2023-03-20T13:56:02.281895Z",
     "shell.execute_reply": "2023-03-20T13:56:03.150714Z"
    },
    "trusted": true
   },
   "execution_count": 17,
   "outputs": []
  },
  {
   "cell_type": "markdown",
   "source": [
    "### Load model"
   ],
   "metadata": {}
  },
  {
   "cell_type": "code",
   "source": [
    "# Define your model architecture\n",
    "model = BertForSequenceClassification.from_pretrained('bert-base-uncased', num_labels=2)\n",
    "\n",
    "# Load saved model weights\n",
    "model.load_state_dict(torch.load('model_new_plts.pth'))"
   ],
   "metadata": {
    "execution": {
     "iopub.status.busy": "2023-03-18T11:55:55.899611Z",
     "iopub.execute_input": "2023-03-18T11:55:55.900364Z",
     "iopub.status.idle": "2023-03-18T11:55:57.832844Z",
     "shell.execute_reply.started": "2023-03-18T11:55:55.900323Z",
     "shell.execute_reply": "2023-03-18T11:55:57.831718Z"
    },
    "trusted": true
   },
   "execution_count": 64,
   "outputs": [
    {
     "name": "stderr",
     "text": "Some weights of the model checkpoint at bert-base-uncased were not used when initializing BertForSequenceClassification: ['cls.predictions.transform.dense.bias', 'cls.predictions.transform.LayerNorm.bias', 'cls.predictions.transform.dense.weight', 'cls.seq_relationship.weight', 'cls.predictions.decoder.weight', 'cls.predictions.bias', 'cls.seq_relationship.bias', 'cls.predictions.transform.LayerNorm.weight']\n- This IS expected if you are initializing BertForSequenceClassification from the checkpoint of a model trained on another task or with another architecture (e.g. initializing a BertForSequenceClassification model from a BertForPreTraining model).\n- This IS NOT expected if you are initializing BertForSequenceClassification from the checkpoint of a model that you expect to be exactly identical (initializing a BertForSequenceClassification model from a BertForSequenceClassification model).\nSome weights of BertForSequenceClassification were not initialized from the model checkpoint at bert-base-uncased and are newly initialized: ['classifier.weight', 'classifier.bias']\nYou should probably TRAIN this model on a down-stream task to be able to use it for predictions and inference.\n",
     "output_type": "stream"
    },
    {
     "execution_count": 64,
     "output_type": "execute_result",
     "data": {
      "text/plain": "<All keys matched successfully>"
     },
     "metadata": {}
    }
   ]
  },
  {
   "cell_type": "markdown",
   "source": [
    "## Submission"
   ],
   "metadata": {}
  },
  {
   "cell_type": "code",
   "source": [
    "validation = pd.read_csv('../datasets/gpt_data/definitive/validation.csv')[['tconst','plot']]\n",
    "test = pd.read_csv('../datasets/gpt_data/definitive/test.csv')[['tconst','plot']]"
   ],
   "metadata": {
    "execution": {
     "iopub.status.busy": "2023-03-20T13:56:14.136542Z",
     "iopub.execute_input": "2023-03-20T13:56:14.137004Z",
     "iopub.status.idle": "2023-03-20T13:56:14.247795Z",
     "shell.execute_reply.started": "2023-03-20T13:56:14.136969Z",
     "shell.execute_reply": "2023-03-20T13:56:14.246776Z"
    },
    "trusted": true
   },
   "execution_count": 12,
   "outputs": []
  },
  {
   "cell_type": "code",
   "source": [
    "validation.shape, test.shape"
   ],
   "metadata": {
    "execution": {
     "iopub.status.busy": "2023-03-20T13:56:28.566343Z",
     "iopub.execute_input": "2023-03-20T13:56:28.566742Z",
     "iopub.status.idle": "2023-03-20T13:56:28.578284Z",
     "shell.execute_reply.started": "2023-03-20T13:56:28.566702Z",
     "shell.execute_reply": "2023-03-20T13:56:28.577210Z"
    },
    "trusted": true
   },
   "execution_count": 13,
   "outputs": [
    {
     "data": {
      "text/plain": "((955, 2), (1086, 2))"
     },
     "execution_count": 13,
     "metadata": {},
     "output_type": "execute_result"
    }
   ]
  },
  {
   "cell_type": "code",
   "source": [
    "#check if null values\n",
    "null_mask = validation['plot'].isnull()\n",
    "rows_with_nulls = validation['plot'][null_mask]\n",
    "rows_with_nulls"
   ],
   "metadata": {
    "execution": {
     "iopub.status.busy": "2023-03-20T10:36:37.531616Z",
     "iopub.execute_input": "2023-03-20T10:36:37.531967Z",
     "iopub.status.idle": "2023-03-20T10:36:37.541667Z",
     "shell.execute_reply.started": "2023-03-20T10:36:37.531932Z",
     "shell.execute_reply": "2023-03-20T10:36:37.540671Z"
    },
    "trusted": true
   },
   "execution_count": 87,
   "outputs": [
    {
     "execution_count": 87,
     "output_type": "execute_result",
     "data": {
      "text/plain": "Series([], Name: plot, dtype: object)"
     },
     "metadata": {}
    }
   ]
  },
  {
   "cell_type": "code",
   "source": [
    "#check if null values\n",
    "null_mask = test['plot'].isnull()\n",
    "rows_with_nulls = test['plot'][null_mask]\n",
    "rows_with_nulls"
   ],
   "metadata": {
    "execution": {
     "iopub.status.busy": "2023-03-20T13:56:51.531917Z",
     "iopub.execute_input": "2023-03-20T13:56:51.532310Z",
     "iopub.status.idle": "2023-03-20T13:56:51.542755Z",
     "shell.execute_reply.started": "2023-03-20T13:56:51.532276Z",
     "shell.execute_reply": "2023-03-20T13:56:51.541589Z"
    },
    "trusted": true
   },
   "execution_count": 21,
   "outputs": [
    {
     "execution_count": 21,
     "output_type": "execute_result",
     "data": {
      "text/plain": "Series([], Name: plot, dtype: object)"
     },
     "metadata": {}
    }
   ]
  },
  {
   "cell_type": "code",
   "source": [
    "validation = validation['plot']\n",
    "test = test['plot']"
   ],
   "metadata": {
    "execution": {
     "iopub.status.busy": "2023-03-20T13:56:58.716344Z",
     "iopub.execute_input": "2023-03-20T13:56:58.717377Z",
     "iopub.status.idle": "2023-03-20T13:56:58.723256Z",
     "shell.execute_reply.started": "2023-03-20T13:56:58.717332Z",
     "shell.execute_reply": "2023-03-20T13:56:58.721809Z"
    },
    "trusted": true
   },
   "execution_count": 22,
   "outputs": []
  },
  {
   "cell_type": "markdown",
   "source": [
    "### SUBMIT Validation"
   ],
   "metadata": {}
  },
  {
   "cell_type": "code",
   "source": [
    "encoded_unseen_data = tokenizer.batch_encode_plus(validation, \n",
    "                                                  add_special_tokens=True, \n",
    "                                                  max_length=max_len, \n",
    "                                                  padding=True, \n",
    "                                                  truncation=True, \n",
    "                                                  return_attention_mask=True, \n",
    "                                                  return_tensors='pt')\n",
    "\n",
    "unseen_dataset = TensorDataset(encoded_unseen_data['input_ids'], encoded_unseen_data['attention_mask'])\n",
    "unseen_dataloader = DataLoader(unseen_dataset, batch_size=batch_size)"
   ],
   "metadata": {
    "execution": {
     "iopub.status.busy": "2023-03-20T13:57:08.144893Z",
     "iopub.execute_input": "2023-03-20T13:57:08.145278Z",
     "iopub.status.idle": "2023-03-20T13:57:11.182041Z",
     "shell.execute_reply.started": "2023-03-20T13:57:08.145243Z",
     "shell.execute_reply": "2023-03-20T13:57:11.180975Z"
    },
    "trusted": true
   },
   "execution_count": 23,
   "outputs": []
  },
  {
   "cell_type": "code",
   "source": [
    "import torch.nn.functional as F\n",
    "\n",
    "model.eval()\n",
    "predictions = []\n",
    "bert_variable = []\n",
    "with torch.no_grad():\n",
    "    for batch in unseen_dataloader:\n",
    "        input_ids = batch[0].to(device)\n",
    "        attention_mask = batch[1].to(device)\n",
    "\n",
    "        outputs = model(input_ids, attention_mask=attention_mask)\n",
    "        logits = outputs.logits\n",
    "\n",
    "        _, batch_predictions = torch.max(logits, dim=1)\n",
    "        predictions.extend(batch_predictions.tolist())\n",
    "        \n",
    "        probabilities = F.softmax(logits, dim=1)[:,1] #bertvariable\n",
    "        bert_variable.extend(probabilities.tolist())"
   ],
   "metadata": {
    "execution": {
     "iopub.status.busy": "2023-03-20T13:57:46.109406Z",
     "iopub.execute_input": "2023-03-20T13:57:46.110348Z",
     "iopub.status.idle": "2023-03-20T13:57:52.392069Z",
     "shell.execute_reply.started": "2023-03-20T13:57:46.110305Z",
     "shell.execute_reply": "2023-03-20T13:57:52.390974Z"
    },
    "trusted": true
   },
   "execution_count": 24,
   "outputs": []
  },
  {
   "cell_type": "code",
   "source": [
    "predictions[0:10]"
   ],
   "metadata": {
    "execution": {
     "iopub.status.busy": "2023-03-20T13:57:52.394344Z",
     "iopub.execute_input": "2023-03-20T13:57:52.394765Z",
     "iopub.status.idle": "2023-03-20T13:57:52.401930Z",
     "shell.execute_reply.started": "2023-03-20T13:57:52.394724Z",
     "shell.execute_reply": "2023-03-20T13:57:52.400789Z"
    },
    "trusted": true
   },
   "execution_count": 25,
   "outputs": [
    {
     "execution_count": 25,
     "output_type": "execute_result",
     "data": {
      "text/plain": "[1, 1, 1, 1, 1, 1, 1, 1, 1, 1]"
     },
     "metadata": {}
    }
   ]
  },
  {
   "cell_type": "code",
   "source": [
    "bert_variable[0:10]"
   ],
   "metadata": {
    "execution": {
     "iopub.status.busy": "2023-03-20T13:57:52.403612Z",
     "iopub.execute_input": "2023-03-20T13:57:52.404247Z",
     "iopub.status.idle": "2023-03-20T13:57:52.416474Z",
     "shell.execute_reply.started": "2023-03-20T13:57:52.404208Z",
     "shell.execute_reply": "2023-03-20T13:57:52.415547Z"
    },
    "trusted": true
   },
   "execution_count": 26,
   "outputs": [
    {
     "execution_count": 26,
     "output_type": "execute_result",
     "data": {
      "text/plain": "[0.9623507857322693,\n 0.9796537756919861,\n 0.9834833145141602,\n 0.9761279225349426,\n 0.8242197632789612,\n 0.9791146516799927,\n 0.9665980935096741,\n 0.9766606688499451,\n 0.9743089079856873,\n 0.9702649712562561]"
     },
     "metadata": {}
    }
   ]
  },
  {
   "cell_type": "code",
   "source": [
    "pd.DataFrame(predictions)[0].map({1:\"True\", 0:\"False\"}).to_csv(\"../datasets/bert_outputs/bert_predictions_validation.csv\",\n",
    "                                                                    index=False, header=False)"
   ],
   "metadata": {
    "execution": {
     "iopub.status.busy": "2023-03-20T13:57:53.548147Z",
     "iopub.execute_input": "2023-03-20T13:57:53.548859Z",
     "iopub.status.idle": "2023-03-20T13:57:53.565712Z",
     "shell.execute_reply.started": "2023-03-20T13:57:53.548822Z",
     "shell.execute_reply": "2023-03-20T13:57:53.564557Z"
    },
    "trusted": true
   },
   "execution_count": 27,
   "outputs": []
  },
  {
   "cell_type": "code",
   "source": [
    "pd.DataFrame(bert_variable)[0].to_csv(\"../datasets/bert_outputs/bert_variable_validation.csv\", index=False, header=False)"
   ],
   "metadata": {
    "execution": {
     "iopub.status.busy": "2023-03-20T13:57:54.040832Z",
     "iopub.execute_input": "2023-03-20T13:57:54.041886Z",
     "iopub.status.idle": "2023-03-20T13:57:54.052311Z",
     "shell.execute_reply.started": "2023-03-20T13:57:54.041835Z",
     "shell.execute_reply": "2023-03-20T13:57:54.051210Z"
    },
    "trusted": true
   },
   "execution_count": 28,
   "outputs": []
  },
  {
   "cell_type": "markdown",
   "source": [
    "### SUBMIT Test"
   ],
   "metadata": {}
  },
  {
   "cell_type": "code",
   "source": [
    "encoded_unseen_data = tokenizer.batch_encode_plus(test, \n",
    "                                                  add_special_tokens=True, \n",
    "                                                  max_length=max_len, \n",
    "                                                  padding=True, \n",
    "                                                  truncation=True, \n",
    "                                                  return_attention_mask=True, \n",
    "                                                  return_tensors='pt')\n",
    "\n",
    "unseen_dataset = TensorDataset(encoded_unseen_data['input_ids'], encoded_unseen_data['attention_mask'])\n",
    "unseen_dataloader = DataLoader(unseen_dataset, batch_size=batch_size)"
   ],
   "metadata": {
    "execution": {
     "iopub.status.busy": "2023-03-20T13:57:58.536913Z",
     "iopub.execute_input": "2023-03-20T13:57:58.537526Z",
     "iopub.status.idle": "2023-03-20T13:58:01.791877Z",
     "shell.execute_reply.started": "2023-03-20T13:57:58.537474Z",
     "shell.execute_reply": "2023-03-20T13:58:01.790822Z"
    },
    "trusted": true
   },
   "execution_count": 29,
   "outputs": []
  },
  {
   "cell_type": "code",
   "source": [
    "import torch.nn.functional as F\n",
    "\n",
    "model.eval()\n",
    "predictions = []\n",
    "bert_variable = []\n",
    "with torch.no_grad():\n",
    "    for batch in unseen_dataloader:\n",
    "        input_ids = batch[0].to(device)\n",
    "        attention_mask = batch[1].to(device)\n",
    "\n",
    "        outputs = model(input_ids, attention_mask=attention_mask)\n",
    "        logits = outputs.logits\n",
    "\n",
    "        _, batch_predictions = torch.max(logits, dim=1)\n",
    "        predictions.extend(batch_predictions.tolist())\n",
    "        \n",
    "        probabilities = F.softmax(logits, dim=1)[:,1] #bertvariable\n",
    "        bert_variable.extend(probabilities.tolist())"
   ],
   "metadata": {
    "execution": {
     "iopub.status.busy": "2023-03-20T13:58:01.794117Z",
     "iopub.execute_input": "2023-03-20T13:58:01.794533Z",
     "iopub.status.idle": "2023-03-20T13:58:08.980985Z",
     "shell.execute_reply.started": "2023-03-20T13:58:01.794476Z",
     "shell.execute_reply": "2023-03-20T13:58:08.979823Z"
    },
    "trusted": true
   },
   "execution_count": 30,
   "outputs": []
  },
  {
   "cell_type": "code",
   "source": [
    "pd.DataFrame(predictions)[0].map({1:\"True\", 0:\"False\"}).to_csv(\"../datasets/bert_outputs/bert_predictions_test.csv\",\n",
    "                                                                    index=False, header=False)"
   ],
   "metadata": {
    "execution": {
     "iopub.status.busy": "2023-03-20T13:58:08.983370Z",
     "iopub.execute_input": "2023-03-20T13:58:08.983789Z",
     "iopub.status.idle": "2023-03-20T13:58:08.994098Z",
     "shell.execute_reply.started": "2023-03-20T13:58:08.983748Z",
     "shell.execute_reply": "2023-03-20T13:58:08.992886Z"
    },
    "trusted": true
   },
   "execution_count": 31,
   "outputs": []
  },
  {
   "cell_type": "code",
   "source": [
    "pd.DataFrame(bert_variable)[0].to_csv(\"../datasets/bert_outputs/bert_variable_test.csv\", index=False, header=False)"
   ],
   "metadata": {
    "execution": {
     "iopub.status.busy": "2023-03-20T13:58:08.996296Z",
     "iopub.execute_input": "2023-03-20T13:58:08.996841Z",
     "iopub.status.idle": "2023-03-20T13:58:09.007290Z",
     "shell.execute_reply.started": "2023-03-20T13:58:08.996803Z",
     "shell.execute_reply": "2023-03-20T13:58:09.006200Z"
    },
    "trusted": true
   },
   "execution_count": 32,
   "outputs": []
  },
  {
   "cell_type": "markdown",
   "source": [
    "### SUBMIT Train"
   ],
   "metadata": {}
  },
  {
   "cell_type": "code",
   "source": [
    "dataset = TensorDataset(encoded_plots['input_ids'], encoded_plots['attention_mask'], labels_tensor)\n",
    "\n",
    "full_dataset_dataloader = DataLoader(dataset, batch_size=batch_size)"
   ],
   "metadata": {
    "execution": {
     "iopub.status.busy": "2023-03-20T13:58:09.414446Z",
     "iopub.execute_input": "2023-03-20T13:58:09.416791Z",
     "iopub.status.idle": "2023-03-20T13:58:09.421978Z",
     "shell.execute_reply.started": "2023-03-20T13:58:09.416753Z",
     "shell.execute_reply": "2023-03-20T13:58:09.420494Z"
    },
    "trusted": true
   },
   "execution_count": 33,
   "outputs": []
  },
  {
   "cell_type": "code",
   "source": [
    "import torch.nn.functional as F\n",
    "\n",
    "model.eval()\n",
    "predictions = []\n",
    "bert_variable = []\n",
    "with torch.no_grad():\n",
    "    for batch in full_dataset_dataloader:\n",
    "        input_ids = batch[0].to(device)\n",
    "        attention_mask = batch[1].to(device)\n",
    "\n",
    "        outputs = model(input_ids, attention_mask=attention_mask)\n",
    "        logits = outputs.logits\n",
    "\n",
    "        _, batch_predictions = torch.max(logits, dim=1)\n",
    "        predictions.extend(batch_predictions.tolist())\n",
    "        \n",
    "        probabilities = F.softmax(logits, dim=1)[:,1] #bertvariable\n",
    "        bert_variable.extend(probabilities.tolist())"
   ],
   "metadata": {
    "execution": {
     "iopub.status.busy": "2023-03-20T13:58:10.999596Z",
     "iopub.execute_input": "2023-03-20T13:58:11.000686Z",
     "iopub.status.idle": "2023-03-20T13:59:05.227960Z",
     "shell.execute_reply.started": "2023-03-20T13:58:11.000625Z",
     "shell.execute_reply": "2023-03-20T13:59:05.226919Z"
    },
    "trusted": true
   },
   "execution_count": 34,
   "outputs": []
  },
  {
   "cell_type": "code",
   "source": [
    "pd.DataFrame(predictions)[0].map({1:\"True\", 0:\"False\"}).to_csv(\"../datasets/bert_outputs/bert_predictions_train.csv\",\n",
    "                                                                    index=False, header=False)"
   ],
   "metadata": {
    "execution": {
     "iopub.status.busy": "2023-03-20T13:59:05.230205Z",
     "iopub.execute_input": "2023-03-20T13:59:05.230655Z",
     "iopub.status.idle": "2023-03-20T13:59:05.247908Z",
     "shell.execute_reply.started": "2023-03-20T13:59:05.230612Z",
     "shell.execute_reply": "2023-03-20T13:59:05.246793Z"
    },
    "trusted": true
   },
   "execution_count": 35,
   "outputs": []
  },
  {
   "cell_type": "code",
   "source": [
    "pd.DataFrame(bert_variable)[0].to_csv(\"../datasets/bert_outputs/bert_variable_train.csvv\", index=False, header=False)"
   ],
   "metadata": {
    "execution": {
     "iopub.status.busy": "2023-03-20T13:59:05.249465Z",
     "iopub.execute_input": "2023-03-20T13:59:05.249886Z",
     "iopub.status.idle": "2023-03-20T13:59:05.274328Z",
     "shell.execute_reply.started": "2023-03-20T13:59:05.249845Z",
     "shell.execute_reply": "2023-03-20T13:59:05.273268Z"
    },
    "trusted": true
   },
   "execution_count": 36,
   "outputs": []
  }
 ]
}
